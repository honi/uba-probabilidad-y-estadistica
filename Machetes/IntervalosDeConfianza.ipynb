{
 "cells": [
  {
   "cell_type": "markdown",
   "id": "7d659b00-f1cc-442e-9038-59f7916b1a1c",
   "metadata": {},
   "source": [
    "# Machete: Intervalos de confianza"
   ]
  },
  {
   "cell_type": "markdown",
   "id": "61b990a8-a2f2-4549-b000-cca4c9a08c22",
   "metadata": {},
   "source": [
    "## Distribución normal"
   ]
  },
  {
   "cell_type": "markdown",
   "id": "e5b77149-5637-4d8a-a0fe-21e3b824a527",
   "metadata": {},
   "source": [
    "### Parámetro: $\\mu$"
   ]
  },
  {
   "cell_type": "markdown",
   "id": "d07debc5-aff4-4b6b-abba-652058373760",
   "metadata": {},
   "source": [
    "#### Condición: $\\sigma$ conocido\n",
    "\n",
    "$\\bar{X} \\pm z_{\\alpha/2} \\tfrac{\\sigma}{\\sqrt{n}}$"
   ]
  },
  {
   "cell_type": "code",
   "execution_count": 45,
   "id": "e72d6e2a-2dd6-4301-8d1b-b797e9624c1f",
   "metadata": {},
   "outputs": [
    {
     "data": {
      "text/html": [
       "<style>\n",
       ".list-inline {list-style: none; margin:0; padding: 0}\n",
       ".list-inline>li {display: inline-block}\n",
       ".list-inline>li:not(:last-child)::after {content: \"\\00b7\"; padding: 0 .5ex}\n",
       "</style>\n",
       "<ol class=list-inline><li>-0.0847568534715374</li><li>0.0392021529893749</li></ol>\n"
      ],
      "text/latex": [
       "\\begin{enumerate*}\n",
       "\\item -0.0847568534715374\n",
       "\\item 0.0392021529893749\n",
       "\\end{enumerate*}\n"
      ],
      "text/markdown": [
       "1. -0.0847568534715374\n",
       "2. 0.0392021529893749\n",
       "\n",
       "\n"
      ],
      "text/plain": [
       "[1] -0.08475685  0.03920215"
      ]
     },
     "metadata": {},
     "output_type": "display_data"
    }
   ],
   "source": [
    "alpha = 0.05\n",
    "sd = 1\n",
    "X = rnorm(1000, mean=0, sd=sd)\n",
    "n = length(X)\n",
    "Xbar = mean(X)\n",
    "z = qnorm(1 - alpha / 2)\n",
    "c(Xbar - z * sd / sqrt(n), Xbar + z * sd / sqrt(n))"
   ]
  },
  {
   "cell_type": "code",
   "execution_count": 48,
   "id": "ca11ad16-6ad9-4cd6-8c69-45470c932a6c",
   "metadata": {},
   "outputs": [
    {
     "data": {
      "text/html": [
       "-1.95996398454005"
      ],
      "text/latex": [
       "-1.95996398454005"
      ],
      "text/markdown": [
       "-1.95996398454005"
      ],
      "text/plain": [
       "[1] -1.959964"
      ]
     },
     "metadata": {},
     "output_type": "display_data"
    },
    {
     "data": {
      "text/html": [
       "1.95996398454005"
      ],
      "text/latex": [
       "1.95996398454005"
      ],
      "text/markdown": [
       "1.95996398454005"
      ],
      "text/plain": [
       "[1] 1.959964"
      ]
     },
     "metadata": {},
     "output_type": "display_data"
    }
   ],
   "source": [
    "alpha = 0.05\n",
    "qnorm(alpha / 2)\n",
    "qnorm(1 - alpha / 2)"
   ]
  },
  {
   "cell_type": "markdown",
   "id": "042ceedb-0d68-42de-9604-b39abd5af87b",
   "metadata": {},
   "source": [
    "#### Condición: $\\sigma$ desconocido\n",
    "\n",
    "$\\bar{X} \\pm t_{n-1,\\alpha/2} \\sqrt{\\tfrac{S^2}{n}}$"
   ]
  },
  {
   "cell_type": "code",
   "execution_count": 26,
   "id": "20ae0b25-2ede-4967-9713-0b651a153f97",
   "metadata": {},
   "outputs": [
    {
     "data": {
      "text/html": [
       "<style>\n",
       ".list-inline {list-style: none; margin:0; padding: 0}\n",
       ".list-inline>li {display: inline-block}\n",
       ".list-inline>li:not(:last-child)::after {content: \"\\00b7\"; padding: 0 .5ex}\n",
       "</style>\n",
       "<ol class=list-inline><li>-0.0398634776624997</li><li>0.0834013863368828</li></ol>\n"
      ],
      "text/latex": [
       "\\begin{enumerate*}\n",
       "\\item -0.0398634776624997\n",
       "\\item 0.0834013863368828\n",
       "\\end{enumerate*}\n"
      ],
      "text/markdown": [
       "1. -0.0398634776624997\n",
       "2. 0.0834013863368828\n",
       "\n",
       "\n"
      ],
      "text/plain": [
       "[1] -0.03986348  0.08340139"
      ]
     },
     "metadata": {},
     "output_type": "display_data"
    }
   ],
   "source": [
    "alpha = 0.05\n",
    "X = rnorm(1000, mean=0, sd=1)\n",
    "n = length(X)\n",
    "Xbar = mean(X)\n",
    "sd = sd(X)\n",
    "t = qt(1 - alpha / 2, n - 1)\n",
    "c(Xbar - t * sd / sqrt(n), Xbar + t * sd / sqrt(n))"
   ]
  },
  {
   "cell_type": "markdown",
   "id": "da6f6ae3-8259-4775-96d5-a4e3760abf59",
   "metadata": {},
   "source": [
    "### Parámetro: $\\sigma$"
   ]
  },
  {
   "cell_type": "markdown",
   "id": "0cf51f46-00d0-435c-9c93-bccf990ae1da",
   "metadata": {},
   "source": [
    "#### Condición: $\\mu$ conocido\n",
    "\n",
    "$\\Big[ \\frac{\\sum_{i=1}^n (X_i - \\mu)^2}{\\mathcal{X}^2_{n,1-\\alpha/2}}, \\frac{\\sum_{i=1}^n (X_i - \\mu)^2}{\\mathcal{X}^2_{n,\\alpha/2}} \\Big]$"
   ]
  },
  {
   "cell_type": "code",
   "execution_count": 33,
   "id": "fbe0b03a-81be-4acc-ba26-32289712ad8f",
   "metadata": {},
   "outputs": [
    {
     "data": {
      "text/html": [
       "<style>\n",
       ".list-inline {list-style: none; margin:0; padding: 0}\n",
       ".list-inline>li {display: inline-block}\n",
       ".list-inline>li:not(:last-child)::after {content: \"\\00b7\"; padding: 0 .5ex}\n",
       "</style>\n",
       "<ol class=list-inline><li>0.907051500174138</li><li>1.08094385131338</li></ol>\n"
      ],
      "text/latex": [
       "\\begin{enumerate*}\n",
       "\\item 0.907051500174138\n",
       "\\item 1.08094385131338\n",
       "\\end{enumerate*}\n"
      ],
      "text/markdown": [
       "1. 0.907051500174138\n",
       "2. 1.08094385131338\n",
       "\n",
       "\n"
      ],
      "text/plain": [
       "[1] 0.9070515 1.0809439"
      ]
     },
     "metadata": {},
     "output_type": "display_data"
    }
   ],
   "source": [
    "alpha = 0.05\n",
    "mu = 0\n",
    "X = rnorm(1000, mean=mu, sd=1)\n",
    "n = length(X)\n",
    "c(sum((X - mu)^2) / qchisq(1 - alpha/2, n), sum((X - mu)^2) / qchisq(alpha/2, n))"
   ]
  },
  {
   "cell_type": "markdown",
   "id": "159d4fdf-4af6-478a-bd71-3e6d4cde7753",
   "metadata": {},
   "source": [
    "#### Condición: $\\mu$ desconocido\n",
    "\n",
    "$\\Big[ \\frac{(n-1)S^2}{\\mathcal{X}^2_{n-1,1-\\alpha/2}}, \\frac{(n-1)S^2}{\\mathcal{X}^2_{n-1,\\alpha/2}} \\Big]$"
   ]
  },
  {
   "cell_type": "code",
   "execution_count": 34,
   "id": "b50442fc-a17e-47a6-812e-329dec6fa4d3",
   "metadata": {},
   "outputs": [
    {
     "data": {
      "text/html": [
       "<style>\n",
       ".list-inline {list-style: none; margin:0; padding: 0}\n",
       ".list-inline>li {display: inline-block}\n",
       ".list-inline>li:not(:last-child)::after {content: \"\\00b7\"; padding: 0 .5ex}\n",
       "</style>\n",
       "<ol class=list-inline><li>0.863231865265196</li><li>1.02881385604189</li></ol>\n"
      ],
      "text/latex": [
       "\\begin{enumerate*}\n",
       "\\item 0.863231865265196\n",
       "\\item 1.02881385604189\n",
       "\\end{enumerate*}\n"
      ],
      "text/markdown": [
       "1. 0.863231865265196\n",
       "2. 1.02881385604189\n",
       "\n",
       "\n"
      ],
      "text/plain": [
       "[1] 0.8632319 1.0288139"
      ]
     },
     "metadata": {},
     "output_type": "display_data"
    }
   ],
   "source": [
    "alpha = 0.05\n",
    "X = rnorm(1000, mean=0, sd=1)\n",
    "n = length(X)\n",
    "c((n - 1) * var(X) / qchisq(1 - alpha/2, n - 1), (n - 1) * var(X) / qchisq(alpha/2, n - 1))"
   ]
  },
  {
   "cell_type": "markdown",
   "id": "96b9ba1f-7cb0-4136-846d-b1db1507ca25",
   "metadata": {},
   "source": [
    "## Distribución exponencial\n",
    "\n",
    "Sea $X_1, \\dots, X_n$ una muestra aleatoria de una población $\\mathcal{E}(\\lambda)$.\n",
    "\n",
    "$\\Big[ \\frac{\\mathcal{X}^2_{2n, \\alpha/2}}{2\\sum_{i=1}^n X_i}, \\frac{\\mathcal{X}^2_{2n, 1-\\alpha/2}}{2\\sum_{i=1}^n X_i} \\Big]$"
   ]
  },
  {
   "cell_type": "code",
   "execution_count": 44,
   "id": "30491cd9-1d1f-440f-ac05-103623205024",
   "metadata": {},
   "outputs": [
    {
     "data": {
      "text/html": [
       "<style>\n",
       ".list-inline {list-style: none; margin:0; padding: 0}\n",
       ".list-inline>li {display: inline-block}\n",
       ".list-inline>li:not(:last-child)::after {content: \"\\00b7\"; padding: 0 .5ex}\n",
       "</style>\n",
       "<ol class=list-inline><li>1.94233085269814</li><li>2.19872616735098</li></ol>\n"
      ],
      "text/latex": [
       "\\begin{enumerate*}\n",
       "\\item 1.94233085269814\n",
       "\\item 2.19872616735098\n",
       "\\end{enumerate*}\n"
      ],
      "text/markdown": [
       "1. 1.94233085269814\n",
       "2. 2.19872616735098\n",
       "\n",
       "\n"
      ],
      "text/plain": [
       "[1] 1.942331 2.198726"
      ]
     },
     "metadata": {},
     "output_type": "display_data"
    }
   ],
   "source": [
    "alpha = 0.05\n",
    "X = rexp(1000, rate=2)\n",
    "n = length(X)\n",
    "c(qchisq(alpha/2, 2 * n) / (2 * sum(X)), qchisq(1 - alpha/2, 2 * n) / (2 * sum(X)))"
   ]
  }
 ],
 "metadata": {
  "kernelspec": {
   "display_name": "R",
   "language": "R",
   "name": "ir"
  },
  "language_info": {
   "codemirror_mode": "r",
   "file_extension": ".r",
   "mimetype": "text/x-r-source",
   "name": "R",
   "pygments_lexer": "r",
   "version": "4.1.0"
  }
 },
 "nbformat": 4,
 "nbformat_minor": 5
}
