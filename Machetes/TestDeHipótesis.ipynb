{
 "cells": [
  {
   "cell_type": "markdown",
   "id": "6cc45bef-8891-4f43-a5bc-8473dd4b18f4",
   "metadata": {},
   "source": [
    "# Machete: Test de hipótesis"
   ]
  },
  {
   "cell_type": "markdown",
   "id": "95915f64-0d95-48af-a406-40fcbaec9351",
   "metadata": {},
   "source": [
    "## Distribución normal"
   ]
  },
  {
   "cell_type": "markdown",
   "id": "a56b5f9c-eb8f-4a1b-9f49-446cc5ee25db",
   "metadata": {},
   "source": [
    "### Parámetro $\\mu$ con $\\sigma$ conocido"
   ]
  },
  {
   "cell_type": "markdown",
   "id": "3d53e4c1-dccf-4177-9337-5ecf609dbd1b",
   "metadata": {},
   "source": [
    "#### Estadístico del test\n",
    "\n",
    "$T = \\sqrt{n} \\frac{\\bar{X} - \\mu_0}{\\sigma_0}$\n",
    "\n",
    "Bajo $H_0 : \\mu = \\mu_0 \\implies T \\sim \\mathcal{N}(0,1)$"
   ]
  },
  {
   "cell_type": "markdown",
   "id": "21dc53ab-a17d-45ec-8b79-c363e7eedeac",
   "metadata": {},
   "source": [
    "---\n",
    "\n",
    "#### Caso 1\n",
    "\n",
    "$H_0 : \\mu = \\mu_0$ (o $\\mu \\leq \\mu_0$) vs. $H_1 : \\mu > \\mu_0$"
   ]
  },
  {
   "cell_type": "markdown",
   "id": "24391e98-6f42-4e03-9c79-8101077a4546",
   "metadata": {},
   "source": [
    "**Región de rechazo**\n",
    "\n",
    "$T \\geq z_\\alpha$"
   ]
  },
  {
   "cell_type": "code",
   "execution_count": 78,
   "id": "6f9c5b1e-3758-4e3a-bb3c-944a02344d4e",
   "metadata": {},
   "outputs": [
    {
     "data": {
      "text/html": [
       "TRUE"
      ],
      "text/latex": [
       "TRUE"
      ],
      "text/markdown": [
       "TRUE"
      ],
      "text/plain": [
       "[1] TRUE"
      ]
     },
     "metadata": {},
     "output_type": "display_data"
    }
   ],
   "source": [
    "X = c(37, 39.50, 41.70, 42, 40, 41.25, 43, 44.05, 38, 38.50)\n",
    "Xbar = mean(X)\n",
    "n = length(X)\n",
    "mu0 = 37\n",
    "var0 = 25\n",
    "sd0 = sqrt(var0)\n",
    "alpha = 0.05\n",
    "T = sqrt(n) * (Xbar - mu0) / sd0\n",
    "z_alpha = qnorm(alpha, 0, 1, lower.tail=FALSE)\n",
    "T >= z_alpha"
   ]
  },
  {
   "cell_type": "markdown",
   "id": "aab6fc18-b6cf-4c2b-afff-7327e926b08c",
   "metadata": {},
   "source": [
    "**Función de potencia**\n",
    "\n",
    "$\\pi(\\mu) = 1 - \\Phi \\Big( z_\\alpha + \\sqrt{n} \\frac{\\mu_0 - \\mu}{\\sigma_0} \\Big)$"
   ]
  },
  {
   "cell_type": "code",
   "execution_count": 79,
   "id": "9daddf4f-555d-437b-986e-35c9fc8e4d3e",
   "metadata": {},
   "outputs": [
    {
     "data": {
      "text/html": [
       "0.05"
      ],
      "text/latex": [
       "0.05"
      ],
      "text/markdown": [
       "0.05"
      ],
      "text/plain": [
       "[1] 0.05"
      ]
     },
     "metadata": {},
     "output_type": "display_data"
    },
    {
     "data": {
      "text/html": [
       "0.400322295453562"
      ],
      "text/latex": [
       "0.400322295453562"
      ],
      "text/markdown": [
       "0.400322295453562"
      ],
      "text/plain": [
       "[1] 0.4003223"
      ]
     },
     "metadata": {},
     "output_type": "display_data"
    }
   ],
   "source": [
    "pi = function(mu) 1 - pnorm(z_alpha + (mu0 - mu) / (sd0 / sqrt(n)))\n",
    "pi(37) # pi(mu0) = alpha\n",
    "1 - pi(40) # 1 - pi(mu) = beta si mu > mu0"
   ]
  },
  {
   "cell_type": "markdown",
   "id": "9c7b0117-6523-4c02-bf78-64beafda26dc",
   "metadata": {},
   "source": [
    "**p-valor**\n",
    "\n",
    "$P(Z \\geq T) = 1 - P(Z \\leq T) = 1 - \\Phi(T)$"
   ]
  },
  {
   "cell_type": "code",
   "execution_count": 80,
   "id": "f12d41d4-68da-4ed1-8aa2-0f6e8dff42a4",
   "metadata": {},
   "outputs": [
    {
     "data": {
      "text/html": [
       "0.0134283477537622"
      ],
      "text/latex": [
       "0.0134283477537622"
      ],
      "text/markdown": [
       "0.0134283477537622"
      ],
      "text/plain": [
       "[1] 0.01342835"
      ]
     },
     "metadata": {},
     "output_type": "display_data"
    }
   ],
   "source": [
    "pnorm(T, 0, 1, lower.tail=FALSE)"
   ]
  },
  {
   "cell_type": "markdown",
   "id": "3cf52cec-b856-4d1b-9be0-77100a122450",
   "metadata": {},
   "source": [
    "---\n",
    "\n",
    "#### Caso 2\n",
    "\n",
    "$H_0 : \\mu = \\mu_0$ (o $\\mu \\geq \\mu_0$) vs. $H_1 : \\mu < \\mu_0$"
   ]
  },
  {
   "cell_type": "markdown",
   "id": "ac40ce1e-0f3d-4585-ae61-7978e11da726",
   "metadata": {},
   "source": [
    "**Región de rechazo**\n",
    "\n",
    "$T \\leq -z_\\alpha$"
   ]
  },
  {
   "cell_type": "code",
   "execution_count": 81,
   "id": "efb2915f-ea89-43b8-ad7a-c43a210523ad",
   "metadata": {},
   "outputs": [
    {
     "data": {
      "text/html": [
       "FALSE"
      ],
      "text/latex": [
       "FALSE"
      ],
      "text/markdown": [
       "FALSE"
      ],
      "text/plain": [
       "[1] FALSE"
      ]
     },
     "metadata": {},
     "output_type": "display_data"
    }
   ],
   "source": [
    "X = c(37, 39.50, 41.70, 42, 40, 41.25, 43, 44.05, 38, 38.50)\n",
    "Xbar = mean(X)\n",
    "n = length(X)\n",
    "mu0 = 37\n",
    "var0 = 25\n",
    "sd0 = sqrt(var0)\n",
    "alpha = 0.05\n",
    "T = sqrt(n) * (Xbar - mu0) / sd0\n",
    "z_alpha = qnorm(alpha, 0, 1, lower.tail=FALSE)\n",
    "T <= -z_alpha"
   ]
  },
  {
   "cell_type": "markdown",
   "id": "2bfddd96-1cbf-427a-a0fb-0cc5c2283433",
   "metadata": {},
   "source": [
    "**Función de potencia**\n",
    "\n",
    "$\\pi(\\mu) = \\Phi \\Big( -z_\\alpha + \\sqrt{n} \\frac{\\mu_0 - \\mu}{\\sigma_0} \\Big)$"
   ]
  },
  {
   "cell_type": "code",
   "execution_count": 82,
   "id": "e16cdd4a-0f46-4c61-969f-38d5b6c15691",
   "metadata": {},
   "outputs": [
    {
     "data": {
      "text/html": [
       "0.05"
      ],
      "text/latex": [
       "0.05"
      ],
      "text/markdown": [
       "0.05"
      ],
      "text/plain": [
       "[1] 0.05"
      ]
     },
     "metadata": {},
     "output_type": "display_data"
    },
    {
     "data": {
      "text/html": [
       "0.648005974183151"
      ],
      "text/latex": [
       "0.648005974183151"
      ],
      "text/markdown": [
       "0.648005974183151"
      ],
      "text/plain": [
       "[1] 0.648006"
      ]
     },
     "metadata": {},
     "output_type": "display_data"
    }
   ],
   "source": [
    "pi = function(mu) pnorm(-z_alpha + (mu0 - mu) / (sd0 / sqrt(n)))\n",
    "pi(37) # pi(mu0) = alpha\n",
    "1 - pi(35) # 1 - pi(mu) = beta si mu < mu0"
   ]
  },
  {
   "cell_type": "markdown",
   "id": "e8cffbe1-e370-467f-9e78-340def697eff",
   "metadata": {},
   "source": [
    "**p-valor**\n",
    "\n",
    "$P(Z \\leq T) = \\Phi(T)$"
   ]
  },
  {
   "cell_type": "code",
   "execution_count": 83,
   "id": "72210636-f440-4a2e-baa4-c44cf4b0a4c1",
   "metadata": {},
   "outputs": [
    {
     "data": {
      "text/html": [
       "0.986571652246238"
      ],
      "text/latex": [
       "0.986571652246238"
      ],
      "text/markdown": [
       "0.986571652246238"
      ],
      "text/plain": [
       "[1] 0.9865717"
      ]
     },
     "metadata": {},
     "output_type": "display_data"
    }
   ],
   "source": [
    "pnorm(T, 0, 1)"
   ]
  },
  {
   "cell_type": "markdown",
   "id": "a16d2fce-f180-4055-a05a-0cbf2309409c",
   "metadata": {},
   "source": [
    "---\n",
    "\n",
    "#### Caso 3\n",
    "\n",
    "$H_0 : \\mu = \\mu_0$ vs. $H_1 : \\mu \\neq \\mu_0$"
   ]
  },
  {
   "cell_type": "markdown",
   "id": "8d0ac8fa-d34f-4c8d-9e47-e5ed103566ee",
   "metadata": {},
   "source": [
    "**Región de rechazo**\n",
    "\n",
    "$|T| \\geq z_{\\alpha/2}$"
   ]
  },
  {
   "cell_type": "code",
   "execution_count": 84,
   "id": "835cb019-3df3-45ba-8b99-9e39adc64f04",
   "metadata": {},
   "outputs": [
    {
     "data": {
      "text/html": [
       "TRUE"
      ],
      "text/latex": [
       "TRUE"
      ],
      "text/markdown": [
       "TRUE"
      ],
      "text/plain": [
       "[1] TRUE"
      ]
     },
     "metadata": {},
     "output_type": "display_data"
    }
   ],
   "source": [
    "X = c(37, 39.50, 41.70, 42, 40, 41.25, 43, 44.05, 38, 38.50)\n",
    "Xbar = mean(X)\n",
    "n = length(X)\n",
    "mu0 = 37\n",
    "var0 = 25\n",
    "sd0 = sqrt(var0)\n",
    "alpha = 0.05\n",
    "T = sqrt(n) * (Xbar - mu0) / sd0\n",
    "z_alpha2 = qnorm(alpha / 2, 0, 1, lower.tail=FALSE)\n",
    "abs(T) >= z_alpha2"
   ]
  },
  {
   "cell_type": "markdown",
   "id": "a3d0cb8b-1807-4d94-984e-738a5455ecb7",
   "metadata": {},
   "source": [
    "**Función de potencia**\n",
    "\n",
    "$\\pi(\\mu) = 1 - \\Phi \\Big( z_{\\alpha/2} + \\sqrt{n} \\frac{\\mu_0 - \\mu}{\\sigma_0} \\Big) + \\Phi \\Big( -z_{\\alpha/2} + \\sqrt{n} \\frac{\\mu_0 - \\mu}{\\sigma_0} \\Big)$"
   ]
  },
  {
   "cell_type": "code",
   "execution_count": 85,
   "id": "02cc3d8e-77c6-4745-9bec-ec42a90546ec",
   "metadata": {},
   "outputs": [
    {
     "data": {
      "text/html": [
       "0.0500000000000001"
      ],
      "text/latex": [
       "0.0500000000000001"
      ],
      "text/markdown": [
       "0.0500000000000001"
      ],
      "text/plain": [
       "[1] 0.05"
      ]
     },
     "metadata": {},
     "output_type": "display_data"
    }
   ],
   "source": [
    "pi = function(mu) 1 - pnorm(z_alpha2 + (mu0 - mu) / (sd0 / sqrt(n))) + pnorm(-z_alpha2 + (mu0 - mu) / (sd0 / sqrt(n)))\n",
    "pi(37) # pi(mu0) = alpha"
   ]
  },
  {
   "cell_type": "markdown",
   "id": "7fcfc4b5-0d30-45b0-845a-572ebcfc05e1",
   "metadata": {},
   "source": [
    "**p-valor**\n",
    "\n",
    "$P(|Z| \\geq |T|) = 2(1 - \\Phi(|T|))$"
   ]
  },
  {
   "cell_type": "code",
   "execution_count": 86,
   "id": "a7e29582-dc95-47b8-a281-a49b537c6dbe",
   "metadata": {},
   "outputs": [
    {
     "data": {
      "text/html": [
       "0.0268566955075245"
      ],
      "text/latex": [
       "0.0268566955075245"
      ],
      "text/markdown": [
       "0.0268566955075245"
      ],
      "text/plain": [
       "[1] 0.0268567"
      ]
     },
     "metadata": {},
     "output_type": "display_data"
    }
   ],
   "source": [
    "2 * (1 - pnorm(abs(T), 0, 1))"
   ]
  },
  {
   "cell_type": "markdown",
   "id": "16837d89-c0f3-4ae8-9c0a-6f7715ac3419",
   "metadata": {},
   "source": [
    "### Parámetro $\\mu$ con $\\sigma$ desconocido"
   ]
  },
  {
   "cell_type": "markdown",
   "id": "b4eda6f8-992a-4a6a-a4f5-340f15290089",
   "metadata": {},
   "source": [
    "#### Estadístico del test\n",
    "\n",
    "$T = \\sqrt{n} \\frac{\\bar{X} - \\mu_0}{S}$\n",
    "\n",
    "Bajo $H_0 : \\mu = \\mu_0 \\implies T \\sim t_{n-1}$"
   ]
  },
  {
   "cell_type": "markdown",
   "id": "38645172-879c-43f4-9044-e25fd3c457d1",
   "metadata": {},
   "source": [
    "---\n",
    "\n",
    "#### Caso 1\n",
    "\n",
    "$H_0 : \\mu = \\mu_0$ (o $\\mu \\leq \\mu_0$) vs. $H_1 : \\mu > \\mu_0$"
   ]
  },
  {
   "cell_type": "markdown",
   "id": "a82d4c76-7dd8-40cb-ac0b-541b53719226",
   "metadata": {},
   "source": [
    "**Región de rechazo**\n",
    "\n",
    "$T \\geq t_{n-1, \\alpha}$"
   ]
  },
  {
   "cell_type": "code",
   "execution_count": 91,
   "id": "4c06bda2-35bf-4752-abb3-08bb576b9b70",
   "metadata": {},
   "outputs": [
    {
     "data": {
      "text/html": [
       "TRUE"
      ],
      "text/latex": [
       "TRUE"
      ],
      "text/markdown": [
       "TRUE"
      ],
      "text/plain": [
       "[1] TRUE"
      ]
     },
     "metadata": {},
     "output_type": "display_data"
    }
   ],
   "source": [
    "X = c(37, 39.50, 41.70, 42, 40, 41.25, 43, 44.05, 38, 38.50)\n",
    "Xbar = mean(X)\n",
    "n = length(X)\n",
    "mu0 = 37\n",
    "sd = sd(X)\n",
    "alpha = 0.05\n",
    "T = sqrt(n) * (Xbar - mu0) / sd\n",
    "t_alpha = qt(alpha, n - 1, lower.tail=FALSE)\n",
    "T >= t_alpha"
   ]
  },
  {
   "cell_type": "markdown",
   "id": "c4c91a0a-ea54-47cb-8f56-496874db3e3d",
   "metadata": {},
   "source": [
    "**p-valor**\n",
    "\n",
    "Sea $T_{obs}$ el valor del estadístico $T$ para la muestra dada, y $T$ representa la distribución t-Student con $n-1$ grados de libertad.\n",
    "\n",
    "$P(T \\geq T_{obs}) = 1 - P(T \\leq T_{obs}) = 1 - F_T(T_{obs})$"
   ]
  },
  {
   "cell_type": "code",
   "execution_count": 96,
   "id": "ab323097-434f-4f0c-8072-91c7f19df76e",
   "metadata": {},
   "outputs": [
    {
     "data": {
      "text/html": [
       "0.000453678121466781"
      ],
      "text/latex": [
       "0.000453678121466781"
      ],
      "text/markdown": [
       "0.000453678121466781"
      ],
      "text/plain": [
       "[1] 0.0004536781"
      ]
     },
     "metadata": {},
     "output_type": "display_data"
    }
   ],
   "source": [
    "pt(T, n - 1, lower.tail=FALSE)"
   ]
  },
  {
   "cell_type": "markdown",
   "id": "07b8491f-125a-4dc8-9b9c-137db125b639",
   "metadata": {},
   "source": [
    "---\n",
    "\n",
    "#### Caso 2\n",
    "\n",
    "$H_0 : \\mu = \\mu_0$ (o $\\mu \\geq \\mu_0$) vs. $H_1 : \\mu < \\mu_0$"
   ]
  },
  {
   "cell_type": "markdown",
   "id": "3b041c63-d0ad-4b80-92bc-956019c51dfc",
   "metadata": {},
   "source": [
    "**Región de rechazo**\n",
    "\n",
    "$T \\leq -t_{n-1, \\alpha}$"
   ]
  },
  {
   "cell_type": "code",
   "execution_count": 94,
   "id": "e339519b-c809-477b-89f5-f08aa7ad6355",
   "metadata": {},
   "outputs": [
    {
     "data": {
      "text/html": [
       "FALSE"
      ],
      "text/latex": [
       "FALSE"
      ],
      "text/markdown": [
       "FALSE"
      ],
      "text/plain": [
       "[1] FALSE"
      ]
     },
     "metadata": {},
     "output_type": "display_data"
    }
   ],
   "source": [
    "X = c(37, 39.50, 41.70, 42, 40, 41.25, 43, 44.05, 38, 38.50)\n",
    "Xbar = mean(X)\n",
    "n = length(X)\n",
    "mu0 = 37\n",
    "sd = sd(X)\n",
    "alpha = 0.05\n",
    "T = sqrt(n) * (Xbar - mu0) / sd\n",
    "t_alpha = qt(alpha, n - 1, lower.tail=FALSE)\n",
    "T <= -t_alpha"
   ]
  },
  {
   "cell_type": "markdown",
   "id": "faa05ea3-43e3-4864-95d9-99a8e1f53275",
   "metadata": {},
   "source": [
    "**p-valor**\n",
    "\n",
    "$P(T \\leq T_{obs}) = F_T(T_{obs})$"
   ]
  },
  {
   "cell_type": "code",
   "execution_count": 95,
   "id": "6db3d665-d7a5-4794-95cb-e8f1ab28832c",
   "metadata": {},
   "outputs": [
    {
     "data": {
      "text/html": [
       "0.999546321878533"
      ],
      "text/latex": [
       "0.999546321878533"
      ],
      "text/markdown": [
       "0.999546321878533"
      ],
      "text/plain": [
       "[1] 0.9995463"
      ]
     },
     "metadata": {},
     "output_type": "display_data"
    }
   ],
   "source": [
    "pt(T, n - 1)"
   ]
  },
  {
   "cell_type": "markdown",
   "id": "c4de08e5-d5d7-4ef8-a49f-977c18da12dd",
   "metadata": {},
   "source": [
    "---\n",
    "\n",
    "#### Caso 3\n",
    "\n",
    "$H_0 : \\mu = \\mu_0$ vs. $H_1 : \\mu \\neq \\mu_0$"
   ]
  },
  {
   "cell_type": "markdown",
   "id": "a7f3defd-9a9f-4a9b-8ec4-71c5d6807d02",
   "metadata": {},
   "source": [
    "**Región de rechazo**\n",
    "\n",
    "$|T| \\geq t_{n-1, \\alpha/2}$"
   ]
  },
  {
   "cell_type": "code",
   "execution_count": 106,
   "id": "ba09799d-2233-40c5-a2d2-d4791514e9ca",
   "metadata": {},
   "outputs": [
    {
     "data": {
      "text/html": [
       "TRUE"
      ],
      "text/latex": [
       "TRUE"
      ],
      "text/markdown": [
       "TRUE"
      ],
      "text/plain": [
       "[1] TRUE"
      ]
     },
     "metadata": {},
     "output_type": "display_data"
    }
   ],
   "source": [
    "X = c(37, 39.50, 41.70, 42, 40, 41.25, 43, 44.05, 38, 38.50)\n",
    "Xbar = mean(X)\n",
    "n = length(X)\n",
    "mu0 = 37\n",
    "sd = sd(X)\n",
    "alpha = 0.05\n",
    "T = sqrt(n) * (Xbar - mu0) / sd\n",
    "t_alpha2 = qt(alpha / 2, n - 1, lower.tail=FALSE)\n",
    "abs(T) >= t_alpha2"
   ]
  },
  {
   "cell_type": "markdown",
   "id": "bb34a2ff-2f1e-4f8d-b048-0720668cb935",
   "metadata": {},
   "source": [
    "**p-valor**\n",
    "\n",
    "$P(|T| \\geq |T_{obs}|) = 2(1 - F_T(|T_{obs}|))$"
   ]
  },
  {
   "cell_type": "code",
   "execution_count": 107,
   "id": "01235535-0483-4c0c-812a-efaf7bc45308",
   "metadata": {},
   "outputs": [
    {
     "data": {
      "text/html": [
       "0.000907356242933588"
      ],
      "text/latex": [
       "0.000907356242933588"
      ],
      "text/markdown": [
       "0.000907356242933588"
      ],
      "text/plain": [
       "[1] 0.0009073562"
      ]
     },
     "metadata": {},
     "output_type": "display_data"
    }
   ],
   "source": [
    "2 * (1 - pt(abs(T), n - 1))"
   ]
  },
  {
   "cell_type": "markdown",
   "id": "30742f4f-f7a9-412d-99b2-830b88684776",
   "metadata": {},
   "source": [
    "### Parámetro $\\sigma$ con $\\mu$ desconocido"
   ]
  },
  {
   "cell_type": "markdown",
   "id": "daeefd3c-9117-4771-a2df-8ac6257f3675",
   "metadata": {},
   "source": [
    "#### Estadístico del test\n",
    "\n",
    "$T = \\frac{(n-1)S^2}{\\sigma^2_0}$\n",
    "\n",
    "Bajo $H_0 : \\sigma^2 = \\sigma^2_0 \\implies T \\sim \\mathcal{X}^2_{n-1}$"
   ]
  },
  {
   "cell_type": "markdown",
   "id": "35af0e63-3586-4bf1-b1f0-bc33ee6b4556",
   "metadata": {},
   "source": [
    "---\n",
    "\n",
    "#### Caso 1\n",
    "\n",
    "$H_0 : \\sigma^2 = \\sigma^2_0$ (o $\\sigma^2 \\leq \\sigma^2_0$) vs. $H_1 : \\sigma^2 > \\sigma^2_0$"
   ]
  },
  {
   "cell_type": "markdown",
   "id": "ed266f15-defd-42b9-b378-5c01967fc006",
   "metadata": {},
   "source": [
    "**Región de rechazo**\n",
    "\n",
    "$T \\geq \\mathcal{X}^2_{n-1, \\alpha}$"
   ]
  },
  {
   "cell_type": "code",
   "execution_count": 122,
   "id": "5bc068c3-0820-42cc-ad40-0eb67f6ecefa",
   "metadata": {},
   "outputs": [
    {
     "data": {
      "text/html": [
       "FALSE"
      ],
      "text/latex": [
       "FALSE"
      ],
      "text/markdown": [
       "FALSE"
      ],
      "text/plain": [
       "[1] FALSE"
      ]
     },
     "metadata": {},
     "output_type": "display_data"
    }
   ],
   "source": [
    "X = c(27, 41, 22, 27, 23, 35, 30, 24, 27, 28, 22)\n",
    "n = length(X)\n",
    "var0 = 6^2\n",
    "alpha = 0.05\n",
    "T = (n - 1) * var(X) / var0\n",
    "t_alpha = qchisq(alpha, n - 1, lower.tail=FALSE)\n",
    "T >= t_alpha"
   ]
  },
  {
   "cell_type": "markdown",
   "id": "86179e73-a145-4f49-94fa-86cfc74b7b47",
   "metadata": {},
   "source": [
    "**Función de potencia**\n",
    "\n",
    "$\\pi(\\sigma^2) = 1 - F_{\\mathcal{X}^2_{n-1}} \\Big( \\frac{\\sigma^2_0}{\\sigma^2} \\mathcal{X}^2_{n-1,\\alpha} \\Big)$"
   ]
  },
  {
   "cell_type": "code",
   "execution_count": 123,
   "id": "f5accdbb-16bb-4256-9acb-1329d6b3e2ed",
   "metadata": {},
   "outputs": [
    {
     "data": {
      "text/html": [
       "0.05"
      ],
      "text/latex": [
       "0.05"
      ],
      "text/markdown": [
       "0.05"
      ],
      "text/plain": [
       "[1] 0.05"
      ]
     },
     "metadata": {},
     "output_type": "display_data"
    },
    {
     "data": {
      "text/html": [
       "0.800415272639891"
      ],
      "text/latex": [
       "0.800415272639891"
      ],
      "text/markdown": [
       "0.800415272639891"
      ],
      "text/plain": [
       "[1] 0.8004153"
      ]
     },
     "metadata": {},
     "output_type": "display_data"
    }
   ],
   "source": [
    "pi = function(var) 1 - pchisq(var0 / var * t_alpha, n - 1)\n",
    "pi(6^2) # pi(sd^2) = alpha\n",
    "1 - pi(7^2) # 1 - pi(sd^2) = beta si sd^2 > sd^2_0"
   ]
  },
  {
   "cell_type": "markdown",
   "id": "ca3a1bcf-3456-4ed4-a3ad-e879a6fbd5be",
   "metadata": {},
   "source": [
    "**p-valor**"
   ]
  },
  {
   "cell_type": "code",
   "execution_count": 124,
   "id": "08bb2025-0a72-43fa-b450-25865733c24c",
   "metadata": {},
   "outputs": [
    {
     "data": {
      "text/html": [
       "0.496571657314647"
      ],
      "text/latex": [
       "0.496571657314647"
      ],
      "text/markdown": [
       "0.496571657314647"
      ],
      "text/plain": [
       "[1] 0.4965717"
      ]
     },
     "metadata": {},
     "output_type": "display_data"
    }
   ],
   "source": [
    "pchisq(T, n - 1, lower.tail=FALSE)"
   ]
  },
  {
   "cell_type": "markdown",
   "id": "a5d62651-c6fe-494b-8d38-d221bff8eaf9",
   "metadata": {},
   "source": [
    "#### Caso 2\n",
    "\n",
    "$H_0 : \\sigma^2 = \\sigma^2_0$ (o $\\sigma^2 \\geq \\sigma^2_0$) vs. $H_1 : \\sigma^2 < \\sigma^2_0$"
   ]
  },
  {
   "cell_type": "markdown",
   "id": "755bfe60-e0a4-4e05-93ec-c47c21844b20",
   "metadata": {},
   "source": [
    "**Región de rechazo**\n",
    "\n",
    "$T \\leq \\mathcal{X}^2_{n-1, 1-\\alpha}$"
   ]
  },
  {
   "cell_type": "code",
   "execution_count": 141,
   "id": "f5a05774-5799-42aa-900e-23a9fb5c44da",
   "metadata": {},
   "outputs": [
    {
     "data": {
      "text/html": [
       "FALSE"
      ],
      "text/latex": [
       "FALSE"
      ],
      "text/markdown": [
       "FALSE"
      ],
      "text/plain": [
       "[1] FALSE"
      ]
     },
     "metadata": {},
     "output_type": "display_data"
    }
   ],
   "source": [
    "X = c(27, 41, 22, 27, 23, 35, 30, 24, 27, 28, 22)\n",
    "n = length(X)\n",
    "var0 = 6^2\n",
    "alpha = 0.05\n",
    "T = (n - 1) * var(X) / var0\n",
    "t_alpha = qchisq(alpha, n - 1)\n",
    "T <= t_alpha"
   ]
  },
  {
   "cell_type": "markdown",
   "id": "98904f51-ff1d-48ad-9131-616449c5dc91",
   "metadata": {},
   "source": [
    "**Función de potencia**\n",
    "\n",
    "$\\pi(\\sigma^2) = F_{\\mathcal{X}^2_{n-1}} \\Big( \\frac{\\sigma^2_0}{\\sigma^2} \\mathcal{X}^2_{n-1,1-\\alpha} \\Big)$"
   ]
  },
  {
   "cell_type": "code",
   "execution_count": 139,
   "id": "1e5b9dff-3f88-4467-89d4-31c014a0f802",
   "metadata": {},
   "outputs": [
    {
     "data": {
      "text/html": [
       "0.0500000000000001"
      ],
      "text/latex": [
       "0.0500000000000001"
      ],
      "text/markdown": [
       "0.0500000000000001"
      ],
      "text/plain": [
       "[1] 0.05"
      ]
     },
     "metadata": {},
     "output_type": "display_data"
    },
    {
     "data": {
      "text/html": [
       "0.84186604030171"
      ],
      "text/latex": [
       "0.84186604030171"
      ],
      "text/markdown": [
       "0.84186604030171"
      ],
      "text/plain": [
       "[1] 0.841866"
      ]
     },
     "metadata": {},
     "output_type": "display_data"
    }
   ],
   "source": [
    "pi = function(var) pchisq(var0 / var * t_alpha, n - 1)\n",
    "pi(6^2) # pi(sd^2) = alpha\n",
    "1 - pi(5^2) # 1 - pi(sd^2) = beta si sd^2 < sd^2_0"
   ]
  },
  {
   "cell_type": "markdown",
   "id": "1edc2388-cf85-430d-b410-60d66d47ec0f",
   "metadata": {},
   "source": [
    "**p-valor**"
   ]
  },
  {
   "cell_type": "code",
   "execution_count": 140,
   "id": "7ac80e73-122c-40ff-ae9d-243ecb4e169f",
   "metadata": {},
   "outputs": [
    {
     "data": {
      "text/html": [
       "0.503428342685353"
      ],
      "text/latex": [
       "0.503428342685353"
      ],
      "text/markdown": [
       "0.503428342685353"
      ],
      "text/plain": [
       "[1] 0.5034283"
      ]
     },
     "metadata": {},
     "output_type": "display_data"
    }
   ],
   "source": [
    "pchisq(T, n - 1)"
   ]
  },
  {
   "cell_type": "markdown",
   "id": "4c80870a-60cc-4c0a-a003-6e360dae79b5",
   "metadata": {},
   "source": [
    "#### Caso 3\n",
    "\n",
    "$H_0 : \\sigma^2 = \\sigma^2_0$ vs. $H_1 : \\sigma^2 \\neq \\sigma^2_0$"
   ]
  },
  {
   "cell_type": "markdown",
   "id": "db8f151b-cb25-427e-b19f-1e1c6a78851c",
   "metadata": {},
   "source": [
    "**Región de rechazo**\n",
    "\n",
    "$T \\leq \\mathcal{X}^2_{n-1, 1-\\alpha/2}$ ó $T \\geq \\mathcal{X}^2_{n-1, \\alpha/2}$\n",
    "\n",
    "Son 2 cotas distintas porque la distribución chi cuadrado no es simétrica en el origen."
   ]
  },
  {
   "cell_type": "code",
   "execution_count": 153,
   "id": "10fd950d-aa09-4fe0-bf80-796eae7de6c2",
   "metadata": {},
   "outputs": [
    {
     "data": {
      "text/html": [
       "FALSE"
      ],
      "text/latex": [
       "FALSE"
      ],
      "text/markdown": [
       "FALSE"
      ],
      "text/plain": [
       "[1] FALSE"
      ]
     },
     "metadata": {},
     "output_type": "display_data"
    }
   ],
   "source": [
    "X = c(27, 41, 22, 27, 23, 35, 30, 24, 27, 28, 22)\n",
    "n = length(X)\n",
    "var0 = 6^2\n",
    "alpha = 0.05\n",
    "T = (n - 1) * var(X) / var0\n",
    "t_alpha_izq = qchisq(alpha / 2, n - 1)\n",
    "t_alpha_der = qchisq(alpha / 2, n - 1, lower.tail=FALSE)\n",
    "T <= t_alpha_izq || T >= t_alpha_der"
   ]
  },
  {
   "cell_type": "markdown",
   "id": "4c56d104-4f47-4ae2-9afb-95710caefcde",
   "metadata": {},
   "source": [
    "**Función de potencia**\n",
    "\n",
    "Pendiente"
   ]
  }
 ],
 "metadata": {
  "kernelspec": {
   "display_name": "R",
   "language": "R",
   "name": "ir"
  },
  "language_info": {
   "codemirror_mode": "r",
   "file_extension": ".r",
   "mimetype": "text/x-r-source",
   "name": "R",
   "pygments_lexer": "r",
   "version": "4.1.0"
  }
 },
 "nbformat": 4,
 "nbformat_minor": 5
}
