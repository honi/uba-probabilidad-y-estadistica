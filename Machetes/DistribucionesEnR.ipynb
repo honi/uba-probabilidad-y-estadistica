{
 "cells": [
  {
   "cell_type": "markdown",
   "id": "c2aee7bc-8b3e-4d36-8995-072a522ecaf2",
   "metadata": {},
   "source": [
    "# Machete: Distribuciones en R"
   ]
  },
  {
   "cell_type": "markdown",
   "id": "0252653a-28df-40e8-9e7a-15783d982d12",
   "metadata": {},
   "source": [
    "## Distribuciones discretas"
   ]
  },
  {
   "cell_type": "markdown",
   "id": "2c563272-a7c4-4651-ae35-c770181554b9",
   "metadata": {},
   "source": [
    "### Binomial\n",
    "\n",
    "$X$ = número de éxitos en las n repeticiones\n",
    "\n",
    "Cada intento es independiente y tiene probabilidad p de éxito."
   ]
  },
  {
   "cell_type": "code",
   "execution_count": 23,
   "id": "1fcd2138-9def-40d0-b604-74b3248a680d",
   "metadata": {},
   "outputs": [
    {
     "data": {
      "text/html": [
       "0.1937102445"
      ],
      "text/latex": [
       "0.1937102445"
      ],
      "text/markdown": [
       "0.1937102445"
      ],
      "text/plain": [
       "[1] 0.1937102"
      ]
     },
     "metadata": {},
     "output_type": "display_data"
    },
    {
     "data": {
      "text/html": [
       "0.9298091736"
      ],
      "text/latex": [
       "0.9298091736"
      ],
      "text/markdown": [
       "0.9298091736"
      ],
      "text/plain": [
       "[1] 0.9298092"
      ]
     },
     "metadata": {},
     "output_type": "display_data"
    },
    {
     "data": {
      "text/html": [
       "0.7360989291"
      ],
      "text/latex": [
       "0.7360989291"
      ],
      "text/markdown": [
       "0.7360989291"
      ],
      "text/plain": [
       "[1] 0.7360989"
      ]
     },
     "metadata": {},
     "output_type": "display_data"
    },
    {
     "data": {
      "text/html": [
       "0.2639010709"
      ],
      "text/latex": [
       "0.2639010709"
      ],
      "text/markdown": [
       "0.2639010709"
      ],
      "text/plain": [
       "[1] 0.2639011"
      ]
     },
     "metadata": {},
     "output_type": "display_data"
    },
    {
     "data": {
      "text/html": [
       "0.0701908264000001"
      ],
      "text/latex": [
       "0.0701908264000001"
      ],
      "text/markdown": [
       "0.0701908264000001"
      ],
      "text/plain": [
       "[1] 0.07019083"
      ]
     },
     "metadata": {},
     "output_type": "display_data"
    }
   ],
   "source": [
    "n = 10\n",
    "p = 0.1\n",
    "x = 2\n",
    "\n",
    "dbinom(x, n, p) # P(X=x)\n",
    "pbinom(x, n, p) # P(X<=x)\n",
    "pbinom(x-1, n, p) # P(X<x) \n",
    "pbinom(x-1, n, p, lower.tail=FALSE) # P(X>=x)\n",
    "pbinom(x, n, p, lower.tail=FALSE) # P(X>x)"
   ]
  },
  {
   "cell_type": "markdown",
   "id": "84e0ee1e-8da0-46c5-ba4c-3387e6c4b534",
   "metadata": {},
   "source": [
    "### Geométrica\n",
    "\n",
    "$X$ = número de repeticiones hasta obtener el primer éxito\n",
    "\n",
    "Cada intento es independiente y tiene probabilidad p de éxito.\n",
    "\n",
    "**Nota**: R define la distribución como $X$ = número de fracasos antes del primer éxito."
   ]
  },
  {
   "cell_type": "code",
   "execution_count": 80,
   "id": "b0a3950f-8717-4ef0-8d04-98321810e4f0",
   "metadata": {},
   "outputs": [
    {
     "data": {
      "text/html": [
       "0.09"
      ],
      "text/latex": [
       "0.09"
      ],
      "text/markdown": [
       "0.09"
      ],
      "text/plain": [
       "[1] 0.09"
      ]
     },
     "metadata": {},
     "output_type": "display_data"
    },
    {
     "data": {
      "text/html": [
       "0.19"
      ],
      "text/latex": [
       "0.19"
      ],
      "text/markdown": [
       "0.19"
      ],
      "text/plain": [
       "[1] 0.19"
      ]
     },
     "metadata": {},
     "output_type": "display_data"
    },
    {
     "data": {
      "text/html": [
       "0.1"
      ],
      "text/latex": [
       "0.1"
      ],
      "text/markdown": [
       "0.1"
      ],
      "text/plain": [
       "[1] 0.1"
      ]
     },
     "metadata": {},
     "output_type": "display_data"
    },
    {
     "data": {
      "text/html": [
       "0.9"
      ],
      "text/latex": [
       "0.9"
      ],
      "text/markdown": [
       "0.9"
      ],
      "text/plain": [
       "[1] 0.9"
      ]
     },
     "metadata": {},
     "output_type": "display_data"
    },
    {
     "data": {
      "text/html": [
       "0.81"
      ],
      "text/latex": [
       "0.81"
      ],
      "text/markdown": [
       "0.81"
      ],
      "text/plain": [
       "[1] 0.81"
      ]
     },
     "metadata": {},
     "output_type": "display_data"
    }
   ],
   "source": [
    "p = 0.1\n",
    "x = 2 # número de repeticiones hasta obtener el primer éxito\n",
    "\n",
    "dgeom(x-1, p) # P(X=x)\n",
    "pgeom(x-1, p) # P(X<=x)\n",
    "pgeom(x-2, p) # P(X<x)\n",
    "pgeom(x-2, p, lower.tail=FALSE) # P(X>=x)\n",
    "pgeom(x-1, p, lower.tail=FALSE) # P(X>x)"
   ]
  },
  {
   "cell_type": "markdown",
   "id": "a598b6f7-572c-438b-ad97-f4ff682489ca",
   "metadata": {},
   "source": [
    "### Binomial negativa\n",
    "\n",
    "$X$ = número de repeticiones hasta obtener el r-ésimo éxito"
   ]
  },
  {
   "cell_type": "code",
   "execution_count": 107,
   "id": "acd393a5-76f8-422b-a553-6f2d3ed94cd9",
   "metadata": {},
   "outputs": [
    {
     "data": {
      "text/html": [
       "0.0172186884"
      ],
      "text/latex": [
       "0.0172186884"
      ],
      "text/markdown": [
       "0.0172186884"
      ],
      "text/plain": [
       "[1] 0.01721869"
      ]
     },
     "metadata": {},
     "output_type": "display_data"
    },
    {
     "data": {
      "text/html": [
       "0.0701908264000001"
      ],
      "text/latex": [
       "0.0701908264000001"
      ],
      "text/markdown": [
       "0.0701908264000001"
      ],
      "text/plain": [
       "[1] 0.07019083"
      ]
     },
     "metadata": {},
     "output_type": "display_data"
    },
    {
     "data": {
      "text/html": [
       "0.0529721380000001"
      ],
      "text/latex": [
       "0.0529721380000001"
      ],
      "text/markdown": [
       "0.0529721380000001"
      ],
      "text/plain": [
       "[1] 0.05297214"
      ]
     },
     "metadata": {},
     "output_type": "display_data"
    },
    {
     "data": {
      "text/html": [
       "0.947027862"
      ],
      "text/latex": [
       "0.947027862"
      ],
      "text/markdown": [
       "0.947027862"
      ],
      "text/plain": [
       "[1] 0.9470279"
      ]
     },
     "metadata": {},
     "output_type": "display_data"
    },
    {
     "data": {
      "text/html": [
       "0.9298091736"
      ],
      "text/latex": [
       "0.9298091736"
      ],
      "text/markdown": [
       "0.9298091736"
      ],
      "text/plain": [
       "[1] 0.9298092"
      ]
     },
     "metadata": {},
     "output_type": "display_data"
    }
   ],
   "source": [
    "x = 10 # Cantidad total de repeticiones\n",
    "r = 3 # Cantidad de éxitos\n",
    "p = 0.1\n",
    "\n",
    "f = function(x) choose(x-1, r-1) * p^r * (1-p)^(x-r)\n",
    "F = function(x) sum(f(r:x))\n",
    "\n",
    "dnbinom(x-r, r, p) # P(X=x)\n",
    "pnbinom(x-r, r, p) # P(X<=x)\n",
    "pnbinom(x-r-1, r, p) # P(X<x) \n",
    "pnbinom(x-r-1, r, p, lower.tail=FALSE) # P(X>=x)\n",
    "pnbinom(x-r, r, p, lower.tail=FALSE) # P(X>x)"
   ]
  },
  {
   "cell_type": "markdown",
   "id": "078ed722-183a-4c05-ba9e-c62aad8b3fb0",
   "metadata": {},
   "source": [
    "### Hipergeométrica\n",
    "\n",
    "$X$ = número de éxitos en la muestra de tamaño n"
   ]
  },
  {
   "cell_type": "code",
   "execution_count": 88,
   "id": "aa046c47-c12f-4d48-b24e-f4e43c7fa25a",
   "metadata": {},
   "outputs": [
    {
     "data": {
      "text/html": [
       "0.318170629610032"
      ],
      "text/latex": [
       "0.318170629610032"
      ],
      "text/markdown": [
       "0.318170629610032"
      ],
      "text/plain": [
       "[1] 0.3181706"
      ]
     },
     "metadata": {},
     "output_type": "display_data"
    },
    {
     "data": {
      "text/html": [
       "0.681220063817689"
      ],
      "text/latex": [
       "0.681220063817689"
      ],
      "text/markdown": [
       "0.681220063817689"
      ],
      "text/plain": [
       "[1] 0.6812201"
      ]
     },
     "metadata": {},
     "output_type": "display_data"
    },
    {
     "data": {
      "text/html": [
       "0.363049434207657"
      ],
      "text/latex": [
       "0.363049434207657"
      ],
      "text/markdown": [
       "0.363049434207657"
      ],
      "text/plain": [
       "[1] 0.3630494"
      ]
     },
     "metadata": {},
     "output_type": "display_data"
    },
    {
     "data": {
      "text/html": [
       "0.636950565792343"
      ],
      "text/latex": [
       "0.636950565792343"
      ],
      "text/markdown": [
       "0.636950565792343"
      ],
      "text/plain": [
       "[1] 0.6369506"
      ]
     },
     "metadata": {},
     "output_type": "display_data"
    },
    {
     "data": {
      "text/html": [
       "0.318779936182311"
      ],
      "text/latex": [
       "0.318779936182311"
      ],
      "text/markdown": [
       "0.318779936182311"
      ],
      "text/plain": [
       "[1] 0.3187799"
      ]
     },
     "metadata": {},
     "output_type": "display_data"
    }
   ],
   "source": [
    "N = 100\n",
    "D = 20\n",
    "n = 10\n",
    "x = 2\n",
    "\n",
    "dhyper(x, D, N-D, n) # P(X=x)\n",
    "phyper(x, D, N-D, n) # P(X<=x)\n",
    "phyper(x-1, D, N-D, n) # P(X<x)\n",
    "phyper(x-1, D, N-D, n, lower.tail=FALSE) # P(X>=x)\n",
    "phyper(x, D, N-D, n, lower.tail=FALSE) # P(X>x)"
   ]
  },
  {
   "cell_type": "markdown",
   "id": "4bd2d802-9d95-4a1b-bb2f-54eba27373af",
   "metadata": {},
   "source": [
    "### Poisson\n",
    "\n",
    "X = Cantidad de eventos por unidad de tiempo"
   ]
  },
  {
   "cell_type": "code",
   "execution_count": 98,
   "id": "1dbfa565-d3ae-4480-8912-da85ec6e3ca4",
   "metadata": {},
   "outputs": [
    {
     "data": {
      "text/html": [
       "0.270670566473225"
      ],
      "text/latex": [
       "0.270670566473225"
      ],
      "text/markdown": [
       "0.270670566473225"
      ],
      "text/plain": [
       "[1] 0.2706706"
      ]
     },
     "metadata": {},
     "output_type": "display_data"
    },
    {
     "data": {
      "text/html": [
       "0.676676416183063"
      ],
      "text/latex": [
       "0.676676416183063"
      ],
      "text/markdown": [
       "0.676676416183063"
      ],
      "text/plain": [
       "[1] 0.6766764"
      ]
     },
     "metadata": {},
     "output_type": "display_data"
    },
    {
     "data": {
      "text/html": [
       "0.406005849709838"
      ],
      "text/latex": [
       "0.406005849709838"
      ],
      "text/markdown": [
       "0.406005849709838"
      ],
      "text/plain": [
       "[1] 0.4060058"
      ]
     },
     "metadata": {},
     "output_type": "display_data"
    },
    {
     "data": {
      "text/html": [
       "0.593994150290162"
      ],
      "text/latex": [
       "0.593994150290162"
      ],
      "text/markdown": [
       "0.593994150290162"
      ],
      "text/plain": [
       "[1] 0.5939942"
      ]
     },
     "metadata": {},
     "output_type": "display_data"
    },
    {
     "data": {
      "text/html": [
       "0.323323583816937"
      ],
      "text/latex": [
       "0.323323583816937"
      ],
      "text/markdown": [
       "0.323323583816937"
      ],
      "text/plain": [
       "[1] 0.3233236"
      ]
     },
     "metadata": {},
     "output_type": "display_data"
    }
   ],
   "source": [
    "lambda = 2\n",
    "x = 2\n",
    "\n",
    "dpois(x, lambda) # P(X=x)\n",
    "ppois(x, lambda) # P(X<=x)\n",
    "ppois(x-1, lambda) # P(X<x)\n",
    "ppois(x-1, lambda, lower.tail=FALSE) # P(X>=x)\n",
    "ppois(x, lambda, lower.tail=FALSE) # P(X>x)"
   ]
  },
  {
   "cell_type": "markdown",
   "id": "28a24a07-b457-41dd-a08d-4ca788f79c52",
   "metadata": {},
   "source": [
    "## Distribuciones continuas"
   ]
  },
  {
   "cell_type": "markdown",
   "id": "185d3ef4-3b82-46e7-ae52-bae0a9af909f",
   "metadata": {},
   "source": [
    "### Uniforme"
   ]
  },
  {
   "cell_type": "code",
   "execution_count": 52,
   "id": "fc02121e-9678-4425-a7dd-c59709ce85b0",
   "metadata": {},
   "outputs": [
    {
     "data": {
      "text/html": [
       "1"
      ],
      "text/latex": [
       "1"
      ],
      "text/markdown": [
       "1"
      ],
      "text/plain": [
       "[1] 1"
      ]
     },
     "metadata": {},
     "output_type": "display_data"
    },
    {
     "data": {
      "text/html": [
       "0.2"
      ],
      "text/latex": [
       "0.2"
      ],
      "text/markdown": [
       "0.2"
      ],
      "text/plain": [
       "[1] 0.2"
      ]
     },
     "metadata": {},
     "output_type": "display_data"
    },
    {
     "data": {
      "text/html": [
       "0.8"
      ],
      "text/latex": [
       "0.8"
      ],
      "text/markdown": [
       "0.8"
      ],
      "text/plain": [
       "[1] 0.8"
      ]
     },
     "metadata": {},
     "output_type": "display_data"
    }
   ],
   "source": [
    "a = 0\n",
    "b = 1\n",
    "x = 0.2\n",
    "\n",
    "dunif(x, a, b) # P(X=x)\n",
    "punif(x, a, b) # P(X<x) = P(X<=x)\n",
    "punif(x, a, b, lower.tail=FALSE) # P(X>x) = P(X>=x)"
   ]
  },
  {
   "cell_type": "markdown",
   "id": "4810c4bd-f588-41bf-8ac5-3ec6bbf326fd",
   "metadata": {},
   "source": [
    "### Normal"
   ]
  },
  {
   "cell_type": "code",
   "execution_count": 60,
   "id": "54ec2e78-d2d3-45ec-9bbf-b41b1eb3748d",
   "metadata": {},
   "outputs": [
    {
     "data": {
      "text/html": [
       "0.398942280401433"
      ],
      "text/latex": [
       "0.398942280401433"
      ],
      "text/markdown": [
       "0.398942280401433"
      ],
      "text/plain": [
       "[1] 0.3989423"
      ]
     },
     "metadata": {},
     "output_type": "display_data"
    },
    {
     "data": {
      "text/html": [
       "0.5"
      ],
      "text/latex": [
       "0.5"
      ],
      "text/markdown": [
       "0.5"
      ],
      "text/plain": [
       "[1] 0.5"
      ]
     },
     "metadata": {},
     "output_type": "display_data"
    },
    {
     "data": {
      "text/html": [
       "0.5"
      ],
      "text/latex": [
       "0.5"
      ],
      "text/markdown": [
       "0.5"
      ],
      "text/plain": [
       "[1] 0.5"
      ]
     },
     "metadata": {},
     "output_type": "display_data"
    }
   ],
   "source": [
    "mu = 0\n",
    "sd = 1\n",
    "x = 0\n",
    "\n",
    "dnorm(x, mu, sd) # P(X=x)\n",
    "pnorm(x, mu, sd) # P(X<x) = P(X<=x)\n",
    "pnorm(x, mu, sd, lower.tail=FALSE) # P(X>x) = P(X>=x)"
   ]
  },
  {
   "cell_type": "markdown",
   "id": "1a6b25d3-f613-425d-944e-a7db436ada99",
   "metadata": {},
   "source": [
    "### Exponencial"
   ]
  },
  {
   "cell_type": "code",
   "execution_count": 71,
   "id": "e7f7cea6-99fd-4813-9915-93e0b0981e3f",
   "metadata": {},
   "outputs": [
    {
     "data": {
      "text/html": [
       "0.270670566473225"
      ],
      "text/latex": [
       "0.270670566473225"
      ],
      "text/markdown": [
       "0.270670566473225"
      ],
      "text/plain": [
       "[1] 0.2706706"
      ]
     },
     "metadata": {},
     "output_type": "display_data"
    },
    {
     "data": {
      "text/html": [
       "0.864664716763387"
      ],
      "text/latex": [
       "0.864664716763387"
      ],
      "text/markdown": [
       "0.864664716763387"
      ],
      "text/plain": [
       "[1] 0.8646647"
      ]
     },
     "metadata": {},
     "output_type": "display_data"
    },
    {
     "data": {
      "text/html": [
       "0.135335283236613"
      ],
      "text/latex": [
       "0.135335283236613"
      ],
      "text/markdown": [
       "0.135335283236613"
      ],
      "text/plain": [
       "[1] 0.1353353"
      ]
     },
     "metadata": {},
     "output_type": "display_data"
    }
   ],
   "source": [
    "lambda = 2\n",
    "x = 1\n",
    "\n",
    "dexp(x, lambda) # P(X=x)\n",
    "pexp(x, lambda) # P(X<x) = P(X<=x)\n",
    "pexp(x, lambda, lower.tail=FALSE) # P(X>x) = P(X>=x)"
   ]
  },
  {
   "cell_type": "markdown",
   "id": "ead3771f-ab80-4890-b4b9-6f5b342cfcf0",
   "metadata": {},
   "source": [
    "### Gamma"
   ]
  },
  {
   "cell_type": "code",
   "execution_count": 74,
   "id": "34d2dc8b-6374-4047-a43d-55a291303826",
   "metadata": {},
   "outputs": [
    {
     "data": {
      "text/html": [
       "0.270670566473225"
      ],
      "text/latex": [
       "0.270670566473225"
      ],
      "text/markdown": [
       "0.270670566473225"
      ],
      "text/plain": [
       "[1] 0.2706706"
      ]
     },
     "metadata": {},
     "output_type": "display_data"
    },
    {
     "data": {
      "text/html": [
       "0.864664716763387"
      ],
      "text/latex": [
       "0.864664716763387"
      ],
      "text/markdown": [
       "0.864664716763387"
      ],
      "text/plain": [
       "[1] 0.8646647"
      ]
     },
     "metadata": {},
     "output_type": "display_data"
    },
    {
     "data": {
      "text/html": [
       "0.135335283236613"
      ],
      "text/latex": [
       "0.135335283236613"
      ],
      "text/markdown": [
       "0.135335283236613"
      ],
      "text/plain": [
       "[1] 0.1353353"
      ]
     },
     "metadata": {},
     "output_type": "display_data"
    }
   ],
   "source": [
    "alpha = 1\n",
    "lambda = 2\n",
    "x = 1\n",
    "\n",
    "dgamma(x, alpha, lambda) # P(X=x)\n",
    "pgamma(x, alpha, lambda) # P(X<x) = P(X<=x)\n",
    "pgamma(x, alpha, lambda, lower.tail=FALSE) # P(X>x) = P(X>=x)"
   ]
  },
  {
   "cell_type": "markdown",
   "id": "3bfb332c-e87e-47c0-83eb-b1c9c3ea078a",
   "metadata": {},
   "source": [
    "## Vectores discretos"
   ]
  },
  {
   "cell_type": "markdown",
   "id": "a7b05f64-1006-45d7-9ee4-f7a448ede0b0",
   "metadata": {},
   "source": [
    "### Multinomial\n",
    "\n",
    "Un experimento multinomial es aquel en el que se repite n veces una experiencia.\n",
    "\n",
    "$X_i$ = número de veces que ocurre el resultado i\n",
    "\n",
    "$X_i \\sim Bi(n, p_i)$"
   ]
  },
  {
   "cell_type": "code",
   "execution_count": 2,
   "id": "6745def9-2ae1-40a1-9a3a-ee87fe67dec8",
   "metadata": {},
   "outputs": [
    {
     "data": {
      "text/html": [
       "0.0450000000000002"
      ],
      "text/latex": [
       "0.0450000000000002"
      ],
      "text/markdown": [
       "0.0450000000000002"
      ],
      "text/plain": [
       "[1] 0.045"
      ]
     },
     "metadata": {},
     "output_type": "display_data"
    }
   ],
   "source": [
    "n = 10\n",
    "\n",
    "x1 = 1\n",
    "p1 = 0.1\n",
    "\n",
    "x2 = 7\n",
    "p2 = 0.5\n",
    "\n",
    "x3 = 2\n",
    "p3 = 0.4\n",
    "\n",
    "p = c(p1, p2, p3)\n",
    "x = c(x1, x2, x3)\n",
    "\n",
    "dmultinom(x, n, p)"
   ]
  },
  {
   "cell_type": "markdown",
   "id": "b9839a45-6edf-4ff6-a78b-6e25d0dbc259",
   "metadata": {},
   "source": [
    "## Integrar"
   ]
  },
  {
   "cell_type": "code",
   "execution_count": 112,
   "id": "feabbdfb-cdee-4f7b-b37f-f4fd584a94bc",
   "metadata": {},
   "outputs": [
    {
     "data": {
      "text/html": [
       "0.489795918367347"
      ],
      "text/latex": [
       "0.489795918367347"
      ],
      "text/markdown": [
       "0.489795918367347"
      ],
      "text/plain": [
       "[1] 0.4897959"
      ]
     },
     "metadata": {},
     "output_type": "display_data"
    },
    {
     "data": {
      "text/html": [
       "0.4898"
      ],
      "text/latex": [
       "0.4898"
      ],
      "text/markdown": [
       "0.4898"
      ],
      "text/plain": [
       "[1] 0.4898"
      ]
     },
     "metadata": {},
     "output_type": "display_data"
    }
   ],
   "source": [
    "f = function(x) {\n",
    "    if (4 < x && x <= 18) return(-x/98 + 9/49)\n",
    "    return(0)\n",
    "}\n",
    "integrate(f, 4, 8)$value\n",
    "round(integrate(f, 4, 8)$value, 4) # Redondeado a 4 decimales"
   ]
  },
  {
   "cell_type": "markdown",
   "id": "9e2430eb-dbc7-4028-90e6-e3982a853e0c",
   "metadata": {},
   "source": [
    "## Buscar un x tal que la acumulada sea >= M\n",
    "\n",
    "$x$ / $P(X=x) = F_X(x) >= 0.99$"
   ]
  },
  {
   "cell_type": "code",
   "execution_count": 113,
   "id": "f5a35499-fc31-417f-ac0a-93ffe246b5a1",
   "metadata": {},
   "outputs": [
    {
     "data": {
      "text/html": [
       "6"
      ],
      "text/latex": [
       "6"
      ],
      "text/markdown": [
       "6"
      ],
      "text/plain": [
       "[1] 6"
      ]
     },
     "metadata": {},
     "output_type": "display_data"
    }
   ],
   "source": [
    "M = 0.99\n",
    "x = 0\n",
    "repeat {\n",
    "    if (ppois(x, 2) >= M) break # Puede ser cualquier otra distribución\n",
    "    x = x + 1\n",
    "}\n",
    "x"
   ]
  }
 ],
 "metadata": {
  "kernelspec": {
   "display_name": "R",
   "language": "R",
   "name": "ir"
  },
  "language_info": {
   "codemirror_mode": "r",
   "file_extension": ".r",
   "mimetype": "text/x-r-source",
   "name": "R",
   "pygments_lexer": "r",
   "version": "4.1.0"
  }
 },
 "nbformat": 4,
 "nbformat_minor": 5
}
