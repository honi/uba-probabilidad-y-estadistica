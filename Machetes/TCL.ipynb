{
 "cells": [
  {
   "cell_type": "markdown",
   "id": "49fae931-3f1a-4889-9c62-db103635886d",
   "metadata": {},
   "source": [
    "# Machete: Teorema Central del Límite"
   ]
  },
  {
   "cell_type": "markdown",
   "id": "64abe439-047c-4d3e-aa8d-514e8d767c5a",
   "metadata": {},
   "source": [
    "Sea $X$ v.a. con media $\\mu$ y desvío estándar $\\sigma$.\n",
    "\n",
    "Recordar que si el enunciado nos dá $V(X)$ entonces despejamos $\\sigma = \\sqrt{V(X)}$.\n",
    "\n",
    "Sea $X_1, \\dots, X_n$ una muestra aleatoria. Suponemos que todas las $X_i$ son v.a.i.i.d."
   ]
  },
  {
   "cell_type": "markdown",
   "id": "b2ce17b1-ae3d-4768-93e0-1a96bd8238b8",
   "metadata": {},
   "source": [
    "## Versión suma\n",
    "\n",
    "Sea $S_n = \\sum_{i=1}^n X_i$ la suma de todas las muestras de $X$.\n",
    "\n",
    "$E(S_n) = E(\\sum_{i=1}^n X_i) = \\sum_{i=1}^n E(X_i) = n E(X_i) = n \\mu$\n",
    "\n",
    "$V(S_n) = V(\\sum_{i=1}^n X_i) = \\sum_{i=1}^n V(X_i) = n V(X_i)$\n",
    "\n",
    "Por TCL:\n",
    "\n",
    "$\n",
    "\\begin{align*}\n",
    "\\frac{Sn - E(S_n)}{\\sqrt{V(S_n)}} \\xrightarrow{d} Z \\sim N(0,1)\n",
    "\\end{align*}\n",
    "$\n",
    "\n",
    "$P(Sn < x) \\approx P\\Big(Z < \\tfrac{x - E(S_n)}{\\sqrt{V(S_n)}}\\Big) = P\\Big(Z < \\tfrac{x - n \\mu}{\\sqrt{nV(X_i)}}\\Big) = P\\Big(Z < \\tfrac{x - n \\mu}{\\sigma \\sqrt{n}}\\Big)$"
   ]
  },
  {
   "cell_type": "markdown",
   "id": "5990698d-2b95-41b4-a9c2-510498f13c2d",
   "metadata": {},
   "source": [
    "### Funciones útiles"
   ]
  },
  {
   "cell_type": "code",
   "execution_count": 1,
   "id": "ca4616e3-ed3d-40f4-b127-93209ea840f2",
   "metadata": {},
   "outputs": [],
   "source": [
    "tcl.sum = function(x, n, u, sd, lower.tail=TRUE) pnorm((x - n * u) / (sd * sqrt(n)), lower.tail=lower.tail)"
   ]
  },
  {
   "cell_type": "code",
   "execution_count": 2,
   "id": "a7636ba7-863a-4aa0-b6b8-ddd6aa288962",
   "metadata": {},
   "outputs": [],
   "source": [
    "tcl.sum.findn = function(x, q, u, sd, n.lower.tail=TRUE, z.lower.tail=TRUE) {\n",
    "    # x: cota de la v.a. original antes del TCL\n",
    "    # q: probabilidad de la normal estándar para la cual vamos a buscarle el percentil\n",
    "    # u: E(X)\n",
    "    # sd: √V(X)\n",
    "    # Ejemplos de cómo configurar n.lower.tail / z.lower.tail:\n",
    "    # P(Sn < x) < q    tcl.sum.findn(x, q, u, sd, n.lower.tail=TRUE, z.lower.tail=TRUE)\n",
    "    # P(Sn < x) > q    tcl.sum.findn(x, q, u, sd, n.lower.tail=TRUE, z.lower.tail=FALSE)\n",
    "    # P(Sn > x) < q    tcl.sum.findn(x, q, u, sd, n.lower.tail=FALSE, z.lower.tail=TRUE)\n",
    "    # P(Sn > x) > q    tcl.sum.findn(x, q, u, sd, n.lower.tail=FALSE, z.lower.tail=FALSE)\n",
    "    z = qnorm(q, lower.tail=z.lower.tail)\n",
    "    a = u^2\n",
    "    b = -(2 * u * x + z^2 * sd^2)\n",
    "    c = x^2\n",
    "    discriminante = b^2 - 4 * a * c\n",
    "    n1 = (-b + sqrt(discriminante)) / (2 * a)\n",
    "    n2 = (-b - sqrt(discriminante)) / (2 * a)\n",
    "    return(if (n.lower.tail) floor(min(c(n1, n2))) else ceiling(max(c(n1, n2))))\n",
    "}"
   ]
  },
  {
   "cell_type": "markdown",
   "id": "47b425a9-7b84-4961-b192-99c868c7b157",
   "metadata": {},
   "source": [
    "## Versión promedio\n",
    "\n",
    "Sea $\\bar{X} = \\sum_{i=1}^{n} \\tfrac{E(X_i)}{n}$ el promedio de todas las muestras de $X$.\n",
    "\n",
    "$E(\\bar{X}) = E(\\sum_{i=1}^{n} \\tfrac{E(X_i)}{n}) = \\tfrac{1}{n} \\sum_{i=1}^{n} E(X_i) = \\tfrac{1}{n} n E(X_i) = E(X_i) = \\mu$\n",
    "\n",
    "$V(\\bar{X}) = V(\\sum_{i=1}^{n} \\tfrac{V(X_i)}{n}) = \\tfrac{1}{n^2} \\sum_{i=1}^{n} V(X_i) = \\tfrac{1}{n^2} n V(X_i) = \\tfrac{V(X_1)}{n}$\n",
    "\n",
    "Por TCL:\n",
    "\n",
    "$\n",
    "\\begin{align*}\n",
    "\\frac{\\bar{X} - E(\\bar{X})}{\\sqrt{V(\\bar{X})}} \\xrightarrow{d} Z \\sim N(0,1)\n",
    "\\end{align*}\n",
    "$\n",
    "\n",
    "$P(\\bar{X} < x) \\approx P\\Big(Z < \\tfrac{x - E(\\bar{X})}{\\sqrt{V(\\bar{X})}}\\Big) = P\\Big(Z < \\tfrac{x - \\mu}{\\sqrt{\\tfrac{V(X_1)}{n}}}\\Big) = P\\Big(Z < \\tfrac{\\sqrt{n}(x - \\mu)}{\\sigma}\\Big)$"
   ]
  },
  {
   "cell_type": "markdown",
   "id": "dff9d3a0-d206-4400-ac20-a84a71a17c78",
   "metadata": {},
   "source": [
    "### Funciones útiles"
   ]
  },
  {
   "cell_type": "code",
   "execution_count": 3,
   "id": "f7362122-8ed2-405e-b38c-f85d3da5dc85",
   "metadata": {},
   "outputs": [],
   "source": [
    "tcl.avg = function(x, n, u, sd, lower.tail=TRUE) pnorm((sqrt(n) * (x - u)) / sd, lower.tail=lower.tail)"
   ]
  },
  {
   "cell_type": "code",
   "execution_count": 5,
   "id": "9481e73b-4365-4aff-8003-e774bba4562f",
   "metadata": {},
   "outputs": [],
   "source": [
    "tcl.avg.findn = function(x, q, u, sd, n.lower.tail=TRUE, z.lower.tail=TRUE) {\n",
    "    # x: cota de la v.a. original antes del TCL\n",
    "    # q: probabilidad de la normal estándar para la cual vamos a buscarle el percentil\n",
    "    # u: E(X)\n",
    "    # sd: √V(X)\n",
    "    # Ejemplos de cómo configurar n.lower.tail / z.lower.tail:\n",
    "    # P(Sn < x) < q    tcl.avg.findn(x, q, u, sd, n.lower.tail=TRUE, z.lower.tail=TRUE)\n",
    "    # P(Sn < x) > q    tcl.avg.findn(x, q, u, sd, n.lower.tail=TRUE, z.lower.tail=FALSE)\n",
    "    # P(Sn > x) < q    tcl.avg.findn(x, q, u, sd, n.lower.tail=FALSE, z.lower.tail=TRUE)\n",
    "    # P(Sn > x) > q    tcl.avg.findn(x, q, u, sd, n.lower.tail=FALSE, z.lower.tail=FALSE)\n",
    "    z = qnorm(q, lower.tail=z.lower.tail)\n",
    "    n = ((z * sd) / (x - u))^2\n",
    "    return(if (n.lower.tail) floor(n) else ceiling(n))\n",
    "}"
   ]
  }
 ],
 "metadata": {
  "kernelspec": {
   "display_name": "R",
   "language": "R",
   "name": "ir"
  },
  "language_info": {
   "codemirror_mode": "r",
   "file_extension": ".r",
   "mimetype": "text/x-r-source",
   "name": "R",
   "pygments_lexer": "r",
   "version": "4.1.0"
  }
 },
 "nbformat": 4,
 "nbformat_minor": 5
}
