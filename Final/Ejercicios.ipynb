{
 "cells": [
  {
   "cell_type": "markdown",
   "id": "4a948644-cc9b-4a81-8dcf-f64df7989047",
   "metadata": {},
   "source": [
    "# Ejercicios de final\n",
    "\n",
    "Para las fechas de final de Diciembre 2021 el profesor Nicolas Saintier publicó listas de ejercicios a ser evaluados en cada fecha de examen. A continuación se resuelven los [35 ejercicios](http://cms.dm.uba.ar/academico/materias/2docuat2021/probabilidades_y_estadistica_C/lista_ejercicios_final%20Diciembre%201era%20fecha.pdf) para la 1er fecha de Diciembre."
   ]
  },
  {
   "cell_type": "markdown",
   "id": "0ace861f-799f-47d0-9074-e9d5df4eb2c3",
   "metadata": {},
   "source": [
    "## Probabilidad: definición y enunciados"
   ]
  },
  {
   "cell_type": "markdown",
   "id": "b4d6b267-506b-4ff2-9a0b-326c3f94a40c",
   "metadata": {},
   "source": [
    "### Ejercicio 1\n",
    "\n",
    "Dar la definición de una medida de probabilidad P. Demuestre a partir de la definición que $P(A^c) = 1 - P(A)$ y que si $B \\subset A$ entonces $P(A \\setminus B) = P(A) - P(B)$."
   ]
  },
  {
   "cell_type": "markdown",
   "id": "4c9cb088-138d-457a-9992-4d9b1708dd07",
   "metadata": {},
   "source": [
    "**Definiciones previas**\n",
    "\n",
    "- Dado un experimento aleatorio (cualquier proceso o acción repetible que genera una observación), llamamos **espacio muestral** al conjunto de todos los resultados posibles. Lo notamos $S$ y éste puede ser finito o infinito numerable.\n",
    "- Cualquier subconjunto del espacio muestral $S$ lo llamamos **evento** o suceso.\n",
    "\n",
    "**Definición de una medida de probabilidad**\n",
    "\n",
    "Dado un espacio muestral $S$ y un evento $A$, llamamos $P(A)$ a la probabilidad de que suceda el evento $A$. Esta medida debe satisfacer los siguientes axiomas:\n",
    "\n",
    "- Axioma 1\n",
    "\n",
    "    $P(A) \\geq 0$ para todo evento $A \\subset S$\n",
    "    \n",
    "    La medida de probabilidad no puede ser negativa.\n",
    "\n",
    "- Axioma 2\n",
    "\n",
    "    $P(S) = 1$\n",
    "    \n",
    "    Como $S$ es el conjunto de todos los resultados posibles, su probabilidad es 1 (el máximo posible en nuestra definición). Si no fuese 1 entonces estaría mal definido el espacio muestral, pues habría resultados posibles de nuestro experimento que no fueron incluídos en la definición de $S$.\n",
    "\n",
    "- Axioma 3\n",
    "    \n",
    "    Sean $A_1, \\dots, A_n$ una coleción finita de eventos mutuamente excluyentes.\n",
    "    \n",
    "    Es decir, $A_i \\cap A_j = \\emptyset \\; \\forall i \\neq j$\n",
    "    \n",
    "    Entonces: $P(\\bigcup_{i=1}^n A_i) = \\sum_{i=1}^n P(A_i)$\n",
    "    \n",
    "    Esto nos dice que la probabilidad de eventos mutuamente excluyentes (si sucede uno no sucede el otro) es la suma de sus probabilidades individuales. Por ejemplo, si tiramos un dado de 6 caras, 1 sola vez, la probabilidad de que salga un 2 o un 4 es la suma de la probabilidad de que salga un 2 y la de que salga un 4, pues no pueden suceder estos eventos al mismo tiempo.\n",
    "    \n",
    "    Este axioma se extiende también para colecciones infinitas numerables.\n",
    "\n",
    "**Demostraciones**\n",
    "\n",
    "- $1 \\stackrel{Ax2}{=} P(S) = P(A \\cup A^c) \\stackrel{Ax3}{=} P(A) + P(A^c) \\implies P(A^c) = 1 - P(A)$\n",
    "\n",
    "- $B \\subset A \\implies A = (A \\setminus B) \\cup B$\n",
    "\n",
    "    $P(A) = P((A \\setminus B) \\cup B) \\stackrel{Ax3}{=} P(A \\setminus B) + P(B) \\implies P(A \\setminus B) = P(A) - P(B)$"
   ]
  },
  {
   "cell_type": "markdown",
   "id": "c453ded1-8b1e-4276-ae1a-cb0473ab65b7",
   "metadata": {},
   "source": [
    "### Ejercicio 2\n",
    "\n",
    "Dar la definición de una medida de probabilidad P. Demuestre a partir de la definición que $P(A \\cup B) = P(A) + P(B) - P(A \\cap B)$."
   ]
  },
  {
   "cell_type": "markdown",
   "id": "65cce301-ae81-4c52-82ec-9356b54e3ecc",
   "metadata": {},
   "source": [
    "$P(B) = P((B \\cap A) \\cup (B \\cap A^c)) \\stackrel{Ax3}{=} P(B \\cap A) + P(B \\cap A^c) \\implies P(B \\cap A^c) = P(B) - P(B \\cap A)$\n",
    "\n",
    "$P(A \\cup B) = P(A \\cup (B \\cap A^c)) \\stackrel{Ax3}{=} P(A) + P(B \\cap A^c) = P(A) + P(B) - P(B \\cap A)$"
   ]
  },
  {
   "cell_type": "markdown",
   "id": "ef2c7ac2-32b9-4dd1-a8df-adfde09f7af1",
   "metadata": {},
   "source": [
    "## Probabilidad condicional e independencia"
   ]
  },
  {
   "cell_type": "markdown",
   "id": "1e20fd64-e263-4138-bbf8-1a7c1fcc90b4",
   "metadata": {},
   "source": [
    "### Ejercicio 3\n",
    "\n",
    "En una muestra de 100 personas hay 13 enfermos no vacunados, 2 enfermos vacunados, 75 sanos vacunados, 10 sanos no vacunados. Elegimos una persona al azar y vemos que está enferma. ¿Cuál es la probabilidad que no se haya vacunado?"
   ]
  },
  {
   "cell_type": "markdown",
   "id": "b7b2fa01-cbb3-4dd5-8001-9db5020ba148",
   "metadata": {},
   "source": [
    "|          | Vacunados | No vacunados |     |\n",
    "|----------|-----------|--------------|-----|\n",
    "| Enfermos | 2         | 13           | 15  |\n",
    "| Sanos    | 75        | 10           | 85  |\n",
    "|          | 77        | 23           | 100 |\n",
    "\n",
    "Definimos los siguientes eventos:\n",
    "\n",
    "- $E$ = La persona está enferma\n",
    "- $E^c$ = La persona no está enferma\n",
    "- $V$ = La persona está vacunada\n",
    "- $V^c$ = La persona no está vacunada\n",
    "\n",
    "Nos piden calcular la probabilidad de que una persona no se haya vacunado sabiendo que está enferma. Esto lo calculamos mediante probabilidad condicional, y para las probabilidades puntuales de cada caso miramos la tabla y dividimos cantidad de personas en cada situación por la cantidad total de personas.\n",
    "\n",
    "$P(V^c|E) = \\frac{P(V^c \\cap E)}{P(E)} = \\frac{\\tfrac{13}{100}}{\\tfrac{15}{100}} = 0.8\\widehat{6}$"
   ]
  },
  {
   "cell_type": "markdown",
   "id": "e59b9d4b-7751-4428-95c0-d198bd018e55",
   "metadata": {},
   "source": [
    "### Ejercicio 4\n",
    "\n",
    "Una urna tiene 4 bolas negras y 3 rojas. Sacamos tres bolas sin reposición. ¿Cuál es la probabilidad que la primera bola salga negra y la tercera salga roja?"
   ]
  },
  {
   "cell_type": "markdown",
   "id": "db77f5fc-e8b1-41d1-acc8-b53839ade8a0",
   "metadata": {},
   "source": [
    "**Forma 1**\n",
    "\n",
    "Definimos los siguientes eventos:\n",
    "\n",
    "- $N_i$ = La bola extraída en la i-ésima extracción es negra\n",
    "- $R_i$ = La bola extraída en la i-ésima extracción es roja\n",
    "- $X_i$ = La bola extraída en la i-ésima extracción es negra o roja\n",
    "\n",
    "Vamos calculando la probabilidad de obtener la bola deseada en cada extracción.\n",
    "\n",
    "Primero vemos que $P(N_1) = \\tfrac{4}{7}$ pues en la primer extracción hay 4 bolas negras del total de 7.\n",
    "\n",
    "En la segunda extracción no nos importa qué bola sale, pero solo pueden pasar 2 cosas mutuamente excluyentes: sale una bola negra o sale una roja.\n",
    "\n",
    "$P(N_2 \\cap N_1) = P(N_2|N_1) P(N_1) = \\tfrac{3}{6} P(N_1)$ pues en la segunda extracción quedan 3 bolas negras en las 6 bolas restantes en la urna.\n",
    "\n",
    "$P(R_2 \\cap N_1) = P(R_2|N_1) P(N_1) = \\tfrac{3}{6} P(N_1)$ pues en la segunda extracción quedan aún las 3 bolas rojas en las 6 bolas restantes en la urna.\n",
    "\n",
    "Finalmente, en la tercer extracción queremos ver la probabilidad de extraer una bola roja. Tenemos que calcular esto a partir de cada uno de los 2 resultados posibles de la segunda extracción (salió una bola negra o salió una roja).\n",
    "\n",
    "$P(R_3 \\cap N_2 \\cap N_1) = P(R_3|N_2 \\cap N_1) P(N_2 \\cap N_1) = \\tfrac{3}{5} P(N_2 \\cap N_1)$ pues en la tercer extracción quedan aún las 3 bolas rojas en las 5 bolas restantes en la urna.\n",
    "\n",
    "$P(R_3 \\cap R_2 \\cap N_1) = P(R_3|R_2 \\cap N_1) P(R_2 \\cap N_1) = \\tfrac{2}{5} P(R_2 \\cap N_1)$ pues en la tercer extracción quedan 2 bolas rojas en las 5 bolas restantes en la urna.\n",
    "\n",
    "Entonces juntandos los 2 escenarios posibles calculamos la probabilidad pedida:\n",
    "\n",
    "$P(R_3 \\cap X_2 \\cap N_1) = P(R_3 \\cap N_2 \\cap N_1) + P(R_3 \\cap R_2 \\cap N_1) = \\tfrac{3}{5} * \\tfrac{3}{6} * \\tfrac{4}{7} + \\tfrac{2}{5} * \\tfrac{3}{6} * \\tfrac{4}{7} = \\tfrac{2}{7}$\n",
    "\n",
    "**Forma 2**\n",
    "\n",
    "Definimos el espacio muestral $S$ como el conjunto de todos los resultados posibles de extraer 3 bolas sin reposición.\n",
    "\n",
    "$\\#S = 7 * 6 * 5 = 210$\n",
    "\n",
    "Definimos el evento $A$ = la primer bola es negra y la tercera roja.\n",
    "\n",
    "$\\#A = 4 * 3 * 3 + 4 * 3 * 2 = 60$\n",
    "\n",
    "La lógica para calcular $\\#A$ es la misma que la forma 1, se divide en 2 casos (la segunda bola es negra o roja), y luego contamos la cantidad de bolas del color deseado en cada extracción.\n",
    "\n",
    "Finalmente, $P(A) = \\tfrac{\\#A}{\\#S} = \\tfrac{60}{210} = \\tfrac{2}{7}$"
   ]
  },
  {
   "cell_type": "markdown",
   "id": "0b064814-3e22-49b4-b543-793b1c840daa",
   "metadata": {},
   "source": [
    "### Ejercicio 5"
   ]
  },
  {
   "cell_type": "markdown",
   "id": "994b4317-8248-4312-b65a-ac6ed368e2fa",
   "metadata": {},
   "source": [
    "## Variables aleatorias"
   ]
  },
  {
   "cell_type": "markdown",
   "id": "ef5f5ea3-8010-4e1a-bf45-a7922e7ace83",
   "metadata": {},
   "source": [
    "### Ejercicio 6"
   ]
  },
  {
   "cell_type": "markdown",
   "id": "cb4ba04d-0f6e-4132-8154-6576de5f3410",
   "metadata": {},
   "source": [
    "## Vectores aleatorios"
   ]
  },
  {
   "cell_type": "markdown",
   "id": "fd0b38f2-2743-43c8-a3a6-b86d6acc4f59",
   "metadata": {},
   "source": [
    "### Ejercicio 7"
   ]
  },
  {
   "cell_type": "markdown",
   "id": "4ac31094-f873-4ada-bcff-ec3b6f33c486",
   "metadata": {},
   "source": [
    "### Ejercicio 8"
   ]
  },
  {
   "cell_type": "markdown",
   "id": "9ed744a3-64f4-4b26-bc3f-e0a2f6349aa5",
   "metadata": {},
   "source": [
    "## Esperanza"
   ]
  },
  {
   "cell_type": "markdown",
   "id": "b5bfd591-166b-4167-945f-f60cd3ac389b",
   "metadata": {},
   "source": [
    "### Ejercicio 9"
   ]
  },
  {
   "cell_type": "markdown",
   "id": "4cd14b61-c3d7-432d-bbc8-8808496b0471",
   "metadata": {},
   "source": [
    "### Ejercicio 10"
   ]
  },
  {
   "cell_type": "markdown",
   "id": "d105194d-5000-490e-8121-e90152b08354",
   "metadata": {},
   "source": [
    "## Esperanza condicional"
   ]
  },
  {
   "cell_type": "markdown",
   "id": "17b43aac-1da4-43d9-8d99-f1483972357a",
   "metadata": {},
   "source": [
    "### Ejercicio 11"
   ]
  },
  {
   "cell_type": "markdown",
   "id": "bed3095c-d3f5-4e65-b8d6-25cf23a18aaf",
   "metadata": {},
   "source": [
    "### Ejercicio 12"
   ]
  },
  {
   "cell_type": "markdown",
   "id": "962ff7ee-8988-4591-afae-bef557a39d9a",
   "metadata": {},
   "source": [
    "## Generación de variables aleatorias"
   ]
  },
  {
   "cell_type": "markdown",
   "id": "f45ba5ca-453c-4bcf-ac33-92b1261bbbc0",
   "metadata": {},
   "source": [
    "### Ejercicio 13"
   ]
  },
  {
   "cell_type": "markdown",
   "id": "acbaaaf8-d69a-4961-8ce9-941ed5e5180c",
   "metadata": {},
   "source": [
    "### Ejercicio 14"
   ]
  },
  {
   "cell_type": "markdown",
   "id": "867300f2-a796-4798-a973-2f8eed45fe1f",
   "metadata": {},
   "source": [
    "## Función característica"
   ]
  },
  {
   "cell_type": "markdown",
   "id": "52a2d9ed-55d9-4053-b19f-4aef9c56fb0f",
   "metadata": {},
   "source": [
    "### Ejercicio 15"
   ]
  },
  {
   "cell_type": "markdown",
   "id": "2b8718e9-da28-4c6c-8fcd-3d77df4a68b6",
   "metadata": {},
   "source": [
    "## Convergencia de variables aleatorias"
   ]
  },
  {
   "cell_type": "markdown",
   "id": "57db344f-3380-47e3-b48d-5e9b1900127a",
   "metadata": {},
   "source": [
    "### Ejercicio 16"
   ]
  },
  {
   "cell_type": "markdown",
   "id": "492a1869-1b1f-4a1e-b465-64953dc972ce",
   "metadata": {},
   "source": [
    "### Ejercicio 17"
   ]
  },
  {
   "cell_type": "markdown",
   "id": "09a72a44-d250-4f88-ac19-4964170697a5",
   "metadata": {},
   "source": [
    "### Ejercicio 18"
   ]
  },
  {
   "cell_type": "markdown",
   "id": "b545727b-fbd2-4411-9869-eaee7bce0f54",
   "metadata": {},
   "source": [
    "### Ejercicio 19"
   ]
  },
  {
   "cell_type": "markdown",
   "id": "f65a2c3e-8681-4a90-a647-b8bc96a3da3d",
   "metadata": {},
   "source": [
    "### Ejercicio 20"
   ]
  },
  {
   "cell_type": "markdown",
   "id": "7da85940-c319-4456-8e00-acbdbcfab7f2",
   "metadata": {},
   "source": [
    "## Procesos de Poisson"
   ]
  },
  {
   "cell_type": "markdown",
   "id": "06928bd0-0596-4b17-89b7-f9659509dbef",
   "metadata": {},
   "source": [
    "### Ejercicio 21"
   ]
  },
  {
   "cell_type": "markdown",
   "id": "ff46016d-f93b-498b-a9af-fbfaaa8226d2",
   "metadata": {},
   "source": [
    "### Ejercicio 22"
   ]
  },
  {
   "cell_type": "markdown",
   "id": "fd44a609-5d8e-414a-bf62-dfbb5d696abe",
   "metadata": {},
   "source": [
    "### Ejercicio 23"
   ]
  },
  {
   "cell_type": "markdown",
   "id": "c9bec774-90ab-4ee5-8fe2-d9092409c045",
   "metadata": {},
   "source": [
    "## Estimadores"
   ]
  },
  {
   "cell_type": "markdown",
   "id": "6a67647a-4d72-4755-85f0-924bd2cd9a23",
   "metadata": {},
   "source": [
    "### Ejercicio 24"
   ]
  },
  {
   "cell_type": "markdown",
   "id": "f7493e04-0d35-46da-a4ce-3d6b46154aef",
   "metadata": {},
   "source": [
    "### Ejercicio 25"
   ]
  },
  {
   "cell_type": "markdown",
   "id": "4e9e8882-49bd-4979-9156-cf1a7e15aedc",
   "metadata": {},
   "source": [
    "### Ejercicio 26"
   ]
  },
  {
   "cell_type": "markdown",
   "id": "c5620d7f-c35d-44b3-88b2-eec0068f7054",
   "metadata": {},
   "source": [
    "### Ejercicio 27"
   ]
  },
  {
   "cell_type": "markdown",
   "id": "c5ede6e0-f0d2-4120-8e89-11f307615a7c",
   "metadata": {},
   "source": [
    "### Ejercicio 28"
   ]
  },
  {
   "cell_type": "markdown",
   "id": "fc1ad7c9-2cd0-484b-8ae7-7d11f8a871a2",
   "metadata": {},
   "source": [
    "### Ejercicio 29"
   ]
  },
  {
   "cell_type": "markdown",
   "id": "8ae52720-260e-425b-8414-3c60b7fc8a72",
   "metadata": {},
   "source": [
    "## Intervalos de confianza"
   ]
  },
  {
   "cell_type": "markdown",
   "id": "0920d5f8-81e9-4d28-a1f6-64e53ffcd1fa",
   "metadata": {},
   "source": [
    "### Ejercicio 30"
   ]
  },
  {
   "cell_type": "markdown",
   "id": "ddc6293e-20b5-4083-aa01-745694598aab",
   "metadata": {},
   "source": [
    "### Ejercicio 31"
   ]
  },
  {
   "cell_type": "markdown",
   "id": "6a61bd15-51b6-4dda-ae73-278070c1f849",
   "metadata": {},
   "source": [
    "### Ejercicio 32"
   ]
  },
  {
   "cell_type": "markdown",
   "id": "37bdefe7-a357-4946-9afb-19c59b3c43c4",
   "metadata": {},
   "source": [
    "## Test de hipótesis"
   ]
  },
  {
   "cell_type": "markdown",
   "id": "753c5479-0f80-454e-bcf1-af5d1bc1eff0",
   "metadata": {},
   "source": [
    "### Ejercicio 33"
   ]
  },
  {
   "cell_type": "markdown",
   "id": "2236c100-a201-4e4d-8e65-416d723a8364",
   "metadata": {},
   "source": [
    "### Ejercicio 34"
   ]
  },
  {
   "cell_type": "markdown",
   "id": "4bcad65d-06d4-475d-9cc6-05a191a54254",
   "metadata": {},
   "source": [
    "### Ejercicio 35"
   ]
  }
 ],
 "metadata": {
  "kernelspec": {
   "display_name": "R",
   "language": "R",
   "name": "ir"
  },
  "language_info": {
   "codemirror_mode": "r",
   "file_extension": ".r",
   "mimetype": "text/x-r-source",
   "name": "R",
   "pygments_lexer": "r",
   "version": "4.1.0"
  }
 },
 "nbformat": 4,
 "nbformat_minor": 5
}
