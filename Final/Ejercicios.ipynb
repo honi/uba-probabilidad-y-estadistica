{
 "cells": [
  {
   "cell_type": "markdown",
   "id": "4a948644-cc9b-4a81-8dcf-f64df7989047",
   "metadata": {},
   "source": [
    "# Ejercicios de final\n",
    "\n",
    "Para las fechas de final de Diciembre 2021 el profesor Nicolas Saintier publicó listas de ejercicios a ser evaluados en cada fecha de examen. A continuación se resuelven los [35 ejercicios](http://cms.dm.uba.ar/academico/materias/2docuat2021/probabilidades_y_estadistica_C/lista_ejercicios_final%20Diciembre%201era%20fecha.pdf) para la 1er fecha de Diciembre."
   ]
  },
  {
   "cell_type": "markdown",
   "id": "0ace861f-799f-47d0-9074-e9d5df4eb2c3",
   "metadata": {},
   "source": [
    "## Probabilidad: definición y enunciados"
   ]
  },
  {
   "cell_type": "markdown",
   "id": "b4d6b267-506b-4ff2-9a0b-326c3f94a40c",
   "metadata": {
    "jp-MarkdownHeadingCollapsed": true,
    "tags": []
   },
   "source": [
    "### Ejercicio 1\n",
    "\n",
    "Dar la definición de una medida de probabilidad P. Demuestre a partir de la definición que $P(A^c) = 1 - P(A)$ y que si $B \\subset A$ entonces $P(A \\setminus B) = P(A) - P(B)$."
   ]
  },
  {
   "cell_type": "markdown",
   "id": "4c9cb088-138d-457a-9992-4d9b1708dd07",
   "metadata": {},
   "source": [
    "**Definiciones previas**\n",
    "\n",
    "- Dado un experimento aleatorio (cualquier proceso o acción repetible que genera una observación), llamamos **espacio muestral** al conjunto de todos los resultados posibles. Lo notamos $S$ y éste puede ser finito o infinito numerable.\n",
    "- Cualquier subconjunto del espacio muestral $S$ lo llamamos **evento** o suceso.\n",
    "\n",
    "**Definición de una medida de probabilidad**\n",
    "\n",
    "Dado un espacio muestral $S$ y un evento $A$, llamamos $P(A)$ a la probabilidad de que suceda el evento $A$. Esta medida debe satisfacer los siguientes axiomas:\n",
    "\n",
    "- Axioma 1\n",
    "\n",
    "    $P(A) \\geq 0$ para todo evento $A \\subset S$\n",
    "    \n",
    "    La medida de probabilidad no puede ser negativa.\n",
    "\n",
    "- Axioma 2\n",
    "\n",
    "    $P(S) = 1$\n",
    "    \n",
    "    Como $S$ es el conjunto de todos los resultados posibles, su probabilidad es 1 (el máximo posible en nuestra definición). Si no fuese 1 entonces estaría mal definido el espacio muestral, pues habría resultados posibles de nuestro experimento que no fueron incluídos en la definición de $S$.\n",
    "\n",
    "- Axioma 3\n",
    "    \n",
    "    Sean $A_1, \\dots, A_n$ una coleción finita de eventos mutuamente excluyentes.\n",
    "    \n",
    "    Es decir, $A_i \\cap A_j = \\emptyset \\; \\forall i \\neq j$\n",
    "    \n",
    "    Entonces: $P(\\bigcup_{i=1}^n A_i) = \\sum_{i=1}^n P(A_i)$\n",
    "    \n",
    "    Esto nos dice que la probabilidad de eventos mutuamente excluyentes (si sucede uno no sucede el otro) es la suma de sus probabilidades individuales. Por ejemplo, si tiramos un dado de 6 caras, 1 sola vez, la probabilidad de que salga un 2 o un 4 es la suma de la probabilidad de que salga un 2 y la de que salga un 4, pues no pueden suceder estos eventos al mismo tiempo.\n",
    "    \n",
    "    Este axioma se extiende también para colecciones infinitas numerables.\n",
    "\n",
    "**Demostraciones**\n",
    "\n",
    "- $1 \\stackrel{Ax2}{=} P(S) = P(A \\cup A^c) \\stackrel{Ax3}{=} P(A) + P(A^c) \\implies P(A^c) = 1 - P(A)$\n",
    "\n",
    "- $B \\subset A \\implies A = (A \\setminus B) \\cup B$\n",
    "\n",
    "    $P(A) = P((A \\setminus B) \\cup B) \\stackrel{Ax3}{=} P(A \\setminus B) + P(B) \\implies P(A \\setminus B) = P(A) - P(B)$"
   ]
  },
  {
   "cell_type": "markdown",
   "id": "c453ded1-8b1e-4276-ae1a-cb0473ab65b7",
   "metadata": {
    "jp-MarkdownHeadingCollapsed": true,
    "tags": []
   },
   "source": [
    "### Ejercicio 2\n",
    "\n",
    "Dar la definición de una medida de probabilidad P. Demuestre a partir de la definición que $P(A \\cup B) = P(A) + P(B) - P(A \\cap B)$."
   ]
  },
  {
   "cell_type": "markdown",
   "id": "65cce301-ae81-4c52-82ec-9356b54e3ecc",
   "metadata": {},
   "source": [
    "$P(B) = P((B \\cap A) \\cup (B \\cap A^c)) \\stackrel{Ax3}{=} P(B \\cap A) + P(B \\cap A^c) \\implies P(B \\cap A^c) = P(B) - P(B \\cap A)$\n",
    "\n",
    "$P(A \\cup B) = P(A \\cup (B \\cap A^c)) \\stackrel{Ax3}{=} P(A) + P(B \\cap A^c) = P(A) + P(B) - P(B \\cap A)$"
   ]
  },
  {
   "cell_type": "markdown",
   "id": "ef2c7ac2-32b9-4dd1-a8df-adfde09f7af1",
   "metadata": {},
   "source": [
    "## Probabilidad condicional e independencia"
   ]
  },
  {
   "cell_type": "markdown",
   "id": "1e20fd64-e263-4138-bbf8-1a7c1fcc90b4",
   "metadata": {
    "jp-MarkdownHeadingCollapsed": true,
    "tags": []
   },
   "source": [
    "### Ejercicio 3\n",
    "\n",
    "En una muestra de 100 personas hay 13 enfermos no vacunados, 2 enfermos vacunados, 75 sanos vacunados, 10 sanos no vacunados. Elegimos una persona al azar y vemos que está enferma. ¿Cuál es la probabilidad que no se haya vacunado?"
   ]
  },
  {
   "cell_type": "markdown",
   "id": "b7b2fa01-cbb3-4dd5-8001-9db5020ba148",
   "metadata": {},
   "source": [
    "|          | Vacunados | No vacunados |     |\n",
    "|----------|-----------|--------------|-----|\n",
    "| Enfermos | 2         | 13           | 15  |\n",
    "| Sanos    | 75        | 10           | 85  |\n",
    "|          | 77        | 23           | 100 |\n",
    "\n",
    "Definimos los siguientes eventos:\n",
    "\n",
    "- $E$ = La persona está enferma\n",
    "- $E^c$ = La persona no está enferma\n",
    "- $V$ = La persona está vacunada\n",
    "- $V^c$ = La persona no está vacunada\n",
    "\n",
    "Nos piden calcular la probabilidad de que una persona no se haya vacunado sabiendo que está enferma. Esto lo calculamos mediante probabilidad condicional, y para las probabilidades puntuales de cada caso miramos la tabla y dividimos cantidad de personas en cada situación por la cantidad total de personas.\n",
    "\n",
    "$P(V^c|E) = \\frac{P(V^c \\cap E)}{P(E)} = \\frac{\\tfrac{13}{100}}{\\tfrac{15}{100}} = 0.8\\widehat{6}$"
   ]
  },
  {
   "cell_type": "markdown",
   "id": "e59b9d4b-7751-4428-95c0-d198bd018e55",
   "metadata": {
    "jp-MarkdownHeadingCollapsed": true,
    "tags": []
   },
   "source": [
    "### Ejercicio 4\n",
    "\n",
    "Una urna tiene 4 bolas negras y 3 rojas. Sacamos tres bolas sin reposición. ¿Cuál es la probabilidad que la primera bola salga negra y la tercera salga roja?"
   ]
  },
  {
   "cell_type": "markdown",
   "id": "db77f5fc-e8b1-41d1-acc8-b53839ade8a0",
   "metadata": {},
   "source": [
    "**Forma 1**\n",
    "\n",
    "Definimos los siguientes eventos:\n",
    "\n",
    "- $N_i$ = La bola extraída en la i-ésima extracción es negra\n",
    "- $R_i$ = La bola extraída en la i-ésima extracción es roja\n",
    "- $X_i$ = La bola extraída en la i-ésima extracción es negra o roja\n",
    "\n",
    "Vamos calculando la probabilidad de obtener la bola deseada en cada extracción.\n",
    "\n",
    "Primero vemos que $P(N_1) = \\tfrac{4}{7}$ pues en la primer extracción hay 4 bolas negras del total de 7.\n",
    "\n",
    "En la segunda extracción no nos importa qué bola sale, pero solo pueden pasar 2 cosas mutuamente excluyentes: sale una bola negra o sale una roja.\n",
    "\n",
    "$P(N_2 \\cap N_1) = P(N_2|N_1) P(N_1) = \\tfrac{3}{6} P(N_1)$ pues en la segunda extracción quedan 3 bolas negras en las 6 bolas restantes en la urna.\n",
    "\n",
    "$P(R_2 \\cap N_1) = P(R_2|N_1) P(N_1) = \\tfrac{3}{6} P(N_1)$ pues en la segunda extracción quedan aún las 3 bolas rojas en las 6 bolas restantes en la urna.\n",
    "\n",
    "Finalmente, en la tercer extracción queremos ver la probabilidad de extraer una bola roja. Tenemos que calcular esto a partir de cada uno de los 2 resultados posibles de la segunda extracción (salió una bola negra o salió una roja).\n",
    "\n",
    "$P(R_3 \\cap N_2 \\cap N_1) = P(R_3|N_2 \\cap N_1) P(N_2 \\cap N_1) = \\tfrac{3}{5} P(N_2 \\cap N_1)$ pues en la tercer extracción quedan aún las 3 bolas rojas en las 5 bolas restantes en la urna.\n",
    "\n",
    "$P(R_3 \\cap R_2 \\cap N_1) = P(R_3|R_2 \\cap N_1) P(R_2 \\cap N_1) = \\tfrac{2}{5} P(R_2 \\cap N_1)$ pues en la tercer extracción quedan 2 bolas rojas en las 5 bolas restantes en la urna.\n",
    "\n",
    "Entonces juntandos los 2 escenarios posibles calculamos la probabilidad pedida:\n",
    "\n",
    "$P(R_3 \\cap X_2 \\cap N_1) = P(R_3 \\cap N_2 \\cap N_1) + P(R_3 \\cap R_2 \\cap N_1) = \\tfrac{3}{5} * \\tfrac{3}{6} * \\tfrac{4}{7} + \\tfrac{2}{5} * \\tfrac{3}{6} * \\tfrac{4}{7} = \\tfrac{2}{7}$\n",
    "\n",
    "**Forma 2**\n",
    "\n",
    "Definimos el espacio muestral $S$ como el conjunto de todos los resultados posibles de extraer 3 bolas sin reposición.\n",
    "\n",
    "$\\#S = 7 * 6 * 5 = 210$\n",
    "\n",
    "Definimos el evento $A$ = la primer bola es negra y la tercera roja.\n",
    "\n",
    "$\\#A = 4 * 3 * 3 + 4 * 3 * 2 = 60$\n",
    "\n",
    "La lógica para calcular $\\#A$ es la misma que la forma 1, se divide en 2 casos (la segunda bola es negra o roja), y luego contamos la cantidad de bolas del color deseado en cada extracción.\n",
    "\n",
    "Finalmente, $P(A) = \\tfrac{\\#A}{\\#S} = \\tfrac{60}{210} = \\tfrac{2}{7}$"
   ]
  },
  {
   "cell_type": "markdown",
   "id": "0b064814-3e22-49b4-b543-793b1c840daa",
   "metadata": {
    "jp-MarkdownHeadingCollapsed": true,
    "tags": []
   },
   "source": [
    "### Ejercicio 5\n",
    "\n",
    "Enuncie y demuestre la fórmula de la probabilidad total y el Teorema de Bayes."
   ]
  },
  {
   "cell_type": "markdown",
   "id": "b64d2250-0af6-4a14-94f5-2c6faf8b90ce",
   "metadata": {},
   "source": [
    "**Definiciones previas**\n",
    "\n",
    "- Sean $A$ y $B$ eventos cualesquiera del espacio muestral $S$ tal que $P(B) > 0$. La probabilidad del evento A **condicional** a la ocurrencia del evento B es:\n",
    "\n",
    "    $P(A|B) = \\frac{P(A \\cap B)}{P(B)}$\n",
    "    \n",
    "    Una propiedad muy útil es la regla del producto: $P(A \\cap B) = P(A|B)P(B)$\n",
    "    \n",
    "    Si además $P(A) > 0 \\implies P(A \\cap B) = P(B|A)P(A)$\n",
    "\n",
    "- Una colección de eventos $A_1, \\dots, A_n$ constituye una **partición** del espacio muestral $S$ si se cumplen las siguientes condiciones:\n",
    "\n",
    "    - $A_i \\cap A_j = \\emptyset \\; \\forall i \\neq j$\n",
    "\n",
    "        Todos los eventos son disjuntos entre sí.\n",
    "\n",
    "    - $P(A_i) > 0 \\; \\forall i$\n",
    "    \n",
    "        Todos los eventos tienen probabilidad positiva.\n",
    "\n",
    "    - $\\bigcup_{i=1}^n A_i = S$\n",
    "\n",
    "        Esto nos dice que al unir toda la colección de eventos $A_1, \\dots, A_n$ obtenemos el espacio muestral $S$ en su totalidad."
   ]
  },
  {
   "cell_type": "markdown",
   "id": "7e487fb4-4328-401f-b56c-46aefa834b74",
   "metadata": {},
   "source": [
    "**Probabilidad total**\n",
    "\n",
    "Sea $A_1, \\dots, A_n$ una partición del espacio muestral $S$ y sea $B$ un evento cualquiera. Entonces:\n",
    "\n",
    "$P(B) = \\sum_{i=1}^n P(B|A_i)P(A_i)$\n",
    "\n",
    "Demostración:\n",
    "\n",
    "$B = B \\cap S = B \\cap \\big( \\bigcup_{i=1}^n A_i \\big) = \\bigcup_{i=1}^n (B \\cap A_i)$\n",
    "\n",
    "Usando que $(B \\cap A_i) \\cap (B \\cap A_j) = \\emptyset \\; \\forall i \\neq j$ y la regla del producto de la probabilidad condicional:\n",
    "\n",
    "$P(B) = P \\big( \\bigcup_{i=1}^n (B \\cap A_i) \\big) = \\sum_{i=1}^n P(B \\cap A_i) = \\sum_{i=1}^n P(B|A_i)P(A_i)$"
   ]
  },
  {
   "cell_type": "markdown",
   "id": "4a2bce96-c8c3-4825-9237-4a82693ab5e4",
   "metadata": {},
   "source": [
    "**Teorema de Bayes**\n",
    "\n",
    "Sea $A_1, \\dots, A_n$ una partición del espacio muestral $S$ y sea $B$ un evento cualquiera tal que $P(B) > 0$. Entonces:\n",
    "\n",
    "$P(A_j|B) = \\frac{P(B|A_j)P(A_j)}{\\sum_{i=1}^n P(B|A_i)P(A_i)}$\n",
    "\n",
    "Demostración:\n",
    "\n",
    "$P(A_j|B) = \\frac{P(A_j \\cap B)}{P(B)} = \\frac{P(B|A_j)P(A_j)}{\\sum_{i=1}^n P(B|A_i)P(A_i)}$\n",
    "\n",
    "En el numerador se usó la regla del producto de la probabilidad condicional, y en el denominador se usó el teorema de la probabilidad total."
   ]
  },
  {
   "cell_type": "markdown",
   "id": "994b4317-8248-4312-b65a-ac6ed368e2fa",
   "metadata": {},
   "source": [
    "## Variables aleatorias"
   ]
  },
  {
   "cell_type": "markdown",
   "id": "ef5f5ea3-8010-4e1a-bf45-a7922e7ace83",
   "metadata": {
    "jp-MarkdownHeadingCollapsed": true,
    "tags": []
   },
   "source": [
    "### Ejercicio 6\n",
    "\n",
    "Sea $U$ una variable uniforme en $[0, 1]$. Para $u \\in [0, 1]$ defina $h(u) = \\text{max}\\{u, 1 - u\\}$. Calcule la función de densidad de $X = h(U)$, su distribución acumulada, esperanza y varianza."
   ]
  },
  {
   "cell_type": "markdown",
   "id": "1d7ae25f-17d7-402d-8a79-1ea8c8a49431",
   "metadata": {},
   "source": [
    "$U \\sim \\mathcal{U}[0,1]$\n",
    "\n",
    "$f_U(u) = \\tfrac{1}{1-0} I_{[0,1]}(u) = I_{[0,1]}(u)$\n",
    "\n",
    "$F_U(u) = \\tfrac{u-0}{1-0} I_{[0,1]}(u) = u I_{[0,1]}(u)$\n",
    "\n",
    "$X = h(U) = \\text{max}\\{U, 1-U\\}$\n",
    "\n",
    "\\begin{align*}\n",
    "F_X(x) = P(X \\leq x) = P(\\text{max}\\{U, 1 - U\\} \\leq x)\n",
    "\\end{align*}\n",
    "\n",
    "Observemos que $\\text{max}\\{U, 1-U\\} \\leq x \\iff u \\leq x \\; \\forall u \\in \\text{max}\\{U, 1-U\\}$\n",
    "\n",
    "Es decir, si el máximo de un conjunto es menor que x, entonces todos los elementos del conjunto son menores que x.\n",
    "\n",
    "\\begin{align*}\n",
    "F_X(x) = P\\big((U \\leq x) \\cap (1-U \\leq x)\\big) = P\\big((U \\leq x) \\cap (U \\geq 1-x)\\big) = P(1-x \\leq U \\leq x)\n",
    "\\end{align*}\n",
    "\n",
    "Busquemos el nuevo intervalo de la distribución acumulada $F_X$:\n",
    "\n",
    "$1-x \\leq U \\leq x \\implies 1-x \\leq x \\iff 0.5 \\leq x \\implies \\forall x < 0.5; F_X(x) = 0$\n",
    "\n",
    "Como $U$ es una uniforme estándar, $0 \\leq U \\leq 1 \\implies 0 \\leq 1-x \\land x \\leq 1 \\iff x \\leq 1 \\implies \\forall x > 1; F_X(x) = 1$\n",
    "\n",
    "Por lo tanto, solo consideramos los $x \\in [0.5, 1]$, y notemos que éste intervalo está incluído en el de la uniforme estándar.\n",
    "\n",
    "\\begin{align*}\n",
    "F_X(x) = F_U(x) - F_U(1-x) = x - (1-x) = (2x - 1) I_{[0.5,1]}(x)\n",
    "\\end{align*}\n",
    "\n",
    "Ahora derivamos para obtener la función de densidad:\n",
    "\n",
    "\\begin{align*}\n",
    "\\tfrac{\\partial}{\\partial x} F_X(x) = f_X(x) = 2 I_{[0.5,1]}(x)\n",
    "\\end{align*}\n",
    "\n",
    "Por lo tanto podemos concluir que $X \\sim \\mathcal{U}[0.5,1]$\n",
    "\n",
    "**Esperanza**\n",
    "\n",
    "Utilizando la fórmula para la esperanza de una uniforme:\n",
    "\n",
    "$E(X) = \\tfrac{0.5 + 1}{2} = \\tfrac{3}{4}$\n",
    "\n",
    "Por definición:\n",
    "\n",
    "\\begin{align*}\n",
    "E(X)\n",
    "&= E(h(U)) \\\\\n",
    "&= \\int_0^1 h(u) f_U(u) du \\\\\n",
    "&= \\big( \\int_0^{0.5} 1-u du \\big) + \\big( \\int_{0.5}^1 u du \\big) \\\\\n",
    "&= \\big[ u - \\tfrac{u^2}{2} \\big]_0^{0.5} + \\big[ \\tfrac{u^2}{2} \\big]_{0.5}^1 \\\\\n",
    "&= \\big( 0.5 - \\tfrac{0.5^2}{2} \\big) + \\big( \\tfrac{1^2}{2} - \\tfrac{0.5^2}{2} \\big) \\\\\n",
    "&= \\tfrac{3}{4}\n",
    "\\end{align*}\n",
    "\n",
    "**Varianza**\n",
    "\n",
    "Utilizando la fórmula para la varianza de una uniforme:\n",
    "\n",
    "$V(X) = \\tfrac{(1 - 0.5)^2}{12} = \\tfrac{1}{48}$\n",
    "\n",
    "Por definición:\n",
    "\n",
    "\\begin{align*}\n",
    "E(X^2)\n",
    "&= E(h(U)^2) \\\\\n",
    "&= \\int_0^1 h(u)^2 f_U(u) du \\\\\n",
    "&= \\big( \\int_0^{0.5} (1-u)^2 du \\big) + \\big( \\int_{0.5}^1 u^2 du \\big) \\\\\n",
    "&= \\big( \\int_0^{0.5} 1 - 2u + u^2 du \\big) + \\big( \\int_{0.5}^1 u^2 du \\big) \\\\\n",
    "&= \\big[ u - u^2 + \\tfrac{u^3}{3} \\big]_0^{0.5} + \\big[ \\tfrac{u^3}{3} \\big]_{0.5}^1 \\\\\n",
    "&= \\big( 0.5 - 0.5^2 + \\tfrac{0.5^3}{3} \\big) + \\big( \\tfrac{1^3}{3} - \\tfrac{0.5^3}{3} \\big) \\\\\n",
    "&= \\tfrac{7}{12}\n",
    "\\end{align*}\n",
    "\n",
    "$V(X) = E(X^2) - E(X)^2 = \\tfrac{7}{12} - \\big( \\tfrac{3}{4} \\big)^2 = \\tfrac{1}{48}$"
   ]
  },
  {
   "cell_type": "markdown",
   "id": "cb4ba04d-0f6e-4132-8154-6576de5f3410",
   "metadata": {},
   "source": [
    "## Vectores aleatorios"
   ]
  },
  {
   "cell_type": "markdown",
   "id": "fd0b38f2-2743-43c8-a3a6-b86d6acc4f59",
   "metadata": {
    "jp-MarkdownHeadingCollapsed": true,
    "tags": []
   },
   "source": [
    "### Ejercicio 7\n",
    "\n",
    "Alicia y José acordaron encontrarse a las 8 de la noche para ir al cine. Como no son puntuales, se puede suponer que los tiempos X e Y en que cada uno de ellos llega son variables aleatorias con distribución uniforme entre las 8 y las 9. Además se supondrá que estos tiempos son independientes. Si ambos están dispuestos a esperar no más de 10 minutos al otro a partir del instante en que llegan, ¿cuál es la probabilidad de que se desencuentren?"
   ]
  },
  {
   "cell_type": "markdown",
   "id": "479db6ee-28a3-4c02-bfc0-a57f3ee5c669",
   "metadata": {},
   "source": [
    "Como $X$ e $Y$ son independientes $\\implies f_{XY}(x,y) = f_X(x) f_Y(y) = I_{[8,9]}(x) I_{[8,9]}(y)$\n",
    "\n",
    "Observación: 10 minutos = $\\tfrac{1}{6}$ de hora\n",
    "\n",
    "$P(|X-Y| \\leq \\tfrac{1}{6})$ es la probabilidad de encuentro\n",
    "\n",
    "$P(|X-Y| > \\tfrac{1}{6})$ es la probabilidad de **desencuentro**, lo que nos piden calcular\n",
    "\n",
    "Necesitamos tomar el valor absoluto de la resta para manejar el caso de que Alicia llegue antes que José y viceversa. No obstante, como $X$ e $Y$ son uniformes en el mismo intervalo, las 2 regiones que se forman son simétricas y por lo tanto podemos calcular la probabilidad de 1 caso y luego multiplicar por 2.\n",
    "\n",
    "Veamos primero cómo son las regiones de probabilidad de desencuentro ([ver en GeoGebra](https://www.geogebra.org/m/vrv4aaxv)).\n",
    "\n",
    "Supongamos $X \\geq Y$ (el caso del triángulo inferior):\n",
    "\n",
    "$|X-Y| > \\tfrac{1}{6} \\iff X > Y + \\tfrac{1}{6}$\n",
    "\n",
    "Como despejamos $X$ en función de $Y$, necesitamos ajustar el intervalo de integración de $Y$ para integrar correctamente dentro del intervalo de la distribución. Recordemos que ambas variables tienen distribución $U[8, 9]$, por lo tanto si $X$ tiene como límite inferior de integración $X > Y + \\tfrac{1}{6}$, necesitamos evitar que $X > 9 \\iff Y + \\tfrac{1}{6} = 9 \\iff Y = \\tfrac{53}{6}$.\n",
    "\n",
    "$P(X > Y + \\tfrac{1}{6}) = \\int_8^{\\tfrac{53}{6}} \\int_{y+\\tfrac{1}{6}}^9 f_{XY}(x, y) dx dy = \\tfrac{25}{72}$\n",
    "\n",
    "Recordemos que este era solo uno de los casos posibles, así que debemos multiplicar por 2 para encontrar la probabilidad pedida.\n",
    "\n",
    "$P(|X-Y| > \\tfrac{1}{6}) = 2 P(X > Y + \\tfrac{1}{6}) = \\tfrac{25}{36}$"
   ]
  },
  {
   "cell_type": "markdown",
   "id": "4ac31094-f873-4ada-bcff-ec3b6f33c486",
   "metadata": {
    "jp-MarkdownHeadingCollapsed": true,
    "tags": []
   },
   "source": [
    "### Ejercicio 8\n",
    "\n",
    "En un día una gallina pone $N$ huevos donde $N \\sim \\mathcal{P}(\\lambda)$. Independientemente de la cantidad de huevos puestos, de un huevo cualquiera nace un pollito con probabilidad $p$. Hallar la distribución de la cantidad de pollitos nacidos."
   ]
  },
  {
   "cell_type": "markdown",
   "id": "dfa7eb1d-24b5-451d-8d5f-04f8ae278e43",
   "metadata": {},
   "source": [
    "$X$ = Cantidad de pollitos nacidos\n",
    "\n",
    "Observemos que $(X|N=n) \\sim Bi(n, p)$, es decir, la cantidad de pollitos que nacen condicionado a la cantidad de huevos puestos tiene una distribución Binomial.\n",
    "\n",
    "El espacio muestral de $N$ es infinito numerable (la cantidad de huevos puestos puede ser en teoría infinito pero se puede contar con los números $\\mathbb{N}_0$). El conjunto de todos los valores de $n \\geq 0$ genera una partición del espacio muestral, ya que la cantidad de huevos puestos son todos eventos disjuntos. Por lo tanto, para encontrar la distribución de $X$ podemos usar el teorema de probabilidad total con una suma infinita.\n",
    "\n",
    "\\begin{align*}\n",
    "P(X=k) = \\sum_{n=0}^{\\infty} P(X=k|N=n)P(N=n) = \\sum_{n=0}^{\\infty} {n \\choose k} p^k (1-p)^{n-k} \\frac{e^{-\\lambda} \\lambda^n}{n!}\n",
    "\\end{align*}\n",
    "\n",
    "Arrancamos la sumatoria desde $k$ pues los términos anteriores son todos 0 por el combinatorio $n \\choose k$\n",
    "\n",
    "\n",
    "\\begin{align*}\n",
    "= \\sum_{n=k}^{\\infty} {n \\choose k} p^k (1-p)^{n-k} \\frac{e^{-\\lambda} \\lambda^n}{n!}\n",
    "\\end{align*}\n",
    "\n",
    "Aplicamos la fórmula del número combinatorio\n",
    "\n",
    "\\begin{align*}\n",
    "= \\sum_{n=k}^{\\infty} \\frac{n!}{k!(n-k)!} p^k (1-p)^{n-k} \\frac{e^{-\\lambda} \\lambda^n}{n!}\n",
    "\\end{align*}\n",
    "\n",
    "\n",
    "Simplificamos los $n!$\n",
    "\n",
    "\\begin{align*}\n",
    "= \\sum_{n=k}^{\\infty} \\frac{p^k (1-p)^{n-k} e^{-\\lambda} \\lambda^n}{k!(n-k)!}\n",
    "\\end{align*}\n",
    "\n",
    "Hacemos aparecer un $n-k$ en la potencia de $\\lambda$\n",
    "\n",
    "\\begin{align*}\n",
    "= \\sum_{n=k}^{\\infty} \\frac{p^k (1-p)^{n-k} e^{-\\lambda} \\lambda^{n-k+k}}{k!(n-k)!}\n",
    "\\end{align*}\n",
    "\n",
    "Sacamos afuera de la sumatoria todo lo que no depende de $n$\n",
    "\n",
    "\\begin{align*}\n",
    "= \\frac{p^k e^{-\\lambda} \\lambda^k}{k!} \\sum_{n=k}^{\\infty} \\frac{(1-p)^{n-k} \\lambda^{n-k}}{(n-k)!}\n",
    "\\end{align*}\n",
    "\n",
    "Juntamos el numerador de la sumatoria bajo una única potencia\n",
    "\n",
    "\\begin{align*}\n",
    "= \\frac{p^k e^{-\\lambda} \\lambda^k}{k!} \\sum_{n=k}^{\\infty} \\frac{((1-p) \\lambda)^{n-k}}{(n-k)!}\n",
    "\\end{align*}\n",
    "\n",
    "Ajustamos el rango de la sumatoria para que arranque en 0, en efecto le sumamos $k$ a todos los $n$ para compensar, y así se terminan cancelando con todos los $k$ que estaban restando\n",
    "\n",
    "\\begin{align*}\n",
    "= \\frac{p^k e^{-\\lambda} \\lambda^k}{k!} \\sum_{n=0}^{\\infty} \\frac{((1-p) \\lambda)^n}{n!}\n",
    "\\end{align*}\n",
    "\n",
    "Utilizamos esta propiedad del número exponencial: $\\sum_{n=0}^{\\infty} \\frac{x^n}{n!} = e^x$\n",
    "\n",
    "\\begin{align*}\n",
    "= \\frac{p^k e^{-\\lambda} \\lambda^k}{k!} e^{(1-p) \\lambda}\n",
    "\\end{align*}\n",
    "\n",
    "Agrupamos las potencias y encontramos la distribución\n",
    "\n",
    "\\begin{align*}\n",
    "= \\frac{e^{-\\lambda + (1-p) \\lambda} (\\lambda p)^k}{k!}\n",
    "= \\frac{e^{-\\lambda p} (\\lambda p)^k}{k!} \\implies X \\sim \\mathcal{P}(\\lambda p)\n",
    "\\end{align*}"
   ]
  },
  {
   "cell_type": "markdown",
   "id": "9ed744a3-64f4-4b26-bc3f-e0a2f6349aa5",
   "metadata": {},
   "source": [
    "## Esperanza"
   ]
  },
  {
   "cell_type": "markdown",
   "id": "b5bfd591-166b-4167-945f-f60cd3ac389b",
   "metadata": {
    "jp-MarkdownHeadingCollapsed": true,
    "tags": []
   },
   "source": [
    "### Ejercicio 9\n",
    "\n",
    "Calcule la esperanza de una variable Binomial de parámetros $n$ y $p$."
   ]
  },
  {
   "cell_type": "markdown",
   "id": "156f37cd-392d-414d-a5fe-34fc66e4a1a6",
   "metadata": {},
   "source": [
    "Sea $X \\sim Bi(n,p)$\n",
    "\n",
    "Por tener distribución Binomial, su función de densidad puntual está dada por: $p_X(k) = {n \\choose k} p^k (1-p)^{n-k} \\; \\forall k \\in \\mathbb{N_0}$\n",
    "\n",
    "Sea $R_X = \\{0, \\dots, n\\}$ el rango de $X$ (el conjunto de todos los posibles valores que puede tomar la v.a. $X$)\n",
    "\n",
    "Utilizando la definición de la esperanza calculamos $E(X)$\n",
    "\n",
    "\\begin{align*}\n",
    "E(X) = \\sum_{k \\in R_X} k p_X(k) = \\sum_{k=0}^n k {n \\choose k} p^k (1-p)^{n-k}\n",
    "\\end{align*}\n",
    "\n",
    "Reescribimos el rango de la sumatoria empezando en 1\n",
    "\n",
    "\\begin{align*}\n",
    "= \\sum_{k=1}^n k {n \\choose k} p^k (1-p)^{n-k}\n",
    "\\end{align*}\n",
    "\n",
    "Aplicamos la fórmula del número combinatorio\n",
    "\n",
    "\\begin{align*}\n",
    "= \\sum_{k=1}^n k \\frac{n!}{k! (n-k)!} p^k (1-p)^{n-k}\n",
    "\\end{align*}\n",
    "\n",
    "Cancelamos el $k$ sacando un $k$ del $k!$ que está en el denominador\n",
    "\n",
    "\\begin{align*}\n",
    "= \\sum_{k=1}^n \\frac{n!}{(k-1)! (n-k)!} p^k (1-p)^{n-k}\n",
    "\\end{align*}\n",
    "\n",
    "Sacamos $np$ afuera de la sumatoria\n",
    "\n",
    "\\begin{align*}\n",
    "= np \\sum_{k=1}^n \\frac{(n-1)!}{(k-1)! (n-k)!} p^{k-1} (1-p)^{n-k}\n",
    "\\end{align*}\n",
    "\n",
    "Volvemos a escribir el combinatorio pero con los nuevos valores\n",
    "\n",
    "\\begin{align*}\n",
    "= np \\sum_{k=1}^n {n-1 \\choose k-1} p^{k-1} (1-p)^{n-k}\n",
    "\\end{align*}\n",
    "\n",
    "Hacemos aparecer $(k-1)$ en la potencia\n",
    "\n",
    "\\begin{align*}\n",
    "= np \\sum_{k=1}^n {n-1 \\choose k-1} p^{k-1} (1-p)^{(n-1) - (k-1)}\n",
    "\\end{align*}\n",
    "\n",
    "Hacemos un cambio de variable: $j=k-1$\n",
    "\n",
    "\\begin{align*}\n",
    "= np \\sum_{j=0}^{n-1} {n-1 \\choose j} p^j (1-p)^{(n-1) - j}\n",
    "\\end{align*}\n",
    "\n",
    "Reemplazamos la sumatoria por la fórmula del Binomio de Newton y encontramos la esperanza\n",
    "\n",
    "\\begin{align*}\n",
    "= np (p - (1-p))^{n-1} = np \\implies E(X) = np\n",
    "\\end{align*}"
   ]
  },
  {
   "cell_type": "markdown",
   "id": "4cd14b61-c3d7-432d-bbc8-8808496b0471",
   "metadata": {
    "jp-MarkdownHeadingCollapsed": true,
    "tags": []
   },
   "source": [
    "### Ejercicio 10\n",
    "\n",
    "Sea el vector aleatorio $(X,Y)$ con distribución:\n",
    "\n",
    "$P(X=x, Y=y) = \\begin{cases}\n",
    "\\tfrac{1}{10} & x = 1,2,3,4 \\land y=1,2,3,4 \\land y \\leq x \\\\\n",
    "0 & \\text{caso contrario}\n",
    "\\end{cases}$\n",
    "\n",
    "Calcular el coeficiente de correlación $\\rho(X,Y)$ entre $X$ e $Y$ y decidir si $X$ e $Y$ son o no independientes."
   ]
  },
  {
   "cell_type": "markdown",
   "id": "416f0f51-3245-4a5e-8c26-3b259b85bae3",
   "metadata": {},
   "source": [
    "Primero calculamos todas las cosas que vamos a necesitar para resolver el ejercicio.\n",
    "\n",
    "\n",
    "Calculamos las funciones de probabilidad marginal:\n",
    "\n",
    "\\begin{align*}\n",
    "p_X(x) = \\sum_{y \\in R_Y} P(X=x, Y=y) = \\sum_{y=1}^x \\tfrac{1}{10} = \\tfrac{x - 1 + 1}{10} = \\tfrac{x}{10}\n",
    "\\end{align*}\n",
    "\n",
    "\\begin{align*}\n",
    "p_Y(y) = \\sum_{x \\in R_X} P(X=x, Y=y) = \\sum_{x=y}^4 \\tfrac{1}{10} = \\tfrac{4 - y + 1}{10} = \\tfrac{5-y}{10}\n",
    "\\end{align*}\n",
    "\n",
    "Calculamos las esperanzas de $X$ e $Y$:\n",
    "\n",
    "\\begin{align*}\n",
    "E(X) = \\sum_{x \\in R_X} x P_X(x) = \\sum_{x=1}^4 \\tfrac{x^2}{10} = \\tfrac{1}{10} + \\tfrac{4}{10} + \\tfrac{9}{10} + \\tfrac{16}{10} = 3\n",
    "\\end{align*}\n",
    "\n",
    "\\begin{align*}\n",
    "E(Y) = \\sum_{y \\in R_Y} y P_Y(y) = \\sum_{y=1}^4 \\tfrac{y(5-y)}{10} = \\tfrac{4}{10} + \\tfrac{6}{10} + \\tfrac{6}{10} + \\tfrac{4}{10} = 2\n",
    "\\end{align*}\n",
    "\n",
    "Calculamos la esperanza de $XY$:\n",
    "\n",
    "\\begin{align*}\n",
    "E(XY) = \\sum_{x \\in R_X} \\sum_{y \\in R_Y} xy P(X=x, Y=y) = \\sum_{x=1}^4 \\sum_{y=1}^x \\tfrac{xy}{10} = \\tfrac{1}{10} + \\tfrac{2}{10} + \\tfrac{4}{10} + \\tfrac{3}{10} + \\tfrac{6}{10} + \\tfrac{9}{10} + \\tfrac{4}{10} + \\tfrac{8}{10} + \\tfrac{12}{10} + \\tfrac{16}{10} = 6.5\n",
    "\\end{align*}\n",
    "\n",
    "Calculamos las esperanzas de $X^2$ e $Y^2$:\n",
    "\n",
    "\\begin{align*}\n",
    "E(X^2) = \\sum_{x \\in R_X} x^2 P_X(x) = \\sum_{x=1}^4 \\tfrac{x^3}{10} = \\tfrac{1}{10} + \\tfrac{8}{10} + \\tfrac{27}{10} + \\tfrac{64}{10} = 10\n",
    "\\end{align*}\n",
    "\n",
    "\\begin{align*}\n",
    "E(Y^2) = \\sum_{y \\in R_Y} y^2 P_Y(y) = \\sum_{y=1}^4 \\tfrac{y^2(5-y)}{10} = \\tfrac{4}{10} + \\tfrac{12}{10} + \\tfrac{18}{10} + \\tfrac{16}{10} = 5\n",
    "\\end{align*}\n",
    "\n",
    "Calculamos las varianzas y los desvíos estándar de $X$ e $Y$:\n",
    "\n",
    "\\begin{align*}\n",
    "V(X) = E(X^2) - E(X)^2 = 10 - 3^2 = 1 \\implies \\sigma_X = \\sqrt{V(X)} = 1\n",
    "\\end{align*}\n",
    "\n",
    "\\begin{align*}\n",
    "V(Y) = E(Y^2) - E(Y)^2 = 5 - 2^2 = 1 \\implies \\sigma_Y = \\sqrt{V(Y)} = 1\n",
    "\\end{align*}\n",
    "\n",
    "Calculamos la covarianza:\n",
    "\n",
    "\\begin{align*}\n",
    "\\text{Cov}(X,Y) = E(XY) - E(X)E(Y) = 6.5 - 3*2 = 0.5\n",
    "\\end{align*}\n",
    "\n",
    "Finalmente calculamos el coeficiente de correlación:\n",
    "\n",
    "\\begin{align*}\n",
    "\\rho(X,Y) = \\frac{\\text{Cov}(X,Y)}{\\sigma_X \\sigma_Y} = \\frac{0.5}{1 * 1} = 0.5\n",
    "\\end{align*}\n",
    "\n",
    "Para decidir si $X$ e $Y$ son independientes, observemos primero que si fuesen independientes, entonces valdría que $E(XY) = E(X)E(Y) \\implies \\text{Cov}(X,Y) = 0$. Pero como $\\text{Cov}(X,Y) = 0.5 \\neq 0$ podemos afirmar entonces que **no** son independientes."
   ]
  },
  {
   "cell_type": "markdown",
   "id": "d105194d-5000-490e-8121-e90152b08354",
   "metadata": {},
   "source": [
    "## Esperanza condicional"
   ]
  },
  {
   "cell_type": "markdown",
   "id": "17b43aac-1da4-43d9-8d99-f1483972357a",
   "metadata": {
    "jp-MarkdownHeadingCollapsed": true,
    "tags": []
   },
   "source": [
    "### Ejercicio 11\n",
    "\n",
    "Se lanza un dado un equilibrado. Notamos $X$ el número obtenido e $Y = 1$ si el número es par, $Y = 0$ sino. Calcule $E(X|Y=1)$ y $E(Y|X \\leq 4)$."
   ]
  },
  {
   "cell_type": "markdown",
   "id": "b499ffd5-6366-4f49-abdd-b90e6e473109",
   "metadata": {},
   "source": [
    "Intuitivamente podemos decir que $E(X|Y=1) = 4$ pues al condicionar $Y=1$ nos estamos quedando únicamente con los números pares: $2,4,6$ y al ser un dado equilibrado, la probabilidad de obtener cualquiera de estos valores es la misma, por lo tanto la esperanza resulta el promedio de los valores posibles: $\\tfrac{2+4+6}{3} = 4$.\n",
    "\n",
    "Hagamos las cuentas. Primero armamos la tabla de probabilidad conjunta:\n",
    "\n",
    "| Y/X | 1   | 2   | 3   | 4   | 5   | 6   | pY  |\n",
    "|-----|-----|-----|-----|-----|-----|-----|-----|\n",
    "| 0   | 1/6 | 0   | 1/6 | 0   | 1/6 | 0   | 1/2 |\n",
    "| 1   | 0   | 1/6 | 0   | 1/6 | 0   | 1/6 | 1/2 |\n",
    "| pX  | 1/6 | 1/6 | 1/6 | 1/6 | 1/6 | 1/6 | 1   |\n",
    "\n",
    "Buscamos la función de probabilidad condicional de $X|Y=1$:\n",
    "\n",
    "\\begin{align*}\n",
    "p_{X|Y=1}(x) = \\frac{p_{XY}(x, 1)}{p_Y(1)} = \\frac{p_{XY}(x, 1)}{\\tfrac{1}{2}} = 2 p_{XY}(x, 1)\n",
    "\\end{align*}\n",
    "\n",
    "Ahora podemos calcular la esperanza:\n",
    "\n",
    "\\begin{align*}\n",
    "E(X|Y=1) = \\sum_{x \\in R_X} x p_{X|Y=1}(x) = \\sum_{x=1}^6 2x p_{XY}(x, 1) = 0 + \\tfrac{4}{6} + 0 + \\tfrac{8}{6} + 0 + \\tfrac{12}{6} = 4\n",
    "\\end{align*}\n",
    "\n",
    "Con la misma intuición que antes, podemos decir que $E(Y|X \\leq 4) = 0.5$ pues al condicionar $X \\leq 4$ nos estamos quedando únicamente con los números: $1,2,3,4$ de los cuales hay 2 pares y 2 impares. Como la v.a. $Y$ asigna 1 o 2 dependiendo si es par o impar, al calcular el promedio obtenemos $\\tfrac{0+1+0+1}{4} = \\tfrac{1}{2}$.\n",
    "\n",
    "Buscamos la función de probabilidad condicional de $Y|X \\leq 4$:\n",
    "\n",
    "\\begin{align*}\n",
    "p_{Y|X \\leq 4}(y) = \\frac{\\sum_{x=1}^4 p_{XY}(x, y)}{\\sum_{x=1}^4 p_X(x)}\n",
    "\\end{align*}\n",
    "\n",
    "El numerador depende de $y$ por lo tanto no podemos simplificarlo aún, pero el denominador sí ya podemos calcularlo mirando la tabla:\n",
    "\n",
    "\\begin{align*}\n",
    "\\sum_{x=1}^4 p_X(x) = \\tfrac{4}{6} = \\tfrac{2}{3}\n",
    "\\end{align*}\n",
    "\n",
    "Por lo tanto:\n",
    "\n",
    "\\begin{align*}\n",
    "p_{Y|X \\leq 4}(y) = \\frac{\\sum_{x=1}^4 p_{XY}(x, y)}{\\tfrac{2}{3}} = \\frac{3}{2} \\sum_{x=1}^4 p_{XY}(x, y)\n",
    "\\end{align*}\n",
    "\n",
    "Ahora podemos calcular la esperanza:\n",
    "\n",
    "\\begin{align*}\n",
    "E(Y|X \\leq 4) = \\sum_{y \\in R_Y} y p_{Y|X \\leq 4}(y) = \\sum_{y=0}^1 \\Big( y \\frac{3}{2} \\sum_{x=1}^4 p_{XY}(x, y) \\Big) = \\frac{3}{2} \\sum_{x=1}^4 p_{XY}(x, 1) = \\frac{3}{2} \\big( 0 + \\frac{1}{6} + 0 + \\frac{1}{6} \\big) = \\tfrac{1}{2}\n",
    "\\end{align*}"
   ]
  },
  {
   "cell_type": "markdown",
   "id": "bed3095c-d3f5-4e65-b8d6-25cf23a18aaf",
   "metadata": {
    "jp-MarkdownHeadingCollapsed": true,
    "tags": []
   },
   "source": [
    "### Ejercicio 12\n",
    "\n",
    "Sea $(X,Y)$ un vector aleatorio con función de densidad:\n",
    "\n",
    "$f_{XY}(x,y) = \\lambda^2 e^{-\\lambda y} I_{\\{0 < x < y\\}}$\n",
    "\n",
    "Qué distribución tiene $X|Y=y$ para $y > 0$?"
   ]
  },
  {
   "cell_type": "markdown",
   "id": "bcbeffb7-4ff0-4916-a2b1-0de6eea4e2fd",
   "metadata": {},
   "source": [
    "Primero calculamos la función de densidad marginal de $Y$:\n",
    "\n",
    "\\begin{align*}\n",
    "f_Y(y) = \\int_{-\\infty}^{\\infty} f_{XY} dx = \\int_0^y \\lambda^2 e^{-\\lambda y} dx = \\Big[ x \\lambda^2 e^{-\\lambda y} \\Big]_0^y = y \\lambda^2 e^{-\\lambda y} I_{\\{0<y\\}}\n",
    "\\end{align*}\n",
    "\n",
    "Luego planteamos la función de densidad condicional:\n",
    "\n",
    "\\begin{align*}\n",
    "f_{X|Y=y}(x,y) = \\frac{f_{XY}(x,y)}{f_Y(y)} = \\frac{\\lambda^2 e^{-\\lambda y} I_{\\{0<x<y\\}}}{y \\lambda^2 e^{-\\lambda y} I_{\\{0<y\\}}} = \\frac{1}{y} I_{\\{0<x<y\\}}\n",
    "\\end{align*}\n",
    "\n",
    "Como $y$ está fijo $\\implies (X|Y=y) \\sim \\mathcal{U}[0, y]$"
   ]
  },
  {
   "cell_type": "markdown",
   "id": "962ff7ee-8988-4591-afae-bef557a39d9a",
   "metadata": {},
   "source": [
    "## Generación de variables aleatorias"
   ]
  },
  {
   "cell_type": "markdown",
   "id": "f45ba5ca-453c-4bcf-ac33-92b1261bbbc0",
   "metadata": {},
   "source": [
    "### Ejercicio 13\n",
    "\n",
    "Sea $F$ la función de distribución acumulada de una distribución de probabilidad $f$. Supongamos para simplificar que $F$ es una biyección de $\\mathbb{R}$ en $(0,1)$. Demuestre que si $U \\sim \\mathcal{U}[0,1]$, entonces $Y := F^{-1}(U)$ tiene distribución $f$."
   ]
  },
  {
   "cell_type": "markdown",
   "id": "279f93b6-6b73-4a7d-af7e-f1bc2fbcf61e",
   "metadata": {},
   "source": [
    "\\begin{align*}\n",
    "F_Y(t) = P(Y \\leq t) = P(F^{-1}(U) \\leq t)\n",
    "\\end{align*}\n",
    "\n",
    "Como $F$ es una biyección en $(0,1)$ vale que $F(F^{-1}(U)) = U$ siendo $U \\sim \\mathcal{U}[0,1]$.\n",
    "\n",
    "\\begin{align*}\n",
    "F_Y(t) = P(F(F^{-1}(U)) \\leq F(t)) = P(U \\leq F(t)) = F_U(F(t))\n",
    "\\end{align*}\n",
    "\n",
    "Como $U$ es una uniforme estándar, $F_U(u) = u$.\n",
    "\n",
    "\\begin{align*}\n",
    "F_Y(t) = F(t) \\implies F_Y(t) = F_f(t)\n",
    "\\end{align*}"
   ]
  },
  {
   "cell_type": "markdown",
   "id": "acbaaaf8-d69a-4961-8ce9-941ed5e5180c",
   "metadata": {},
   "source": [
    "### Ejercicio 14\n",
    "\n",
    "Sea $U \\sim \\mathcal{U}[0,1]$. Demuestre que $\\frac{-log(1-U)}{\\lambda} \\sim \\mathcal{E}(\\lambda)$."
   ]
  },
  {
   "cell_type": "markdown",
   "id": "1172568c-f6d9-46e5-8339-16f6637739ff",
   "metadata": {},
   "source": [
    "Asumimos que $log = ln$.\n",
    "\n",
    "$X = \\frac{-ln(1-U)}{\\lambda}$\n",
    "\n",
    "Observemos que $F_U(u) = u$ por ser la acumulada de una variable con distribución uniforme estándar.\n",
    "\n",
    "\\begin{align*}\n",
    "F_X(x) &= P(X \\leq x) \\\\\n",
    "&= P\\big(\\frac{-ln(1-U)}{\\lambda} \\leq x \\big) \\\\\n",
    "&= P(-ln(1-U) \\leq \\lambda x) \\\\\n",
    "&= P(ln(1-U) \\geq -\\lambda x) \\\\\n",
    "&= P(1-U \\geq e^{-\\lambda x}) \\\\\n",
    "&= P(U \\leq 1 - e^{-\\lambda x}) \\\\\n",
    "&= F_U(1 - e^{-\\lambda x}) \\\\\n",
    "&= 1 - e^{-\\lambda x}\n",
    "\\end{align*}\n",
    "\n",
    "Ahora derivamos para obtener la función de densidad de $X$:\n",
    "\n",
    "\\begin{align*}\n",
    "\\frac{\\partial}{\\partial x} F_X(x) = \\frac{\\partial}{\\partial x} (1 - e^{-\\lambda x}) = \\lambda e^{-\\lambda x} = f_X(x) \\implies X \\sim \\mathcal{E}(\\lambda)\n",
    "\\end{align*}"
   ]
  },
  {
   "cell_type": "markdown",
   "id": "867300f2-a796-4798-a973-2f8eed45fe1f",
   "metadata": {},
   "source": [
    "## Función característica"
   ]
  },
  {
   "cell_type": "markdown",
   "id": "52a2d9ed-55d9-4053-b19f-4aef9c56fb0f",
   "metadata": {},
   "source": [
    "### Ejercicio 15"
   ]
  },
  {
   "cell_type": "markdown",
   "id": "2b8718e9-da28-4c6c-8fcd-3d77df4a68b6",
   "metadata": {},
   "source": [
    "## Convergencia de variables aleatorias"
   ]
  },
  {
   "cell_type": "markdown",
   "id": "57db344f-3380-47e3-b48d-5e9b1900127a",
   "metadata": {},
   "source": [
    "### Ejercicio 16"
   ]
  },
  {
   "cell_type": "markdown",
   "id": "492a1869-1b1f-4a1e-b465-64953dc972ce",
   "metadata": {},
   "source": [
    "### Ejercicio 17"
   ]
  },
  {
   "cell_type": "markdown",
   "id": "09a72a44-d250-4f88-ac19-4964170697a5",
   "metadata": {},
   "source": [
    "### Ejercicio 18"
   ]
  },
  {
   "cell_type": "markdown",
   "id": "b545727b-fbd2-4411-9869-eaee7bce0f54",
   "metadata": {},
   "source": [
    "### Ejercicio 19"
   ]
  },
  {
   "cell_type": "markdown",
   "id": "f65a2c3e-8681-4a90-a647-b8bc96a3da3d",
   "metadata": {},
   "source": [
    "### Ejercicio 20"
   ]
  },
  {
   "cell_type": "markdown",
   "id": "7da85940-c319-4456-8e00-acbdbcfab7f2",
   "metadata": {},
   "source": [
    "## Procesos de Poisson"
   ]
  },
  {
   "cell_type": "markdown",
   "id": "06928bd0-0596-4b17-89b7-f9659509dbef",
   "metadata": {},
   "source": [
    "### Ejercicio 21\n",
    "\n",
    "Enuncie el Teorema Central del Límite. Sea $Y_n \\sim \\mathcal{P}(\\lambda n)$. Demuestre que $\\frac{Y_n - n \\lambda}{\\sqrt{n \\lambda}}$ converge en distribución a una variable $\\mathcal{N}(0,1)$ cuando $n \\rightarrow +\\infty$."
   ]
  },
  {
   "cell_type": "markdown",
   "id": "48fbeb73-37a7-46d8-b2ab-eb8410aea75e",
   "metadata": {},
   "source": [
    "Sean $X_1, \\dots, X_n$ variables aleatorias independientes e idénticamente distribuídas, con $E(X_i) = \\mu$ y $V(X_i) = \\sigma^2 < \\infty$ $\\forall i$. Entonces, si $n$ es suficientemente grande:\n",
    "\n",
    "\\begin{align*}\n",
    "\\frac{T - n \\mu}{\\sqrt{n} \\sigma} \\xrightarrow{d} Z \\sim \\mathcal{N}(0,1)\n",
    "\\end{align*}\n",
    "\n",
    "\\begin{align*}\n",
    "\\frac{\\sqrt{n}(\\bar{X} - \\mu)}{\\sigma} \\xrightarrow{d} Z \\sim \\mathcal{N}(0,1)\n",
    "\\end{align*}\n",
    "\n",
    "Siendo $T = \\sum_{i=1}^n X_i$ y $\\bar{X} = \\tfrac{T}{n}$. Ambas expresiones son equivalentes.\n",
    "\n",
    "Si $Y_n \\sim \\mathcal{P}(\\lambda n)$, busquemos la esperanza y varianza de $Y_i \\; \\forall i$ suponiendo que son independientes.\n",
    "\n",
    "\\begin{align*}\n",
    "E(Y_n) = \\lambda n\n",
    "\\iff E \\Big( \\sum_{i=1}^n Y_i \\Big) = \\lambda n\n",
    "\\stackrel{Y_i \\text{ i.i.d.}}{\\iff} \\sum_{i=1}^n E(Y_i) = \\lambda n\n",
    "\\stackrel{Y_i \\text{ i.i.d.}}{\\iff} n E(Y_i) = \\lambda n\n",
    "\\iff E(Y_i) = \\lambda\n",
    "\\end{align*}\n",
    "\n",
    "De forma análoga buscamos la varianza:\n",
    "\n",
    "\\begin{align*}\n",
    "V(Y_n) = \\lambda n\n",
    "\\iff V \\Big( \\sum_{i=1}^n Y_i \\Big) = \\lambda n\n",
    "\\stackrel{Y_i \\text{ i.i.d.}}{\\iff} \\sum_{i=1}^n V(Y_i) = \\lambda n\n",
    "\\stackrel{Y_i \\text{ i.i.d.}}{\\iff} n V(Y_i) = \\lambda n\n",
    "\\iff V(Y_i) = \\lambda\\end{align*}\n",
    "\n",
    "Sabiendo que $E(Y_i) = V(Y_i) = \\lambda \\; \\forall i$, por el TCL previamente enunciado resulta inmediato que:\n",
    "\n",
    "\\begin{align*}\n",
    "\\frac{Y_n - n E(Y_i)}{\\sqrt{n V(Y_i)}} = \\frac{Y_n - n \\lambda}{\\sqrt{n \\lambda}} \\xrightarrow{d} Z \\sim \\mathcal{N}(0,1)\n",
    "\\end{align*}"
   ]
  },
  {
   "cell_type": "markdown",
   "id": "ff46016d-f93b-498b-a9af-fbfaaa8226d2",
   "metadata": {},
   "source": [
    "### Ejercicio 22\n",
    "\n",
    "Los clientes llegan a un banco de acuerdo a un proceso de Poisson de parámetro 3 por minuto, cuál es la probabilidad que los tres primeros clientes lleguen antes de los 3 primeros minutos?"
   ]
  },
  {
   "cell_type": "markdown",
   "id": "111a4d0c-fdfb-4b2e-acae-592379a66008",
   "metadata": {},
   "source": [
    "Sea $X \\sim \\mathcal{P}(9)$ un proceso de Poisson de tasa 9 clientes cada 3 minutos.\n",
    "\n",
    "Queremos ver la probabilidad de que $X \\geq 3$, es decir, que para el minuto 3 ya hayan llegado al menos 3 clientes.\n",
    "\n",
    "\\begin{align*}\n",
    "P(X \\geq 3) = 1 - P(X \\leq 2) = 1 - \\sum_{x=0}^2 P(X=x) = 1 - \\sum_{x=0}^2 \\frac{9^x e^{-9}}{x!} = 1 - e^{-9} (1 + 9 + \\frac{81}{2}) \\approx 0.9938\n",
    "\\end{align*}"
   ]
  },
  {
   "cell_type": "markdown",
   "id": "fd44a609-5d8e-414a-bf62-dfbb5d696abe",
   "metadata": {},
   "source": [
    "### Ejercicio 23\n",
    "\n",
    "Consideramos un proceso de Poisson de tasa $\\lambda$. Calcule la probabilidad que ocurran simultaneamente los eventos A y B.\n",
    "\n",
    "$A = \\{\\text{hay 3 llegadas en el intervalo [0, 3]}\\}$\n",
    "\n",
    "$B = \\{\\text{hay 4 llegadas en el intervalo (3, 4]}\\}$"
   ]
  },
  {
   "cell_type": "markdown",
   "id": "47144f2a-af2f-4fd4-b917-592d84efb237",
   "metadata": {},
   "source": [
    "Sea $X \\sim \\mathcal{P}(\\lambda)$ v.a. que mide la cantidad de llegadas por una unidad del intervalo.\n",
    "\n",
    "Observemos que la probabilidad de ocurrencia de 2 eventos en intervalos disjuntos de un proceso de Poisson son independientes, es decir $P(A \\cap B) = P(A)P(B)$.\n",
    "\n",
    "Además, por la propiedad de \"falta de memoria\", la probabilidad de llegada en cierto intervalo es la misma para cualquier intervalo de la misma longitud. Entonces la probabilidad en el intervalo $(3,4]$ es la misma que en el intervalo $[0,1]$.\n",
    "\n",
    "Por lo tanto planteamos las siguientes v.a. para calcular la probabilidad de cada evento:\n",
    "\n",
    "Sean $X_A \\sim \\mathcal{P}(3 \\lambda)$, $X_B \\sim \\mathcal{P}(\\lambda)$ v.a. que miden la cantidad de llegadas en los intervalos $[0,3]$ y $(3,4]$ respectivamente.\n",
    "\n",
    "\\begin{align*}\n",
    "P(A \\cap B) = P(A)P(B) = P(X_A=3)P(X_B=4) = \\frac{(3 \\lambda)^3 e^{-3 \\lambda}}{3!} \\frac{\\lambda^4 e^{-\\lambda}}{4!} = \\frac{3 \\lambda^7 e^{-4 \\lambda}}{16}\n",
    "\\end{align*}"
   ]
  },
  {
   "cell_type": "markdown",
   "id": "c9bec774-90ab-4ee5-8fe2-d9092409c045",
   "metadata": {},
   "source": [
    "## Estimadores"
   ]
  },
  {
   "cell_type": "markdown",
   "id": "6a67647a-4d72-4755-85f0-924bd2cd9a23",
   "metadata": {},
   "source": [
    "### Ejercicio 24\n",
    "\n",
    "Página 164 del Bianco"
   ]
  },
  {
   "cell_type": "markdown",
   "id": "f7493e04-0d35-46da-a4ce-3d6b46154aef",
   "metadata": {},
   "source": [
    "### Ejercicio 25\n",
    "\n",
    "Práctica 7, ejercicio 15. Agregar justificación de por qué es el máximo."
   ]
  },
  {
   "cell_type": "markdown",
   "id": "4e9e8882-49bd-4979-9156-cf1a7e15aedc",
   "metadata": {},
   "source": [
    "### Ejercicio 26\n",
    "\n",
    "Hallar el estimador de máxima verosimilitud del párametro $a$ de la siguientes distribución donde $a > 1$. Es consistente?\n",
    "\n",
    "\\begin{align*}\n",
    "f(x) = \\begin{cases}\n",
    "    ax^{-(a+1)} & \\text{si} \\; x \\geq 1 \\\\\n",
    "    0 & \\text{en otro caso}\n",
    "\\end{cases}\n",
    "\\end{align*}"
   ]
  },
  {
   "cell_type": "markdown",
   "id": "c5620d7f-c35d-44b3-88b2-eec0068f7054",
   "metadata": {},
   "source": [
    "### Ejercicio 27\n",
    "\n",
    "Sea $X_1, \\dots, X_n$ una muestra de la distribución:\n",
    "\n",
    "$f(x; \\theta) = e^{-(x-\\theta)} I_{\\{x \\geq 0\\}}$\n",
    "\n",
    "Hallar el estimador de máxima verosimiltud de $\\theta$. Es consistente?"
   ]
  },
  {
   "cell_type": "markdown",
   "id": "9601edd5-2a10-4b4b-86c1-59bb90b0cacf",
   "metadata": {},
   "source": [
    "Práctica 7, ejercicio 10"
   ]
  },
  {
   "cell_type": "markdown",
   "id": "c5ede6e0-f0d2-4120-8e89-11f307615a7c",
   "metadata": {},
   "source": [
    "### Ejercicio 28\n",
    "\n",
    "Pagina 174 del Bianco"
   ]
  },
  {
   "cell_type": "markdown",
   "id": "fc1ad7c9-2cd0-484b-8ae7-7d11f8a871a2",
   "metadata": {},
   "source": [
    "### Ejercicio 29"
   ]
  },
  {
   "cell_type": "markdown",
   "id": "af3a0983-4c28-4d1e-b2c8-f624409d57b7",
   "metadata": {},
   "source": [
    "Práctica 7, ejercicio 8"
   ]
  },
  {
   "cell_type": "markdown",
   "id": "8ae52720-260e-425b-8414-3c60b7fc8a72",
   "metadata": {},
   "source": [
    "## Intervalos de confianza"
   ]
  },
  {
   "cell_type": "markdown",
   "id": "0920d5f8-81e9-4d28-a1f6-64e53ffcd1fa",
   "metadata": {},
   "source": [
    "### Ejercicio 30\n",
    "\n",
    "Práctica 8, ejercicio 8\n",
    "\n",
    "Página 186 del Bianco"
   ]
  },
  {
   "cell_type": "markdown",
   "id": "ddc6293e-20b5-4083-aa01-745694598aab",
   "metadata": {},
   "source": [
    "### Ejercicio 31"
   ]
  },
  {
   "cell_type": "markdown",
   "id": "6a61bd15-51b6-4dda-ae73-278070c1f849",
   "metadata": {},
   "source": [
    "### Ejercicio 32"
   ]
  },
  {
   "cell_type": "markdown",
   "id": "37bdefe7-a357-4946-9afb-19c59b3c43c4",
   "metadata": {},
   "source": [
    "## Test de hipótesis"
   ]
  },
  {
   "cell_type": "markdown",
   "id": "753c5479-0f80-454e-bcf1-af5d1bc1eff0",
   "metadata": {},
   "source": [
    "### Ejercicio 33"
   ]
  },
  {
   "cell_type": "markdown",
   "id": "2236c100-a201-4e4d-8e65-416d723a8364",
   "metadata": {},
   "source": [
    "### Ejercicio 34"
   ]
  },
  {
   "cell_type": "markdown",
   "id": "4bcad65d-06d4-475d-9cc6-05a191a54254",
   "metadata": {},
   "source": [
    "### Ejercicio 35"
   ]
  }
 ],
 "metadata": {
  "kernelspec": {
   "display_name": "R",
   "language": "R",
   "name": "ir"
  },
  "language_info": {
   "codemirror_mode": "r",
   "file_extension": ".r",
   "mimetype": "text/x-r-source",
   "name": "R",
   "pygments_lexer": "r",
   "version": "4.1.0"
  }
 },
 "nbformat": 4,
 "nbformat_minor": 5
}
