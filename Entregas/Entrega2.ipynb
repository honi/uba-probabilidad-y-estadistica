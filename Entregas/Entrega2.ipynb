{
 "cells": [
  {
   "cell_type": "markdown",
   "id": "f03fb318-df87-475e-b08e-207b9bcb8d12",
   "metadata": {},
   "source": [
    "# Entrega 2\n",
    "\n",
    "- Fecha: 2021-10-14\n",
    "- Prácticas: 3, 4"
   ]
  },
  {
   "cell_type": "markdown",
   "id": "7ed5a140-739a-475a-833b-2f7060fe5ed5",
   "metadata": {},
   "source": [
    "## Ejercicio 1\n",
    "\n",
    "Sea $(X,Y)$ vector aleatorio con densidad conjunta dada por una uniforme en el triangulo de vértices $(3,0)$, $(-3,0)$ y $(0,4)$.\n",
    "\n",
    "$\\int_0^4 \\int_{\\tfrac{3}{4}(y-4)}^{-\\tfrac{3}{4}(y-4)} f_{XY}(x,y) dx dy = 1 \\iff f_{XY}(x,y) = \\tfrac{1}{12}$"
   ]
  },
  {
   "cell_type": "markdown",
   "id": "c17a919e-6775-43d8-883b-8dba110d4b8c",
   "metadata": {},
   "source": [
    "### Pregunta A\n",
    "\n",
    "Calcular $F_{X,Y}(1.5, 2)$\n",
    "\n",
    "$\\int_0^2 \\int_{\\tfrac{3}{4}(y-4)}^{1.5} f_{XY}(x,y) dx dy = 0.625$"
   ]
  },
  {
   "cell_type": "markdown",
   "id": "a75455d4-75c7-4f79-a4de-bd7333a677e5",
   "metadata": {},
   "source": [
    "### Pregunta B\n",
    "\n",
    "Calcular $P(X \\leq 1.99 | Y = 0.49)$\n",
    "\n",
    "Buscamos el valor de x cuando $y=0.49 \\implies x = \\tfrac{3}{4}(0.49-4) = -2.63$\n",
    "\n",
    "Calculamos la marginal de y:\n",
    "\n",
    "$f_Y(y) = \\int_{\\tfrac{3}{4}(y-4)}^{-\\tfrac{3}{4}(y-4)} f_{XY}(x,y) dx = \\tfrac{4-y}{8}$\n",
    "\n",
    "Planteamos la fórmula:\n",
    "\n",
    "$P(X \\leq 1.99 | Y = 0.49) = \\tfrac{\\int_{-2.63}^{1.99} f_{XY}(x,y) dx}{f_Y(0.49)} = 0.8775$"
   ]
  },
  {
   "cell_type": "markdown",
   "id": "8c8b730a-8f05-4da1-a0bd-eb0c98bd7202",
   "metadata": {},
   "source": [
    "## Ejercicio 2\n",
    "\n",
    "Una fábrica cuenta con dos máquinas para fabricar corchos. La máquina A produce corchos cuyo diámetro sigue una distribución normal con media 29 mm y desvío estándar 2 mm. La máquina B produce corchos de diámetro con distribución normal de media 33 mm y desvío estándar 1.8 mm. Un corcho se considera aceptabe si su diámetro está en el rango de 29.1 mm y 32.9 mm. En la linea de producción se usan ambas máquinas de tal forma que la máquina A se elige con probabilidad 0.3."
   ]
  },
  {
   "cell_type": "code",
   "execution_count": 17,
   "id": "9cfd7343-9ba0-4217-b874-7146faec02b4",
   "metadata": {},
   "outputs": [],
   "source": [
    "probaMaquinaA = 0.3\n",
    "probaMaquinaB = 0.7\n",
    "muA = 29\n",
    "sdA = 2\n",
    "muB = 33\n",
    "sdB = 1.8\n",
    "minAceptable = 29.1\n",
    "maxAceptable = 32.9"
   ]
  },
  {
   "cell_type": "markdown",
   "id": "d417cbd2-46e3-4247-8761-8807866cc7ce",
   "metadata": {},
   "source": [
    "### Pregunta A\n",
    "\n",
    "Cuál es la probabilidad de que un corcho fabricado por la máquina A sea no aceptable.\n",
    "\n",
    "$P(A<29.1) + P(A>32.9)$"
   ]
  },
  {
   "cell_type": "code",
   "execution_count": 15,
   "id": "55c8d595-edee-48a7-9e18-7c444471b754",
   "metadata": {},
   "outputs": [
    {
     "data": {
      "text/html": [
       "0.5455"
      ],
      "text/latex": [
       "0.5455"
      ],
      "text/markdown": [
       "0.5455"
      ],
      "text/plain": [
       "[1] 0.5455"
      ]
     },
     "metadata": {},
     "output_type": "display_data"
    }
   ],
   "source": [
    "round(pnorm(minAceptable, muA, sdA) + pnorm(maxAceptable, muA, sdA, lower.tail=FALSE), 4)"
   ]
  },
  {
   "cell_type": "markdown",
   "id": "91dcc5cb-5cac-4613-b836-cac9a1587c5e",
   "metadata": {},
   "source": [
    "### Pregunta B\n",
    "\n",
    "Se eligen de la producción 6 corchos al azar. Cuál es la probabilidad de que exactamente 4 corchos sean aceptables.\n",
    "\n",
    "Sea $p$ la probabilidad de que un corcho sea aceptable.\n",
    "\n",
    "$p = P(29.1 \\leq A \\leq 32.9) * 0.3 + P(29.1 \\leq B \\leq 32.9) * 0.7$\n",
    "\n",
    "$X$ = cantidad de corchos aceptables\n",
    "\n",
    "$X \\sim Bi(6, p)$\n",
    "\n",
    "Buscamos calcular $P(X=4)$"
   ]
  },
  {
   "cell_type": "code",
   "execution_count": 20,
   "id": "88e045c2-fcb1-4a46-b6c0-3c35797c40e6",
   "metadata": {},
   "outputs": [
    {
     "data": {
      "text/html": [
       "0.1961"
      ],
      "text/latex": [
       "0.1961"
      ],
      "text/markdown": [
       "0.1961"
      ],
      "text/plain": [
       "[1] 0.1961"
      ]
     },
     "metadata": {},
     "output_type": "display_data"
    }
   ],
   "source": [
    "probaAceptableA = pnorm(maxAceptable, muA, sdA) - pnorm(minAceptable, muA, sdA)\n",
    "probaAceptableB = pnorm(maxAceptable, muB, sdB) - pnorm(minAceptable, muB, sdB)\n",
    "probaAceptable = probaAceptableA * probaMaquinaA + probaAceptableB * probaMaquinaB\n",
    "round(dbinom(4, 6, probaAceptable), 4)"
   ]
  }
 ],
 "metadata": {
  "kernelspec": {
   "display_name": "R",
   "language": "R",
   "name": "ir"
  },
  "language_info": {
   "codemirror_mode": "r",
   "file_extension": ".r",
   "mimetype": "text/x-r-source",
   "name": "R",
   "pygments_lexer": "r",
   "version": "4.1.0"
  }
 },
 "nbformat": 4,
 "nbformat_minor": 5
}
