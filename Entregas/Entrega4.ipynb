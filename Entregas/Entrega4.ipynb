{
 "cells": [
  {
   "cell_type": "markdown",
   "id": "95ccd8fd-3954-4123-8f41-a3b1d6d473bf",
   "metadata": {},
   "source": [
    "# Entrega 4\n",
    "\n",
    "- Fecha: 2021-11-16\n",
    "- Prácticas: 7, 8"
   ]
  },
  {
   "cell_type": "markdown",
   "id": "0a55b452-bf09-4d38-a449-cea793f47d3c",
   "metadata": {},
   "source": [
    "## Ejercicio 1\n",
    "\n",
    "Considere la siguiente muestra aleatoria de tamaño 10 generada con función de densidad:\n",
    "\n",
    "$f(x) = \\tfrac{2 \\beta}{\\pi} x e^{\\tfrac{-\\beta x^2}{\\pi}} I_{[0, +\\infty)}(x)$\n",
    "\n",
    "Donde $\\beta > 0$ es un parámetro desconocido y que deseamos estimar. Además, $E(X) = \\tfrac{\\pi}{2 \\sqrt{\\beta}}$, $V(X) = \\tfrac{\\pi(4 - \\pi)}{4 \\beta}$"
   ]
  },
  {
   "cell_type": "code",
   "execution_count": 35,
   "id": "b680932b-f85d-4fd1-8e23-82796f298280",
   "metadata": {},
   "outputs": [],
   "source": [
    "X = c(1.48, 1.67, 1.29, 1.11, 0.82, 0.27, 0.71, 1.48, 0.88, 1.79)"
   ]
  },
  {
   "cell_type": "markdown",
   "id": "d2de2cb4-0afe-4685-ad06-b83497a676a3",
   "metadata": {},
   "source": [
    "### Pregunta A\n",
    "\n",
    "Estimar la $P(X \\leq 1.2)$ usando la función de distribución empírica."
   ]
  },
  {
   "cell_type": "code",
   "execution_count": 30,
   "id": "80a5d5de-9154-4dae-8882-927c8875c628",
   "metadata": {},
   "outputs": [
    {
     "data": {
      "text/html": [
       "0.5"
      ],
      "text/latex": [
       "0.5"
      ],
      "text/markdown": [
       "0.5"
      ],
      "text/plain": [
       "[1] 0.5"
      ]
     },
     "metadata": {},
     "output_type": "display_data"
    }
   ],
   "source": [
    "sum(X <= 1.2) / length(X)"
   ]
  },
  {
   "cell_type": "markdown",
   "id": "ee56d9bd-e635-43a8-920e-fb1ba8a5cdc9",
   "metadata": {},
   "source": [
    "### Pregunta B\n",
    "\n",
    "Usando las observaciones dar una estimación de $\\tfrac{1}{\\beta}$ basada en el estimador de máxima verosimilitud (MV) de $\\tfrac{1}{\\beta}$."
   ]
  },
  {
   "cell_type": "markdown",
   "id": "639de3a4-5fb8-4be4-a0c5-e269cf29bbe9",
   "metadata": {},
   "source": [
    "$\n",
    "L(\\beta)\n",
    "= \\prod_{i=1}^n f(x_i)\n",
    "= \\prod_{i=1}^n \\tfrac{2 \\beta}{\\pi} x_i e^{\\tfrac{-\\beta x_i^2}{\\pi}}\n",
    "= \\Big( \\tfrac{2 \\beta}{\\pi} \\Big)^n \\Big( \\prod_{i=1}^n x_i \\Big) \\Big( e^{-\\tfrac{\\beta}{\\pi} \\sum_{i=1}^n x_i^2} \\Big)\n",
    "$\n",
    "\n",
    "$\n",
    "ln(L(\\beta))\n",
    "= n ln(\\tfrac{2\\beta}{\\pi}) + \\sum_{i=1}^n ln(x_i) - \\tfrac{\\beta}{\\pi} \\sum_{i=1}^n x_i^2\n",
    "= n ln(\\tfrac{2\\beta}{\\pi}) + \\sum_{i=1}^n ln(x_i) - \\tfrac{\\beta n \\overline{X^2}}{\\pi}\n",
    "$\n",
    "\n",
    "$\n",
    "\\tfrac{\\partial}{\\partial \\beta} ln(L(\\beta))\n",
    "= \\tfrac{n}{\\tfrac{2\\beta}{\\pi}} \\tfrac{2}{\\pi} - \\tfrac{n \\overline{X^2}}{\\pi}\n",
    "= \\tfrac{n}{\\beta} - \\tfrac{n \\overline{X^2}}{\\pi}\n",
    "$\n",
    "\n",
    "$\n",
    "\\tfrac{\\partial}{\\partial \\beta} ln(L(\\beta)) = 0\n",
    "\\iff \\tfrac{n}{\\beta} - \\tfrac{n \\overline{X^2}}{\\pi} = 0\n",
    "\\iff \\tfrac{n}{\\beta} = \\tfrac{n \\overline{X^2}}{\\pi}\n",
    "\\iff \\hat{\\beta} = \\tfrac{\\pi}{\\overline{X^2}}\n",
    "\\iff \\tfrac{1}{\\hat{\\beta}} = \\tfrac{\\overline{X^2}}{\\pi}\n",
    "$"
   ]
  },
  {
   "cell_type": "code",
   "execution_count": 38,
   "id": "b00ba080-9203-4291-8c2b-17a5d59bd407",
   "metadata": {},
   "outputs": [
    {
     "data": {
      "text/html": [
       "0.4868"
      ],
      "text/latex": [
       "0.4868"
      ],
      "text/markdown": [
       "0.4868"
      ],
      "text/plain": [
       "[1] 0.4868"
      ]
     },
     "metadata": {},
     "output_type": "display_data"
    }
   ],
   "source": [
    "b_MV = pi / mean(X^2)\n",
    "round(1 / b_MV, 4)"
   ]
  },
  {
   "cell_type": "markdown",
   "id": "0a246d88-3d70-41f8-9810-9dad607e63ac",
   "metadata": {},
   "source": [
    "### Pregunta C\n",
    "\n",
    "Dar una estimación de $P(X \\leq 1.2)$ basada en el estimador calculado arriba."
   ]
  },
  {
   "cell_type": "code",
   "execution_count": 39,
   "id": "203c3c91-8b5c-4410-909e-7fc6dd67da27",
   "metadata": {},
   "outputs": [
    {
     "data": {
      "text/html": [
       "0.61"
      ],
      "text/latex": [
       "0.61"
      ],
      "text/markdown": [
       "0.61"
      ],
      "text/plain": [
       "[1] 0.61"
      ]
     },
     "metadata": {},
     "output_type": "display_data"
    }
   ],
   "source": [
    "f = function(x) (2 * b_MV) / pi * x * exp(-b_MV * x^2 / pi)\n",
    "round(integrate(f, 0, 1.2)$value, 4)"
   ]
  },
  {
   "cell_type": "markdown",
   "id": "4eb6e92d-9031-47d6-a79e-ca3f2c4aa14b",
   "metadata": {},
   "source": [
    "### Pregunta D\n",
    "\n",
    "El estimador de $\\tfrac{1}{\\beta}$, ¿es consistente?"
   ]
  },
  {
   "cell_type": "markdown",
   "id": "c5da9e4c-d81d-425b-bc60-7e007c8f295f",
   "metadata": {},
   "source": [
    "$\n",
    "E(X^2)\n",
    "= V(X) + E(X)^2\n",
    "= \\tfrac{\\pi(4 - \\pi)}{4 \\beta} + \\big( \\tfrac{\\pi}{2 \\sqrt{\\beta}} \\big)^2\n",
    "= \\tfrac{4 \\pi - \\pi^2}{4 \\beta} + \\tfrac{\\pi^2}{4 \\beta}\n",
    "= \\tfrac{\\pi}{\\beta}\n",
    "$\n",
    "\n",
    "Por la LGN: $\\tfrac{1}{\\hat{\\beta}} = \\tfrac{\\overline{X^2}}{\\pi} \\xrightarrow{n \\rightarrow \\infty} \\tfrac{E(X^2)}{\\pi} = \\tfrac{1}{\\pi} \\tfrac{\\pi}{\\beta} = \\tfrac{1}{\\beta}$\n",
    "\n",
    "$\n",
    "P(|\\tfrac{1}{\\hat{\\beta}} - \\tfrac{1}{\\beta}| > \\epsilon)\n",
    "\\xrightarrow{n \\rightarrow \\infty} P(|\\tfrac{1}{\\beta} - \\tfrac{1}{\\beta}| > \\epsilon) = P(0 > \\epsilon) = 0 \\; \\forall \\epsilon > 0\n",
    "$\n",
    "\n",
    "$\\implies \\tfrac{1}{\\hat{\\beta}}$ es consistente."
   ]
  },
  {
   "cell_type": "markdown",
   "id": "5b402bf6-039a-4eee-8775-72afa25ef6cb",
   "metadata": {},
   "source": [
    "### Pregunta E\n",
    "\n",
    "El estimador de $\\tfrac{1}{\\beta}$, ¿es insesgado?"
   ]
  },
  {
   "cell_type": "markdown",
   "id": "fd21888f-bbca-47e0-862d-422a6d8e2ed0",
   "metadata": {},
   "source": [
    "$\n",
    "E \\Big( \\tfrac{1}{\\hat{\\beta}} \\Big)\n",
    "= E \\Big( \\tfrac{\\overline{X^2}}{\\pi} \\Big)\n",
    "= \\tfrac{1}{\\pi} E(\\overline{X^2})\n",
    "= \\tfrac{1}{\\pi} E(X^2)\n",
    "= \\tfrac{1}{\\pi} \\tfrac{\\pi }{\\beta}\n",
    "= \\tfrac{1}{\\beta}\n",
    "$\n",
    "\n",
    "$\\implies \\tfrac{1}{\\hat{\\beta}}$ es insesgado."
   ]
  },
  {
   "cell_type": "markdown",
   "id": "0ba8eaa3-1cab-4c42-9990-02a84194448d",
   "metadata": {},
   "source": [
    "## Ejercicio 2\n",
    "\n",
    "Se extrae una muestra aleatoria de una población $\\mathcal{N}(\\mu, \\sigma^2)$ obteniéndose para estas 22 observaciones una media muestra de $4.59$ y varianza muestral de $3.46$.\n",
    "\n",
    "Construir un intervalo de confianza de nivel exacto $98\\%$ para la varianza de esta distribución.\n",
    "\n",
    "Usar la convención de dejar igual cantidad de área a cada lado bajo la curva de la distribución pivote elegida."
   ]
  },
  {
   "cell_type": "markdown",
   "id": "623b0106-c3b9-441a-9b2d-11b806fb897d",
   "metadata": {},
   "source": [
    "### Pregunta A\n",
    "\n",
    "Indique qué distribución usará para construir el intervalo (Normal, t-Student, Chi cuadrado, Gamma, otra).\n",
    "\n",
    "**Chi cuadrado**\n",
    "\n",
    "$\\Big[ \\frac{(n-1)S^2}{\\mathcal{X}^2_{n-1,1-\\alpha/2}}, \\frac{(n-1)S^2}{\\mathcal{X}^2_{n-1,\\alpha/2}} \\Big]$"
   ]
  },
  {
   "cell_type": "code",
   "execution_count": 48,
   "id": "70e526c9-5059-4cc2-9e5d-ceccc73b5f61",
   "metadata": {},
   "outputs": [
    {
     "data": {
      "text/html": [
       "<style>\n",
       ".list-inline {list-style: none; margin:0; padding: 0}\n",
       ".list-inline>li {display: inline-block}\n",
       ".list-inline>li:not(:last-child)::after {content: \"\\00b7\"; padding: 0 .5ex}\n",
       "</style>\n",
       "<ol class=list-inline><li>1.8663</li><li>8.1666</li></ol>\n"
      ],
      "text/latex": [
       "\\begin{enumerate*}\n",
       "\\item 1.8663\n",
       "\\item 8.1666\n",
       "\\end{enumerate*}\n"
      ],
      "text/markdown": [
       "1. 1.8663\n",
       "2. 8.1666\n",
       "\n",
       "\n"
      ],
      "text/plain": [
       "[1] 1.8663 8.1666"
      ]
     },
     "metadata": {},
     "output_type": "display_data"
    }
   ],
   "source": [
    "alpha = 0.02\n",
    "n = 22\n",
    "var = 3.46\n",
    "round(c((n - 1) * var / qchisq(1 - alpha/2, n - 1), (n - 1) * var / qchisq(alpha/2, n - 1)), 4)"
   ]
  },
  {
   "cell_type": "markdown",
   "id": "045f1ff9-b31b-4513-bd16-923f549ca82e",
   "metadata": {},
   "source": [
    "### Pregunta B\n",
    "\n",
    "Con la información obtenida, el extremo izquierdo del intervalo estimado es: **1.8663**"
   ]
  },
  {
   "cell_type": "markdown",
   "id": "9b86ebad-6b37-4d5c-8783-3106c37d6144",
   "metadata": {},
   "source": [
    "### Pregunta C\n",
    "\n",
    "Con la información obtenida, el extremo derecho del intervalo estimado es: **8.1666**"
   ]
  },
  {
   "cell_type": "markdown",
   "id": "c34b43fa-72f8-4023-bf2c-dfeaf47df5f4",
   "metadata": {},
   "source": [
    "### Pregunta D\n",
    "\n",
    "¿Puede asegurar que hay una probabilidad de $0.98$ de que si se observa un nuevo dato de esta población, este pertenezca al intervalo construido?\n",
    "\n",
    "**No**"
   ]
  },
  {
   "cell_type": "markdown",
   "id": "57df2754-055e-4d3b-97f8-541407b1b02c",
   "metadata": {},
   "source": [
    "### Pregunta E\n",
    "\n",
    "¿Puede asegurar que el $98\\%$ de las observaciones pertenece al intervalo construido?\n",
    "\n",
    "**No**"
   ]
  }
 ],
 "metadata": {
  "kernelspec": {
   "display_name": "R",
   "language": "R",
   "name": "ir"
  },
  "language_info": {
   "codemirror_mode": "r",
   "file_extension": ".r",
   "mimetype": "text/x-r-source",
   "name": "R",
   "pygments_lexer": "r",
   "version": "4.1.0"
  }
 },
 "nbformat": 4,
 "nbformat_minor": 5
}
