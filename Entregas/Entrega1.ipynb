{
 "cells": [
  {
   "cell_type": "code",
   "execution_count": 50,
   "id": "2f3081c1-d195-4515-89f5-2baca30d2393",
   "metadata": {},
   "outputs": [],
   "source": [
    "library(glue)"
   ]
  },
  {
   "cell_type": "markdown",
   "id": "881d8476-4d86-4c45-86ea-12323d848c46",
   "metadata": {},
   "source": [
    "# Entrega 1\n",
    "\n",
    "- Fecha: 2021-09-09\n",
    "- Prácticas: 0, 1, 2"
   ]
  },
  {
   "cell_type": "markdown",
   "id": "d2e2ae4f-1bfc-4159-b243-aa757094971f",
   "metadata": {},
   "source": [
    "## Ejercicio 1"
   ]
  },
  {
   "cell_type": "markdown",
   "id": "63265902-59cc-48cd-8f16-884c243338f7",
   "metadata": {},
   "source": [
    "### Pregunta A\n",
    "\n",
    "La cooperadora escolar de un colegio primario consta de 46 familias, 15 de las cuales tienen un único hijo, 11 familias tienen dos hijos, 12 familias tienen tres hijos, 3 tienen cuatro hijos y 5 tienen cinco hijos. Si se selecciona un niño al azar, ¿cuál es la probabilidad de que pertenezca a una familia con 3 hijos?"
   ]
  },
  {
   "cell_type": "code",
   "execution_count": 59,
   "id": "a217e657-5da1-4d0b-a473-a6b38c968495",
   "metadata": {},
   "outputs": [
    {
     "name": "stdout",
     "output_type": "stream",
     "text": [
      "familias = 46\n",
      "totalDeHijos = 110\n",
      "Probabilidad de que el pibe pertenezca a una familia con 3 hijos: 0.327272727272727\n"
     ]
    }
   ],
   "source": [
    "# familiasPorHijos[i] = cantidad de familias con i hijos\n",
    "familiasPorHijos = c(15, 11, 12, 3, 5)\n",
    "\n",
    "# Verifico que hayan 46 familias\n",
    "print(glue('familias = {sum(familiasPorHijos)}'))\n",
    "\n",
    "totalDeHijos = sum(1:5 * familiasPorHijos)\n",
    "print(glue('totalDeHijos = {totalDeHijos}'))\n",
    "\n",
    "p = familiasPorHijos[3] * 3 / totalDeHijos\n",
    "print(glue('Probabilidad de que el pibe pertenezca a una familia con 3 hijos: {p}'))"
   ]
  },
  {
   "cell_type": "markdown",
   "id": "0c7257c7-199f-4ebf-9ce1-5d0d6db05057",
   "metadata": {},
   "source": [
    "### Pregunta B\n",
    "\n",
    "Se fabricaron 20 pendrives, de los cuales 8 son de 4 Gb y el resto, de 32 Gb. Se eligen 6 pendrives al azar para poner a la venta. Calcular la probabilidad de haber elegido exactamente 3 de 4 Gb."
   ]
  },
  {
   "cell_type": "markdown",
   "id": "bb3946a3-8cee-44f2-af09-4ac9e3921ec4",
   "metadata": {},
   "source": [
    "Resolución a los bifes que solo hay 45 minutos para entregar."
   ]
  },
  {
   "cell_type": "code",
   "execution_count": 61,
   "id": "093d1423-d877-4a91-b4d9-02104053c1b6",
   "metadata": {},
   "outputs": [
    {
     "data": {
      "text/html": [
       "0.317853457172343"
      ],
      "text/latex": [
       "0.317853457172343"
      ],
      "text/markdown": [
       "0.317853457172343"
      ],
      "text/plain": [
       "[1] 0.3178535"
      ]
     },
     "metadata": {},
     "output_type": "display_data"
    }
   ],
   "source": [
    "8/20 * 7/19 * 6/18 * 12/17 * 11/16 * 10/15 * choose(6, 3)"
   ]
  },
  {
   "cell_type": "markdown",
   "id": "a9bdcaee-7415-4323-90dd-eabe48a9a250",
   "metadata": {},
   "source": [
    "Resolución más piola reconociendo la distribución.\n",
    "\n",
    "$X$ = \"número de pendrives de 4 Gb en la muestra de tamaño 6\"\n",
    "\n",
    "$X \\sim H(6, 20, 8)$\n",
    "\n",
    "Calcular $P(X=3)$"
   ]
  },
  {
   "cell_type": "code",
   "execution_count": 64,
   "id": "7d886f29-337e-4066-9bc5-6a78db4510fa",
   "metadata": {},
   "outputs": [
    {
     "data": {
      "text/html": [
       "0.317853457172343"
      ],
      "text/latex": [
       "0.317853457172343"
      ],
      "text/markdown": [
       "0.317853457172343"
      ],
      "text/plain": [
       "[1] 0.3178535"
      ]
     },
     "metadata": {},
     "output_type": "display_data"
    }
   ],
   "source": [
    "N = 20\n",
    "D = 8\n",
    "n = 6\n",
    "x = 3\n",
    "dhyper(x, D, N-D, n)"
   ]
  },
  {
   "cell_type": "markdown",
   "id": "f2a29dd4-537d-4d31-8745-89eb5edbe0c0",
   "metadata": {},
   "source": [
    "## Ejercicio 2\n",
    "\n",
    "El número de veces que una persona se resfría en un período de un año es una variable aleatoria con distribución Poisson de parámetro 4. Un laboratorio produjo una nueva droga que dice reducir este número a 2 en un 60% de la población. Para el 40% restante la droga no tiene ningún efecto observable sobre el resfrío."
   ]
  },
  {
   "cell_type": "markdown",
   "id": "999cb3be-e869-4ff6-955c-b10c609188cc",
   "metadata": {},
   "source": [
    "### Pregunta A\n",
    "\n",
    "¿Cuál es la probabilidad de que una persona tenga 3 resfríos en un año?\n",
    "\n",
    "$D$ = \"la droga le produce beneficio\"\n",
    "\n",
    "$D^c$ = \"la droga no le hace efecto\"\n",
    "\n",
    "$P(D) = 0.6$\n",
    "\n",
    "$P(D^c) = 0.4$\n",
    "\n",
    "$X$ = \"número de veces que una persona se resfría en 1 año\"\n",
    "\n",
    "$X|D \\sim P(2)$\n",
    "\n",
    "$X|D^c \\sim P(4)$\n",
    "\n",
    "Calcular $P(X=3) = P(X=3 \\cap D) + P(X=3 \\cap D^c) = P(X|D=3)P(D) + P(X|D^c=3)P(D^c)$"
   ]
  },
  {
   "cell_type": "code",
   "execution_count": 67,
   "id": "a9626e1b-4d91-441e-a7a1-0b8e2a3cbea2",
   "metadata": {},
   "outputs": [
    {
     "data": {
      "text/html": [
       "0.186414952514556"
      ],
      "text/latex": [
       "0.186414952514556"
      ],
      "text/markdown": [
       "0.186414952514556"
      ],
      "text/plain": [
       "[1] 0.186415"
      ]
     },
     "metadata": {},
     "output_type": "display_data"
    }
   ],
   "source": [
    "PD = 0.6\n",
    "PDc = 0.4\n",
    "x = 3\n",
    "dpois(x, 2) * PD + dpois(x, 4) * PDc"
   ]
  },
  {
   "cell_type": "markdown",
   "id": "bc89a52f-a0b0-40ce-bc81-a1e0beca1011",
   "metadata": {},
   "source": [
    "### Pregunta B\n",
    "\n",
    "Si una persona tomó la droga por un año y en este período se resfrió 3 veces, ¿cuál es la probabilidad de que la droga le haya producido beneficio?\n",
    "\n",
    "Hay que dar vuelta la probabilidad condicional. Observar que $P(X=3)$ lo calculamos en la pregunta anterior.\n",
    "\n",
    "Calcular $P(D|X=3) = \\frac{P(D \\cap X=3)}{P(X=3)} = \\frac{P(X|D=3)P(D)}{P(X=3)}$"
   ]
  },
  {
   "cell_type": "code",
   "execution_count": 69,
   "id": "b804038c-f627-4ca9-a72c-b800fbe12cdb",
   "metadata": {},
   "outputs": [
    {
     "data": {
      "text/html": [
       "0.580791535919503"
      ],
      "text/latex": [
       "0.580791535919503"
      ],
      "text/markdown": [
       "0.580791535919503"
      ],
      "text/plain": [
       "[1] 0.5807915"
      ]
     },
     "metadata": {},
     "output_type": "display_data"
    }
   ],
   "source": [
    "(dpois(x, 2) * PD) / (dpois(x, 2) * PD + dpois(x, 4) * PDc)"
   ]
  },
  {
   "cell_type": "markdown",
   "id": "98695aa1-f4e5-4622-8ec7-f9da01617586",
   "metadata": {},
   "source": [
    "## Ejercicio 3\n",
    "\n",
    "Una fábrica que produce copas de cristal sabe por experiencia que el 8% de sus copas tiene defectos cosméticos por lo que deben considerarse de segunda clase."
   ]
  },
  {
   "cell_type": "markdown",
   "id": "749b9736-1e09-4713-8c3c-8f87a6a61a16",
   "metadata": {},
   "source": [
    "### Pregunta A\n",
    "\n",
    "Si se seleccionan 9 copas al azar, ¿cuál es la probabilidad de que a lo sumo 4 sean de segunda clase?\n",
    "\n",
    "$X$ = \"cantidad de copas con defectos\"\n",
    "\n",
    "$X \\sim Bi(9, 0.08)$\n",
    "\n",
    "Calcular $P(X \\leq 4) = F_X(4)$"
   ]
  },
  {
   "cell_type": "code",
   "execution_count": 70,
   "id": "34f9888b-051c-4ba1-a274-e67924232ffc",
   "metadata": {},
   "outputs": [
    {
     "data": {
      "text/html": [
       "0.999686418146263"
      ],
      "text/latex": [
       "0.999686418146263"
      ],
      "text/markdown": [
       "0.999686418146263"
      ],
      "text/plain": [
       "[1] 0.9996864"
      ]
     },
     "metadata": {},
     "output_type": "display_data"
    }
   ],
   "source": [
    "pbinom(4, 9, 0.08)"
   ]
  },
  {
   "cell_type": "markdown",
   "id": "59261161-bcf6-48dd-9eb5-875bd499f668",
   "metadata": {},
   "source": [
    "### Pregunta B\n",
    "\n",
    "En la misma situación que en el item anterior ¿cuántas copas de segunda clase se espera encontrar?\n",
    "\n",
    "$E(X) = np$"
   ]
  },
  {
   "cell_type": "code",
   "execution_count": 72,
   "id": "e7a86c7a-2634-4556-bda3-1477beae2d57",
   "metadata": {},
   "outputs": [
    {
     "data": {
      "text/html": [
       "0.72"
      ],
      "text/latex": [
       "0.72"
      ],
      "text/markdown": [
       "0.72"
      ],
      "text/plain": [
       "[1] 0.72"
      ]
     },
     "metadata": {},
     "output_type": "display_data"
    }
   ],
   "source": [
    "9 * 0.08"
   ]
  },
  {
   "cell_type": "markdown",
   "id": "b3bb37f3-271b-44b2-8f77-10ca9fab5103",
   "metadata": {},
   "source": [
    "### Pregunta C\n",
    "\n",
    "Si se revisan una a una las copas, ¿cuál es la probabilidad de que haya que revisar 5 copas hasta encontrar una de segunda clase?\n",
    "\n",
    "$X$ = \"cantidad de copas con defectos\"\n",
    "\n",
    "$X \\sim G(0.08)$\n",
    "\n",
    "Calcular $P(X=5)$"
   ]
  },
  {
   "cell_type": "code",
   "execution_count": 73,
   "id": "f6cf1adb-7c90-44d6-82c3-70382d19632a",
   "metadata": {},
   "outputs": [
    {
     "data": {
      "text/html": [
       "0.0573114368"
      ],
      "text/latex": [
       "0.0573114368"
      ],
      "text/markdown": [
       "0.0573114368"
      ],
      "text/plain": [
       "[1] 0.05731144"
      ]
     },
     "metadata": {},
     "output_type": "display_data"
    }
   ],
   "source": [
    "dgeom(4, 0.08)"
   ]
  }
 ],
 "metadata": {
  "kernelspec": {
   "display_name": "R",
   "language": "R",
   "name": "ir"
  },
  "language_info": {
   "codemirror_mode": "r",
   "file_extension": ".r",
   "mimetype": "text/x-r-source",
   "name": "R",
   "pygments_lexer": "r",
   "version": "4.1.0"
  }
 },
 "nbformat": 4,
 "nbformat_minor": 5
}
