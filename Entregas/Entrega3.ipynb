{
 "cells": [
  {
   "cell_type": "markdown",
   "id": "2c3c100f-6763-4652-bf8b-276f327cc04f",
   "metadata": {},
   "source": [
    "# Entrega 3\n",
    "\n",
    "- Fecha: 2021-10-28\n",
    "- Prácticas: 5, 6"
   ]
  },
  {
   "cell_type": "markdown",
   "id": "0e95f077-228d-4639-863f-de19b455c7c8",
   "metadata": {},
   "source": [
    "## Ejercicio 1"
   ]
  },
  {
   "cell_type": "code",
   "execution_count": 40,
   "id": "037c83cf-7a9d-411e-9d6c-609579023cca",
   "metadata": {},
   "outputs": [],
   "source": [
    "muestra = c(1.1, 4.5, 2.7, 7.4, 0.9, 3, 1.6, 4.7, 2.5, 0.2, 0.5)"
   ]
  },
  {
   "cell_type": "markdown",
   "id": "8d41af38-3f59-49fc-90f0-3673f39ea8e7",
   "metadata": {},
   "source": [
    "### Pregunta A\n",
    "\n",
    "Calcule la media muestral."
   ]
  },
  {
   "cell_type": "code",
   "execution_count": 18,
   "id": "3e02c2de-6928-4b55-9091-d129d54df1bc",
   "metadata": {},
   "outputs": [
    {
     "data": {
      "text/html": [
       "2.6455"
      ],
      "text/latex": [
       "2.6455"
      ],
      "text/markdown": [
       "2.6455"
      ],
      "text/plain": [
       "[1] 2.6455"
      ]
     },
     "metadata": {},
     "output_type": "display_data"
    }
   ],
   "source": [
    "round(mean(muestra), 4)"
   ]
  },
  {
   "cell_type": "markdown",
   "id": "204588fe-4915-480f-987c-a09eb06dceb4",
   "metadata": {},
   "source": [
    "### Pregunta B\n",
    "\n",
    "Calcule la mediana muestral."
   ]
  },
  {
   "cell_type": "code",
   "execution_count": 19,
   "id": "9e89d143-37eb-428b-ad0f-f1c1f484bb3e",
   "metadata": {},
   "outputs": [
    {
     "data": {
      "text/html": [
       "2.5"
      ],
      "text/latex": [
       "2.5"
      ],
      "text/markdown": [
       "2.5"
      ],
      "text/plain": [
       "[1] 2.5"
      ]
     },
     "metadata": {},
     "output_type": "display_data"
    }
   ],
   "source": [
    "round(median(muestra), 4)"
   ]
  },
  {
   "cell_type": "markdown",
   "id": "fae01fe4-0e42-446e-a678-9987810b9629",
   "metadata": {},
   "source": [
    "### Pregunta C\n",
    "\n",
    "Calcule la varianza muestral."
   ]
  },
  {
   "cell_type": "code",
   "execution_count": 20,
   "id": "bb2ed25e-8b71-4d19-a6e5-3d5863cf61ac",
   "metadata": {},
   "outputs": [
    {
     "data": {
      "text/html": [
       "4.7527"
      ],
      "text/latex": [
       "4.7527"
      ],
      "text/markdown": [
       "4.7527"
      ],
      "text/plain": [
       "[1] 4.7527"
      ]
     },
     "metadata": {},
     "output_type": "display_data"
    }
   ],
   "source": [
    "round(var(muestra), 4)"
   ]
  },
  {
   "cell_type": "markdown",
   "id": "f3f1f3dd-7eca-41ae-8e8c-7161ffdae057",
   "metadata": {},
   "source": [
    "### Pregunta D\n",
    "\n",
    "Los datos dados son una muestra aleatoria que tiene por distribución la de una variable aleatoria $X$. Usando estos datos estimar la probabilidad $P(X>2.43)$."
   ]
  },
  {
   "cell_type": "code",
   "execution_count": 21,
   "id": "ae1002df-ec82-4855-9ec1-f242cde57310",
   "metadata": {},
   "outputs": [
    {
     "data": {
      "text/html": [
       "0.5455"
      ],
      "text/latex": [
       "0.5455"
      ],
      "text/markdown": [
       "0.5455"
      ],
      "text/plain": [
       "[1] 0.5455"
      ]
     },
     "metadata": {},
     "output_type": "display_data"
    }
   ],
   "source": [
    "round(sum(muestra > 2.43) / length(muestra), 4)"
   ]
  },
  {
   "cell_type": "markdown",
   "id": "483702ec-66be-4675-9414-d1d0869f33ed",
   "metadata": {},
   "source": [
    "## Ejercicio 2\n",
    "\n",
    "Una fábrica de baterías afirma que el tiempo de vida de una de sus baterías de litio es una variable aleatoria (que se puede suponer continua) de media 750 días y desvío estándar 110 días.\n",
    "\n",
    "$X$ = Tiempo de vida de una batería\n",
    "\n",
    "$\\mu = 750$\n",
    "\n",
    "$\\sigma = 110$"
   ]
  },
  {
   "cell_type": "code",
   "execution_count": 47,
   "id": "57d6fe14-16a6-41fc-bfde-212c9f94a165",
   "metadata": {},
   "outputs": [],
   "source": [
    "u = 750\n",
    "sd = 110"
   ]
  },
  {
   "cell_type": "markdown",
   "id": "d5820f45-6674-45f3-ab33-c49a6cdb10b9",
   "metadata": {},
   "source": [
    "### Pregunta A\n",
    "\n",
    "Usando la desigualdad de Chebyshev dar una cota inferior para la probabilidad de que una batería de litio elegida al azar dure entre 618 y 882 días.\n",
    "\n",
    "$P(618 < X < 882) = P(-132 < X - 750 < 132) = P(|X - \\mu| < 132) \\geq 1 - \\tfrac{\\sigma^2}{132^2}$"
   ]
  },
  {
   "cell_type": "code",
   "execution_count": 49,
   "id": "1d4d40e4-0217-4875-a9c9-e6dbb19d1437",
   "metadata": {},
   "outputs": [
    {
     "data": {
      "text/html": [
       "0.3056"
      ],
      "text/latex": [
       "0.3056"
      ],
      "text/markdown": [
       "0.3056"
      ],
      "text/plain": [
       "[1] 0.3056"
      ]
     },
     "metadata": {},
     "output_type": "display_data"
    }
   ],
   "source": [
    "round(1 - sd^2 / 132^2, 4)"
   ]
  },
  {
   "cell_type": "markdown",
   "id": "973c7658-e20a-41fc-bef8-7f020e33ffcb",
   "metadata": {},
   "source": [
    "### Pregunta B\n",
    "\n",
    "Si la variable tuviese dstribución normal. Calcular la probabilidad del item anterior en forma exacta."
   ]
  },
  {
   "cell_type": "code",
   "execution_count": 50,
   "id": "94d0c6b5-07c2-4aed-912f-5e598137d1c5",
   "metadata": {},
   "outputs": [
    {
     "data": {
      "text/html": [
       "0.7699"
      ],
      "text/latex": [
       "0.7699"
      ],
      "text/markdown": [
       "0.7699"
      ],
      "text/plain": [
       "[1] 0.7699"
      ]
     },
     "metadata": {},
     "output_type": "display_data"
    }
   ],
   "source": [
    "round(pnorm(882, u, sd) - pnorm(618, u, sd), 4)"
   ]
  },
  {
   "cell_type": "markdown",
   "id": "f179720b-3fb3-4284-9bf5-771b0fceb661",
   "metadata": {},
   "source": [
    "## Ejercicio 3\n",
    "\n",
    "El profesor de un curso de estadísitica sabe por experiencia que el tiempo que le toma corregir un examen elegido al azar es una variable aleatoria de media 9 MINUTOS. Acutalmente tiene 50 estudiantes a los que les tomó un examen."
   ]
  },
  {
   "cell_type": "markdown",
   "id": "67dfdb68-c694-40a2-bbd7-782465ceb8e8",
   "metadata": {},
   "source": [
    "### Pregunta A\n",
    "\n",
    "Si el tiempo de corrección de un examen es independiente de los otros y además sabe que el desvío estándar es 9 MINUTOS. Aproximar la probabilidad de que le tome entre 7.2 y 8 HORAS en corregir los 50 exámenes.\n",
    "\n",
    "$X$ = Tiempo que tarda en corregir un examen\n",
    "\n",
    "$\\mu = 9$ Esperanza de $X$\n",
    "\n",
    "$\\sigma = 9$ Desvío estándar de $X$\n",
    "\n",
    "$n = 50$\n",
    "\n",
    "$7.2$ horas = $432$ minutos\n",
    "\n",
    "$8$ horas = $480$ minutos\n",
    "\n",
    "$S_n = \\sum_{i=1}^n X_i$ Tiempo que tarda en corregir $n$ exámenes\n",
    "\n",
    "$E(S_n) = E(\\sum_{i=1}^n X_i) = \\sum_{i=1}^n E(X_i) = n E(X_i) = n \\mu = 50 * 9 = 450$\n",
    "\n",
    "$V(S_n) = V(\\sum_{i=1}^n X_i) = \\sum_{i=1}^n V(X_i) = n V(X_i) = 50 * 9^2 = 4050$\n",
    "\n",
    "Por TCL:\n",
    "\n",
    "$\n",
    "\\begin{align*}\n",
    "\\frac{Sn - E(S_n)}{\\sqrt{V(S_n)}} \\xrightarrow{d} Z \\sim N(0,1)\n",
    "\\end{align*}\n",
    "$\n",
    "\n",
    "$P(432 < Sn < 480) \\approx P\\Big( \\tfrac{432 - E(S_n)}{\\sqrt{V(S_n)}} < Z < \\tfrac{480 - E(S_n)}{\\sqrt{V(S_n)}} \\Big) = P\\Big( \\tfrac{432 - 450}{\\sqrt{4050}} < Z < \\tfrac{480 - 450}{\\sqrt{4050}} \\Big)$"
   ]
  },
  {
   "cell_type": "code",
   "execution_count": 31,
   "id": "6e2cfab7-91e8-4d75-94ac-d500fc0c8b52",
   "metadata": {},
   "outputs": [],
   "source": [
    "tcl.sum = function(x, n, u, sd, lower.tail=TRUE) pnorm((x - n * u) / (sd * sqrt(n)), lower.tail=lower.tail)"
   ]
  },
  {
   "cell_type": "code",
   "execution_count": 44,
   "id": "fcd52713-5d6c-4bb3-9ac7-cad029b5f0a4",
   "metadata": {},
   "outputs": [
    {
     "data": {
      "text/html": [
       "0.2927"
      ],
      "text/latex": [
       "0.2927"
      ],
      "text/markdown": [
       "0.2927"
      ],
      "text/plain": [
       "[1] 0.2927"
      ]
     },
     "metadata": {},
     "output_type": "display_data"
    }
   ],
   "source": [
    "u = 9\n",
    "sd = 9\n",
    "n = 50\n",
    "xmin = 7.2 * 60\n",
    "xmax = 8 * 60\n",
    "round(tcl.sum(xmax, n, u, sd) - tcl.sum(xmin, n, u, sd), 4)"
   ]
  },
  {
   "cell_type": "markdown",
   "id": "a6224cbb-da05-4e15-9f0e-fde1449711b9",
   "metadata": {},
   "source": [
    "### Pregunta B\n",
    "\n",
    "Si se supone que la variable aleatoria de la corrección de UN exámen sigue una distribución exponencial de media 9 minutos. Calcular la probabildad del item anterior en forma exacta.\n",
    "\n",
    "$E(X) = \\tfrac{1}{\\lambda} = 9 \\implies \\lambda = \\tfrac{1}{9}$\n",
    "\n",
    "$X \\sim \\mathcal{E}(\\lambda)$\n",
    "\n",
    "$S_n = \\sum_{i=1}^n X_i \\sim \\Gamma(n, \\lambda)$\n",
    "\n",
    "$P(432 < Sn < 480)$"
   ]
  },
  {
   "cell_type": "code",
   "execution_count": 46,
   "id": "f88b41fa-08f4-4a2f-b1a8-c921df79e42a",
   "metadata": {},
   "outputs": [
    {
     "data": {
      "text/html": [
       "0.2889"
      ],
      "text/latex": [
       "0.2889"
      ],
      "text/markdown": [
       "0.2889"
      ],
      "text/plain": [
       "[1] 0.2889"
      ]
     },
     "metadata": {},
     "output_type": "display_data"
    }
   ],
   "source": [
    "lambda = 1/9\n",
    "round(pgamma(xmax, n, lambda) - pgamma(xmin, n, lambda), 4)"
   ]
  }
 ],
 "metadata": {
  "kernelspec": {
   "display_name": "R",
   "language": "R",
   "name": "ir"
  },
  "language_info": {
   "codemirror_mode": "r",
   "file_extension": ".r",
   "mimetype": "text/x-r-source",
   "name": "R",
   "pygments_lexer": "r",
   "version": "4.1.0"
  }
 },
 "nbformat": 4,
 "nbformat_minor": 5
}
