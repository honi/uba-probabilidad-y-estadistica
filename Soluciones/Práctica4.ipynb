{
 "cells": [
  {
   "cell_type": "markdown",
   "id": "339bbf2f-b0ca-44ea-a46e-a45db356ce3c",
   "metadata": {},
   "source": [
    "# Práctica 4"
   ]
  },
  {
   "cell_type": "markdown",
   "id": "2dd67f5d-0e2b-4499-a1f5-c31743d12de6",
   "metadata": {},
   "source": [
    "## Ejercicio 1\n",
    "\n",
    "Sea $(X, Y)$ un vector aleatorio con función de densidad conjunta:\n",
    "\n",
    "$\n",
    "f_{XY}(x,y) =\n",
    "\\begin{cases}\n",
    "    k(x^2 + y^2) & 2 \\leq x \\leq 3, 2 \\leq y \\leq 3 \\\\\n",
    "    0 & \\text{en otro caso}\n",
    "\\end{cases}\n",
    "$"
   ]
  },
  {
   "cell_type": "markdown",
   "id": "72ec00fa-5e23-4edc-b52e-49ea71a1b75b",
   "metadata": {},
   "source": [
    "### Pregunta A\n",
    "\n",
    "¿Cuál es el valor de $k$?\n",
    "\n",
    "$\n",
    "\\begin{align*}\n",
    "\\int_2^3 \\int_2^3 k(x^2 + y^2) dx dy\n",
    "&= k \\Big( \\int_2^3 x^2 y^2 dx dy \\Big) \\\\\n",
    "&= k \\int_2^{3} \\Big[ \\tfrac{x^3}{3} + xy^2 \\Big]_2^{3} dy \\\\\n",
    "&= k \\int_2^{3} \\tfrac{3^3}{3} + 3y^2 - \\tfrac{2^3}{3} - 2y^2 dy \\\\\n",
    "&= k \\int_2^{3} y^2 + \\tfrac{19}{3} dy \\\\\n",
    "&= k \\Big[ \\tfrac{y^3}{3} + \\tfrac{19}{3}y \\Big]_2^{3} \\\\\n",
    "&= k \\Big( \\tfrac{3^3}{3} + \\tfrac{19}{3}3 - \\tfrac{2^3}{3} - \\tfrac{19}{3}2 \\Big) \\\\\n",
    "&= k \\tfrac{38}{3}\n",
    "\\end{align*}\n",
    "$\n",
    "\n",
    "$\\iint_{\\mathbb{R}^2} f_{XY}(x,y) dx dy = \\int_2^3 \\int_2^3 k(x^2 + y^2) dx dy = 1 \\iff k \\tfrac{38}{3} = 1 \\iff k = \\tfrac{3}{38}$"
   ]
  },
  {
   "cell_type": "markdown",
   "id": "a849b881-3096-4e57-878f-0f9fddecc616",
   "metadata": {},
   "source": [
    "### Pregunta B\n",
    "\n",
    "¿Cuál es la probabilidad de que tanto $X$ como $Y$ sean menores que 2.6?\n",
    "\n",
    "$\n",
    "\\begin{align*}\n",
    "P(X \\leq 2.6, Y \\leq 2.6)\n",
    "&= \\int_2^{2.6} \\int_2^{2.6} \\tfrac{3}{38}(x^2 + y^2) dx dy \\\\\n",
    "&= \\tfrac{3}{38} \\int_2^{2.6} \\int_2^{2.6} x^2 + y^2 dx dy \\\\\n",
    "&= \\tfrac{3}{38} \\int_2^{2.6} \\Big[ \\tfrac{x^3}{3} + xy^2 \\Big]_2^{2.6} dy \\\\\n",
    "&= \\tfrac{3}{38} \\int_2^{2.6} \\tfrac{2.6^3}{3} + 2.6y^2 - \\tfrac{2^3}{3} - 2y^2 dy \\\\\n",
    "&= \\tfrac{3}{38} \\int_2^{2.6} 0.6y^2 + \\tfrac{399}{125} dy \\\\\n",
    "&= \\tfrac{3}{38} \\Big[ \\tfrac{0.6y^3}{3} + \\tfrac{399}{125}y \\Big]_2^{2.6} \\\\\n",
    "&= \\tfrac{3}{38} \\Big( \\tfrac{0.6*2.6^3}{3} + \\tfrac{399}{125}2.6 - \\tfrac{0.6*2^3}{3} - \\tfrac{399}{125}2 \\Big) \\\\\n",
    "&= 0.3024\n",
    "\\end{align*}\n",
    "$"
   ]
  },
  {
   "cell_type": "markdown",
   "id": "83745bb3-fa66-45f8-b4c1-2d09630e0da1",
   "metadata": {},
   "source": [
    "### Pregunta C\n",
    "\n",
    "¿Cuál es la probabilidad de que $max(X,Y) < 2.6$?"
   ]
  },
  {
   "cell_type": "markdown",
   "id": "e914c7ad-7b73-4b01-95c1-909ecc86026b",
   "metadata": {},
   "source": [
    "### Pregunta D\n",
    "\n",
    "Hallar $f_X$ y $f_Y$, las funciones de densidad marginales.\n",
    "\n",
    "$\n",
    "\\begin{align*}\n",
    "f_X(x)\n",
    "&= \\int_2^3 \\tfrac{3}{38}(x^2 + y^2) dy \\\\\n",
    "&= \\tfrac{3}{38} \\int_2^3 x^2 + y^2 dy \\\\\n",
    "&= \\tfrac{3}{38} \\Big[ yx^2 + \\tfrac{y^3}{3} \\Big]_2^3 \\\\\n",
    "&= \\tfrac{3}{38} \\Big( 3x^2 + \\tfrac{3^3}{3} - 2x^2 - \\tfrac{2^3}{3} \\Big) \\\\\n",
    "&= \\tfrac{3}{38} \\Big( x^2 + \\tfrac{19}{3} \\Big) \\\\\n",
    "&= \\tfrac{3}{38} x^2 + \\tfrac{1}{2} \\\\\n",
    "\\end{align*}\n",
    "$\n",
    "\n",
    "Análogamente, $f_Y(y) = \\tfrac{3}{38} y^2 + \\tfrac{1}{2}$"
   ]
  },
  {
   "cell_type": "markdown",
   "id": "dc57220f-0d8c-4d14-a985-c04c90744bd8",
   "metadata": {},
   "source": [
    "## Ejercicio 2\n",
    "\n",
    "De un grupo de tres profesores, dos graduados y un alumno debe seleccionarse al azar una comisión de dos personas. Sean $X$ el número de profesores e $Y$ el número de graduados en la comisión."
   ]
  },
  {
   "cell_type": "markdown",
   "id": "25194c46-b395-429c-94a8-dc836d395233",
   "metadata": {},
   "source": [
    "### Pregunta A\n",
    "\n",
    "Hallar la función de probabilidad conjunta del par $(X, Y)$ y las marginales de $X$ e $Y$.\n",
    "\n",
    "$P(X=1, Y=0) = \\frac{{3 \\choose 1}{2 \\choose 0}{1 \\choose 1}}{{6 \\choose 2}} = \\frac{3}{15}$\n",
    "\n",
    "$P(X=2, Y=0) = \\frac{{3 \\choose 2}{2 \\choose 0}{1 \\choose 0}}{{6 \\choose 2}} = \\frac{3}{15}$\n",
    "\n",
    "$P(X=0, Y=1) = \\frac{{3 \\choose 0}{2 \\choose 1}{1 \\choose 1}}{{6 \\choose 2}} = \\frac{2}{15}$\n",
    "\n",
    "$P(X=1, Y=1) = \\frac{{3 \\choose 1}{2 \\choose 1}{1 \\choose 0}}{{6 \\choose 2}} = \\frac{6}{15}$\n",
    "\n",
    "$P(X=0, Y=2) = \\frac{{3 \\choose 0}{2 \\choose 2}{1 \\choose 0}}{{6 \\choose 2}} = \\frac{1}{15}$\n",
    "\n",
    "| Y/X | 0 | 1 | 2 | Py(y) |\n",
    "|---|---|---|---|---|\n",
    "| **0** | 0 | 3/15 | 3/15 | 6/15 |\n",
    "| **1** | 2/15 | 6/15 | 0 | 8/15 |\n",
    "| **2** | 1/15 | 0 | 0 | 1/15 |\n",
    "| **Px(x)** | 3/15 | 9/15 | 3/15 | 1 |"
   ]
  },
  {
   "cell_type": "markdown",
   "id": "263c4212-41f0-40e0-bbe1-37f5c3206229",
   "metadata": {},
   "source": [
    "### Pregunta B\n",
    "\n",
    "¿Cuál es la probabilidad de que el alumno no forme parte de la comisión?\n",
    "\n",
    "$P(X+Y=2) = P(X=0, Y=2) + P(X=2, Y=0) + P(X=1, Y=1) = \\tfrac{10}{15} = \\tfrac{2}{3}$"
   ]
  },
  {
   "cell_type": "markdown",
   "id": "cb707039-9454-4316-9562-668dbf7eeedc",
   "metadata": {},
   "source": [
    "## Ejercicio 3\n",
    "\n",
    "Sea $(X, Y)$ una v.a. bidimensional continua con distribución uniforme en el trapecio de vértices $(-1,0)$, $(0,1)$, $(1,1)$ y $(2,0)$."
   ]
  },
  {
   "cell_type": "markdown",
   "id": "e0f85d57-54bf-47f8-90e3-5cda4bd689ae",
   "metadata": {},
   "source": [
    "### Pregunta A\n",
    "\n",
    "Hallar la función de densidad conjunta de $(X, Y)$.\n",
    "\n",
    "Sea $A$ = trapecio de vértices $(-1,0)$, $(0,1)$, $(1,1)$ y $(2,0)$\n",
    "\n",
    "$\n",
    "(X,Y) \\sim U(A) \\iff f_{XY}(x,y) =\n",
    "\\begin{cases}\n",
    "    k & (x,y) \\in A \\\\\n",
    "    0 & (x,y) \\notin A\n",
    "\\end{cases}\n",
    "$\n",
    "\n",
    "Integramos sobre $A$ para buscar el valor de la constante $k$.\n",
    "\n",
    "$\n",
    "\\int_A f_{XY}(x,y) dx dy = 1 \\iff \\int_A k dx dy = 1 \\iff k \\int_A dx dy = 1 \\iff k * area(A) = 1 \\iff k = \\frac{1}{area(A)}\n",
    "$\n",
    "\n",
    "$area(A) = \\tfrac{1}{2} + 1 + \\tfrac{1}{2} = 2 \\implies k = \\tfrac{1}{2}$\n",
    "\n",
    "Por lo tanto resulta:\n",
    "\n",
    "$f_{XY}(x,y) =\n",
    "\\begin{cases}\n",
    "    \\tfrac{1}{2} & (x,y) \\in A \\\\\n",
    "    0 & (x,y) \\notin A\n",
    "\\end{cases}$"
   ]
  },
  {
   "cell_type": "markdown",
   "id": "822732ec-1df5-4228-afce-f254bacb9cab",
   "metadata": {},
   "source": [
    "### Pregunta B\n",
    "\n",
    "Calcular $P(Y \\leq X)$.\n",
    "\n",
    "$Y \\leq X$ forma un triángulo de vértices $(0,0)$, $(1,1)$, y $(2,0)$.\n",
    "\n",
    "Llamemos $B$ a este triángulo y notemos que $B \\subset A$, y que $area(B) = 1$.\n",
    "\n",
    "$P(Y \\leq X) = \\int_B f_{XY}(x,y) dx dy = \\int_B \\tfrac{1}{2} dx dy = \\tfrac{1}{2} * area(B) = \\tfrac{1}{2}$"
   ]
  },
  {
   "cell_type": "markdown",
   "id": "e838e8cf-3af0-4c76-8477-9c0440fcce37",
   "metadata": {},
   "source": [
    "### Pregunta C\n",
    "\n",
    "Hallar las funciones de densidad marginales $f_X$ y $f_Y$.\n",
    "\n",
    "Para esto hay que describir al trapecio como una relación entre $x$ e $y$ para poder plantear las integrales.\n",
    "\n",
    "Podemos considerar: $0 \\leq y \\leq 1 \\land y-1 \\leq x \\leq 2-y$\n",
    "\n",
    "Para calcular $f_X$ tenemos que despejar $y$ en función de $x$ para poder plantear la integral. Entonces dividimos el trapecio en 3 partes: el triángulo de la izquierda, el cuadrado del medio, y el triángulo de la derecha.\n",
    "\n",
    "$\n",
    "f_X(x)\n",
    "= \\begin{cases}\n",
    "\\int_0^{x+1} \\tfrac{1}{2} dy & -1 \\leq x < 0 \\\\\n",
    "\\int_0^1 \\tfrac{1}{2} dy & 0 \\leq x \\leq 1 \\\\\n",
    "\\int_0^{2-x} \\tfrac{1}{2} dy & 1 < x \\leq 2\n",
    "\\end{cases}\n",
    "= \\begin{cases}\n",
    "\\tfrac{1}{2} (x+1) & -1 \\leq x < 0 \\\\\n",
    "\\tfrac{1}{2} & 0 \\leq x \\leq 1 \\\\\n",
    "\\tfrac{1}{2} (2-x) & 1 < x \\leq 2\n",
    "\\end{cases}\n",
    "$\n",
    "\n",
    "Otra forma de escribirlo:\n",
    "\n",
    "$\n",
    "\\begin{align*}\n",
    "f_X(x)\n",
    "&= \\int_0^{x+1} \\tfrac{1}{2} dy + \\int_0^1 \\tfrac{1}{2} dy + \\int_0^{2-x} \\tfrac{1}{2} dy \\\\\n",
    "&= \\tfrac{1}{2} \\Big[ y \\Big]_0^{x+1} + \\tfrac{1}{2} \\Big[ y \\Big]_0^1 + \\tfrac{1}{2} \\Big[ y \\Big]_0^{2-x} \\\\\n",
    "&= \\tfrac{1}{2} (x+1) I_{[-1,0)}(x) + \\tfrac{1}{2} I_{[0,1]}(x) + \\tfrac{1}{2} (2-x) I_{(1,2]}(x)\n",
    "\\end{align*}\n",
    "$\n",
    "\n",
    "Para calcular $f_Y$ es más fácil porque solo necesitamos una integral.\n",
    "\n",
    "$f_Y(y) = \\int_{y-1}^{2-y} \\tfrac{1}{2} dx = \\tfrac{1}{2} \\Big[ x \\Big]_{y-1}^{2-y} = \\tfrac{3}{2} - y I_{[0, 1]}$"
   ]
  },
  {
   "cell_type": "markdown",
   "id": "67f8ea45-bdbc-4848-a378-a15c5655ce25",
   "metadata": {},
   "source": [
    "## Ejercicio 4\n",
    "\n",
    "Para iluminar sin interrupción una sala (de computadoras!) se cuenta con dos lamparitas; cuando se quema una, se coloca la otra. Sean $X$ e $Y$ los tiempos de vida de cada lamparita (en 10^3 horas) y supóngase que esos tiempos son independientes y tienen distribución $\\mathcal{E}(1)$."
   ]
  },
  {
   "cell_type": "markdown",
   "id": "23bccef3-8663-45f7-a02c-f3ddf32c531b",
   "metadata": {},
   "source": [
    "### Pregunta A\n",
    "\n",
    "Hallar la densidad conjunta de $(X, Y)$."
   ]
  },
  {
   "cell_type": "markdown",
   "id": "76f1e10f-5223-41b3-aa06-3c6ff5873e05",
   "metadata": {},
   "source": [
    "### Pregunta B\n",
    "\n",
    "Hallar la probabilidad de que la sala permanezca iluminada al menos 2000 horas."
   ]
  },
  {
   "cell_type": "markdown",
   "id": "dfcf7061-2bba-47d3-8494-fba683d73b2e",
   "metadata": {},
   "source": [
    "## Ejercicio 5"
   ]
  },
  {
   "cell_type": "markdown",
   "id": "6b64b1a3-5938-4862-81c0-e0bb433c7939",
   "metadata": {},
   "source": [
    "## Ejercicio 6"
   ]
  }
 ],
 "metadata": {
  "kernelspec": {
   "display_name": "R",
   "language": "R",
   "name": "ir"
  },
  "language_info": {
   "codemirror_mode": "r",
   "file_extension": ".r",
   "mimetype": "text/x-r-source",
   "name": "R",
   "pygments_lexer": "r",
   "version": "4.1.0"
  }
 },
 "nbformat": 4,
 "nbformat_minor": 5
}
