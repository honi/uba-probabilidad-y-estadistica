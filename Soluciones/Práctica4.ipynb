{
 "cells": [
  {
   "cell_type": "code",
   "execution_count": 1,
   "id": "0f4d64b0-e11c-4bde-bd5a-b4a62c690878",
   "metadata": {},
   "outputs": [],
   "source": [
    "library(glue)"
   ]
  },
  {
   "cell_type": "markdown",
   "id": "339bbf2f-b0ca-44ea-a46e-a45db356ce3c",
   "metadata": {},
   "source": [
    "# Práctica 4"
   ]
  },
  {
   "cell_type": "markdown",
   "id": "2dd67f5d-0e2b-4499-a1f5-c31743d12de6",
   "metadata": {},
   "source": [
    "## Ejercicio 1\n",
    "\n",
    "Sea $(X, Y)$ un vector aleatorio con función de densidad conjunta:\n",
    "\n",
    "$\n",
    "f_{XY}(x,y) =\n",
    "\\begin{cases}\n",
    "    k(x^2 + y^2) & 2 \\leq x \\leq 3, 2 \\leq y \\leq 3 \\\\\n",
    "    0 & \\text{en otro caso}\n",
    "\\end{cases}\n",
    "$"
   ]
  },
  {
   "cell_type": "markdown",
   "id": "72ec00fa-5e23-4edc-b52e-49ea71a1b75b",
   "metadata": {},
   "source": [
    "### Pregunta A\n",
    "\n",
    "¿Cuál es el valor de $k$?\n",
    "\n",
    "$\n",
    "\\begin{align*}\n",
    "\\int_2^3 \\int_2^3 k(x^2 + y^2) dx dy\n",
    "&= k \\Big( \\int_2^3 x^2 y^2 dx dy \\Big) \\\\\n",
    "&= k \\int_2^{3} \\Big[ \\tfrac{x^3}{3} + xy^2 \\Big]_2^{3} dy \\\\\n",
    "&= k \\int_2^{3} \\tfrac{3^3}{3} + 3y^2 - \\tfrac{2^3}{3} - 2y^2 dy \\\\\n",
    "&= k \\int_2^{3} y^2 + \\tfrac{19}{3} dy \\\\\n",
    "&= k \\Big[ \\tfrac{y^3}{3} + \\tfrac{19}{3}y \\Big]_2^{3} \\\\\n",
    "&= k \\Big( \\tfrac{3^3}{3} + \\tfrac{19}{3}3 - \\tfrac{2^3}{3} - \\tfrac{19}{3}2 \\Big) \\\\\n",
    "&= k \\tfrac{38}{3}\n",
    "\\end{align*}\n",
    "$\n",
    "\n",
    "$\\iint_{\\mathbb{R}^2} f_{XY}(x,y) dx dy = \\int_2^3 \\int_2^3 k(x^2 + y^2) dx dy = 1 \\iff k \\tfrac{38}{3} = 1 \\iff k = \\tfrac{3}{38}$"
   ]
  },
  {
   "cell_type": "markdown",
   "id": "a849b881-3096-4e57-878f-0f9fddecc616",
   "metadata": {},
   "source": [
    "### Pregunta B\n",
    "\n",
    "¿Cuál es la probabilidad de que tanto $X$ como $Y$ sean menores que 2.6?\n",
    "\n",
    "$\n",
    "\\begin{align*}\n",
    "P(X \\leq 2.6, Y \\leq 2.6)\n",
    "&= \\int_2^{2.6} \\int_2^{2.6} \\tfrac{3}{38}(x^2 + y^2) dx dy \\\\\n",
    "&= \\tfrac{3}{38} \\int_2^{2.6} \\int_2^{2.6} x^2 + y^2 dx dy \\\\\n",
    "&= \\tfrac{3}{38} \\int_2^{2.6} \\Big[ \\tfrac{x^3}{3} + xy^2 \\Big]_2^{2.6} dy \\\\\n",
    "&= \\tfrac{3}{38} \\int_2^{2.6} \\tfrac{2.6^3}{3} + 2.6y^2 - \\tfrac{2^3}{3} - 2y^2 dy \\\\\n",
    "&= \\tfrac{3}{38} \\int_2^{2.6} 0.6y^2 + \\tfrac{399}{125} dy \\\\\n",
    "&= \\tfrac{3}{38} \\Big[ \\tfrac{0.6y^3}{3} + \\tfrac{399}{125}y \\Big]_2^{2.6} \\\\\n",
    "&= \\tfrac{3}{38} \\Big( \\tfrac{0.6*2.6^3}{3} + \\tfrac{399}{125}2.6 - \\tfrac{0.6*2^3}{3} - \\tfrac{399}{125}2 \\Big) \\\\\n",
    "&= 0.3024\n",
    "\\end{align*}\n",
    "$"
   ]
  },
  {
   "cell_type": "markdown",
   "id": "83745bb3-fa66-45f8-b4c1-2d09630e0da1",
   "metadata": {},
   "source": [
    "### Pregunta C\n",
    "\n",
    "¿Cuál es la probabilidad de que $max(X,Y) < 2.6$?"
   ]
  },
  {
   "cell_type": "markdown",
   "id": "e914c7ad-7b73-4b01-95c1-909ecc86026b",
   "metadata": {},
   "source": [
    "### Pregunta D\n",
    "\n",
    "Hallar $f_X$ y $f_Y$, las funciones de densidad marginales.\n",
    "\n",
    "$\n",
    "\\begin{align*}\n",
    "f_X(x)\n",
    "&= \\int_2^3 \\tfrac{3}{38}(x^2 + y^2) dy \\\\\n",
    "&= \\tfrac{3}{38} \\int_2^3 x^2 + y^2 dy \\\\\n",
    "&= \\tfrac{3}{38} \\Big[ yx^2 + \\tfrac{y^3}{3} \\Big]_2^3 \\\\\n",
    "&= \\tfrac{3}{38} \\Big( 3x^2 + \\tfrac{3^3}{3} - 2x^2 - \\tfrac{2^3}{3} \\Big) \\\\\n",
    "&= \\tfrac{3}{38} \\Big( x^2 + \\tfrac{19}{3} \\Big) \\\\\n",
    "&= \\tfrac{3}{38} x^2 + \\tfrac{1}{2} \\\\\n",
    "\\end{align*}\n",
    "$\n",
    "\n",
    "Análogamente, $f_Y(y) = \\tfrac{3}{38} y^2 + \\tfrac{1}{2}$"
   ]
  },
  {
   "cell_type": "markdown",
   "id": "dc57220f-0d8c-4d14-a985-c04c90744bd8",
   "metadata": {},
   "source": [
    "## Ejercicio 2\n",
    "\n",
    "De un grupo de tres profesores, dos graduados y un alumno debe seleccionarse al azar una comisión de dos personas. Sean $X$ el número de profesores e $Y$ el número de graduados en la comisión."
   ]
  },
  {
   "cell_type": "markdown",
   "id": "25194c46-b395-429c-94a8-dc836d395233",
   "metadata": {},
   "source": [
    "### Pregunta A\n",
    "\n",
    "Hallar la función de probabilidad conjunta del par $(X, Y)$ y las marginales de $X$ e $Y$.\n",
    "\n",
    "$p_{XY}(1,0) = \\frac{{3 \\choose 1}{2 \\choose 0}{1 \\choose 1}}{{6 \\choose 2}} = \\frac{3}{15}$\n",
    "\n",
    "$p_{XY}(2,0) = \\frac{{3 \\choose 2}{2 \\choose 0}{1 \\choose 0}}{{6 \\choose 2}} = \\frac{3}{15}$\n",
    "\n",
    "$p_{XY}(0,1) = \\frac{{3 \\choose 0}{2 \\choose 1}{1 \\choose 1}}{{6 \\choose 2}} = \\frac{2}{15}$\n",
    "\n",
    "$p_{XY}(1,1) = \\frac{{3 \\choose 1}{2 \\choose 1}{1 \\choose 0}}{{6 \\choose 2}} = \\frac{6}{15}$\n",
    "\n",
    "$p_{XY}(0,2) = \\frac{{3 \\choose 0}{2 \\choose 2}{1 \\choose 0}}{{6 \\choose 2}} = \\frac{1}{15}$\n",
    "\n",
    "| Y/X | 0 | 1 | 2 | Py(y) |\n",
    "|---|---|---|---|---|\n",
    "| **0** | 0 | 3/15 | 3/15 | 6/15 |\n",
    "| **1** | 2/15 | 6/15 | 0 | 8/15 |\n",
    "| **2** | 1/15 | 0 | 0 | 1/15 |\n",
    "| **Px(x)** | 3/15 | 9/15 | 3/15 | 1 |"
   ]
  },
  {
   "cell_type": "markdown",
   "id": "263c4212-41f0-40e0-bbe1-37f5c3206229",
   "metadata": {},
   "source": [
    "### Pregunta B\n",
    "\n",
    "¿Cuál es la probabilidad de que el alumno no forme parte de la comisión?\n",
    "\n",
    "$P(X+Y=2) = p_{XY}(0,2) + p_{XY}(2,0) + p_{XY}(1,1) = \\tfrac{10}{15} = \\tfrac{2}{3}$"
   ]
  },
  {
   "cell_type": "markdown",
   "id": "cb707039-9454-4316-9562-668dbf7eeedc",
   "metadata": {},
   "source": [
    "## Ejercicio 3\n",
    "\n",
    "Sea $(X, Y)$ una v.a. bidimensional continua con distribución uniforme en el trapecio de vértices $(-1,0)$, $(0,1)$, $(1,1)$ y $(2,0)$."
   ]
  },
  {
   "cell_type": "markdown",
   "id": "e0f85d57-54bf-47f8-90e3-5cda4bd689ae",
   "metadata": {},
   "source": [
    "### Pregunta A\n",
    "\n",
    "Hallar la función de densidad conjunta de $(X, Y)$.\n",
    "\n",
    "Sea $A$ = trapecio de vértices $(-1,0)$, $(0,1)$, $(1,1)$ y $(2,0)$\n",
    "\n",
    "$\n",
    "(X,Y) \\sim U(A) \\iff f_{XY}(x,y) =\n",
    "\\begin{cases}\n",
    "    k & (x,y) \\in A \\\\\n",
    "    0 & (x,y) \\notin A\n",
    "\\end{cases}\n",
    "$\n",
    "\n",
    "Integramos sobre $A$ para buscar el valor de la constante $k$.\n",
    "\n",
    "$\n",
    "\\int_A f_{XY}(x,y) dx dy = 1 \\iff \\int_A k dx dy = 1 \\iff k \\int_A dx dy = 1 \\iff k * area(A) = 1 \\iff k = \\frac{1}{area(A)}\n",
    "$\n",
    "\n",
    "$area(A) = \\tfrac{1}{2} + 1 + \\tfrac{1}{2} = 2 \\implies k = \\tfrac{1}{2}$\n",
    "\n",
    "Por lo tanto resulta:\n",
    "\n",
    "$f_{XY}(x,y) =\n",
    "\\begin{cases}\n",
    "    \\tfrac{1}{2} & (x,y) \\in A \\\\\n",
    "    0 & (x,y) \\notin A\n",
    "\\end{cases}$"
   ]
  },
  {
   "cell_type": "markdown",
   "id": "822732ec-1df5-4228-afce-f254bacb9cab",
   "metadata": {},
   "source": [
    "### Pregunta B\n",
    "\n",
    "Calcular $P(Y \\leq X)$.\n",
    "\n",
    "$Y \\leq X$ forma un triángulo de vértices $(0,0)$, $(1,1)$, y $(2,0)$.\n",
    "\n",
    "Llamemos $B$ a este triángulo y notemos que $B \\subset A$, y que $area(B) = 1$.\n",
    "\n",
    "$P(Y \\leq X) = \\int_B f_{XY}(x,y) dx dy = \\int_B \\tfrac{1}{2} dx dy = \\tfrac{1}{2} * area(B) = \\tfrac{1}{2}$"
   ]
  },
  {
   "cell_type": "markdown",
   "id": "e838e8cf-3af0-4c76-8477-9c0440fcce37",
   "metadata": {},
   "source": [
    "### Pregunta C\n",
    "\n",
    "Hallar las funciones de densidad marginales $f_X$ y $f_Y$.\n",
    "\n",
    "Para esto hay que describir al trapecio como una relación entre $x$ e $y$ para poder plantear las integrales.\n",
    "\n",
    "Podemos considerar: $0 \\leq y \\leq 1 \\land y-1 \\leq x \\leq 2-y$\n",
    "\n",
    "Para calcular $f_X$ tenemos que despejar $y$ en función de $x$ para poder plantear la integral. Entonces dividimos el trapecio en 3 partes: el triángulo de la izquierda, el cuadrado del medio, y el triángulo de la derecha.\n",
    "\n",
    "$\n",
    "f_X(x)\n",
    "= \\begin{cases}\n",
    "\\int_0^{x+1} \\tfrac{1}{2} dy & -1 \\leq x < 0 \\\\\n",
    "\\int_0^1 \\tfrac{1}{2} dy & 0 \\leq x \\leq 1 \\\\\n",
    "\\int_0^{2-x} \\tfrac{1}{2} dy & 1 < x \\leq 2\n",
    "\\end{cases}\n",
    "= \\begin{cases}\n",
    "\\tfrac{1}{2} (x+1) & -1 \\leq x < 0 \\\\\n",
    "\\tfrac{1}{2} & 0 \\leq x \\leq 1 \\\\\n",
    "\\tfrac{1}{2} (2-x) & 1 < x \\leq 2\n",
    "\\end{cases}\n",
    "$\n",
    "\n",
    "Otra forma de escribirlo:\n",
    "\n",
    "$\n",
    "\\begin{align*}\n",
    "f_X(x)\n",
    "&= \\int_0^{x+1} \\tfrac{1}{2} dy + \\int_0^1 \\tfrac{1}{2} dy + \\int_0^{2-x} \\tfrac{1}{2} dy \\\\\n",
    "&= \\tfrac{1}{2} \\Big[ y \\Big]_0^{x+1} + \\tfrac{1}{2} \\Big[ y \\Big]_0^1 + \\tfrac{1}{2} \\Big[ y \\Big]_0^{2-x} \\\\\n",
    "&= \\tfrac{1}{2} (x+1) I_{[-1,0)}(x) + \\tfrac{1}{2} I_{[0,1]}(x) + \\tfrac{1}{2} (2-x) I_{(1,2]}(x)\n",
    "\\end{align*}\n",
    "$\n",
    "\n",
    "Para calcular $f_Y$ es más fácil porque solo necesitamos una integral.\n",
    "\n",
    "$f_Y(y) = \\int_{y-1}^{2-y} \\tfrac{1}{2} dx = \\tfrac{1}{2} \\Big[ x \\Big]_{y-1}^{2-y} = (\\tfrac{3}{2} - y) I_{[0, 1]}(y)$"
   ]
  },
  {
   "cell_type": "markdown",
   "id": "67f8ea45-bdbc-4848-a378-a15c5655ce25",
   "metadata": {},
   "source": [
    "## Ejercicio 4\n",
    "\n",
    "Para iluminar sin interrupción una sala (de computadoras!) se cuenta con dos lamparitas; cuando se quema una, se coloca la otra. Sean $X$ e $Y$ los tiempos de vida de cada lamparita (en $10^3$ horas) y supóngase que esos tiempos son independientes y tienen distribución $\\mathcal{E}(1)$."
   ]
  },
  {
   "cell_type": "markdown",
   "id": "23bccef3-8663-45f7-a02c-f3ddf32c531b",
   "metadata": {},
   "source": [
    "### Pregunta A\n",
    "\n",
    "Hallar la densidad conjunta de $(X, Y)$.\n",
    "\n",
    "$f_X = e^{-x} I_{(0, +\\infty)}(x)$\n",
    "\n",
    "$f_Y = e^{-y} I_{(0, +\\infty)}(y)$\n",
    "\n",
    "$f_{XY} = e^{-x} I_{(0, +\\infty)}(x) e^{-y} I_{(0, +\\infty)}(y) = e^{-(x+y)} I_{(0, +\\infty)}(x) I_{(0, +\\infty)}(y)$"
   ]
  },
  {
   "cell_type": "markdown",
   "id": "76f1e10f-5223-41b3-aa06-3c6ff5873e05",
   "metadata": {},
   "source": [
    "### Pregunta B\n",
    "\n",
    "Hallar la probabilidad de que la sala permanezca iluminada al menos 2000 horas.\n",
    "\n",
    "Como el tiempo de vida de las lamparitas se mide en $10^3$ horas, usamos $\\tfrac{2000}{10^3} = 2$ para buscar la probabilidad.\n",
    "\n",
    "$P(X+Y \\geq 2) = 1 - P(X+Y \\leq 2) = 1 - \\int_0^2 \\int_0^{2-x} e^{-(x+y)} dy dx = \\tfrac{3}{e^2} \\approx 0.406$\n",
    "\n",
    "Observar que $X+Y \\leq 2$ describe un triángulo de vértices $(0,0)$, $(0,2)$ y $(2,0)$."
   ]
  },
  {
   "cell_type": "markdown",
   "id": "dfcf7061-2bba-47d3-8494-fba683d73b2e",
   "metadata": {},
   "source": [
    "## Ejercicio 5\n",
    "\n",
    "Dos servidores A y B procesan trabajos a medida que van llegando. El tiempo que tarda el servidor A en procesar un trabajo es una variable aleatoria $X \\sim \\mathcal{E}(\\lambda_1)$, mientras que el tiempo que tarda el servidor B es una variable aleatoria $Y \\sim \\mathcal{E}(\\lambda_2)$. Ambos servidores actuán en forma independiente. Dos trabajos llegan simultáneamente y son atendidos uno por A y otro B. ¿Cuál es la probabilidad de que el servidor A termine con su trabajo antes que B?\n",
    "\n",
    "$f_{XY} = \\lambda_1 e^{- \\lambda_1 x} I_{(0,+\\infty)}(x) \\lambda_2 e^{- \\lambda_2 y} I_{(0,+\\infty)}(y)$\n",
    "\n",
    "$\n",
    "\\begin{align*}\n",
    "P(X < Y)\n",
    "&= \\int_0^{+\\infty} \\int_x^{+\\infty} \\lambda_1 e^{- \\lambda_1 x} \\lambda_2 e^{- \\lambda_2 y} dy dx \\\\\n",
    "&= \\int_0^{+\\infty} \\lambda_1 e^{- \\lambda_1 x} \\Big( \\int_x^{+\\infty} \\lambda_2 e^{- \\lambda_2 y} dy \\Big) dx \\\\\n",
    "&= \\int_0^{+\\infty} \\lambda_1 e^{- \\lambda_1 x} \\Big[ -e^{- \\lambda_2 y} \\Big]_x^{+\\infty} dx \\\\\n",
    "&= \\int_0^{+\\infty} \\lambda_1 e^{- \\lambda_1 x} e^{- \\lambda_2 x} dx \\\\\n",
    "&= \\int_0^{+\\infty} \\lambda_1 e^{-x (\\lambda_1 + \\lambda_2)} dx \\\\\n",
    "&= \\tfrac{\\lambda_1}{\\lambda_1 + \\lambda_2} \\Big[ -e^{-x (\\lambda_1 + \\lambda_2)} \\Big]_0^{+\\infty} \\\\\n",
    "&= \\tfrac{\\lambda_1}{\\lambda_1 + \\lambda_2}\n",
    "\\end{align*}\n",
    "$"
   ]
  },
  {
   "cell_type": "markdown",
   "id": "6b64b1a3-5938-4862-81c0-e0bb433c7939",
   "metadata": {},
   "source": [
    "## Ejercicio 6\n",
    "\n",
    "Retomemos el problema anterior y supongamos que tres trabajos llegan simultáneamente. Uno es atendido por A, otro por B y el tercero queda esperando a que uno de los servidores se libere. Si $\\lambda_1 = \\lambda_2$, pruebe que la probabilidad de que el último trabajo en ser atendido sea el último en ser completado es $0.5$.\n",
    "\n",
    "Sean $X$, $Y$, $Z$ v.a. con distribución $\\mathcal{E}(\\lambda)$ que miden el tiempo que se tarda en procesar cada uno de las 3 trabajos. Es irrelevante en qué servidor se procesa el trabajo, ya que el parámetro $\\lambda$ de la distribución es siempre el mismo. La única condición que tenemos que cuidar es que los servidores procesan solo 1 trabajo a la vez. Si los trabajos $X$ e $Y$ se procesan en un mismo servidor, el tiempo total transcurrido en ese servidor sería $X+Y$.\n",
    "\n",
    "Tenemos 2 posibles escenarios tales que el tercer trabajo es el último en terminar:\n",
    "- El trabajo $X$ tarda menos que $Y$, y por lo tanto es el servidor A quien procesa el trabajo $Z$. En este caso, necesitamos calcular la probabilidad de que $X+Z>Y$ para afirmar que el tercer trabajo fue el último en terminar.\n",
    "- De forma análoga, si el trabajo $X$ tarda más que $Y$, entonces es el servidor B quien procesa el trabajo $Z$. En este caso, necesitamos calcular la probabilidad de que $Y+Z>X$.\n",
    "\n",
    "Sigue un diagrama que intenta explicar estos 2 escenarios:\n",
    "\n",
    "```\n",
    "A --X--|--Z--        A ---X---\n",
    "B ---Y---            B --Y--|--Z--\n",
    "```\n",
    "\n",
    "Recordemos que por el ejercicio anterior concluimos que:\n",
    "\n",
    "$P(X<Y) = \\tfrac{\\lambda_1}{\\lambda_1 + \\lambda_2}$\n",
    "\n",
    "Como $\\lambda_1 = \\lambda_2 \\implies P(X<Y) = \\tfrac{\\lambda_1}{2 \\lambda_1} = \\tfrac{1}{2}$\n",
    "\n",
    "Y por el complemento vale: $P(X>Y) = 1 - P(X<Y) = \\tfrac{1}{2}$\n",
    "\n",
    "Ahora sí, hagamos las cuentas. Primero calculamos la probabilidad del primer escenario.\n",
    "\n",
    "$\\begin{align*}\n",
    "P(X+Z>Y, Y>X)\n",
    "&= P(X+Z>Y|Y>X)P(Y>X) \\\\\n",
    "&= (1 - P(Y>X+Z|Y>X))P(Y>X) \\text{ Calculamos el complemento para dar vuelta la desigualdad} \\\\\n",
    "&= (1 - P(Y>Z))P(Y>X) \\text{ Usamos la propiedad de falta de memoria} \\\\\n",
    "&= (1 - \\tfrac{1}{2})\\tfrac{1}{2} \\text{ Usamos el resultado del ejercicio anterior} \\\\\n",
    "&= \\tfrac{1}{4}\n",
    "\\end{align*}\n",
    "$\n",
    "\n",
    "De forma análoga, el segundo escenario tiene la misma probabilidad:\n",
    "\n",
    "$\\begin{align*}\n",
    "P(Y+Z>X, X>Y)\n",
    "&= P(Y+Z>X|X>Y)P(X>Y) \\\\\n",
    "&= (1 - P(X>Y+Z|X>Y))P(X>Y) \\\\\n",
    "&= (1 - P(X>Z))P(X>Y) \\\\\n",
    "&= (1 - \\tfrac{1}{2})\\tfrac{1}{2} \\\\\n",
    "&= \\tfrac{1}{4}\n",
    "\\end{align*}\n",
    "$\n",
    "\n",
    "Finalmente, la probabilidad de que el tercer trabajo sea el último en completarse es:\n",
    "\n",
    "$P(X+Z>Y, Y>X) + P(Y+Z>X, X>Y) = \\tfrac{1}{4} + \\tfrac{1}{4} = \\tfrac{1}{2}$"
   ]
  },
  {
   "cell_type": "markdown",
   "id": "f13db710-ddd2-454b-b753-25d7e7624388",
   "metadata": {},
   "source": [
    "## Ejercicio 7\n",
    "\n",
    "En los ejercicios 1 a 3:"
   ]
  },
  {
   "cell_type": "markdown",
   "id": "c1b96cef-c08c-48be-8c26-7a2138efbba6",
   "metadata": {},
   "source": [
    "### Pregunta A\n",
    "\n",
    "Decir si $X$ e $Y$ son independientes (justificando en cada caso).\n",
    "\n",
    "**Ejercicio 1**\n",
    "\n",
    "$X$ e $Y$ son independientes $\\iff f_{XY}(x,y) = f_X(x)f_Y(y)$\n",
    "\n",
    "$f_{XY}(x,y) = \\tfrac{3}{38}(x^2 + y^2) \\neq (\\tfrac{3}{38} x^2 + \\tfrac{1}{2})(\\tfrac{3}{38} y^2 + \\tfrac{1}{2}) = f_X(x) f_Y(y)$\n",
    "\n",
    "Además se puede probar que no son independientes mostrando un punto en donde no se satisface la igualdad. Esto vale porque todas las densidades son funciones continuas en un entorno del $(2,2)$.\n",
    "\n",
    "$f_{XY}(2,2) = \\tfrac{12}{19} \\neq \\tfrac{961}{1444} = f_X(2) f_Y(2)$\n",
    "\n",
    "$\\implies$ $X$ e $Y$ **no** son independientes\n",
    "\n",
    "**Ejercicio 2**\n",
    "\n",
    "$p_{XY}(0,2) = \\tfrac{1}{15} \\neq \\tfrac{3}{15} \\tfrac{1}{15} = p_X(0) p_Y(2)$\n",
    "\n",
    "$\\implies$ $X$ e $Y$ **no** son independientes\n",
    "\n",
    "**Ejercicio 3**\n",
    "\n",
    "$\\implies$ $X$ e $Y$ **no** son independientes pues la región no es rectangular (es un trapecio)"
   ]
  },
  {
   "cell_type": "markdown",
   "id": "eb18be91-c9fa-4b43-885d-05a1aa589109",
   "metadata": {},
   "source": [
    "### Pregunta B\n",
    "\n",
    "Hallar las funciones de probabilidad puntual condicional o de densidad condicional, según corresponda.\n",
    "\n",
    "**Ejercicio 1**\n",
    "\n",
    "$f_{X|Y=y}(x) = \\tfrac{f_{XY}(x,y)}{f_Y(y)} = \\tfrac{\\tfrac{3}{38} (x^2 + y^2) I_{[2,3]}(x) I_{[2,3]}(y)}{(\\tfrac{3}{38} y^2 + \\tfrac{1}{2})I_{[2,3]}(y)}$\n",
    "\n",
    "$f_{Y|X=x}(y) = \\tfrac{f_{XY}(x,y)}{f_X(x)} = \\tfrac{\\tfrac{3}{38} (x^2 + y^2) I_{[2,3]}(x) I_{[2,3]}(y)}{(\\tfrac{3}{38} x^2 + \\tfrac{1}{2})I_{[2,3]}(x)}$\n",
    "\n",
    "**Ejercicio 2**\n",
    "\n",
    "$p_{X|Y=y}(x) = \\tfrac{p_{XY}(x,y)}{p_Y(y)}$\n",
    "\n",
    "\n",
    "$p_{X|Y=0}(x) = \\tfrac{p_{XY}(x,0)}{p_Y(0)} = \\tfrac{p_{XY}(x,0)}{\\tfrac{6}{15}}$\n",
    "\n",
    "$p_{X|Y=0}(0) = \\tfrac{p_{XY}(0,0)}{\\tfrac{6}{15}} = \\tfrac{0}{\\tfrac{6}{15}} = 0$\n",
    "\n",
    "$p_{X|Y=0}(1) = \\tfrac{p_{XY}(1,0)}{\\tfrac{6}{15}} = \\tfrac{\\tfrac{3}{15}}{\\tfrac{6}{15}} = \\tfrac{1}{2}$\n",
    "\n",
    "$p_{X|Y=0}(2) = \\tfrac{p_{XY}(2,0)}{\\tfrac{6}{15}} = \\tfrac{\\tfrac{3}{15}}{\\tfrac{6}{15}} = \\tfrac{1}{2}$\n",
    "\n",
    "\n",
    "$p_{X|Y=1}(x) = \\tfrac{p_{XY}(x,1)}{p_Y(1)} = \\tfrac{p_{XY}(x,1)}{\\tfrac{8}{15}}$\n",
    "\n",
    "$p_{X|Y=1}(0) = \\tfrac{p_{XY}(0,1)}{\\tfrac{8}{15}} = \\tfrac{\\tfrac{2}{15}}{\\tfrac{8}{15}} = \\tfrac{1}{4}$\n",
    "\n",
    "$p_{X|Y=1}(1) = \\tfrac{p_{XY}(1,1)}{\\tfrac{8}{15}} = \\tfrac{\\tfrac{6}{15}}{\\tfrac{8}{15}} = \\tfrac{3}{4}$\n",
    "\n",
    "$p_{X|Y=1}(2) = \\tfrac{p_{XY}(2,1)}{\\tfrac{8}{15}} = \\tfrac{0}{\\tfrac{8}{15}} = 0$\n",
    "\n",
    "\n",
    "$p_{X|Y=2}(x) = \\tfrac{p_{XY}(x,2)}{p_Y(2)} = \\tfrac{p_{XY}(x,2)}{\\tfrac{1}{15}}$\n",
    "\n",
    "$p_{X|Y=2}(0) = \\tfrac{p_{XY}(0,2)}{\\tfrac{1}{15}} = \\tfrac{\\tfrac{1}{15}}{\\tfrac{1}{15}} = 1$\n",
    "\n",
    "$p_{X|Y=2}(1) = \\tfrac{p_{XY}(1,2)}{\\tfrac{1}{15}} = \\tfrac{0}{\\tfrac{1}{15}} = 0$\n",
    "\n",
    "$p_{X|Y=2}(2) = \\tfrac{p_{XY}(2,2)}{\\tfrac{1}{15}} = \\tfrac{0}{\\tfrac{1}{15}} = 0$\n",
    "\n",
    "\n",
    "| X | 0 | 1 | 2 |\n",
    "|---|---|---|---|\n",
    "| **pX\\|Y=0** | 0 | 1/2 | 1/2 |\n",
    "| **pX\\|Y=1** | 1/4 | 3/4 | 0 |\n",
    "| **pX\\|Y=2** | 1 | 0 | 0 |\n",
    "\n",
    "La tabla de $p_{Y|X=x}$ se resuelve de forma análoga.\n",
    "\n",
    "**Ejercicio 3**\n",
    "\n",
    "Ejercicio para el lector."
   ]
  },
  {
   "cell_type": "markdown",
   "id": "162112c2-1dc9-432b-a1b6-d6e815595577",
   "metadata": {},
   "source": [
    "## Ejercicio 8\n",
    "\n",
    "Se tira una moneda equilibrada 3 veces, siendo $X$ el número de caras. Si $X = a$ se extraen sin reposición $a + 1$ bolillas de una urna que contiene 4 bolillas blancas y una roja. Sea $Y$ el número de bolillas rojas extraídas.\n",
    "\n",
    "$X \\sim Bi(3, 0.5)$\n",
    "\n",
    "$Y \\sim H(x+1,5,1)$"
   ]
  },
  {
   "cell_type": "markdown",
   "id": "4c07b3e0-d7b2-47de-9e39-2f6ea2bce4e7",
   "metadata": {},
   "source": [
    "### Pregunta A\n",
    "\n",
    "Hallar la distribución de $Y$ dado $X = a$, para $a = 0,1,2,3$.\n",
    "\n",
    "$P(Y=y|X=a) = \\tfrac{{1 \\choose y}{4 \\choose a+1-y}}{5 \\choose a+1}$"
   ]
  },
  {
   "cell_type": "code",
   "execution_count": null,
   "id": "4e08cfcd-7e34-41cd-9b86-871ca96b6233",
   "metadata": {},
   "outputs": [],
   "source": [
    "p = function(y, a) choose(1,y) * choose(4, a+1-y) / choose(5, a+1)\n",
    "Rx = 0:3\n",
    "Ry = 0:1\n",
    "t = rbind(p(0, Rx), p(1, Rx))\n",
    "rownames(t) = c(glue('Y={Ry}'))\n",
    "colnames(t) = c(glue('P(Y|X={Rx})'))\n",
    "t"
   ]
  },
  {
   "cell_type": "markdown",
   "id": "e97844e9-07b5-4449-8a66-475b401cb489",
   "metadata": {},
   "source": [
    "### Pregunta B\n",
    "\n",
    "Obtener una tabla con la distribución conjunta del par $(X, Y)$ y hallar la función de probabilidad puntual marginal $p_Y$.\n",
    "\n",
    "$P(X=x, Y=y) = P(X=x \\cap Y=y) = P(Y=y|X=x)P(X=x) = \\tfrac{{1 \\choose y}{4 \\choose x+1-y}}{5 \\choose x+1} {3 \\choose x} 0.5^x 0.5^{3-x}$"
   ]
  },
  {
   "cell_type": "code",
   "execution_count": null,
   "id": "bb4f0dd1-544b-4215-bcce-f85f4262a230",
   "metadata": {},
   "outputs": [],
   "source": [
    "p = function(x, y) dhyper(y, 1, 4, x+1) * dbinom(x, 3, 0.5)\n",
    "Rx = 0:3\n",
    "Ry = 0:1\n",
    "p0 = p(Rx, 0)\n",
    "p1 = p(Rx, 1)\n",
    "t = rbind(c(p0, sum(p0)), c(p1, sum(p1)))\n",
    "rownames(t) = c(glue('Y={Ry}'))\n",
    "colnames(t) = c(glue('X={Rx}'), 'pY')\n",
    "t"
   ]
  },
  {
   "cell_type": "markdown",
   "id": "dfc4acc3-2f8a-47e3-9382-06d0e2468fca",
   "metadata": {},
   "source": [
    "### Pregunta C\n",
    "\n",
    "¿Son $X$ e $Y$ independientes?\n",
    "\n",
    "Intuitivamente podemos decir que no son independientes, ya que la cantidad de bolillas que se van a extraer dependen de la cantidad de caras que hayan salido con la moneda.\n",
    "\n",
    "Formalmente podemos justificarlo con un contraejemplo:\n",
    "\n",
    "$X$ e $Y$ son independientes $\\iff p_{XY}(x,y) = p_X(x)p_Y(y)$\n",
    "\n",
    "$p_{XY}(0,0) = 0.1$\n",
    "\n",
    "$p_X(0)p_Y(0) = 0.125 * 0.5 = 0.0625 \\neq 0.1$"
   ]
  },
  {
   "cell_type": "markdown",
   "id": "7b61a546-de8a-4ab0-98b4-60677d042047",
   "metadata": {},
   "source": [
    "### Pregunta D\n",
    "\n",
    "Si se extrajeron 2 bolillas blancas, ¿cuál es la probabilidad de que hayan salido dos caras?\n",
    "\n",
    "Sea $Z$ = cantidad de bolillas blancas\n",
    "\n",
    "$Z \\sim H(x+1,5,4)$\n",
    "\n",
    "$P(X=2|Z=2) = \\tfrac{P(Z=2|X=2)P(X=2)}{P(Z=2)}$\n",
    "\n",
    "Armemos otra tabla de probabilidad conjunta $(X, Z)$ para poder encontrar luego $P(Z=2)$."
   ]
  },
  {
   "cell_type": "code",
   "execution_count": null,
   "id": "d59bb92c-0b14-4941-8c93-4936e8013709",
   "metadata": {},
   "outputs": [],
   "source": [
    "p = function(x, z) dhyper(z, 4, 1, x+1) * dbinom(x, 3, 0.5)\n",
    "Rx = 0:3\n",
    "Rz = 0:4\n",
    "p0 = p(Rx, 0)\n",
    "p1 = p(Rx, 1)\n",
    "p2 = p(Rx, 2)\n",
    "p3 = p(Rx, 3)\n",
    "p4 = p(Rx, 4)\n",
    "t = rbind(c(p0, sum(p0)), c(p1, sum(p1)), c(p2, sum(p2)), c(p3, sum(p3)), c(p4, sum(p4)))\n",
    "rownames(t) = c(glue('Z={Rz}'))\n",
    "colnames(t) = c(glue('X={Rx}'), 'pZ')\n",
    "t"
   ]
  },
  {
   "cell_type": "markdown",
   "id": "6f4d49ff-e86c-4133-a607-1ea095050905",
   "metadata": {},
   "source": [
    "Por lo tanto:\n",
    "\n",
    "$P(X=2|Z=2) = \\tfrac{P(Z=2|X=2)P(X=2)}{P(Z=2)} = \\tfrac{0.6 * 0.375}{0.45} = 0.5$\n",
    "\n",
    "**Otra forma** (más práctica y con menos cuentas) de calcular esto sería mirar la tabla de probabilidad conjunta $(X,Y)$ y calcular la probabilidad de que hayan salido dos caras y 2 bolillas blancas dividido por la probabilidad de que hayan salidos 2 bolillas blancas.\n",
    "\n",
    "Probabilidad de que hayan salido dos caras y 2 bolillas blancas $= P(X=2,Y=1) = 0.225$\n",
    "\n",
    "Probabilidad de que hayan salidos 2 bolillas blancas $= P(X=1,Y=0) + P(X=2,Y=1) = 0.225 + 0.225 = 0.45$\n",
    "\n",
    "$\\implies \\tfrac{0.225}{0.45} = 0.5$"
   ]
  },
  {
   "cell_type": "markdown",
   "id": "9954b108-9d58-43af-8315-d6c7d451b9a5",
   "metadata": {},
   "source": [
    "## Ejercicio 10\n",
    "\n",
    "En los ejercicios 1 a 3, calcular:"
   ]
  },
  {
   "cell_type": "markdown",
   "id": "2545b171-41a3-4834-856f-7c9b382c7851",
   "metadata": {},
   "source": [
    "### Pregunta A\n",
    "\n",
    "$Cov(X,Y)$ y $\\rho(X,Y)$\n",
    "\n",
    "**Ejercicio 1**\n",
    "\n",
    "$E(XY) = \\int_2^3 \\int_2^3 xy f_{XY}(x,y) dx dy = \\int_2^3 \\int_2^3 xy \\tfrac{3}{38} (x^2 + y^2) dx dy = \\tfrac{975}{152}$\n",
    "\n",
    "$E(X) = \\int_2^3 x f_X(x) dx = \\int_2^3 x \\big( \\tfrac{3}{38} x^2 + \\tfrac{1}{2} \\big) dx = \\tfrac{385}{152}$\n",
    "\n",
    "$E(Y) = \\tfrac{385}{152}$\n",
    "\n",
    "$V(X) = E(X^2) - E(X)^2 = \\int_2^3 x^2 f_X(x) dx - \\big( \\tfrac{385}{152} \\big)^2 = \\tfrac{1852}{285} - \\big( \\tfrac{385}{152} \\big)^2 = \\tfrac{28657}{346560}$\n",
    "\n",
    "$V(Y) = E(Y^2) - E(Y)^2 = \\tfrac{28657}{346560}$\n",
    "\n",
    "$\\sigma_X = \\sqrt{V(X)} = \\sqrt{\\tfrac{28657}{346560}}$\n",
    "\n",
    "$\\sigma_Y = \\sqrt{V(Y)} = \\sqrt{\\tfrac{28657}{346560}}$\n",
    "\n",
    "$Cov(X,Y) = E(XY) - E(X)E(Y) = \\tfrac{975}{152} - \\tfrac{385}{152} \\tfrac{385}{152} = - \\tfrac{25}{23104}$\n",
    "\n",
    "$\\rho(X,Y) = \\tfrac{Cov(X,Y)}{\\sigma_X \\sigma_Y} = \\tfrac{- \\tfrac{25}{23104}}{\\big( \\sqrt{\\tfrac{28657}{346560}} \\big)^2} = - \\tfrac{25}{23104} \\tfrac{346560}{28657} = -\\tfrac{375}{28657}$\n",
    "\n",
    "**Ejercicio 2**\n",
    "\n",
    "$E(XY) = \\sum_{x=0}^2 \\sum_{y=0}^2 xy p_{XY}(x,y) = \\tfrac{6}{15}$\n",
    "\n",
    "$E(X) = \\sum_{x=0}^2 x p_X(x) = 1 \\tfrac{9}{15} + 2 \\tfrac{3}{15} = 1$\n",
    "\n",
    "$E(Y) = \\sum_{y=0}^2 y p_Y(y) = 1 \\tfrac{8}{15} + 2 \\tfrac{1}{15} = \\tfrac{2}{3}$\n",
    "\n",
    "$V(X) = E(X^2) - E(X)^2 = \\sum_{x=0}^2 x^2 p_X(x) - 1^2 = 1^2 \\tfrac{9}{15} + 2^2 \\tfrac{3}{15} - 1 = \\tfrac{2}{5}$\n",
    "\n",
    "$V(Y) = E(Y^2) - E(Y)^2 = \\sum_{y=0}^2 y^2 p_Y(y) - (\\tfrac{2}{3})^2 = 1^2 \\tfrac{8}{15} + 2^2 \\tfrac{1}{15} - \\tfrac{4}{9} = \\tfrac{16}{45}$\n",
    "\n",
    "$\\sigma_X = \\sqrt{V(X)} = \\sqrt{\\tfrac{2}{5}} = \\tfrac{\\sqrt{2}}{\\sqrt{5}}$\n",
    "\n",
    "$\\sigma_Y = \\sqrt{V(Y)} = \\sqrt{\\tfrac{16}{45}} = \\tfrac{4}{3\\sqrt{5}}$\n",
    "\n",
    "$Cov(X,Y) = E(XY) - E(X)E(Y) = - \\tfrac{4}{15}$\n",
    "\n",
    "$\\rho(X,Y) = \\tfrac{Cov(X,Y)}{\\sigma_X \\sigma_Y} = \\tfrac{- \\tfrac{4}{15}}{\\tfrac{\\sqrt{2}}{\\sqrt{5}} \\tfrac{4}{3\\sqrt{5}}} = \\tfrac{- \\tfrac{4}{15}}{\\tfrac{4 \\sqrt{2}}{15}} = - \\tfrac{4}{15} \\tfrac{15}{4 \\sqrt{2}} = - \\tfrac{1}{\\sqrt{2}} = - \\tfrac{\\sqrt{2}}{2}$\n",
    "\n",
    "**Ejercicio 3**\n",
    "\n",
    "$E(XY) = \\int_0^1 \\int_{y-1}^{2-y} xy f_{XY}(x,y) dx dy = \\int_0^1 \\int_{y-1}^{2-y} xy \\tfrac{1}{2} dx dy = \\tfrac{5}{24}$\n",
    "\n",
    "$E(X) = \\int_{-1}^2 x f_X(x) dx = \\int_{-1}^2 x \\big( \\tfrac{1}{2} (x+1) I_{[-1,0)}(x) + \\tfrac{1}{2} I_{[0,1]}(x) + \\tfrac{1}{2} (2-x) I_{(1,2]}(x) \\big) dx = \\int_{-1}^0 x \\tfrac{1}{2} (x+1) dx + \\int_0^1 x \\tfrac{1}{2} dx + \\int_1^2 x \\tfrac{1}{2} (2-x) dx = \\tfrac{1}{2}$\n",
    "\n",
    "$E(Y) = \\int_0^1 y f_Y(y) dy = \\int_0^1 y \\big( (\\tfrac{3}{2} - y) \\big) dy = \\tfrac{5}{12}$\n",
    "\n",
    "$V(X) = E(X^2) - E(X)^2 = \\tfrac{2}{3} - \\big( \\tfrac{1}{2} \\big)^2 = \\tfrac{5}{12}$\n",
    "\n",
    "$V(Y) = E(Y^2) - E(Y)^2 = \\tfrac{1}{4} - \\big( \\tfrac{5}{12} \\big)^2 = \\tfrac{11}{144}$\n",
    "\n",
    "$Cov(X,Y) = E(XY) - E(X)E(Y) = \\tfrac{5}{24} - \\tfrac{1}{2} \\tfrac{5}{12} = 0$\n",
    "\n",
    "$\\rho(X,Y) = \\tfrac{Cov(X,Y)}{\\sigma_X \\sigma_Y} = \\tfrac{0}{\\sigma_X \\sigma_Y} = 0$"
   ]
  },
  {
   "cell_type": "markdown",
   "id": "65aa61db-ae94-4c4e-913b-259cb8fb6865",
   "metadata": {},
   "source": [
    "### Pregunta B\n",
    "\n",
    "$E(X+Y)$ y $V(X+Y)$\n",
    "\n",
    "**Ejercicio 1**\n",
    "\n",
    "$E(X+Y) = E(X) + E(Y) = \\tfrac{385}{152} + \\tfrac{385}{152} = \\tfrac{385}{76}$\n",
    "\n",
    "$V(X+Y) = V(X) + V(Y) + 2 Cov(X,Y) = \\tfrac{28657}{346560} + \\tfrac{28657}{346560} - 2 \\tfrac{25}{23104} = \\tfrac{14141}{86640}$\n",
    "\n",
    "**Ejercicio 2**\n",
    "\n",
    "$E(X+Y) = E(X) + E(Y) = 1 + \\tfrac{2}{3} = \\tfrac{5}{3}$\n",
    "\n",
    "$V(X+Y) = V(X) + V(Y) + 2 Cov(X,Y) = \\tfrac{2}{5} + \\tfrac{16}{45} - 2 \\tfrac{4}{15} = \\tfrac{2}{9}$\n",
    "\n",
    "**Ejercicio 3**\n",
    "\n",
    "$E(X+Y) = E(X) + E(Y) = \\tfrac{1}{2} + \\tfrac{5}{12} = \\tfrac{11}{12}$\n",
    "\n",
    "$V(X+Y) = V(X) + V(Y) + 2 Cov(X,Y) = \\tfrac{5}{12} + \\tfrac{11}{144} + 2*0 = \\tfrac{71}{144}$"
   ]
  },
  {
   "cell_type": "markdown",
   "id": "f1f171f4-ec74-4926-91c7-acca0f3bc54d",
   "metadata": {},
   "source": [
    "## Ejercicio 14\n",
    "\n",
    "Se va a guardar un archivo de longitud 100 caracteres, cada uno de los cuales toma el valor A, B, C ó D. Las probabilidades de ocurrencia de cada uno de estos caracteres son $p_A=0.7$, $p_B=0.12$, $p_C=0.1$ y $p_D=0.08$. Se definen:\n",
    "\n",
    "$A$: número de veces que ocurre la letra A.\n",
    "\n",
    "$B$: número de veces que ocurre la letra B.\n",
    "\n",
    "etc.\n",
    "\n",
    "Suponiendo independencia:"
   ]
  },
  {
   "cell_type": "markdown",
   "id": "a370a143-9652-48bb-b8b5-584725cc536c",
   "metadata": {},
   "source": [
    "### Pregunta A\n",
    "\n",
    "¿Qué distribución tiene el vector aleatorio $(A, B, C, D)$?\n",
    "\n",
    "Tiene distribución multinomial.\n",
    "\n",
    "$(A, B, C, D) \\sim M(100, 0.7, 0.12, 0.1, 0.08)$"
   ]
  },
  {
   "cell_type": "markdown",
   "id": "42f368b3-d0a4-4829-ac92-998c583e2902",
   "metadata": {},
   "source": [
    "### Pregunta B\n",
    "\n",
    "Hallar las distribuciones marginales de $A$, $B$, $C$ y $D$.\n",
    "\n",
    "$A = Bi(100, 0.7)$\n",
    "\n",
    "$B = Bi(100, 0.12)$\n",
    "\n",
    "$C = Bi(100, 0.1)$\n",
    "\n",
    "$D = Bi(100, 0.08)$"
   ]
  },
  {
   "cell_type": "markdown",
   "id": "08fcbb20-a203-4a32-9546-89eab8c5daf5",
   "metadata": {},
   "source": [
    "### Pregunta C\n",
    "\n",
    "Para ahorrar memoria se decide representar estos caracteres según la siguiente tabla basada en el código de Huffman.\n",
    "\n",
    "| Letra | Código |\n",
    "|---|---|\n",
    "| A | 1 |\n",
    "| B | 00 |\n",
    "| C | 011 |\n",
    "| D | 010 |\n",
    "\n",
    "Sea $X$ = Tamaño del archivo codificado (en bits). Hallar $E(X)$.\n",
    "\n",
    "$E(X) = E(1A + 2B + 3C + 3D) = E(A) + 2E(B) + 3E(C) + 3E(D) = (100 * 0.7) + (2 * 100 * 0.12) + (3 * 100 * 0.1) + (3 * 100 * 0.08) = 148$"
   ]
  },
  {
   "cell_type": "markdown",
   "id": "e5e76284-22a0-49b3-854d-7196d258215c",
   "metadata": {},
   "source": [
    "## Pregunta 15\n",
    "\n",
    "La longitud de ciertas varillas de metal tiene distribución $N(5, 0.25)$. Para hacer un control de calidad se eligen 40 varillas al azar. Hallar la probabilidad de que 1 varilla mida menos de 4 cm, 13 varillas midan entre 4 y 4.8 cm, 18 varillas midan entre 4.8 y 5.5 cm, y el resto de las varillas mida más de 5.5 cm."
   ]
  },
  {
   "cell_type": "markdown",
   "id": "518aabe6-92e3-4984-8676-168b71920e10",
   "metadata": {},
   "source": [
    "- $A$ = cantidad de varillas que miden menos de 4 cm\n",
    "- $B$ = cantidad de varillas que miden entre 4 y 4.8 cm\n",
    "- $C$ = cantidad de varillas que miden entre 4.8 y 5.5 cm\n",
    "- $D$ = cantidad de varillas que miden más de 5.5 cm\n",
    "\n",
    "Sean $n = 40$ y $p_1, p_2, p_3, p_4$ las probabilidades de que las varillas midan lo estipulado en cada v.a. A, B, C y D respectivamente, calculadas con la distribución $N(5, 0.25)$.\n",
    "\n",
    "- $A \\sim Bi(n, p_1)$\n",
    "- $B \\sim Bi(n, p_2)$\n",
    "- $C \\sim Bi(n, p_3)$\n",
    "- $D \\sim Bi(n, p_4)$\n",
    "\n",
    "$(A,B,C,D) \\sim M(n, p_1, p_2, p_3, p_4)$\n",
    "\n",
    "$P((A,B,C,D) = (1, 13, 18, 8))$"
   ]
  },
  {
   "cell_type": "code",
   "execution_count": null,
   "id": "00ff8ab9-fdb9-46f4-bb91-bd9420249a8f",
   "metadata": {},
   "outputs": [],
   "source": [
    "u = 5\n",
    "sd = sqrt(0.25)\n",
    "\n",
    "p1 = pnorm(4, u, sd)\n",
    "p2 = pnorm(4.8, u, sd) - pnorm(4, u, sd)\n",
    "p3 = pnorm(5.5, u, sd) - pnorm(4.8, u, sd)\n",
    "p4 = 1 - pnorm(5.5, u, sd)\n",
    "p = c(p1, p2, p3, p4)\n",
    "\n",
    "n = 40\n",
    "x = c(1, 13, 18, 8)\n",
    "\n",
    "dmultinom(x, n, p)"
   ]
  },
  {
   "cell_type": "markdown",
   "id": "fd6af85e-7382-473b-bba3-07f03abe0133",
   "metadata": {},
   "source": [
    "## Ejercicio 17\n",
    "\n",
    "En un concurso de salto, cada atleta salta 3 veces, siendo su puntaje la máxima altura alcanzada. Si la altura en cada salto (en metros) es una v.a. con distribución $\\mathcal{U}(2, 2.5)$ y considerando que las tres alturas alcanzadas son independientes:"
   ]
  },
  {
   "cell_type": "markdown",
   "id": "6bbcab85-c9c9-43fe-95d9-6653ad64560a",
   "metadata": {},
   "source": [
    "### Pregunta A\n",
    "\n",
    "Hallar la función de distribución del puntaje.\n",
    "\n",
    "$X_1, X_2, X_3 \\sim \\mathcal{U}(2, 2.5)$ v.a.i.i.d\n",
    "\n",
    "$M$ = máxima altura alcanzada\n",
    "\n",
    "$F_M(x) = P(max(X_1, X_2, X_3) \\leq x) = [F_X(x)]^3 = \\big[ \\tfrac{x-2}{2.5 - 2} \\big]^3 = \\tfrac{(x-2)^3}{\\tfrac{1}{8}} = 8(x-2)^3$"
   ]
  },
  {
   "cell_type": "markdown",
   "id": "414fac5d-93ab-4761-9760-a201a6cc6aac",
   "metadata": {},
   "source": [
    "### Pregunta B\n",
    "\n",
    "Hallar el valor esperado del puntaje.\n",
    "\n",
    "$f_M(x) = [F_M(x)]' = 24(x-2)^2$\n",
    "\n",
    "$E(M) = \\int_2^{2.5} x f_M(x) dx = 2.375$"
   ]
  },
  {
   "cell_type": "markdown",
   "id": "662ee3c3-33a7-4086-a1f5-39c7657115d7",
   "metadata": {},
   "source": [
    "## Ejercicio 19\n",
    "\n",
    "Un laboratorio posee 14 ratas de la especie A y 11 de la especie B para experimentación. La probabilidad de que cualquiera de ellas muera en un experimento es 0.1, y se considera que las ratas mueren en forma independiente."
   ]
  },
  {
   "cell_type": "markdown",
   "id": "52152596-b63d-4830-a155-1bec8860521d",
   "metadata": {},
   "source": [
    "### Pregunta A\n",
    "\n",
    "¿Cuál es la probabilidad de que mueran más de 4 ratas?\n",
    "\n",
    "$A$ = cantidad de ratas de la especie A que mueren\n",
    "\n",
    "$B$ = cantidad de ratas de la especie B que mueren\n",
    "\n",
    "$X$ = cantidad total de ratas que mueren\n",
    "\n",
    "$A \\sim Bi(14, 0.1)$\n",
    "\n",
    "$B \\sim Bi(11, 0.1)$\n",
    "\n",
    "$X = A + B \\sim Bi(25, 0.1)$\n",
    "\n",
    "$P(X > 4)$"
   ]
  },
  {
   "cell_type": "code",
   "execution_count": null,
   "id": "4cc93606-bf8b-4158-a41b-1273e7838680",
   "metadata": {},
   "outputs": [],
   "source": [
    "pbinom(4, 25, 0.1, lower.tail=FALSE)"
   ]
  },
  {
   "cell_type": "markdown",
   "id": "43a0efc4-a91d-4d4f-8aa5-5c5bdec3608c",
   "metadata": {},
   "source": [
    "### Pregunta B\n",
    "\n",
    "Si murieron 2, ¿cuál es la probabilidad de que ambas hayan sido de la especie A?\n",
    "\n",
    "$A|A+B=k \\sim \\mathcal{H}(k, 14, 25)$\n",
    "\n",
    "$P(A=2|A+B=2)$"
   ]
  },
  {
   "cell_type": "code",
   "execution_count": 7,
   "id": "601d3cfa-3e77-4d5b-b82c-dace4890d72c",
   "metadata": {},
   "outputs": [
    {
     "data": {
      "text/html": [
       "0.303333333333333"
      ],
      "text/latex": [
       "0.303333333333333"
      ],
      "text/markdown": [
       "0.303333333333333"
      ],
      "text/plain": [
       "[1] 0.3033333"
      ]
     },
     "metadata": {},
     "output_type": "display_data"
    }
   ],
   "source": [
    "dhyper(2, 14, 11, 2)"
   ]
  },
  {
   "cell_type": "markdown",
   "id": "fd6f2af1-5ed2-4424-8ad5-05a0f84b436f",
   "metadata": {},
   "source": [
    "## Ejercicio 23\n",
    "\n",
    "Dos terminales A y B están conectadas a un servidor. La cantidad de requerimientos que realiza la terminal A en el lapso de un segundo sigue una distribución $\\mathcal{P}(2)$ mientras que para la terminal B sigue una distribución $\\mathcal{P}(3)$. Ambas terminales actuán en forma independiente."
   ]
  },
  {
   "cell_type": "markdown",
   "id": "2f1a0f01-8881-401a-97d5-82a887e83163",
   "metadata": {},
   "source": [
    "### Pregunta A\n",
    "\n",
    "Hallar la probabilidad de que en un segundo haya más de 3 requerimientos al servidor.\n",
    "\n",
    "$A+B \\sim \\mathcal{P}(5)$\n",
    "\n",
    "$P(A+B > 3)$"
   ]
  },
  {
   "cell_type": "code",
   "execution_count": 8,
   "id": "8a6f180a-4e63-4ca4-8471-db918508a821",
   "metadata": {},
   "outputs": [
    {
     "data": {
      "text/html": [
       "0.734974084702638"
      ],
      "text/latex": [
       "0.734974084702638"
      ],
      "text/markdown": [
       "0.734974084702638"
      ],
      "text/plain": [
       "[1] 0.7349741"
      ]
     },
     "metadata": {},
     "output_type": "display_data"
    }
   ],
   "source": [
    "ppois(3, 5, lower.tail=FALSE)"
   ]
  },
  {
   "cell_type": "markdown",
   "id": "359998ec-4919-4d79-8cca-5e726bcee4c9",
   "metadata": {},
   "source": [
    "### Pregunta B\n",
    "\n",
    "Si en un determinado segundo hubo dos requerimientos al servidor, ¿cuál es la probabilidad de que haya provenido uno de cada terminal?\n",
    "\n",
    "$A|A+B=k \\sim Bi(k, \\tfrac{2}{5})$\n",
    "\n",
    "$P(A=1|A+B=2)$"
   ]
  },
  {
   "cell_type": "code",
   "execution_count": 9,
   "id": "a8354f9b-2a04-4845-8e56-8dbac3174a25",
   "metadata": {},
   "outputs": [
    {
     "data": {
      "text/html": [
       "0.48"
      ],
      "text/latex": [
       "0.48"
      ],
      "text/markdown": [
       "0.48"
      ],
      "text/plain": [
       "[1] 0.48"
      ]
     },
     "metadata": {},
     "output_type": "display_data"
    }
   ],
   "source": [
    "dbinom(1, 2, 2/5)"
   ]
  },
  {
   "cell_type": "markdown",
   "id": "551e3b31-bc92-47dc-ac7d-b88f339bbdd7",
   "metadata": {},
   "source": [
    "### Pregunta C\n",
    "\n",
    "Si el 30% de los requerimientos necesita grabar en disco (y el 70% restante no), hallar el valor esperado para la cantidad de requerimientos de disco en el lapso de 15 segundos.\n",
    "\n",
    "$E(A+B) = 5$ requerimientos por segundo\n",
    "\n",
    "$5*15=75$ requerimientos en 15 segundos\n",
    "\n",
    "De esos 75 requerimientos, el 30% accede al disco $\\implies 75 * 0.3 = 22.5$"
   ]
  }
 ],
 "metadata": {
  "kernelspec": {
   "display_name": "R",
   "language": "R",
   "name": "ir"
  },
  "language_info": {
   "codemirror_mode": "r",
   "file_extension": ".r",
   "mimetype": "text/x-r-source",
   "name": "R",
   "pygments_lexer": "r",
   "version": "4.1.0"
  }
 },
 "nbformat": 4,
 "nbformat_minor": 5
}
