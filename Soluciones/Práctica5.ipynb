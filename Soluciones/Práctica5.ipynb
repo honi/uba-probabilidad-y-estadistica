{
 "cells": [
  {
   "cell_type": "code",
   "execution_count": 18,
   "id": "943a0d0a-8584-4d8b-b9d5-0021febcfaf7",
   "metadata": {},
   "outputs": [],
   "source": [
    "# Funciones auxiliares\n",
    "\n",
    "eunif = function(a, b) (a + b) / 2\n",
    "vunif = function(a, b) (b - a)^2 / 12\n",
    "munif = function(a, b, t) (exp(t * b) - exp(t * a)) / t * (b - a)\n",
    "\n",
    "enorm = function(u, sd) u\n",
    "vnorm = function(u, sd) sd^2\n",
    "mnorm = function(u, sd, t) exp(sd^2 * t^2 / 2 + u * t)\n",
    "\n",
    "egamma = function(alpha, lambda) alpha / lambda\n",
    "vgamma = function(alpha, lambda) alpha / lambda^2"
   ]
  },
  {
   "cell_type": "markdown",
   "id": "61f11705-d649-4ec0-aef7-773d35d2ef35",
   "metadata": {},
   "source": [
    "# Práctica 5"
   ]
  },
  {
   "cell_type": "markdown",
   "id": "7b305cd7-d123-4ea0-b1aa-b9c837359de4",
   "metadata": {},
   "source": [
    "## Ejercicio 1\n",
    "\n",
    "En una línea de producción los productos pasan por 4 procesos sucesivos (preparación, armado, control y embalaje) hasta quedar listos para la venta. Sean $X_1$, $X_2$, $X_3$ y $X_4$ los tiempos que tarda en cumplirse cada uno de los procesos (en minutos). Se sabe que los cuatro procesos actuán en forma independiente y que $X_1 \\sim \\mathcal{U}(3,5)$, $X_2 \\sim \\mathcal{N}(3,\\tfrac{1}{4})$, $X_3 \\sim \\Gamma(6, 3)$ y $X_4 \\sim \\mathcal{U}(2, 4)$. Sea $Y$ la variable aleatoria que mide el tiempo que tarda un producto en pasar por toda la línea de producción. Hallar $E(Y)$ y $V(Y)$.\n",
    "\n",
    "$Y = X_1 + X_2 + X_3 + X_4$\n",
    "\n",
    "$E(Y) = E(X_1 + X_2 + X_3 + X_4) = E(X_1) + E(X_2) + E(X_3) + E(X_4)$\n",
    "\n",
    "$V(Y) = V(X_1 + X_2 + X_3 + X_4) = V(X_1) + V(X_2) + V(X_3) + V(X_4)$"
   ]
  },
  {
   "cell_type": "code",
   "execution_count": 19,
   "id": "4743b18c-4e12-4584-8448-e20ecc3161b5",
   "metadata": {},
   "outputs": [
    {
     "data": {
      "text/html": [
       "12"
      ],
      "text/latex": [
       "12"
      ],
      "text/markdown": [
       "12"
      ],
      "text/plain": [
       "[1] 12"
      ]
     },
     "metadata": {},
     "output_type": "display_data"
    }
   ],
   "source": [
    "# E(Y)\n",
    "eunif(3, 5) + enorm(3, sqrt(1/4)) + egamma(6, 3) + eunif(2, 4)"
   ]
  },
  {
   "cell_type": "code",
   "execution_count": 20,
   "id": "7bcb9744-2557-4d32-96b3-0450cc048ae5",
   "metadata": {},
   "outputs": [
    {
     "data": {
      "text/html": [
       "1.58333333333333"
      ],
      "text/latex": [
       "1.58333333333333"
      ],
      "text/markdown": [
       "1.58333333333333"
      ],
      "text/plain": [
       "[1] 1.583333"
      ]
     },
     "metadata": {},
     "output_type": "display_data"
    }
   ],
   "source": [
    "# V(Y)\n",
    "vunif(3, 5) + vnorm(3, sqrt(1/4)) + vgamma(6, 3) + vunif(2, 4)"
   ]
  },
  {
   "cell_type": "markdown",
   "id": "db0eca9b-c6bc-4ab3-bac5-fafa4feb9def",
   "metadata": {},
   "source": [
    "# Ejercicio 2"
   ]
  },
  {
   "cell_type": "markdown",
   "id": "cb742756-b2ae-4f26-9d84-8da1af4253cd",
   "metadata": {},
   "source": [
    "## Pregunta A\n",
    "\n",
    "Sea $X$ una v.a. con distribución desconocida tal que $E(X) = 5$ y $V(X) = 0.1$. Usando la desigualdad de Tchebyshev, determinar una cota inferior para la probabilidad de que $X$ esté entre $4.5$ y $5.5$.\n",
    "\n",
    "$\n",
    "\\begin{align*}\n",
    "P(4.5 \\leq X \\leq 5.5)\n",
    "&= P(-0.5 \\leq X-5 \\leq 0.5) \\\\\n",
    "&= P(|X-5| \\leq 0.5) \\\\\n",
    "&= 1 - P(|X-5| \\geq 0.5) \\\\\n",
    "&= 1 - P(|X-E(X)| \\geq 0.5) \\\\\n",
    "&\\geq 1 - \\tfrac{V(X)}{0.5^2}\n",
    "= 1 - \\tfrac{0.1}{0.25}\n",
    "= 0.6\n",
    "\\end{align*}\n",
    "$"
   ]
  },
  {
   "cell_type": "markdown",
   "id": "cbc94f82-8f51-440a-92d0-afa3a6e937af",
   "metadata": {},
   "source": [
    "### Pregunta B\n",
    "\n",
    "Sea $X_1, \\dots, X_n$ una muestra aleatoria (v.a. independientes e idénticamente distribuídas), con $E(X_1) = 5$ y $V(X_1) = 0.1$, y sea $\\bar{X}$ su promedio. Determinar una cota inferior, cuando n = 10, para la probabilidad de que $\\bar{X}$ esté entre $4.5$ y $5.5$.\n",
    "\n",
    "$E(\\bar{X}) = E(\\sum_{i=1}^{n} \\tfrac{E(X_i)}{n}) = \\tfrac{1}{n} \\sum_{i=1}^{n} E(X_i) = \\tfrac{1}{n} n E(X_1) = E(X_1) = 5$\n",
    "\n",
    "$V(\\bar{X}) = V(\\sum_{i=1}^{n} \\tfrac{V(X_i)}{n}) = \\tfrac{1}{n^2} \\sum_{i=1}^{n} V(X_i) = \\tfrac{1}{n^2} n V(X_1) = \\tfrac{V(X_1)}{n} = \\tfrac{0.1}{10} = 0.01$\n",
    "\n",
    "$\n",
    "\\begin{align*}\n",
    "P(4.5 \\leq \\bar{X} \\leq 5.5)\n",
    "&= 1 - P(|\\bar{X}-5| \\geq 0.5) \\\\\n",
    "&= 1 - P(|\\bar{X}-E(\\bar{X})| \\geq 0.5) \\\\\n",
    "&\\geq 1 - \\tfrac{V(\\bar{X})}{0.5^2}\n",
    "= 1 - \\tfrac{0.01}{0.25}\n",
    "= 0.96\n",
    "\\end{align*}\n",
    "$"
   ]
  },
  {
   "cell_type": "markdown",
   "id": "ac305970-d3e3-44a4-bd44-32e82d57307a",
   "metadata": {},
   "source": [
    "### Pregunta C\n",
    "\n",
    "¿Qué pasa con la cota hallada en (b) cuando el tamaño de la muestra $n$ tiende a infinito?\n",
    "\n",
    "La cota tiende a 1, y en efecto $P(4.5 \\leq \\bar{X} \\leq 5.5) \\to 1$. Lo cual tiene sentido intuitivamente. Si $\\bar{X}$ representa el promedio de todas las $X_i$, tomando una muestra infinitamente grande, este promedio tiende al valor esperado de cada $X_i$, el cual es $E(X_1) = 5$ (todas las $X_i$ son i.i.d.).\n",
    "\n",
    "Igual hagamos las cuentas:\n",
    "\n",
    "$E(\\bar{X}) = 5$ $\\forall n$\n",
    "\n",
    "$V(\\bar{X}) = \\tfrac{V(X_1)}{n}$\n",
    "\n",
    "$P(4.5 \\leq \\bar{X} \\leq 5.5) \\geq 1 - \\tfrac{V(\\bar{X})}{0.5^2} \\geq 1 - \\tfrac{V(X_1)}{0.25n} \\geq 1 - \\tfrac{0.1}{0.25n}$\n",
    "\n",
    "Observemos que:\n",
    "\n",
    "$\\lim_{n \\to \\infty} \\tfrac{0.1}{0.25n} = 0$\n",
    "\n",
    "Luego:\n",
    "\n",
    "$\\lim_{n \\to \\infty} P(4.5 \\leq \\bar{X} \\leq 5.5) \\geq \\lim_{n \\to \\infty} 1 - \\tfrac{0.1}{0.25n} = 1 \\implies P(4.5 \\leq \\bar{X} \\leq 5.5) = 1$ cuando $n \\to \\infty$"
   ]
  },
  {
   "cell_type": "markdown",
   "id": "29ed98dd-0d3f-4187-8ce5-95c60420a936",
   "metadata": {},
   "source": [
    "## Ejercicio 3\n",
    "\n",
    "El número de aviones que aterrizan en un aeropuerto sigue un proceso de Poisson con intensidad de 10 aviones cada 20 minutos. Determinar una cota inferior para la probabilidad de que el número de aviones que aterrizan en un período de 1 hora esté entre 20 y 40.\n",
    "\n",
    "$X$ = cantidad de aviones cada 1 hora\n",
    "\n",
    "$X \\sim P(30)$\n",
    "\n",
    "$E(X) = 30$\n",
    "\n",
    "$Var(X) = 30$\n",
    "\n",
    "$P(20 \\leq X \\leq 40) = P(20-30 \\leq X-30 \\leq 40-30) = P(|X-E(X)| \\leq 10) \\geq 1 - \\tfrac{Var(X)}{10^2} = 1 - \\tfrac{30}{100} = 0.7$"
   ]
  }
 ],
 "metadata": {
  "kernelspec": {
   "display_name": "R",
   "language": "R",
   "name": "ir"
  },
  "language_info": {
   "codemirror_mode": "r",
   "file_extension": ".r",
   "mimetype": "text/x-r-source",
   "name": "R",
   "pygments_lexer": "r",
   "version": "4.1.0"
  }
 },
 "nbformat": 4,
 "nbformat_minor": 5
}
