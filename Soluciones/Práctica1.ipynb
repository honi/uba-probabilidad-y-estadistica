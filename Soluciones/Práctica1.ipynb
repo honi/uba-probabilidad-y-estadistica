{
 "cells": [
  {
   "cell_type": "code",
   "execution_count": 27,
   "id": "283abf50-6731-4a1f-b05e-c006e215e34a",
   "metadata": {},
   "outputs": [],
   "source": [
    "# Imports para todo el notebook.\n",
    "from math import factorial\n",
    "\n",
    "# Función auxiliar para calcular el número combinatorio.\n",
    "def nCr(n: int, r: int):\n",
    "    return factorial(n) // (factorial(r) * factorial(n - r))"
   ]
  },
  {
   "cell_type": "markdown",
   "id": "bb8b4a54-94a2-4d58-8ea6-d4907f490a32",
   "metadata": {
    "tags": []
   },
   "source": [
    "# Práctica 1"
   ]
  },
  {
   "cell_type": "markdown",
   "id": "2343bd1c-ac94-45c1-ba98-84e2b721f7fd",
   "metadata": {
    "toc-hr-collapsed": true
   },
   "source": [
    "## Ejercicio 1\n",
    "\n",
    "Se arroja dos veces un dado equilibrado, registrándose los resultados obtenidos."
   ]
  },
  {
   "cell_type": "markdown",
   "id": "db5c2a2a-0d2c-4f9a-919e-543ca354b0bd",
   "metadata": {
    "tags": []
   },
   "source": [
    "### Pregunta A\n",
    "\n",
    "Definir un espacio muestral S apropiado para este experimento."
   ]
  },
  {
   "cell_type": "markdown",
   "id": "a49cb0ca-83a5-4fb3-82ce-f1e4c22adbcd",
   "metadata": {},
   "source": [
    "$S = \\{(i, j) \\mid 1 \\leq i,j \\leq 6 \\}$"
   ]
  },
  {
   "cell_type": "code",
   "execution_count": 2,
   "id": "27b7c8f1-7519-4c78-b5cf-c19f3382bc06",
   "metadata": {},
   "outputs": [],
   "source": [
    "S = {(i, j) for i in range(1, 7) for j in range(1, 7)}"
   ]
  },
  {
   "cell_type": "markdown",
   "id": "0e07045b-0118-4cae-acc2-ebe0a3119f7b",
   "metadata": {
    "tags": []
   },
   "source": [
    "### Pregunta B\n",
    "\n",
    "Describir el conjunto de elementos del espacio muestral que satisface que:"
   ]
  },
  {
   "cell_type": "markdown",
   "id": "80379261-3d4e-44ef-92b0-6f2cce53a812",
   "metadata": {},
   "source": [
    "La suma de los dos números obtenidos es por lo menos 5.\n",
    "\n",
    "$A = \\{(i, j) \\mid i + j \\geq 5 \\} \\} \\subset S$"
   ]
  },
  {
   "cell_type": "code",
   "execution_count": 3,
   "id": "87b79bc1-0aba-42bc-9660-c14767783cf7",
   "metadata": {},
   "outputs": [],
   "source": [
    "A = {(i, j) for i, j in S if i + j >= 5}"
   ]
  },
  {
   "cell_type": "markdown",
   "id": "9daea6aa-cd22-47cc-acd7-9af0993dccbd",
   "metadata": {},
   "source": [
    "El valor obtenido en el primer tiro es superior al obtenido en el segundo.\n",
    "\n",
    "$B = \\{(i, j) \\mid i \\gt j \\} \\subset S$"
   ]
  },
  {
   "cell_type": "code",
   "execution_count": 4,
   "id": "248e341e-ae6a-43a4-9c5c-5d978f20eb41",
   "metadata": {},
   "outputs": [],
   "source": [
    "B = {(i, j) for i, j in S if i > j}"
   ]
  },
  {
   "cell_type": "markdown",
   "id": "f7eefdf7-2c81-479f-9e8f-c8dcf92191e9",
   "metadata": {},
   "source": [
    "El valor obtenido en el primer tiro es un 4.\n",
    "\n",
    "$C = \\{(i, j) \\mid i = 4 \\} \\subset S$"
   ]
  },
  {
   "cell_type": "code",
   "execution_count": 5,
   "id": "eff4f7e1-6d13-4256-ba53-3f18c439e967",
   "metadata": {},
   "outputs": [],
   "source": [
    "C = {(i, j) for i, j in S if i == 4}"
   ]
  },
  {
   "cell_type": "markdown",
   "id": "750395c1-c231-4cd8-8b91-0480d6c2ab52",
   "metadata": {},
   "source": [
    "### Pregunta C\n",
    "\n",
    "Calcular las probabilidades de los eventos definidos en 1b)."
   ]
  },
  {
   "cell_type": "markdown",
   "id": "74465bef-0ea9-4ea3-ae2e-1c489c601fd4",
   "metadata": {},
   "source": [
    "$P(A) = \\frac{\\#A}{\\#S}$"
   ]
  },
  {
   "cell_type": "code",
   "execution_count": 6,
   "id": "81fdc4fb-54c2-4916-9544-3d3aa09755bb",
   "metadata": {},
   "outputs": [
    {
     "data": {
      "text/plain": [
       "0.8333333333333334"
      ]
     },
     "execution_count": 6,
     "metadata": {},
     "output_type": "execute_result"
    }
   ],
   "source": [
    "PA = len(A) / len(S)\n",
    "PA"
   ]
  },
  {
   "cell_type": "markdown",
   "id": "91058adf-222f-414f-9506-ec2bbcd48020",
   "metadata": {},
   "source": [
    "$P(B) = \\frac{\\#B}{\\#S}$"
   ]
  },
  {
   "cell_type": "code",
   "execution_count": 7,
   "id": "dc639ede-153f-4bf6-a6fd-254c6e35bb8c",
   "metadata": {},
   "outputs": [
    {
     "data": {
      "text/plain": [
       "0.4166666666666667"
      ]
     },
     "execution_count": 7,
     "metadata": {},
     "output_type": "execute_result"
    }
   ],
   "source": [
    "PB = len(B) / len(S)\n",
    "PB"
   ]
  },
  {
   "cell_type": "markdown",
   "id": "b54978c2-9012-485d-a585-70f6ebb6f9ac",
   "metadata": {},
   "source": [
    "$P(C) = \\frac{\\#C}{\\#S}$"
   ]
  },
  {
   "cell_type": "code",
   "execution_count": 8,
   "id": "1cebfaa5-c5c4-4ae8-9d76-6034f8991089",
   "metadata": {},
   "outputs": [
    {
     "data": {
      "text/plain": [
       "0.16666666666666666"
      ]
     },
     "execution_count": 8,
     "metadata": {},
     "output_type": "execute_result"
    }
   ],
   "source": [
    "PC = len(C) / len(S)\n",
    "PC"
   ]
  },
  {
   "cell_type": "markdown",
   "id": "96e36ad8-cddd-44db-920a-87ebd2cc1318",
   "metadata": {},
   "source": [
    "### Pregunta D\n",
    "\n",
    "Simular en ~~R~~ Python el experimento de tirar dos veces un dado equilibrado."
   ]
  },
  {
   "cell_type": "code",
   "execution_count": 9,
   "id": "e11d4b3f-7cb3-46bc-838c-45290c6d66c9",
   "metadata": {},
   "outputs": [
    {
     "data": {
      "text/plain": [
       "(3, 1)"
      ]
     },
     "execution_count": 9,
     "metadata": {},
     "output_type": "execute_result"
    }
   ],
   "source": [
    "def experiment():\n",
    "    from random import randint\n",
    "    return (randint(1, 6), randint(1, 6))\n",
    "\n",
    "experiment()"
   ]
  },
  {
   "cell_type": "markdown",
   "id": "7db2be5f-78ed-4897-a0f3-b656f01151fd",
   "metadata": {},
   "source": [
    "### Pregunta E\n",
    "\n",
    "Simular 1000 veces en ~~R~~ Python el experimento de tirar dos veces un dado equilibrado y estimar las probabilidades de los sucesos definidos en 1b)."
   ]
  },
  {
   "cell_type": "code",
   "execution_count": 10,
   "id": "251dcce0-6fa0-44cb-bf1b-34868c2e75b5",
   "metadata": {},
   "outputs": [
    {
     "name": "stdout",
     "output_type": "stream",
     "text": [
      "Estimación P(A): 0.832 \tP(A): 0.8333333333333334\n",
      "Estimación P(B): 0.419 \tP(B): 0.4166666666666667\n",
      "Estimación P(C): 0.171 \tP(C): 0.16666666666666666\n"
     ]
    }
   ],
   "source": [
    "def estimate_probability(event_name, event, p, n):\n",
    "    experiments = [experiment() for _ in range(n)]\n",
    "    count = 0\n",
    "    for exp in experiments:\n",
    "        if exp in event: count += 1\n",
    "    print(f'Estimación P({event_name}):', count / n, f'\\tP({event_name}):', p)\n",
    "\n",
    "estimate_probability('A', A, PA, 1000)\n",
    "estimate_probability('B', B, PB, 1000)\n",
    "estimate_probability('C', C, PC, 1000)"
   ]
  },
  {
   "cell_type": "markdown",
   "id": "4b6edf47-c07a-4bda-8261-f098f06fc107",
   "metadata": {},
   "source": [
    "### Pregunta F\n",
    "\n",
    "Describir los siguientes conjuntos:"
   ]
  },
  {
   "cell_type": "markdown",
   "id": "c6894f10-0a12-4264-b8f8-e9aa12495014",
   "metadata": {},
   "source": [
    "$D = A \\cap B = \\{(i, j) \\mid i + j \\geq 5 \\land i \\gt j \\}$"
   ]
  },
  {
   "cell_type": "code",
   "execution_count": 11,
   "id": "6d366c7d-5695-4556-baca-6cbdb5281ee1",
   "metadata": {},
   "outputs": [
    {
     "data": {
      "text/plain": [
       "True"
      ]
     },
     "execution_count": 11,
     "metadata": {},
     "output_type": "execute_result"
    }
   ],
   "source": [
    "D = {(i, j) for i, j in S if i + j >= 5 and i > j}\n",
    "\n",
    "# Verificación\n",
    "D == A.intersection(B)"
   ]
  },
  {
   "cell_type": "markdown",
   "id": "e90246c6-ae5e-4e2c-ba57-c566b73f1ae7",
   "metadata": {},
   "source": [
    "$E = B \\cup C = \\{(i, j) \\mid i \\gt j \\lor i = 4 \\} \\}$"
   ]
  },
  {
   "cell_type": "code",
   "execution_count": 12,
   "id": "7b315cae-fabb-465f-af56-f6cd6f8402e8",
   "metadata": {},
   "outputs": [
    {
     "data": {
      "text/plain": [
       "True"
      ]
     },
     "execution_count": 12,
     "metadata": {},
     "output_type": "execute_result"
    }
   ],
   "source": [
    "E = {(i, j) for i, j in S if i > j or i == 4}\n",
    "\n",
    "# Verificación\n",
    "E == B.union(C)"
   ]
  },
  {
   "cell_type": "markdown",
   "id": "cd0ea90f-b2aa-4cdf-b99f-9ca1bc098372",
   "metadata": {},
   "source": [
    "$F = A \\cap (B \\cup C) = \\{(i, j) \\mid i + j \\geq 5 \\land (i \\gt j \\lor i = 4) \\} \\}$"
   ]
  },
  {
   "cell_type": "code",
   "execution_count": 13,
   "id": "0a1e09a1-24d7-482f-b660-fd024b733d3b",
   "metadata": {},
   "outputs": [
    {
     "data": {
      "text/plain": [
       "True"
      ]
     },
     "execution_count": 13,
     "metadata": {},
     "output_type": "execute_result"
    }
   ],
   "source": [
    "F = {(i, j) for i, j in S if i + j >= 5 and (i > j or i == 4)}\n",
    "\n",
    "# Verificación\n",
    "F == A.intersection(B.union(C))"
   ]
  },
  {
   "cell_type": "markdown",
   "id": "87695cae-5e0c-4588-b0d3-7f6083104d28",
   "metadata": {},
   "source": [
    "### Pregunta G\n",
    "\n",
    "Calcular las probabilidades de los sucesos definidos en 1f)."
   ]
  },
  {
   "cell_type": "markdown",
   "id": "57832009-2933-47d3-9b68-c87d432f581e",
   "metadata": {
    "tags": []
   },
   "source": [
    "$P(D) = \\frac{\\#D}{\\#S}$"
   ]
  },
  {
   "cell_type": "code",
   "execution_count": null,
   "id": "f35d7144-d3ea-4340-99ad-c77e5d575487",
   "metadata": {},
   "outputs": [],
   "source": [
    "PD = len(D) / len(S)\n",
    "PD"
   ]
  },
  {
   "cell_type": "markdown",
   "id": "d7da34c3-7566-4b3f-b461-0f0464b851d9",
   "metadata": {
    "tags": []
   },
   "source": [
    "$P(E) = \\frac{\\#E}{\\#S}$"
   ]
  },
  {
   "cell_type": "code",
   "execution_count": null,
   "id": "dbaf0cb4-5223-4431-84b6-88e7f7310c98",
   "metadata": {},
   "outputs": [],
   "source": [
    "PE = len(E) / len(S)\n",
    "PE"
   ]
  },
  {
   "cell_type": "markdown",
   "id": "7f5f197f-0c54-40d8-8a08-1e8d9d16e5cb",
   "metadata": {
    "tags": []
   },
   "source": [
    "$P(F) = \\frac{\\#F}{\\#S}$"
   ]
  },
  {
   "cell_type": "code",
   "execution_count": null,
   "id": "56afb25d-6557-47ab-baea-1df4ee142b9b",
   "metadata": {},
   "outputs": [],
   "source": [
    "PF = len(F) / len(S)\n",
    "PF"
   ]
  },
  {
   "cell_type": "markdown",
   "id": "a596526c-9693-4fe5-9184-9443a06ae8fb",
   "metadata": {},
   "source": [
    "### Pregunta H\n",
    "\n",
    "Estimar las probabilidades de los sucesos definidos en 1f) mediante simulaciones. Comparar con los resultados obtenidos en 1g)."
   ]
  },
  {
   "cell_type": "code",
   "execution_count": null,
   "id": "b7ca079e-1712-4a41-ba64-d628ab0ea877",
   "metadata": {},
   "outputs": [],
   "source": [
    "estimate_probability('D', D, PD, 1000)\n",
    "estimate_probability('E', E, PE, 1000)\n",
    "estimate_probability('F', F, PF, 1000)"
   ]
  },
  {
   "cell_type": "markdown",
   "id": "b73d3646-59d2-4b3e-b084-7790ab6fd3ed",
   "metadata": {},
   "source": [
    "## Ejercicio 2\n",
    "\n",
    "Dados dos eventos A y B tales que se conocen $P(A \\cup B)$ y $P(A \\cap B)$, hallar una fórmula para la probabilidad de que ocurra exactamente uno de estos eventos.\n",
    "\n",
    "En esencia lo que piden es la diferencia simétrica: $P(A \\triangle B) = P((A \\cup B) \\setminus (A \\cap B)) = P(A \\cup B) - P(A \\cap B)$\n",
    "\n",
    "Una compañía constructora trabaja en dos proyectos diferentes. Sea A el evento: \"el primero de los proyectos se termina en la fecha del contrato\" y definamos análogamente B para el segundo proyecto. Si $P(A \\cup B) = 0.9$ y $P(A \\cap B) = 0.5$, ¿cuál es la probabilidad de que exactamente un proyecto se termine para la fecha de contrato?"
   ]
  },
  {
   "cell_type": "markdown",
   "id": "04cff134-6e9e-423a-ab37-50cb3f9ef405",
   "metadata": {},
   "source": [
    "Defino el espacio muestral como tuplas de 2 elementos, donde el primer elemento representa si el primer proyecto se termina a tiempo (1) o no (0), y el segundo número lo mismo pero para el segundo proyecto. Por ejemplo, $(1,1)$ significa que ambos proyectos terminaron a tiempo, mientras que $(0,0)$ significa que ningún proyecto se terminó a tiempo.\n",
    "\n",
    "$S = \\{(1,1), (1,0), (0,1), (0,0)\\}$\n",
    "\n",
    "Luego, los eventos A y B son los siguientes:\n",
    "\n",
    "$A = \\{(1,1), (1,0)\\}$\n",
    "\n",
    "$B = \\{(1,1), (0,1)\\}$\n",
    "\n",
    "Por otro lado, sea C el evento cuando exactamente un proyecto se termina:\n",
    "\n",
    "$C = \\{(1,0), (0,1)\\}$\n",
    "\n",
    "Lo que me piden calcular es $P(C)$.\n",
    "\n",
    "$C = A \\triangle B = (A \\cup B) \\setminus (A \\cap B)$\n",
    "\n",
    "Observación: $(A \\cap B) \\subset (A \\cup B)$, por lo tanto vale lo siguiente:\n",
    "\n",
    "$P(C) = P((A \\cup B) \\setminus (A \\cap B)) = P(A \\cup B) - P(A \\cap B) = 0.9 - 0.5 = 0.4$"
   ]
  },
  {
   "cell_type": "markdown",
   "id": "00f9217d-d45f-4a8e-b7bf-b92641bc8464",
   "metadata": {
    "toc-hr-collapsed": true
   },
   "source": [
    "## Ejercicio 3\n",
    "\n",
    "Supongamos que cuando una computadora se \"cuelga\" (no responde), el 75 % de las veces se debe a problemas de memoria y el 15 % de las veces a problemas de software y que el 15 % de las veces se debe a problemas que no son ni de memoria ni de software."
   ]
  },
  {
   "cell_type": "markdown",
   "id": "3d8c7163-9bf4-4509-989e-19c9ce19a8f8",
   "metadata": {},
   "source": [
    "Similar al ejercicio 2, defino el espacio muestral como tuplas de 2 números, donde el primer elemento representa si hubo un problema de memoria, y el segundo elemento si hubo un problema de software. Por ejemplo, $(1,0)$ significa que hubo problemas de memoria pero no de software.\n",
    "\n",
    "$S = \\{(1,1), (1,0), (0,1), (0,0)\\}$\n",
    "\n",
    "Evento A: hubo problemas de memoria.\n",
    "\n",
    "$A = \\{(1,1), (1,0)\\}$\n",
    "\n",
    "Evento B: hubo problemas de software.\n",
    "\n",
    "$B = \\{(1,1), (0,1)\\}$\n",
    "\n",
    "Evento C: hubo problemas pero no de memoria ni de software.\n",
    "\n",
    "$C = \\{(0, 0)\\}$\n",
    "\n",
    "El enunciado me da la siguiente información:\n",
    "\n",
    "$P(A) = 0.75$\n",
    "\n",
    "$P(B) = 0.15$\n",
    "\n",
    "$P(C) = 0.15$"
   ]
  },
  {
   "cell_type": "markdown",
   "id": "58145990-0448-4518-866e-3f1296c84e0e",
   "metadata": {},
   "source": [
    "### Pregunta A\n",
    "\n",
    "¿Cuál es la probabilidad de que estos dos problemas ocurran simultáneamente?"
   ]
  },
  {
   "cell_type": "markdown",
   "id": "6626ecd4-91d0-433e-b3af-7f21ee4bfd3e",
   "metadata": {},
   "source": [
    "Me están pidiendo calcular $P(A \\cap B)$. Para esto, arranco desde la definición de $P(A \\cup B)$ y hago algunas operaciones para poder usar los datos del enunciado.\n",
    "\n",
    "$\n",
    "\\begin{align*}\n",
    "P(A \\cup B) &= P(A) + P(B) - P(A \\cap B) \\\\\n",
    "\\iff P(A \\cap B) &= P(A) + P(B) - P(A \\cup B) \\\\\n",
    "\\iff P(A \\cap B) &= P(A) + P(B) - (1 - P((A \\cup B)^c)) \\hskip1em \\text{Observación:} \\hskip0.5em (A \\cup B)^c = C \\\\\n",
    "\\iff P(A \\cap B) &= P(A) + P(B) - (1 - P(C)) \\\\\n",
    "\\iff P(A \\cap B) &= 0.75 + 0.15 - (1 - 0.15) = 0.05\n",
    "\\end{align*}\n",
    "$"
   ]
  },
  {
   "cell_type": "markdown",
   "id": "207f0647-c0da-46f8-86bf-5960db65721e",
   "metadata": {},
   "source": [
    "### Pregunta B\n",
    "¿Cuál es la probabilidad de que ocurra un problema de software y no de memoria?"
   ]
  },
  {
   "cell_type": "markdown",
   "id": "28cfd1e2-5a32-4c4d-bb8a-6b96051cfc63",
   "metadata": {},
   "source": [
    "$\n",
    "\\begin{align*}\n",
    "P(B \\setminus A) &= P(B \\setminus (B \\cap A)) = P(B) - P(B \\cap A) \\hskip1em \\text{Pues:} \\hskip0.5em (B \\cap A) \\subset B \\\\\n",
    "\\iff P(B \\setminus A) &= 0.15 - 0.05 = 0.1\n",
    "\\end{align*}\n",
    "$"
   ]
  },
  {
   "cell_type": "markdown",
   "id": "19670ff4-5de8-4215-923a-cc73e6c7508b",
   "metadata": {
    "toc-hr-collapsed": true
   },
   "source": [
    "## Ejercicio 4\n",
    "\n",
    "De un bolillero que contiene 5 bolillas numeradas 1, 2, 3, 4, 5 se extrae una al azar, sea la número k. Se eliminan las bolillas cuyo número es mayor que k de la urna y se hace una segunda extracción al azar entre las bolillas 1 a k, sea la número j. Se eliminan las bolillas cuyo número es mayor que j de la urna y se hace una tercera extracción al azar entre las bolillas 1 a j."
   ]
  },
  {
   "cell_type": "markdown",
   "id": "72f533b4-3ece-4d49-92ae-861372301990",
   "metadata": {},
   "source": [
    "### Pregunta A\n",
    "\n",
    "Describir un espacio muestral adecuado para este experimento y determinar el número de elementos que posee."
   ]
  },
  {
   "cell_type": "markdown",
   "id": "2bc2038c-34a9-43b4-ab03-f373070f471f",
   "metadata": {},
   "source": [
    "$S = \\{(k, j, i) \\mid 1 \\leq i \\leq j \\leq k \\leq 5 \\}$"
   ]
  },
  {
   "cell_type": "code",
   "execution_count": null,
   "id": "ecaf5eb4-6247-4a99-a5db-cc79e792cb91",
   "metadata": {
    "scrolled": true,
    "tags": []
   },
   "outputs": [],
   "source": [
    "import pandas as pd\n",
    "from IPython.display import HTML\n",
    "\n",
    "S = [\n",
    "    (k, j, i)\n",
    "    for k in range(1, 6)\n",
    "    for j in range(1, k+1)\n",
    "    for i in range(1, j+1)\n",
    "]\n",
    "HTML(pd.DataFrame(S, columns=['k', 'j', 'i']).to_html(index=False))"
   ]
  },
  {
   "cell_type": "code",
   "execution_count": null,
   "id": "fcd61b51-07c2-4dbc-b242-6b11387a4da2",
   "metadata": {},
   "outputs": [],
   "source": [
    "len(S)"
   ]
  },
  {
   "cell_type": "markdown",
   "id": "6e5c22cb-b83d-41b1-8b5f-e6bac548c6f5",
   "metadata": {},
   "source": [
    "### Pregunta B\n",
    "\n",
    "¿Es razonable suponer equiprobabilidad en este espacio?"
   ]
  },
  {
   "cell_type": "markdown",
   "id": "23d9eb82-8f29-4b1d-ab7f-1cfacadee967",
   "metadata": {},
   "source": [
    "Asumiendo que las bolillas están equilibradas, solo hay equiprobabilidad para la primer bolilla cuando está la urna completa. Si el primer número extraído (k) es menor a 5, entonces durante la segunda extracción las probabilidades de las bolillas restantes son distintas pues hay menos bolillas en la urna.\n",
    "\n",
    "Solamente se mantiene la equiprobabilidad durante las 3 extracciones si sale siempre la bolilla del 5, pues en este caso nunca se retiran bolillas de la urna."
   ]
  },
  {
   "cell_type": "markdown",
   "id": "36c81890-6813-47ed-af7a-3438ebaa1351",
   "metadata": {},
   "source": [
    "¿Qué probabilidad le asignaría al (3,2,1)?"
   ]
  },
  {
   "cell_type": "markdown",
   "id": "0cf573ce-de53-4cf9-b801-cd3ae173565a",
   "metadata": {},
   "source": [
    "Primer extracción: $P(k) = \\frac{1}{5}$ Pues hay 5 bolillas.\n",
    "\n",
    "Segunda extracción: $P(j) = \\frac{1}{k}$ Pues hay k bolillas.\n",
    "\n",
    "Segunda extracción: $P(i) = \\frac{1}{j}$ Pues hay j bolillas.\n",
    "\n",
    "$P((k,j,i)) = P(k) * P(j) * P(i) = \\frac{1}{5} * \\frac{1}{k} * \\frac{1}{j} = \\frac{1}{5*k*j}$\n",
    "\n",
    "Por lo tanto: $P((3,2,1)) = \\frac{1}{5*3*2} = \\frac{1}{30}$"
   ]
  },
  {
   "cell_type": "markdown",
   "id": "db40813a-7a30-4755-9926-a8fc7d70a9de",
   "metadata": {},
   "source": [
    "Para verificar la conclusión anterior, si sumamos las probabilidades de cada elemento de S (calculado con la fórmula anterior), deberíamos obtener 1 pues P(S) = 1."
   ]
  },
  {
   "cell_type": "code",
   "execution_count": null,
   "id": "24d9c92f-34dc-4ccf-806a-713c7faf36d0",
   "metadata": {},
   "outputs": [],
   "source": [
    "from fractions import Fraction\n",
    "float(sum([Fraction(1, 5*k*j) for k, j, i in S]))"
   ]
  },
  {
   "cell_type": "markdown",
   "id": "a0ef471b-c962-4065-833e-c314eac6a827",
   "metadata": {},
   "source": [
    "## Ejercicio 5\n",
    "\n",
    "Una firma proveedora de software ha ofrecido sus servicios a 3 empresas. Se definen los eventos $A_i$ = {la empresa $i$ realiza una compra a esta firma}, para $i$ = 1, 2, 3. \n",
    "\n",
    "Se sabe que:\n",
    "\n",
    "$P(A_1) = 0.22$\\\n",
    "$P(A_2) = 0.25$\\\n",
    "$P(A_3) = 0.28$\\\n",
    "$P(A_1 \\cap A_2) = 0.11$\\\n",
    "$P(A_1 \\cap A_3) = 0.05$\\\n",
    "$P(A_2 \\cap A_3) = 0.07$\\\n",
    "$P(A_1 \\cap A_2 \\cap A_3) = 0.01$\n",
    "\n",
    "Expresar en palabras los siguientes eventos y calcular sus probabilidades:"
   ]
  },
  {
   "cell_type": "markdown",
   "id": "9464d0b7-ab5c-42a5-9a4d-e55bd355dd94",
   "metadata": {},
   "source": [
    "**Evento:** $A_1 \\cup A_2$\n",
    "\n",
    "Las empresas 1 y/o la 2 realizan una compra.\n",
    "\n",
    "$\n",
    "\\begin{align*}\n",
    "P(A_1 \\cup A_2) &= P(A_1) + P(A_2) - P(A_1 \\cap A_2) \\\\\n",
    "&= 0.22 + 0.25 - 0.11 \\\\\n",
    "&= 0.36\n",
    "\\end{align*}\n",
    "$"
   ]
  },
  {
   "cell_type": "markdown",
   "id": "118f694d-56de-448b-aaa8-c34bd0abc63e",
   "metadata": {},
   "source": [
    "**Evento:** $A_1^c \\cap A_2^c$\n",
    "\n",
    "Las empresas 1 y 2 ambas no realizaron una compra. La empresa 3 quizás realizó una compra.\n",
    "\n",
    "$\n",
    "\\begin{align*}\n",
    "P(A_1^c \\cap A_2^c) &= P((A_1 \\cup A_2)^c) \\hskip1em \\text{Por Ley de De Morgan} \\\\\n",
    "&= 1 - P(A_1 \\cup A_2) \\\\\n",
    "&= 1 - 0.36 \\\\\n",
    "&= 0.64\n",
    "\\end{align*}\n",
    "$"
   ]
  },
  {
   "cell_type": "markdown",
   "id": "e8f80948-a05e-4762-9063-5e27552afed8",
   "metadata": {},
   "source": [
    "**Evento:** $A_1 \\cup A_2 \\cup A_3$\n",
    "\n",
    "Las empresas 1 y/o la 2 y/o la 3 realizan una compra.\n",
    "\n",
    "$\n",
    "\\begin{align*}\n",
    "P(A_1 \\cup A_2 \\cup A_3) &= P(A_1) + P(A_2) + P(A_3) - P(A_1 \\cap A_2) - P(A_1 \\cap A_3) - P(A_2 \\cap A_3) + P(A_1 \\cap A_2 \\cap A_3) \\\\\n",
    "&= 0.22 + 0.25 + 0.28 - 0.11 - 0.05 - 0.07 + 0.01 \\\\\n",
    "&= 0.53\n",
    "\\end{align*}\n",
    "$"
   ]
  },
  {
   "cell_type": "markdown",
   "id": "a17b72f6-aebd-4a68-8947-bb4aa814614e",
   "metadata": {},
   "source": [
    "**Evento:** $A_1^c \\cap A_2^c \\cap A_3^c$\n",
    "\n",
    "Ninguna de las 3 empresas realiza una compra.\n",
    "\n",
    "$\n",
    "\\begin{align*}\n",
    "P(A_1^c \\cap A_2^c \\cap A_3^c) &= P((A_1 \\cup A_2 \\cup A_3)^c) \\hskip1em \\text{Por Ley de De Morgan} \\\\\n",
    "&= 1 - P(A_1 \\cup A_2 \\cup A_3) \\\\\n",
    "&= 1 - 0.53 \\\\\n",
    "&= 0.47\n",
    "\\end{align*}\n",
    "$"
   ]
  },
  {
   "cell_type": "markdown",
   "id": "b6bc5d34-2843-400a-a72c-9b4e276496e7",
   "metadata": {},
   "source": [
    "**Evento:** $A_1^c \\cap A_2^c \\cap A_3$\n",
    "\n",
    "Las empresas 1 y 2 ambas no realizaron una compra, pero la empresa 3 sí realizó una compra.\n",
    "\n",
    "$\n",
    "\\begin{align*}\n",
    "P(A_1^c \\cap A_2^c \\cap A_3) &= P(A_3 \\cap (A_1 \\cup A_2)^c) \\hskip1em \\text{Por Ley de De Morgan} \\\\\n",
    "&= P(A_3 \\setminus (A_1 \\cup A_2)) \\\\\n",
    "&= P(A_3 \\setminus ((A_1 \\cap A_3) \\cup (A_2 \\cap A_3))) \\\\\n",
    "&= P(A_3) - P((A_1 \\cap A_3) \\cup (A_2 \\cap A_3)) \\hskip1em \\text{Pues:} \\hskip0.5em (A_1 \\cap A_3) \\cup (A_2 \\cap A_3) \\subset A_3 \\\\\n",
    "&= P(A_3) - (P(A_1 \\cap A_3) + P(A_2 \\cap A_3) - P(A_1 \\cap A_2 \\cap A_3)) \\\\\n",
    "&= 0.28 - (0.05 + 0.07 - 0.01) \\\\\n",
    "&= 0.17\n",
    "\\end{align*}\n",
    "$"
   ]
  },
  {
   "cell_type": "markdown",
   "id": "eaf54e88-07c2-4243-abf0-83353ab8130b",
   "metadata": {},
   "source": [
    "**Evento:** $(A_1^c \\cap A_2^c) \\cup A_3$\n",
    "\n",
    "Uno de estos casos:\n",
    "- Las 3 empresas realizaron una compra.\n",
    "- Las empresas 1 y 3 realizaron una compra.\n",
    "- Las empresas 2 y 3 realizaron una compra.\n",
    "- Solo la empresa 3 realizó una compra.\n",
    "- Ninguna empresa realizó una compra.\n",
    "\n",
    "$\n",
    "\\begin{align*}\n",
    "P((A_1^c \\cap A_2^c) \\cup A_3) &= P((A_1 \\cup A_2)^c \\cup A_3) \\hskip1em \\text{Por Ley de De Morgan} \\\\\n",
    "&= P((A_1 \\cup A_2)^c) + P(A_3) - P((A_1 \\cup A_2)^c \\cap A_3) \\\\\n",
    "&= 1 - P(A_1 \\cup A_2) + P(A_3) - P((A_1 \\cup A_2)^c \\cap A_3) \\\\\n",
    "&= 1 - 0.36 + 0.28 - 0.17 \\\\\n",
    "&= 0.75\n",
    "\\end{align*}\n",
    "$"
   ]
  },
  {
   "cell_type": "markdown",
   "id": "13067f8d-9b91-4d81-b893-ba593966c0d2",
   "metadata": {},
   "source": [
    "## Ejercicio 6\n",
    "\n",
    "Un grupo de 60 alumnos será subdividido al azar en dos divisiones de 30 alumnos cada una. Cinco de esos alumnos son muy amigos: Alicia, Beto, Carmen, Diego y Eva."
   ]
  },
  {
   "cell_type": "markdown",
   "id": "6f353de2-4b15-478e-9a75-06cfeed929ab",
   "metadata": {},
   "source": [
    "### Pregunta A\n",
    "\n",
    "¿Cuál es la probabilidad de que todos queden en la misma división?"
   ]
  },
  {
   "cell_type": "markdown",
   "id": "068a9c68-9a75-48da-8da1-766a159db420",
   "metadata": {},
   "source": [
    "El cardinal del espacio muestral es: $\\#S = {60 \\choose 30}$\n",
    "\n",
    "Pues al asignar 30 alumnos a una división, automáticamente los otros 30 van a parar a la otra división.\n",
    "\n",
    "Para contar los casos favorables, fijo los 5 amigos en una misma división, y cuento la cantidad de formas de asignar 25 alumnos más a la misma división que los 5 amigos para completar los 30. Multiplico por 2 pues hay el doble de casos favorables, donde todos los amigos van a una división o la otra.\n",
    "\n",
    "$2 *\\frac{55 \\choose 25}{60 \\choose 30}$"
   ]
  },
  {
   "cell_type": "code",
   "execution_count": null,
   "id": "29f30f43-b098-4699-b01c-737f36bdd99a",
   "metadata": {},
   "outputs": [],
   "source": [
    "2 * nCr(55, 25) / nCr(60, 30)"
   ]
  },
  {
   "cell_type": "markdown",
   "id": "1a107f94-04ee-4af7-987a-9694426c7ce8",
   "metadata": {},
   "source": [
    "### Pregunta B\n",
    "\n",
    "¿Cuál es la probabilidad de que solo quede separado Diego?"
   ]
  },
  {
   "cell_type": "markdown",
   "id": "3172660d-4de0-4155-a964-ec2edd0cf4d9",
   "metadata": {},
   "source": [
    "Siguiendo la misma lógica que en la pregunta A, fijo 4 de los amigos en la misma división y cuento la cantidad de formas de asignar 26 alumnos más para completar los 30. Pero me tengo que asegurar que Diego no sea una opción para esos 26 alumnos. Multiplico por 2 pues hay el doble de casos favorables, donde todos los amigos van a una división o la otra.\n",
    "\n",
    "$2 * \\frac{55 \\choose 26}{60 \\choose 30}$"
   ]
  },
  {
   "cell_type": "code",
   "execution_count": null,
   "id": "ea8ad135-d810-408b-a98c-2aad8f1db387",
   "metadata": {},
   "outputs": [],
   "source": [
    "2 * nCr(55, 26) / nCr(60, 30)"
   ]
  },
  {
   "cell_type": "markdown",
   "id": "0557dd93-4551-45c0-b7cd-f93f97a893f7",
   "metadata": {},
   "source": [
    "## Ejercicio 7\n",
    "\n",
    "De un grupo de 6 mujeres y 4 hombres se deben elegir 3 personas para que los representen en tres congresos a desarrollarse en mayo, junio y septiembre."
   ]
  },
  {
   "cell_type": "markdown",
   "id": "e7397ad8-cd78-49f7-929c-f7ff31b243c0",
   "metadata": {},
   "source": [
    "### Pregunta A\n",
    "\n",
    "Suponiendo que una persona puede ir a más de un congreso, calcular la probabilidad de que:"
   ]
  },
  {
   "cell_type": "markdown",
   "id": "fdacd1d6-637c-48bd-b3ed-bb70d26fa06c",
   "metadata": {},
   "source": [
    "A los dos primeros congresos vayan mujeres.\n",
    "\n",
    "$P = \\frac{6}{10} * \\frac{6}{10} * \\frac{10}{10} = \\frac{9}{25} = 0.36$"
   ]
  },
  {
   "cell_type": "markdown",
   "id": "0c94ffec-600a-4101-8f52-35b8feb0846a",
   "metadata": {},
   "source": [
    "A los dos primeros congresos vayan mujeres y al tercero un hombre.\n",
    "\n",
    "$P = \\frac{6}{10} * \\frac{6}{10} * \\frac{4}{10} = \\frac{18}{125} = 0.144$"
   ]
  },
  {
   "cell_type": "markdown",
   "id": "5d31c175-cd63-4c36-9ef8-271da95485d6",
   "metadata": {},
   "source": [
    "Haya por lo menos una mujer entre las 3 personas elegidas.\n",
    "\n",
    "Resto la probabilidad de que vayan todos hombres a los 3 congresos.\n",
    "\n",
    "$P = 1 - \\frac{4}{10} * \\frac{4}{10} * \\frac{4}{10} = \\frac{117}{125} = 0.936$"
   ]
  },
  {
   "cell_type": "markdown",
   "id": "675dec00-41fa-43c9-a951-f2c441ac434f",
   "metadata": {},
   "source": [
    "### Pregunta B\n",
    "\n",
    "Si a cada congreso debe ir una persona diferente, calcular las mismas probabilidades que en (a) y además la probabilidad de que haya exactamente una mujer entre las 3 personas elegidas."
   ]
  },
  {
   "cell_type": "markdown",
   "id": "05c38efb-af25-4ee1-9065-3e5496dd2980",
   "metadata": {},
   "source": [
    "A los dos primeros congresos vayan mujeres.\n",
    "\n",
    "$P = \\frac{6}{10} * \\frac{5}{9} * \\frac{8}{8} = \\frac{1}{3} = 0.\\widehat{3}$"
   ]
  },
  {
   "cell_type": "markdown",
   "id": "881c59a4-db37-4370-9e11-5ad0156db2d6",
   "metadata": {},
   "source": [
    "A los dos primeros congresos vayan mujeres y al tercero un hombre.\n",
    "\n",
    "$P = \\frac{6}{10} * \\frac{5}{9} * \\frac{4}{8} = \\frac{1}{6} = 0.1\\widehat{6}$"
   ]
  },
  {
   "cell_type": "markdown",
   "id": "d119b47c-00e6-4d29-b13c-dc35c4df38aa",
   "metadata": {},
   "source": [
    "Haya por lo menos una mujer entre las 3 personas elegidas.\n",
    "\n",
    "Resto la probabilidad de que vayan todos hombres a los 3 congresos.\n",
    "\n",
    "$P = 1 - \\frac{4}{10} * \\frac{3}{9} * \\frac{2}{8} = \\frac{29}{30} = 0.9\\widehat{6}$"
   ]
  },
  {
   "cell_type": "markdown",
   "id": "466cf2d9-8246-43a0-8564-542a43a3dd80",
   "metadata": {},
   "source": [
    "Haya exactamente una mujer entre las 3 personas elegidas.\n",
    "\n",
    "Primero calculo la probabilidad de los casos a excluir.\n",
    "\n",
    "- 3 mujeres: $P_1 = \\frac{6}{10} * \\frac{5}{9} * \\frac{4}{8} = \\frac{1}{6}$\n",
    "- 2 mujeres y 1 hombre, multiplicado por 3 para considerar la asignación a los congresos: $P_2 = 3 * \\frac{6}{10} * \\frac{5}{9} * \\frac{4}{8} = \\frac{3}{6}$\n",
    "- 3 hombres: $P_3 = \\frac{4}{10} * \\frac{3}{9} * \\frac{2}{8} = \\frac{1}{30}$\n",
    "\n",
    "Luego calculo lo pedido por el complemento.\n",
    "\n",
    "$P = 1 - P_1 - P_2 - P_3 = 1 - \\frac{1}{6} - \\frac{3}{6} - \\frac{1}{30} = \\frac{3}{10} = 0.3$\n",
    "\n",
    "Otra forma: calculo la probabilidad de elegir exactamente 1 mujer y 2 hombres, y luego multiplico por 3 para considerar la asignación a los congresos.\n",
    "\n",
    "$P = 3 * \\frac{6}{10} * \\frac{4}{9} * \\frac{3}{8} = \\frac{3}{10} = 0.3$"
   ]
  },
  {
   "cell_type": "markdown",
   "id": "6a8b8c3b-b49a-4f33-9a3d-8bf6bd1ff7e9",
   "metadata": {},
   "source": [
    "## Ejercicio 8\n",
    "\n",
    "En un negocio hay 6 productos de cierto tipo, 3 de ellos vencidos y 3 que están dentro del período de validez.\n",
    "\n",
    "$S = \\{ T_1, T_2, T_3, F_1, F_2, F_3 \\}$\n",
    "\n",
    "T = Producto Válido, F = Producto Vencido"
   ]
  },
  {
   "cell_type": "markdown",
   "id": "af26b5d1-9b0d-4c52-b228-8c3a1f4e7659",
   "metadata": {},
   "source": [
    "### Pregunta A\n",
    "\n",
    "Los tres primeros envases revisados contengan los productos vencidos.\n",
    "\n",
    "$A = \\{ F_1, F_2, F_3 \\}$\n",
    "\n",
    "$P = \\frac{3 \\choose 3}{6 \\choose 3} = \\frac{1}{20} = 0.05$"
   ]
  },
  {
   "cell_type": "markdown",
   "id": "60dd4b2b-a34d-436a-a02f-9c235b0a2d85",
   "metadata": {},
   "source": [
    "### Pregunta B\n",
    "\n",
    "Necesite revisar exactamente $i$ envases para encontrar los tres que contienen los productos vencidos. Hacerlo para $i = 4, 5, 6$.\n",
    "\n",
    "En todos los casos, es necesario fijar en la revisada $i$ un producto vencido para que se cumpla la consigna de que necesite revisar exactamente $i$ envases.\n",
    "\n",
    "Luego, en los $i-1$ envases que quedan, sabemos que hay otros 2 vencidos y el resto serán válidos. Debemos contar la cantidad de formas de colocar los 2 productos vencidos en los $i-1$ envases que quedan. Esto se puede describir como $i-1 \\choose 2$.\n",
    "\n",
    "El tamaño del espacio muestral se mantiene en ${6 \\choose 3}$ porque es la cantidad total de formas de colocar los 3 productos vencidos en los 6 envases o lugares.\n",
    "\n",
    "$P = \\frac{i-1 \\choose 2}{6 \\choose 3}$\n",
    "\n",
    "- Caso i=4: $P = \\frac{3 \\choose 2}{6 \\choose 3} = \\frac{3}{20} = 0.15$\n",
    "- Caso i=5: $P = \\frac{4 \\choose 2}{6 \\choose 3} = \\frac{6}{20} = 0.3$\n",
    "- Caso i=6: $P = \\frac{5 \\choose 2}{6 \\choose 3} = \\frac{10}{20} = 0.5$"
   ]
  },
  {
   "cell_type": "markdown",
   "id": "ec049129-a73d-414c-986f-5e1726039149",
   "metadata": {},
   "source": [
    "## Ejercicio 9"
   ]
  },
  {
   "cell_type": "markdown",
   "id": "bd261e43-14b8-481f-a26d-517ca757d94d",
   "metadata": {},
   "source": [
    "### Pregunta A\n",
    "\n",
    "Probar que:\n",
    "\n",
    "$\n",
    "\\begin{align*}\n",
    "P(A_1 \\cup A_2 \\cup A_3 \\cup A_4) &= P(A_1) + P(A_2) + P(A_3) + P(A_4) \\\\\n",
    "&- P(A_1 \\cap A_2) - P(A_1 \\cap A_3) - P(A_1 \\cap A_4) - P(A_2 \\cap A_3) - P(A_2 \\cap A_4) - P(A_3 \\cap A_4) \\\\\n",
    "&+ P(A_1 \\cap A_2 \\cap A_3) + P(A_1 \\cap A_2 \\cap A_4) + P(A_1 \\cap A_3 \\cap A_4) + P(A_2 \\cap A_3 \\cap A_4) \\\\\n",
    "&- P(A_1 \\cap A_2 \\cap A_3 \\cap A_4)\n",
    "\\end{align*}\n",
    "$\n",
    "\n",
    "Demostración:\n",
    "\n",
    "$\n",
    "\\begin{align*}\n",
    "P(A_1 \\cup (A_2 \\cup A_3 \\cup A_4)) &= P(A_1) + P(A_2 \\cup A_3 \\cup A_4) - P(A_1 \\cap (A_2 \\cup A_3 \\cup A_4)) \\\\\n",
    "&= P(A_1) + P(A_2) + P(A_3) + P(A_4) - P(A_2 \\cap A_3) - P(A_2 \\cap A_4) - P(A_3 \\cap A_4) + P(A_2 \\cap A_3 \\cap A_4) - P(A_1 \\cap (A_2 \\cup A_3 \\cup A_4)) \\\\\n",
    "&= P(A_1) + P(A_2) + P(A_3) + P(A_4) - P(A_2 \\cap A_3) - P(A_2 \\cap A_4) - P(A_3 \\cap A_4) + P(A_2 \\cap A_3 \\cap A_4) - P((A_1 \\cap A_2) \\cup (A_1 \\cap A_3) \\cup (A_1 \\cap A_4)) \\\\\n",
    "&= P(A_1) + P(A_2) + P(A_3) + P(A_4) - P(A_2 \\cap A_3) - P(A_2 \\cap A_4) - P(A_3 \\cap A_4) + P(A_2 \\cap A_3 \\cap A_4) - (P(A_1 \\cap A_2) + P(A_1 \\cap A_3) + P(A_1 \\cap A_4) - P((A_1 \\cap A_2) \\cap (A_1 \\cap A_3)) - P((A_1 \\cap A_2) \\cap (A_1 \\cap A_4)) - P((A_1 \\cap A_3) \\cap (A_1 \\cap A_4)) + P((A_1 \\cap A_2) \\cap (A_1 \\cap A_3) \\cap (A_1 \\cap A_4))) \\\\\n",
    "&= P(A_1) + P(A_2) + P(A_3) + P(A_4) - P(A_2 \\cap A_3) - P(A_2 \\cap A_4) - P(A_3 \\cap A_4) + P(A_2 \\cap A_3 \\cap A_4) - P(A_1 \\cap A_2) - P(A_1 \\cap A_3) - P(A_1 \\cap A_4) + P(A_1 \\cap A_2 \\cap A_3) + P(A_1 \\cap A_2 \\cap A_4) + P(A_1 \\cap A_3 \\cap A_4) - P(A_1 \\cap A_2 \\cap A_3 \\cap A_4)\n",
    "\\end{align*}\n",
    "$"
   ]
  },
  {
   "cell_type": "markdown",
   "id": "a81b412c-f651-4a7e-a7ea-63616c0e7ec8",
   "metadata": {},
   "source": [
    "### Pregunta B\n",
    "\n",
    "TODO"
   ]
  },
  {
   "cell_type": "markdown",
   "id": "34538ff2-aa9b-49e9-b12a-88f6b093ca47",
   "metadata": {},
   "source": [
    "### Pregunta C\n",
    "\n",
    "TODO"
   ]
  },
  {
   "cell_type": "markdown",
   "id": "e0ef5cd8-526e-4fb7-b0dd-c1e24b9fba5d",
   "metadata": {},
   "source": [
    "## Ejercicio 10"
   ]
  },
  {
   "cell_type": "markdown",
   "id": "9a5ea92b-5867-41b9-aacd-5d88e41b5db2",
   "metadata": {},
   "source": [
    "### Pregunta A\n",
    "\n",
    "En base a esta tabla calcular las siguientes probabilidades condicionales:\n",
    "\n",
    "$P(W|A) = \\frac{P(W \\cap A)}{P(A)} = \\frac{0.08}{0.2} = 0.4$\n",
    "\n",
    "$P(M|Z) = \\frac{P(M \\cap Z)}{P(Z)} = \\frac{0.15}{0.35} = 0.4285$\n",
    "\n",
    "$P(Y^c|M) = \\frac{P(Y^c \\cap M)}{P(M)} = \\frac{0.4-0.13}{0.4} = \\frac{0.27}{0.4} = 0.675$\n",
    "\n",
    "$P(M|Y^c) = \\frac{P(M \\cap Y^c)}{P(Y^c)} = \\frac{0.4-0.13}{1-0.25} = \\frac{0.27}{0.75} = 0.36$\n",
    "\n",
    "$P(M|W \\cup Z) = \\frac{P(M \\cap (W \\cup Z))}{P(W \\cup Z)} = \\frac{0.12+0.15}{0.4+0.35} = \\frac{0.27}{0.75} = 0.36$\n",
    "\n",
    "$P(B \\cup M|Z) = \\frac{P((B \\cup M) \\cap Z)}{P(Z)} = \\frac{0.1+0.15}{0.35} = \\frac{0.25}{0.35} = 0.7142$"
   ]
  },
  {
   "cell_type": "markdown",
   "id": "d7af754a-5764-469d-86a8-6832c271d56a",
   "metadata": {
    "tags": []
   },
   "source": [
    "### Pregunta B\n",
    "\n",
    "¿Cuál es la probabilidad de que una persona elegida al azar prefiera la marca Y o tenga un alto ingreso?\n",
    "\n",
    "$P(Y \\cup A) = P(Y) + P(A) - P(Y \\cap A) = 0.25 + 0.2 - 0.02 = 0.43$"
   ]
  },
  {
   "cell_type": "markdown",
   "id": "a63f1b49-4051-4627-9d75-a2fbaf6c501f",
   "metadata": {},
   "source": [
    "## Ejercicio 11\n",
    "\n",
    "Una persona arroja dos dados equilibrados. Calcular la probabilidad de que la suma sea 7 sabiendo las siguientes condiciones.\n",
    "\n",
    "$S = \\{ (d_1, d_2) \\mid 1 \\leq d_1, d_2 \\leq 6 \\}$\n",
    "\n",
    "$\\#S = 36$\n",
    "\n",
    "$A = \\{ (d_1, d_2) \\mid d_1 + d_2 = 7 \\} = \\{ (1,6), (2,5), (3,4), (4,3), (5,2), (6,1) \\}$\n",
    "\n",
    "$\\#A = 6$"
   ]
  },
  {
   "cell_type": "markdown",
   "id": "6061439c-300c-43ed-8879-62bcbfdb70b8",
   "metadata": {},
   "source": [
    "### Pregunta A\n",
    "\n",
    "Sabiendo que la suma es impar.\n",
    "\n",
    "$B = \\{ (d_1, d_2) \\mid (d_1 \\text{ par} \\land d_2 \\text{ impar}) \\lor (d_1 \\text{ impar} \\land d_2 \\text{ par}) \\}$\n",
    "\n",
    "$\\#B = 18$\n",
    "\n",
    "$P(B) = \\frac{\\#B}{\\#S} = \\frac{18}{36}$\n",
    "\n",
    "$P(A \\cap B) = P(A) = \\frac{\\#A}{\\#S} = \\frac{6}{36} \\hskip1em \\text{Pues:} \\hskip0.5em A \\subset B$\n",
    "\n",
    "$P(A|B) = \\frac{P(A \\cap B)}{P(B)} = \\frac{\\frac{6}{36}}{\\frac{18}{36}} = \\frac{1}{3}$"
   ]
  },
  {
   "cell_type": "markdown",
   "id": "bee9967f-c2bd-4725-bbc0-0a13f4ead3e4",
   "metadata": {},
   "source": [
    "### Pregunta B\n",
    "\n",
    "Sabiendo que la suma es mayor que 6.\n",
    "\n",
    "$B = \\{ (d_1, d_2) \\mid d_1 + d_2 > 6 \\} = \\{ (1,6), (2,5 \\dots 6), (3,4 \\dots 6), (4,3 \\dots 6), (5,2 \\dots 6), (6,1 \\dots 6) \\}$\n",
    "\n",
    "$\\#B = 1 + 2 + 3 + 4 + 5 + 6 = 21$\n",
    "\n",
    "$P(B) = \\frac{\\#B}{\\#S} = \\frac{21}{36}$\n",
    "\n",
    "$P(A \\cap B) = P(A) = \\frac{\\#A}{\\#S} = \\frac{6}{36} \\hskip1em \\text{Pues:} \\hskip0.5em A \\subset B$\n",
    "\n",
    "$P(A|B) = \\frac{P(A \\cap B)}{P(B)} = \\frac{\\frac{6}{36}}{\\frac{21}{36}} = \\frac{2}{7}$"
   ]
  },
  {
   "cell_type": "markdown",
   "id": "6365763a-ea28-4c13-a4b5-cb970096c995",
   "metadata": {},
   "source": [
    "### Pregunta C\n",
    "\n",
    "Sabiendo que el número del segundo dado es par.\n",
    "\n",
    "$B = \\{ (d_1, d_2) \\mid d_2 \\text{ par} \\} = \\{ (1 \\dots 6,2), (1 \\dots 6,4), (1 \\dots 6,6) \\}$\n",
    "\n",
    "$\\#B = 6 + 6 + 6 = 18$\n",
    "\n",
    "$P(B) = \\frac{\\#B}{\\#S} = \\frac{18}{36}$\n",
    "\n",
    "$A \\cap B = \\{ (1,6), (3,4), (5,2) \\}$\n",
    "\n",
    "$P(A \\cap B) = \\frac{\\#(A \\cap B)}{\\#S} = \\frac{3}{36}$\n",
    "\n",
    "$P(A|B) = \\frac{P(A \\cap B)}{P(B)} = \\frac{\\frac{3}{36}}{\\frac{18}{36}} = \\frac{1}{6}$"
   ]
  },
  {
   "cell_type": "markdown",
   "id": "37a0ba8c-a46f-42de-8953-832ecb18d4f2",
   "metadata": {},
   "source": [
    "### Pregunta D\n",
    "\n",
    "Sabiendo que el número de alguno de los dados es impar.\n",
    "\n",
    "$B = \\{ (d_1, d_2) \\mid d_1 \\text{ impar} \\lor d_2 \\text{ impar} \\}$\n",
    "\n",
    "$B^c = \\{ 2,4,6 \\} \\times \\{ 2,4,6 \\} = \\{ (2,2),(2,4),(2,6),(4,2),(4,4),(4,6),(6,2),(6,4),(6,6) \\}$\n",
    "\n",
    "$\\#B = \\#S - \\#B^c = 36 - 9 = 27$\n",
    "\n",
    "$P(B) = \\frac{\\#B}{\\#S} = \\frac{27}{36}$\n",
    "\n",
    "$P(A \\cap B) = P(A) = \\frac{\\#A}{\\#S} = \\frac{6}{36} \\hskip1em \\text{Pues:} \\hskip0.5em A \\subset B$\n",
    "\n",
    "$P(A|B) = \\frac{P(A \\cap B)}{P(B)} = \\frac{\\frac{6}{36}}{\\frac{27}{36}} = \\frac{2}{9}$"
   ]
  },
  {
   "cell_type": "markdown",
   "id": "6a5c20e9-e061-4197-aff8-f9b8ebfd6026",
   "metadata": {},
   "source": [
    "### Pregunta E\n",
    "\n",
    "Sabiendo que los números de los dados son iguales.\n",
    "\n",
    "$B = \\{ (d_1, d_2) \\mid d_1 = d_2 \\} = \\{ (1,1), (2,2), (3,3), (4,4), (5,5), (6,6) \\}$\n",
    "\n",
    "$\\#B = 6$\n",
    "\n",
    "$P(B) = \\frac{\\#B}{\\#S} = \\frac{6}{36}$\n",
    "\n",
    "$P(A \\cap B) = 0 \\hskip1em \\text{Pues:} \\hskip0.5em A \\cap B = \\emptyset$\n",
    "\n",
    "$P(A|B) = \\frac{P(A \\cap B)}{P(B)} = \\frac{0}{\\frac{6}{36}} = 0$"
   ]
  },
  {
   "cell_type": "markdown",
   "id": "ba1add76-00f5-4e54-9f08-01485acf5d6e",
   "metadata": {},
   "source": [
    "### Pregunta F\n",
    "\n",
    "Estime las probabildades de los items anteriores por medio de una simulación."
   ]
  },
  {
   "cell_type": "code",
   "execution_count": 23,
   "id": "63afcda9-d3ee-4c5a-9bd0-9f6866e05fe4",
   "metadata": {},
   "outputs": [
    {
     "data": {
      "text/html": [
       "<table border=\"1\" class=\"dataframe\">\n",
       "  <thead>\n",
       "    <tr style=\"text-align: right;\">\n",
       "      <th>Pregunta</th>\n",
       "      <th>P(A|B)</th>\n",
       "      <th>Estimación P(A|B)</th>\n",
       "    </tr>\n",
       "  </thead>\n",
       "  <tbody>\n",
       "    <tr>\n",
       "      <td>A</td>\n",
       "      <td>0.333</td>\n",
       "      <td>0.333</td>\n",
       "    </tr>\n",
       "    <tr>\n",
       "      <td>B</td>\n",
       "      <td>0.286</td>\n",
       "      <td>0.293</td>\n",
       "    </tr>\n",
       "    <tr>\n",
       "      <td>C</td>\n",
       "      <td>0.167</td>\n",
       "      <td>0.161</td>\n",
       "    </tr>\n",
       "    <tr>\n",
       "      <td>D</td>\n",
       "      <td>0.222</td>\n",
       "      <td>0.238</td>\n",
       "    </tr>\n",
       "    <tr>\n",
       "      <td>E</td>\n",
       "      <td>0.000</td>\n",
       "      <td>0.000</td>\n",
       "    </tr>\n",
       "  </tbody>\n",
       "</table>"
      ],
      "text/plain": [
       "<IPython.core.display.HTML object>"
      ]
     },
     "execution_count": 23,
     "metadata": {},
     "output_type": "execute_result"
    }
   ],
   "source": [
    "import pandas as pd\n",
    "from fractions import Fraction\n",
    "from random import sample\n",
    "from IPython.display import HTML\n",
    "\n",
    "def create_event(condition=lambda d1, d2: True):\n",
    "    return {(d1, d2) for d1 in range(1, 7) for d2 in range(1, 7) if condition(d1, d2)}\n",
    "\n",
    "conditions = [\n",
    "    ('A', lambda d1, d2: (d1 + d2) % 2 == 1),\n",
    "    ('B', lambda d1, d2: d1 + d2 > 6),\n",
    "    ('C', lambda d1, d2: d2 % 2 == 0),\n",
    "    ('D', lambda d1, d2: d1 % 2 == 1 or d2 % 2 == 1),\n",
    "    ('E', lambda d1, d2: d1 == d2),\n",
    "]\n",
    "\n",
    "S = create_event()\n",
    "A = create_event(lambda d1, d2: d1 + d2 == 7)\n",
    "N = 1000\n",
    "\n",
    "results = []\n",
    "for name, condition in conditions:\n",
    "    B = create_event(condition)\n",
    "    P = round((len(A.intersection(B)) / len(S)) / (len(B) / len(S)), 3)\n",
    "    count = 0\n",
    "    for _ in range(N):\n",
    "        experiment = sample(list(B), 1)[0]\n",
    "        if experiment in A:\n",
    "            count += 1\n",
    "    results.append([name, P, count / N])\n",
    "\n",
    "HTML(pd.DataFrame(results, columns=['Pregunta', 'P(A|B)', 'Estimación P(A|B)']).to_html(index=False))"
   ]
  },
  {
   "cell_type": "markdown",
   "id": "3ad97dba-cba2-45ac-9c34-199d51052936",
   "metadata": {},
   "source": [
    "## Ejercicio 12\n",
    "\n",
    "Se lanzan 3 dados. Si ninguno muestra la misma cara, ¿cuál es la probabilidad de que haya salido exactamente un as (un 1)?\n",
    "\n",
    "**S = Espacio muestral**\n",
    "\n",
    "$S = \\{ (d_1, d_2, d_3) \\mid 1 \\leq d_1, d_2, d_3 \\leq 6 \\}$\n",
    "\n",
    "$\\#S = 6 * 6 * 6 = 216$\n",
    "\n",
    "**B = Ninguno muestra la misma cara**\n",
    "\n",
    "$B = \\{ (d_1, d_2, d_3) \\mid d_1 \\neq d_2 \\neq d_3 \\} \\subset S$\n",
    "\n",
    "$\\#B = 6*5*4 = 120$\n",
    "\n",
    "$P(B) = \\frac{120}{216}$\n",
    "\n",
    "**A = Salió exactamente un as**\n",
    "\n",
    "$A = \\{ (d_1, d_2, d_3) \\mid d_1 = 1 \\lor d_2 = 1 \\lor d_3 = 1 \\} \\subset S$ Nota: es un $\\lor$ exclusivo.\n",
    "\n",
    "$\\#A = (1*5*5) + (5*1*5) + (5*5*1) = 75$\n",
    "\n",
    "**Probabilidad de A sabiendo B**\n",
    "\n",
    "$\\#(A \\cap B) = (1*5*4) + (5*1*4) + (5*4*1) = 5*4*3 = 60$\n",
    "\n",
    "$P(A \\cap B) = \\frac{\\#(A \\cap B)}{\\#S} = \\frac{60}{216}$\n",
    "\n",
    "$P(A|B) = \\frac{P(A \\cap B)}{P(B)} = \\frac{\\frac{60}{216}}{\\frac{120}{216}} = \\frac{1}{2}$"
   ]
  },
  {
   "cell_type": "markdown",
   "id": "00e8c8f7-c6dd-4033-8230-92f9c2e5f95d",
   "metadata": {},
   "source": [
    "## Ejercicio 13"
   ]
  },
  {
   "cell_type": "markdown",
   "id": "4b603894-e8ee-4507-8fcf-80a1ad563ab0",
   "metadata": {},
   "source": [
    "### Pregunta A\n",
    "\n",
    "¿Cuál es la probabilidad de que al elegir al azar un mensaje, éste haya ingresado sin error?\n",
    "\n",
    "Sea S el evento de los mensajes que entran sin error por cualquier línea.\n",
    "\n",
    "Por el enunciado sabemos que:\n",
    "\n",
    "- Mensajes que entran por la línea 1: $P(L_1) = 0.4$\n",
    "- Mensajes que entran por la línea 2: $P(L_2) = 0.3$\n",
    "- Mensajes que entran por la línea 3: $P(L_3) = 0.1$\n",
    "- Mensajes que entran por la línea 4: $P(L_4) = 0.2$\n",
    "- Mensajes que entran por la línea 1 sin error: $P(S|L_1) = 0.998$\n",
    "- Mensajes que entran por la línea 2 sin error: $P(S|L_2) = 0.999$\n",
    "- Mensajes que entran por la línea 3 sin error: $P(S|L_3) = 0.997$\n",
    "- Mensajes que entran por la línea 4 sin error: $P(S|L_4) = 0.992$\n",
    "\n",
    "Lo que nos piden calcular es $P(S)$.\n",
    "\n",
    "$\n",
    "\\begin{align*}\n",
    "P(S) &= \\sum_{i=1}^{4} P(S \\cap L_i) = \\sum_{i=1}^{4} P(S|L_i)P(L_i) \\\\\n",
    "&= P(S|L_1)P(L_1) + P(S|L_2)P(L_2) + P(S|L_3)P(L_3) + P(S|L_4)P(L_4) \\\\\n",
    "&= 0.998 * 0.4 + 0.999 * 0.3 + 0.997 * 0.1 + 0.992 * 0.2 \\\\\n",
    "&= 0.997\n",
    "\\end{align*}\n",
    "$"
   ]
  },
  {
   "cell_type": "markdown",
   "id": "5456de73-1b89-4d74-bb38-b606ddd7af80",
   "metadata": {},
   "source": [
    "### Pregunta B\n",
    "\n",
    "¿Cuál es la probabilidad de que, si el mensaje entró con error, haya ingresado por la línea 1?\n",
    "\n",
    "Sea E el evento cuando entran mensajes con error por cualquier línea: $E = S^c \\rightarrow P(E) = P(S^c) = 1 - P(S) = 0.003$\n",
    "\n",
    "$P(L_1|E) = \\frac{P(E|L_1)P(L_1)}{P(E)} = \\frac{P(S^c|L_1)P(L_1)}{P(E)} = \\frac{(1 - P(S|L_1))P(L_1)}{P(E)} = \\frac{(1 - 0.998)*0.4}{0.003} = \\frac{4}{15} \\approx 0.26$"
   ]
  },
  {
   "cell_type": "markdown",
   "id": "db986dc8-f41b-4066-b649-e4c6127afdf4",
   "metadata": {},
   "source": [
    "## Ejercicio 14\n",
    "\n",
    "Una caja contiene tres monedas, una de las cuales tiene dos caras, otra tiene dos cruces (o cecas) y la tercera es una moneda normal. Se extrae de la caja una moneda al azar y se arroja, obteniéndose una cara.\n",
    "\n",
    "- $M_1$ = Moneda normal\n",
    "- $M_2$ = Moneda con dos caras\n",
    "- $M_3$ = Moneda con dos cecas"
   ]
  },
  {
   "cell_type": "markdown",
   "id": "0f93eb81-8c16-445a-8d13-f7b88b45a240",
   "metadata": {},
   "source": [
    "### Pregunta A\n",
    "\n",
    "¿Cuál es la probabilidad de haber elegido la moneda con dos caras?\n",
    "\n",
    "$P(A) = \\frac{3}{6}$ \"obtuve una cara\"\n",
    "\n",
    "$P(M_2) = \\frac{1}{3}$ \"elegí la moneda de dos caras\"\n",
    "\n",
    "$P(M_2|A) = \\frac{P(M_2 \\cap A)}{P(A)} = \\frac{P(A|M_2)P(M_2)}{P(A)} = \\frac{1 * \\frac{1}{3}}{\\frac{3}{6}} = \\frac{2}{3}$"
   ]
  },
  {
   "cell_type": "markdown",
   "id": "b25e8898-39b9-44a6-951b-af764fec1fd5",
   "metadata": {},
   "source": [
    "### Pregunta B\n",
    "\n",
    "Si se arroja nuevamente la moneda extraída, ¿cuál es la probabilidad de obtener otra vez cara?\n",
    "\n",
    "Calculo como en la pregunta A la probabilidad de haber elegido cada moneda sabiendo que obtuve una cara.\n",
    "\n",
    "$P(A) = \\frac{3}{6}$ \"obtuve una cara\"\n",
    "\n",
    "$P(M_i) = \\frac{1}{3}$\n",
    "\n",
    "$P(M_1|A) = \\frac{P(M_1 \\cap A)}{P(A)} = \\frac{P(A|M_1)P(M_1)}{P(A)} = \\frac{\\frac{1}{2} * \\frac{1}{3}}{\\frac{3}{6}} = \\frac{1}{3}$\n",
    "\n",
    "$P(M_2|A) = \\frac{2}{3}$ (por la pregunta A)\n",
    "\n",
    "$P(M_3|A) = \\frac{P(M_3 \\cap A)}{P(A)} = \\frac{P(A|M_3)P(M_3)}{P(A)} = \\frac{0 * \\frac{1}{3}}{\\frac{3}{6}} = 0$\n",
    "\n",
    "$P(B) = $ \"obtuve otra vez cara\"\n",
    "\n",
    "$P(B) = P(M_1|A) * \\frac{1}{2} + P(M_2|A) * 1 + P(M_3|A) * 0 = \\frac{1}{3} * \\frac{1}{2} + \\frac{2}{3} * 1 + 0 * 0 = \\frac{5}{6}$"
   ]
  },
  {
   "cell_type": "markdown",
   "id": "798eeaf3-684b-45fa-9943-bd9aa776ae03",
   "metadata": {},
   "source": [
    "## Ejercicio 15\n",
    "\n",
    "Una enfermedad afecta a una de cada 500 personas de cierta población. Se usa un examen radiológico para detectar posibles enfermos. Se sabe que la probabilidad de que el examen aplicado a un enfermo lo muestre como tal es 0.90 y que la probabilidad de que el examen aplicado a una persona sana la muestre como enferma es 0.01.\n",
    "\n",
    "Calcular la probabilidad de que una persona esté realmente enferma si su examen dio positivo.\n",
    "\n",
    "$P(E) = \\frac{1}{500} = 0.002$ Probabilidad de estar enfermo\n",
    "\n",
    "$P(+|E) = 0.9$ Probabilidad de test positivo sabiendo que está enfermo\n",
    "\n",
    "$P(+|E^c) = 0.01$ Probabilidad de test positivo sabiendo que no está enfermo\n",
    "\n",
    "Calcular: $P(E|+)$ Probabilidad de estar enfermo si el test dió positivo.\n",
    "\n",
    "$P(E|+) = \\frac{P(+|E)P(E)}{P(+)}$\n",
    "\n",
    "$\n",
    "\\begin{align*}\n",
    "P(+) &= P((+ \\cap E) \\cup (+ \\cap E^c)) \\\\\n",
    "&= P(+ \\cap E) + P(+ \\cap E^c) \\\\\n",
    "&= P(+|E)P(E) + P(+|E^c)P(E^c) \\\\\n",
    "&= 0.9 * 0.002 + 0.01 * (1 - 0.002) \\\\\n",
    "&= 0.01178\n",
    "\\end{align*}\n",
    "$\n",
    "\n",
    "$P(E|+) = \\frac{0.9 * 0.002}{0.01178} = 0.1528$"
   ]
  },
  {
   "cell_type": "markdown",
   "id": "5a01f768-3b0f-4ad9-be3c-24c6b4f16183",
   "metadata": {},
   "source": [
    "## Ejercicio 16\n",
    "\n",
    "Hay tres cajas A, B y C con 20 piezas cada una, conteniendo 20, 15 y 10 piezas buenas respectivamente. La probabilidad de elegir la caja A es igual a la de elegir la caja B, y la de elegir la caja C es igual a la suma de esas dos probabilidades. Eligiendo al azar una caja se extraen con reposición dos piezas que resultan ser buenas. Hallar la probabilidad condicional de que provengan de la caja A.\n",
    "\n",
    "$P(A) = P(B)$\n",
    "\n",
    "$P(C) = P(A) + P(B)$\n",
    "\n",
    "$1 = P(A) + P(B) + P(C) = 2 * (P(A) + P(B)) \\rightarrow P(A) + P(B) = \\frac{1}{2}$\n",
    "\n",
    "$\\rightarrow P(A) = P(B) = \\frac{1}{4}$\n",
    "\n",
    "$\\rightarrow P(C) = \\frac{1}{2}$\n",
    "\n",
    "$T$ = \"saqué 2 piezas buenas\"\n",
    "\n",
    "$\n",
    "\\begin{align*}\n",
    "P(T) &= P(T \\cap A) + P(T \\cap B) + P(T \\cap C) \\\\\n",
    "&= P(T|A)P(A) + P(T|B)P(B) + P(T|C)P(C) \\\\\n",
    "&= 1 * \\frac{1}{4} + (\\frac{15}{20})^2 * \\frac{1}{4} + (\\frac{10}{20})^2 * \\frac{1}{2} \\\\\n",
    "&= \\frac{1}{4} + \\frac{9}{64} + \\frac{1}{8} \\\\\n",
    "&= \\frac{33}{64}\n",
    "\\end{align*}\n",
    "$\n",
    "\n",
    "$P(A|T) = \\frac{P(T|A)P(A)}{P(T)} = \\frac{1 * \\frac{1}{4}}{\\frac{33}{64}} = \\frac{16}{33}$"
   ]
  },
  {
   "cell_type": "markdown",
   "id": "508e16aa-6671-41dd-a8a6-c9ea5f84e721",
   "metadata": {},
   "source": [
    "## Ejercicio 17\n",
    "\n",
    "Se dispone de dos urnas, cuyo contenido es el siguiente:\n",
    "\n",
    "- Urna A: 5 bolitas rojas y 3 blancas.\n",
    "- Urna B: 1 bolita roja y 2 blancas.\n",
    "\n",
    "Se arroja un dado equilibrado. Si sale 3 ó 6 se extrae una bolita de la urna A y se la coloca en B, luego se saca una bolita de B. En caso contrario el proceso se hace a la inversa."
   ]
  },
  {
   "cell_type": "markdown",
   "id": "3d92440b-0765-4dec-af25-4db6b7b349e5",
   "metadata": {},
   "source": [
    "### Pregunta A\n",
    "\n",
    "Hallar la probabilidad de que ambas bolitas sean rojas.\n",
    "\n",
    "$P(A) = \\frac{2}{6}$ Probabilidad de sacar una bolita de la urna A y colocarla en B.\n",
    "\n",
    "$P(A^c) = \\frac{4}{6}$ Probabilidad de sacar una bolita de la urna B y colocarla en A.\n",
    "\n",
    "$R_i$ = Probabilidad de sacar una bolita roja en la extracción $i$.\n",
    "\n",
    "$\n",
    "\\begin{align*}\n",
    "P(R_2 \\cap R_1) &= P(R_2 \\cap R_1 \\cap A) + P(R_2 \\cap R_1 \\cap A^c) \\\\\n",
    "&= P(R2|(R_1 \\cap A))P(R_1|A)P(A) + P(R2|(R_1 \\cap A^c))P(R_1|A^c)P(A^c) \\\\\n",
    "&= \\frac{2}{4} * \\frac{5}{8} * \\frac{2}{6} + \\frac{6}{9} * \\frac{1}{3} * \\frac{4}{6} \\\\\n",
    "&= \\frac{109}{432}\n",
    "\\end{align*}\n",
    "$"
   ]
  },
  {
   "cell_type": "markdown",
   "id": "de2dc958-4c22-4ae0-96cc-f369222ec381",
   "metadata": {},
   "source": [
    "### Pregunta B\n",
    "Si ambas bolitas son rojas, ¿cuál es la probabilidad de que haya salido 3 ó 6?\n",
    "\n",
    "$\n",
    "P(A|(R_2 \\cap R_1))\n",
    "= \\frac{P(R_2 \\cap R_1 \\cap A)}{P(R_2 \\cap R_1)}\n",
    "= \\frac{\\frac{5}{48}}{\\frac{109}{432}}\n",
    "= \\frac{45}{109}\n",
    "$"
   ]
  },
  {
   "cell_type": "markdown",
   "id": "e94e4c5c-7411-446d-aad1-d422a7b3ac3c",
   "metadata": {},
   "source": [
    "## Ejercicio 18\n",
    "\n",
    "Se tienen $(n + 1)$ urnas numeradas $0, 1, \\dots , n$. La urna $i$ contiene $i$ bolitas blancas y $(n − i)$ bolitas negras. Se elige al azar una urna y de ella se extrae una bolita al azar.\n",
    "\n",
    "```\n",
    "U = (B,N)\n",
    "i = 0 (0,n)\n",
    "i = 1 (1,n-1)\n",
    "i = 2 (2,n-2)\n",
    "...\n",
    "i = n (n,0)\n",
    "```\n",
    "\n",
    "Probabilidad de elegir la urna $i$.\n",
    "\n",
    "Nota: La colección de eventos $U_i$ son una partición del espacio muestral $U$ (posibles urnas para elegir).\n",
    "\n",
    "$P(U_i) = \\frac{1}{n+1}$\n",
    "\n",
    "Probabilidad de extraer una bolita blanca sabiendo que se eligió la urna $i$.\n",
    "\n",
    "$P(B|U_i) = \\frac{i}{n}$"
   ]
  },
  {
   "cell_type": "markdown",
   "id": "8fa98d83-7a36-44e1-98cd-46e19314b330",
   "metadata": {},
   "source": [
    "### Pregunta A\n",
    "\n",
    "Calcular la probabilidad de que la bolita extraída sea blanca.\n",
    "\n",
    "Por el teorema de la probabilidad total.\n",
    "\n",
    "$\n",
    "\\begin{align*}\n",
    "P(B)\n",
    "&= \\sum_{i=0}^{i=n} P(B|U_i)P(U_i) \\\\\n",
    "&= \\sum_{i=0}^{i=n} \\frac{i}{n} * \\frac{1}{n+1} \\\\\n",
    "&= \\sum_{i=0}^{i=n} \\frac{i}{n(n+1)} \\\\\n",
    "&= (\\sum_{i=0}^{i=n} i) * \\frac{1}{n(n+1)} \\\\\n",
    "&= \\frac{n(n+1)}{2} * \\frac{1}{n(n+1)} \\\\\n",
    "&= \\frac{1}{2}\n",
    "\\end{align*}\n",
    "$"
   ]
  },
  {
   "cell_type": "markdown",
   "id": "066f15b4-7f3d-4603-9ca2-d62c67b7207d",
   "metadata": {},
   "source": [
    "### Pregunta B\n",
    "\n",
    "Si la bolita extraída es blanca, calcular la probabilidad de que provenga de la urna $i$.\n",
    "\n",
    "$P(U_i|B) = \\frac{P(B|U_i)P(U_i)}{P(B)} = \\frac{\\frac{i}{n} * \\frac{1}{n+1}}{\\frac{1}{2}} = \\frac{2i}{n(n+1)}$"
   ]
  },
  {
   "cell_type": "markdown",
   "id": "03c1efd6-ca0d-41b8-b6c9-288e6371017b",
   "metadata": {},
   "source": [
    "## Ejercicio 19\n",
    "\n",
    "Se extrae al azar una bolita de una urna que contiene 9 bolitas de las cuales 3 son blancas, 3 son negras y 3 son rojas. Las bolitas están numeradas 1, 2 y 3 dentro de cada color y además las siguientes bolitas están rayadas: número uno color blanco, número dos color negro y número tres color rojo. Sean los sucesos:\n",
    "\n",
    "- A: la bolita es número uno.\n",
    "- B: la bolita es blanca.\n",
    "- C: la bolita es rayada.\n",
    "\n",
    "Recordatorio: Dos eventos cualesquiera X, Y son independientes $\\leftrightarrow P(X \\cap Y) = P(X)P(Y)$"
   ]
  },
  {
   "cell_type": "markdown",
   "id": "c8f57f99-6498-4f0c-9606-1378e97d146b",
   "metadata": {},
   "source": [
    "### Pregunta A\n",
    "\n",
    "¿Son independientes de a pares los sucesos A, B y C?\n",
    "\n",
    "**Caso A y B**\n",
    "\n",
    "$P(A \\cap B) = P(A|B)P(B) = \\frac{1}{3} * \\frac{3}{9} = \\frac{1}{9}$\n",
    "\n",
    "$P(A)P(B) = \\frac{3}{9} * \\frac{3}{9} = \\frac{1}{9}$\n",
    "\n",
    "$\\rightarrow P(A \\cap B) = P(A)P(B) \\rightarrow$ A y B son independientes\n",
    "\n",
    "**Caso A y C**\n",
    "\n",
    "$P(A \\cap C) = P(A|C)P(C) = \\frac{1}{3} * \\frac{3}{9} = \\frac{1}{9}$\n",
    "\n",
    "$P(A)P(C) = \\frac{3}{9} * \\frac{3}{9} = \\frac{1}{9}$\n",
    "\n",
    "$\\rightarrow P(A \\cap C) = P(A)P(C) \\rightarrow$ A y C son independientes\n",
    "\n",
    "**Caso B y C**\n",
    "\n",
    "$P(B \\cap C) = P(B|C)P(C) = \\frac{1}{3} * \\frac{3}{9} = \\frac{1}{9}$\n",
    "\n",
    "$P(B)P(C) = \\frac{3}{9} * \\frac{3}{9} = \\frac{1}{9}$\n",
    "\n",
    "$\\rightarrow P(B \\cap C) = P(B)P(C) \\rightarrow$ B y C son independientes"
   ]
  },
  {
   "cell_type": "markdown",
   "id": "78f6f648-beb9-4b9a-9252-06d6c68986a1",
   "metadata": {},
   "source": [
    "### Pregunta B\n",
    "\n",
    "¿Son independientes los sucesos A, B y C?\n",
    "\n",
    "Hay que verificar que los eventos sean independientes dos a dos (ya verificado en la pregunta A) y además que sean independientes los 3 al mismo tiempo.\n",
    "\n",
    "$P(A \\cap B \\cap C) = P(A|(B \\cap C))P(B|C)P(C) = 1 * \\frac{1}{3} * \\frac{3}{9} = \\frac{1}{9}$\n",
    "\n",
    "$P(A)P(B)P(C) = \\frac{3}{9} * \\frac{3}{9} * \\frac{3}{9} = \\frac{1}{27}$\n",
    "\n",
    "$\\rightarrow P(B \\cap C) \\neq P(B)P(C) \\rightarrow$ A, B y C no son independientes"
   ]
  },
  {
   "cell_type": "markdown",
   "id": "86f6a556-fd34-43e2-ba7b-92d023d6f5d2",
   "metadata": {},
   "source": [
    "## Ejercicio 20\n",
    "\n",
    "Considérese un sistema de componentes conectados como lo muestra la Figura 1. Los componentes 1 y 2 están conectados en paralelo, de manera que el subsistema funciona si y sólo si cualquiera de ellos funciona; en cambio los componentes 3 y 4 están conectados en serie y por lo tanto este subsistema funciona si y sólo si ambos funcionan. El sistema funciona si al menos uno de los dos subsistemas funciona.\n",
    "\n",
    "Los componentes trabajan independientemente y la probabilidad de que un componente cualquiera funcione es 0.9."
   ]
  },
  {
   "cell_type": "markdown",
   "id": "3832b492-616e-4900-afbd-1a4a3c5cef8a",
   "metadata": {},
   "source": [
    "### Pregunta A\n",
    "\n",
    "Calcular la probabilidad de que el sistema funcione.\n",
    "\n",
    "Sean los eventos $C_i$ con $1 \\leq i \\leq 4$: que funcione el componente $i$.\n",
    "\n",
    "$P(C_i) = 0.9$\n",
    "\n",
    "$P(C_i \\cap C_j) = P(C_i)P(C_j)$ con $i \\neq j$ pues los componentes son independientes.\n",
    "\n",
    "Sea $P(S)$ la probabilidad de que el sistema funcione.\n",
    "\n",
    "$\n",
    "\\begin{align*}\n",
    "P(S)\n",
    "&= P((C_1 \\cup C_2) \\cup (C_3 \\cap C_4)) \\\\\n",
    "&= P(C_1 \\cup C_2) + P(C_3 \\cap C_4) - P((C_1 \\cup C_2) \\cap (C_3 \\cap C_4)) \\\\\n",
    "&= P(C_1) + P(C_2) - P(C_1 \\cap C_2) + P(C_3 \\cap C_4) - P((C_1 \\cap C_3 \\cap C_4) \\cup (C_2 \\cap C_3 \\cap C_4)) \\\\\n",
    "&= P(C_1) + P(C_2) - P(C_1 \\cap C_2) + P(C_3 \\cap C_4) - (P(C_1 \\cap C_3 \\cap C_4) + P(C_2 \\cap C_3 \\cap C_4) - P(C_1 \\cap C_2 \\cap C_3 \\cap C_4)) \\\\\n",
    "&= P(C_1) + P(C_2) - P(C_1)P(C_2) + P(C_3)P(C_4) - (P(C_1)P(C_3)P(C_4) + P(C_2)P(C_3)P(C_4) - P(C_1)P(C_2)P(C_3)P(C_4)) \\\\\n",
    "&= 0.9 + 0.9 - 0.9*0.9 + 0.9*0.9 - (0.9*0.9*0.9 + 0.9*0.9*0.9 - 0.9*0.9*0.9*0.9) \\\\\n",
    "&= 0.9981\n",
    "\\end{align*}\n",
    "$"
   ]
  },
  {
   "cell_type": "markdown",
   "id": "2e9c105b-2293-436d-9680-03d89021b88d",
   "metadata": {},
   "source": [
    "### Pregunta B\n",
    "\n",
    "Calcular la probabilidad de que el componente 1 no funcione si se sabe que el sistema sí funciona.\n",
    "\n",
    "$P(C_1^c|S) = 1 - P(C_1|S) = 1 - \\frac{P(S|C_1)P(C_1)}{P(S)} = 1 - \\frac{1 * 0.9}{0.9981} = 0.098286$"
   ]
  },
  {
   "cell_type": "markdown",
   "id": "37ce7dcc-c5f2-4956-897b-31225d68f27b",
   "metadata": {},
   "source": [
    "## Ejercicio 21\n",
    "\n",
    "Sean $S_1, \\dots, S_n$ sucesos independientes tales que $P(S_i) = p_i$."
   ]
  },
  {
   "cell_type": "markdown",
   "id": "867da154-2d36-460b-a35f-964e8e5d20a1",
   "metadata": {},
   "source": [
    "### Pregunta A\n",
    "\n",
    "Expresar en función de los $p_i$ la probabilidad de que de los $S_i$ ocurra:\n",
    "\n",
    "**i. ninguno**\n",
    "\n",
    "$P((\\bigcup_{i=1}^{n} S_i)^c) = P(\\bigcap_{i=1}^{n} S_i^c) = \\prod_{i=1}^{n} P(S_i^c) = \\prod_{i=1}^{n} (1 - p_i)$\n",
    "\n",
    "**ii. al menos uno**\n",
    "\n",
    "El complemento de ninguno.\n",
    "\n",
    "$P(((\\bigcup_{i=1}^{n} S_i)^c)^c) = 1 - P((\\bigcup_{i=1}^{n} S_i)^c) = 1 - \\prod_{i=1}^{n} (1 - p_i)$\n",
    "\n",
    "**iii. exactamente uno**\n",
    "\n",
    "La diferencia simétrica entre todos los $S_i$.\n",
    "\n",
    "$P(\\triangle_{i=1}^{n} S_i) = P(\\bigcup_{i=1}^{n} (S_i \\cap (\\bigcup_{j=1, j \\neq i}^{n} S_j)^c)) = \\sum_{i=1}^{n} (p_i \\prod_{j=1, j \\neq i}^{n} (1 - p_j))$"
   ]
  },
  {
   "cell_type": "markdown",
   "id": "d72623ec-7f99-4a5a-acf6-9d2c6009bb76",
   "metadata": {},
   "source": [
    "### Pregunta B\n",
    "\n",
    "Para $k = 0, \\dots ,n$, hallar la probabilidad de que ocurran exactamente $k$ de los sucesos $S_i$ en el caso en que $P(S_i) = p$ para todo $i$.\n",
    "\n",
    "Hay $n \\choose k$ posibles conjuntos de exactamente $k$ sucesos $S_i$.\n",
    "\n",
    "La probabilidad de que ocurran todos los $k$ sucesos al mismo tiempo es: $P(\\bigcap_{i=0}^{k} S_i) = \\prod_{i=0}^{k} p = p^k$\n",
    "\n",
    "Observación: Como todos los sucesos $S_i$ tienen la misma probabilidad $p$, no importa exactamente qué sucesos usemos para hacer la cuenta (si es el $S_1, S_2, \\dots, S_n$), sino cuántos sucesos consideramos.\n",
    "\n",
    "Finalmente, tenemos que calcular la probabilidad de que el restante de los sucesos no sucedan (ya que el enunciado pide que sucedan exactamente $k$ sucesos). Hay $n-k$ sucesos que no deben suceder, y su probabilidad es: $P(\\bigcap_{i=0}^{n-k} S_i^c) = \\prod_{i=0}^{n-k} (1-p) = (1-p)^{n-k}$\n",
    "\n",
    "Multiplicamos todo para obtener la probabilidad de que sucedan exactamente $k$ sucesos: $P = {n \\choose k} p^k (1-p)^{n-k}$"
   ]
  }
 ],
 "metadata": {
  "kernelspec": {
   "display_name": "Python 3 (ipykernel)",
   "language": "python",
   "name": "python3"
  },
  "language_info": {
   "codemirror_mode": {
    "name": "ipython",
    "version": 3
   },
   "file_extension": ".py",
   "mimetype": "text/x-python",
   "name": "python",
   "nbconvert_exporter": "python",
   "pygments_lexer": "ipython3",
   "version": "3.8.2"
  },
  "toc-autonumbering": false,
  "toc-showmarkdowntxt": false
 },
 "nbformat": 4,
 "nbformat_minor": 5
}
