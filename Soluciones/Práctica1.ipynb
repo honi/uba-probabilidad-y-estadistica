{
 "cells": [
  {
   "cell_type": "code",
   "execution_count": 42,
   "id": "283abf50-6731-4a1f-b05e-c006e215e34a",
   "metadata": {},
   "outputs": [],
   "source": [
    "# Imports para todo el notebook.\n",
    "from math import factorial\n",
    "import handcalcs.render\n",
    "\n",
    "# Función auxiliar para calcular el número combinatorio.\n",
    "def nCr(n: int, r: int):\n",
    "    return factorial(n) // (factorial(r) * factorial(n - r))"
   ]
  },
  {
   "cell_type": "markdown",
   "id": "bb8b4a54-94a2-4d58-8ea6-d4907f490a32",
   "metadata": {},
   "source": [
    "# Práctica 1"
   ]
  },
  {
   "cell_type": "markdown",
   "id": "2343bd1c-ac94-45c1-ba98-84e2b721f7fd",
   "metadata": {
    "toc-hr-collapsed": true
   },
   "source": [
    "## Ejercicio 1\n",
    "\n",
    "Se arroja dos veces un dado equilibrado, registrándose los resultados obtenidos."
   ]
  },
  {
   "cell_type": "markdown",
   "id": "db5c2a2a-0d2c-4f9a-919e-543ca354b0bd",
   "metadata": {},
   "source": [
    "### Pregunta A\n",
    "\n",
    "Definir un espacio muestral S apropiado para este experimento."
   ]
  },
  {
   "cell_type": "markdown",
   "id": "a49cb0ca-83a5-4fb3-82ce-f1e4c22adbcd",
   "metadata": {},
   "source": [
    "$S = \\{(i, j) \\mid 1 \\leq i,j \\leq 6 \\}$"
   ]
  },
  {
   "cell_type": "code",
   "execution_count": 2,
   "id": "27b7c8f1-7519-4c78-b5cf-c19f3382bc06",
   "metadata": {},
   "outputs": [],
   "source": [
    "S = set([(i, j) for i in range(1, 7) for j in range(1, 7)])"
   ]
  },
  {
   "cell_type": "markdown",
   "id": "0e07045b-0118-4cae-acc2-ebe0a3119f7b",
   "metadata": {
    "tags": []
   },
   "source": [
    "### Pregunta B\n",
    "\n",
    "Describir el conjunto de elementos del espacio muestral que satisface que:"
   ]
  },
  {
   "cell_type": "markdown",
   "id": "80379261-3d4e-44ef-92b0-6f2cce53a812",
   "metadata": {},
   "source": [
    "La suma de los dos números obtenidos es por lo menos 5.\n",
    "\n",
    "$A = \\{(i, j) \\mid i + j \\geq 5 \\} \\} \\subset S$"
   ]
  },
  {
   "cell_type": "code",
   "execution_count": 3,
   "id": "87b79bc1-0aba-42bc-9660-c14767783cf7",
   "metadata": {},
   "outputs": [],
   "source": [
    "A = set([x for x in S if x[0] + x[1] >= 5])"
   ]
  },
  {
   "cell_type": "markdown",
   "id": "9daea6aa-cd22-47cc-acd7-9af0993dccbd",
   "metadata": {},
   "source": [
    "El valor obtenido en el primer tiro es superior al obtenido en el segundo.\n",
    "\n",
    "$B = \\{(i, j) \\mid i \\gt j \\} \\subset S$"
   ]
  },
  {
   "cell_type": "code",
   "execution_count": 4,
   "id": "248e341e-ae6a-43a4-9c5c-5d978f20eb41",
   "metadata": {},
   "outputs": [],
   "source": [
    "B = set([x for x in S if x[0] > x[1]])"
   ]
  },
  {
   "cell_type": "markdown",
   "id": "f7eefdf7-2c81-479f-9e8f-c8dcf92191e9",
   "metadata": {},
   "source": [
    "El valor obtenido en el primer tiro es un 4.\n",
    "\n",
    "$C = \\{(i, j) \\mid i = 4 \\} \\subset S$"
   ]
  },
  {
   "cell_type": "code",
   "execution_count": 5,
   "id": "eff4f7e1-6d13-4256-ba53-3f18c439e967",
   "metadata": {},
   "outputs": [],
   "source": [
    "C = set([x for x in S if x[0] == 4])"
   ]
  },
  {
   "cell_type": "markdown",
   "id": "750395c1-c231-4cd8-8b91-0480d6c2ab52",
   "metadata": {},
   "source": [
    "### Pregunta C\n",
    "\n",
    "Calcular las probabilidades de los eventos definidos en 1b)."
   ]
  },
  {
   "cell_type": "markdown",
   "id": "74465bef-0ea9-4ea3-ae2e-1c489c601fd4",
   "metadata": {},
   "source": [
    "$P(A) = \\frac{\\#A}{\\#S}$"
   ]
  },
  {
   "cell_type": "code",
   "execution_count": 6,
   "id": "81fdc4fb-54c2-4916-9544-3d3aa09755bb",
   "metadata": {},
   "outputs": [
    {
     "data": {
      "text/plain": [
       "0.8333333333333334"
      ]
     },
     "execution_count": 6,
     "metadata": {},
     "output_type": "execute_result"
    }
   ],
   "source": [
    "PA = len(A) / len(S)\n",
    "PA"
   ]
  },
  {
   "cell_type": "markdown",
   "id": "91058adf-222f-414f-9506-ec2bbcd48020",
   "metadata": {},
   "source": [
    "$P(B) = \\frac{\\#B}{\\#S}$"
   ]
  },
  {
   "cell_type": "code",
   "execution_count": 7,
   "id": "dc639ede-153f-4bf6-a6fd-254c6e35bb8c",
   "metadata": {},
   "outputs": [
    {
     "data": {
      "text/plain": [
       "0.4166666666666667"
      ]
     },
     "execution_count": 7,
     "metadata": {},
     "output_type": "execute_result"
    }
   ],
   "source": [
    "PB = len(B) / len(S)\n",
    "PB"
   ]
  },
  {
   "cell_type": "markdown",
   "id": "b54978c2-9012-485d-a585-70f6ebb6f9ac",
   "metadata": {},
   "source": [
    "$P(C) = \\frac{\\#C}{\\#S}$"
   ]
  },
  {
   "cell_type": "code",
   "execution_count": 8,
   "id": "1cebfaa5-c5c4-4ae8-9d76-6034f8991089",
   "metadata": {},
   "outputs": [
    {
     "data": {
      "text/plain": [
       "0.16666666666666666"
      ]
     },
     "execution_count": 8,
     "metadata": {},
     "output_type": "execute_result"
    }
   ],
   "source": [
    "PC = len(C) / len(S)\n",
    "PC"
   ]
  },
  {
   "cell_type": "markdown",
   "id": "96e36ad8-cddd-44db-920a-87ebd2cc1318",
   "metadata": {},
   "source": [
    "### Pregunta D\n",
    "\n",
    "Simular en ~~R~~ Python el experimento de tirar dos veces un dado equilibrado."
   ]
  },
  {
   "cell_type": "code",
   "execution_count": 9,
   "id": "e11d4b3f-7cb3-46bc-838c-45290c6d66c9",
   "metadata": {},
   "outputs": [
    {
     "data": {
      "text/plain": [
       "(4, 6)"
      ]
     },
     "execution_count": 9,
     "metadata": {},
     "output_type": "execute_result"
    }
   ],
   "source": [
    "def experiment():\n",
    "    from random import randint\n",
    "    return (randint(1, 6), randint(1, 6))\n",
    "\n",
    "experiment()"
   ]
  },
  {
   "cell_type": "markdown",
   "id": "7db2be5f-78ed-4897-a0f3-b656f01151fd",
   "metadata": {},
   "source": [
    "### Pregunta E\n",
    "\n",
    "Simular 1000 veces en ~~R~~ Python el experimento de tirar dos veces un dado equilibrado y estimar las probabilidades de los sucesos definidos en 1b)."
   ]
  },
  {
   "cell_type": "code",
   "execution_count": 10,
   "id": "251dcce0-6fa0-44cb-bf1b-34868c2e75b5",
   "metadata": {},
   "outputs": [
    {
     "name": "stdout",
     "output_type": "stream",
     "text": [
      "Estimación P(A): 0.837 \tP(A): 0.8333333333333334\n",
      "Estimación P(B): 0.409 \tP(B): 0.4166666666666667\n",
      "Estimación P(C): 0.157 \tP(C): 0.16666666666666666\n"
     ]
    }
   ],
   "source": [
    "def estimate_probability(event_name, event, p, n):\n",
    "    experiments = [experiment() for _ in range(n)]\n",
    "    count = 0\n",
    "    for exp in experiments:\n",
    "        if exp in event: count += 1\n",
    "    print(f'Estimación P({event_name}):', count / n, f'\\tP({event_name}):', p)\n",
    "\n",
    "estimate_probability('A', A, PA, 1000)\n",
    "estimate_probability('B', B, PB, 1000)\n",
    "estimate_probability('C', C, PC, 1000)"
   ]
  },
  {
   "cell_type": "markdown",
   "id": "4b6edf47-c07a-4bda-8261-f098f06fc107",
   "metadata": {},
   "source": [
    "### Pregunta F\n",
    "\n",
    "Describir los siguientes conjuntos:"
   ]
  },
  {
   "cell_type": "markdown",
   "id": "c6894f10-0a12-4264-b8f8-e9aa12495014",
   "metadata": {},
   "source": [
    "$D = A \\cap B = \\{(i, j) \\mid i + j \\geq 5 \\land i \\gt j \\}$"
   ]
  },
  {
   "cell_type": "code",
   "execution_count": 11,
   "id": "6d366c7d-5695-4556-baca-6cbdb5281ee1",
   "metadata": {},
   "outputs": [
    {
     "data": {
      "text/plain": [
       "True"
      ]
     },
     "execution_count": 11,
     "metadata": {},
     "output_type": "execute_result"
    }
   ],
   "source": [
    "D = set([x for x in S if x[0] + x[1] >= 5 and x[0] > x[1]])\n",
    "\n",
    "# Verificación\n",
    "D == A.intersection(B)"
   ]
  },
  {
   "cell_type": "markdown",
   "id": "e90246c6-ae5e-4e2c-ba57-c566b73f1ae7",
   "metadata": {},
   "source": [
    "$E = B \\cup C = \\{(i, j) \\mid i \\gt j \\lor i = 4 \\} \\}$"
   ]
  },
  {
   "cell_type": "code",
   "execution_count": 12,
   "id": "7b315cae-fabb-465f-af56-f6cd6f8402e8",
   "metadata": {},
   "outputs": [
    {
     "data": {
      "text/plain": [
       "True"
      ]
     },
     "execution_count": 12,
     "metadata": {},
     "output_type": "execute_result"
    }
   ],
   "source": [
    "E = set([x for x in S if x[0] > x[1] or x[0] == 4])\n",
    "\n",
    "# Verificación\n",
    "E == B.union(C)"
   ]
  },
  {
   "cell_type": "markdown",
   "id": "cd0ea90f-b2aa-4cdf-b99f-9ca1bc098372",
   "metadata": {},
   "source": [
    "$F = A \\cap (B \\cup C) = \\{(i, j) \\mid i + j \\geq 5 \\land (i \\gt j \\lor i = 4) \\} \\}$"
   ]
  },
  {
   "cell_type": "code",
   "execution_count": 13,
   "id": "0a1e09a1-24d7-482f-b660-fd024b733d3b",
   "metadata": {},
   "outputs": [
    {
     "data": {
      "text/plain": [
       "True"
      ]
     },
     "execution_count": 13,
     "metadata": {},
     "output_type": "execute_result"
    }
   ],
   "source": [
    "F = set([x for x in S if x[0] + x[1] >= 5 and (x[0] > x[1] or x[0] == 4)])\n",
    "\n",
    "# Verificación\n",
    "F == A.intersection(B.union(C))"
   ]
  },
  {
   "cell_type": "markdown",
   "id": "87695cae-5e0c-4588-b0d3-7f6083104d28",
   "metadata": {},
   "source": [
    "### Pregunta G\n",
    "\n",
    "Calcular las probabilidades de los sucesos definidos en 1f)."
   ]
  },
  {
   "cell_type": "markdown",
   "id": "57832009-2933-47d3-9b68-c87d432f581e",
   "metadata": {
    "tags": []
   },
   "source": [
    "$P(D) = \\frac{\\#D}{\\#S}$"
   ]
  },
  {
   "cell_type": "code",
   "execution_count": 14,
   "id": "f35d7144-d3ea-4340-99ad-c77e5d575487",
   "metadata": {},
   "outputs": [
    {
     "data": {
      "text/plain": [
       "0.3611111111111111"
      ]
     },
     "execution_count": 14,
     "metadata": {},
     "output_type": "execute_result"
    }
   ],
   "source": [
    "PD = len(D) / len(S)\n",
    "PD"
   ]
  },
  {
   "cell_type": "markdown",
   "id": "d7da34c3-7566-4b3f-b461-0f0464b851d9",
   "metadata": {
    "tags": []
   },
   "source": [
    "$P(E) = \\frac{\\#E}{\\#S}$"
   ]
  },
  {
   "cell_type": "code",
   "execution_count": 15,
   "id": "dbaf0cb4-5223-4431-84b6-88e7f7310c98",
   "metadata": {},
   "outputs": [
    {
     "data": {
      "text/plain": [
       "0.5"
      ]
     },
     "execution_count": 15,
     "metadata": {},
     "output_type": "execute_result"
    }
   ],
   "source": [
    "PE = len(E) / len(S)\n",
    "PE"
   ]
  },
  {
   "cell_type": "markdown",
   "id": "7f5f197f-0c54-40d8-8a08-1e8d9d16e5cb",
   "metadata": {
    "tags": []
   },
   "source": [
    "$P(F) = \\frac{\\#F}{\\#S}$"
   ]
  },
  {
   "cell_type": "code",
   "execution_count": 16,
   "id": "56afb25d-6557-47ab-baea-1df4ee142b9b",
   "metadata": {},
   "outputs": [
    {
     "data": {
      "text/plain": [
       "0.4444444444444444"
      ]
     },
     "execution_count": 16,
     "metadata": {},
     "output_type": "execute_result"
    }
   ],
   "source": [
    "PF = len(F) / len(S)\n",
    "PF"
   ]
  },
  {
   "cell_type": "markdown",
   "id": "a596526c-9693-4fe5-9184-9443a06ae8fb",
   "metadata": {},
   "source": [
    "### Pregunta H\n",
    "\n",
    "Estimar las probabilidades de los sucesos definidos en 1f) mediante simulaciones. Comparar con los resultados obtenidos en 1g)."
   ]
  },
  {
   "cell_type": "code",
   "execution_count": 17,
   "id": "b7ca079e-1712-4a41-ba64-d628ab0ea877",
   "metadata": {},
   "outputs": [
    {
     "name": "stdout",
     "output_type": "stream",
     "text": [
      "Estimación P(D): 0.353 \tP(D): 0.3611111111111111\n",
      "Estimación P(E): 0.49 \tP(E): 0.5\n",
      "Estimación P(F): 0.449 \tP(F): 0.4444444444444444\n"
     ]
    }
   ],
   "source": [
    "estimate_probability('D', D, PD, 1000)\n",
    "estimate_probability('E', E, PE, 1000)\n",
    "estimate_probability('F', F, PF, 1000)"
   ]
  },
  {
   "cell_type": "markdown",
   "id": "b73d3646-59d2-4b3e-b084-7790ab6fd3ed",
   "metadata": {},
   "source": [
    "## Ejercicio 2\n",
    "\n",
    "Dados dos eventos A y B tales que se conocen $P(A \\cup B)$ y $P(A \\cap B)$, hallar una fórmula para la probabilidad de que ocurra exactamente uno de estos eventos.\n",
    "\n",
    "Una compañía constructora trabaja en dos proyectos diferentes. Sea A el evento: \"el primero de los proyectos se termina en la fecha del contrato\" y definamos análogamente B para el segundo proyecto. Si $P(A \\cup B) = 0.9$ y $P(A \\cap B) = 0.5$, ¿cuál es la probabilidad de que exactamente un proyecto se termine para la fecha de contrato?"
   ]
  },
  {
   "cell_type": "markdown",
   "id": "04cff134-6e9e-423a-ab37-50cb3f9ef405",
   "metadata": {},
   "source": [
    "Defino el espacio muestral como tuplas de 2 elementos, donde el primer elemento representa si el primer proyecto se termina a tiempo (1) o no (0), y el segundo número lo mismo pero para el segundo proyecto. Por ejemplo, $(1,1)$ significa que ambos proyectos terminaron a tiempo, mientras que $(0,0)$ significa que ningún proyecto se terminó a tiempo.\n",
    "\n",
    "$S = \\{(1,1), (1,0), (0,1), (0,0)\\}$\n",
    "\n",
    "Luego, los eventos A y B son los siguientes:\n",
    "\n",
    "$A = \\{(1,1), (1,0)\\}$\n",
    "\n",
    "$B = \\{(1,1), (0,1)\\}$\n",
    "\n",
    "Por otro lado, sea C el evento cuando exactamente un proyecto se termina:\n",
    "\n",
    "$C = \\{(1,0), (0,1)\\}$\n",
    "\n",
    "Lo que me piden calcular es $P(C)$.\n",
    "\n",
    "$C = (A \\cup B) \\setminus (A \\cap B)$\n",
    "\n",
    "Observación: $(A \\cap B) \\subset (A \\cup B)$, por lo tanto vale lo siguiente:\n",
    "\n",
    "$P(C) = P((A \\cup B) \\setminus (A \\cap B)) = P(A \\cup B) - P(A \\cap B) = 0.9 - 0.5 = 0.4$"
   ]
  },
  {
   "cell_type": "markdown",
   "id": "00f9217d-d45f-4a8e-b7bf-b92641bc8464",
   "metadata": {
    "toc-hr-collapsed": true
   },
   "source": [
    "## Ejercicio 3\n",
    "\n",
    "Supongamos que cuando una computadora se \"cuelga\" (no responde), el 75 % de las veces se debe a problemas de memoria y el 15 % de las veces a problemas de software y que el 15 % de las veces se debe a problemas que no son ni de memoria ni de software."
   ]
  },
  {
   "cell_type": "markdown",
   "id": "3d8c7163-9bf4-4509-989e-19c9ce19a8f8",
   "metadata": {},
   "source": [
    "Similar al ejercicio 2, defino el espacio muestral como tuplas de 2 números, donde el primer elemento representa si hubo un problema de memoria, y el segundo elemento si hubo un problema de software. Por ejemplo, $(1,0)$ significa que hubo problemas de memoria pero no de software.\n",
    "\n",
    "$S = \\{(1,1), (1,0), (0,1), (0,0)\\}$\n",
    "\n",
    "Evento A: hubo problemas de memoria.\n",
    "\n",
    "$A = \\{(1,1), (1,0)\\}$\n",
    "\n",
    "Evento B: hubo problemas de software.\n",
    "\n",
    "$B = \\{(1,1), (0,1)\\}$\n",
    "\n",
    "Evento C: hubo problemas pero no de memoria ni de software.\n",
    "\n",
    "$C = \\{(0, 0)\\}$\n",
    "\n",
    "El enunciado me da la siguiente información:\n",
    "\n",
    "$P(A) = 0.75$\n",
    "\n",
    "$P(B) = 0.15$\n",
    "\n",
    "$P(C) = 0.15$"
   ]
  },
  {
   "cell_type": "markdown",
   "id": "58145990-0448-4518-866e-3f1296c84e0e",
   "metadata": {},
   "source": [
    "### Pregunta A\n",
    "\n",
    "¿Cuál es la probabilidad de que estos dos problemas ocurran simultáneamente?"
   ]
  },
  {
   "cell_type": "markdown",
   "id": "6626ecd4-91d0-433e-b3af-7f21ee4bfd3e",
   "metadata": {},
   "source": [
    "Me están pidiendo calcular $P(A \\cap B)$. Para esto, arranco desde la definición de $P(A \\cup B)$ y hago algunas operaciones para poder usar los datos del enunciado.\n",
    "\n",
    "$\n",
    "\\begin{align*}\n",
    "P(A \\cup B) &= P(A) + P(B) - P(A \\cap B) \\\\\n",
    "\\iff P(A \\cap B) &= P(A) + P(B) - P(A \\cup B) \\\\\n",
    "\\iff P(A \\cap B) &= P(A) + P(B) - (1 - P((A \\cup B)^c)) \\hskip1em \\text{Observación:} \\hskip0.5em (A \\cup B)^c = C \\\\\n",
    "\\iff P(A \\cap B) &= P(A) + P(B) - (1 - P(C)) \\\\\n",
    "\\iff P(A \\cap B) &= 0.75 + 0.15 - (1 - 0.15) = 0.05\n",
    "\\end{align*}\n",
    "$"
   ]
  },
  {
   "cell_type": "markdown",
   "id": "207f0647-c0da-46f8-86bf-5960db65721e",
   "metadata": {},
   "source": [
    "### Pregunta B\n",
    "¿Cuál es la probabilidad de que ocurra un problema de software y no de memoria?"
   ]
  },
  {
   "cell_type": "markdown",
   "id": "28cfd1e2-5a32-4c4d-bb8a-6b96051cfc63",
   "metadata": {},
   "source": [
    "$\n",
    "\\begin{align*}\n",
    "P(B \\setminus A) &= P(B \\setminus (B \\cap A)) = P(B) - P(B \\cap A) \\hskip1em \\text{Pues:} \\hskip0.5em (B \\cap A) \\subset B \\\\\n",
    "\\iff P(B \\setminus A) &= 0.15 - 0.05 = 0.1\n",
    "\\end{align*}\n",
    "$"
   ]
  },
  {
   "cell_type": "markdown",
   "id": "19670ff4-5de8-4215-923a-cc73e6c7508b",
   "metadata": {
    "toc-hr-collapsed": true
   },
   "source": [
    "## Ejercicio 4\n",
    "\n",
    "De un bolillero que contiene 5 bolillas numeradas 1, 2, 3, 4, 5 se extrae una al azar, sea la número k. Se eliminan las bolillas cuyo número es mayor que k de la urna y se hace una segunda extracción al azar entre las bolillas 1 a k, sea la número j. Se eliminan las bolillas cuyo número es mayor que j de la urna y se hace una tercera extracción al azar entre las bolillas 1 a j."
   ]
  },
  {
   "cell_type": "markdown",
   "id": "72f533b4-3ece-4d49-92ae-861372301990",
   "metadata": {},
   "source": [
    "### Pregunta A\n",
    "\n",
    "Describir un espacio muestral adecuado para este experimento y determinar el número de elementos que posee."
   ]
  },
  {
   "cell_type": "markdown",
   "id": "2bc2038c-34a9-43b4-ab03-f373070f471f",
   "metadata": {},
   "source": [
    "$S = \\{(k, j, i) \\mid 1 \\leq i \\leq j \\leq k \\leq 5 \\}$"
   ]
  },
  {
   "cell_type": "code",
   "execution_count": 18,
   "id": "ecaf5eb4-6247-4a99-a5db-cc79e792cb91",
   "metadata": {
    "scrolled": true,
    "tags": []
   },
   "outputs": [
    {
     "data": {
      "text/html": [
       "<table border=\"1\" class=\"dataframe\">\n",
       "  <thead>\n",
       "    <tr style=\"text-align: right;\">\n",
       "      <th>k</th>\n",
       "      <th>j</th>\n",
       "      <th>i</th>\n",
       "    </tr>\n",
       "  </thead>\n",
       "  <tbody>\n",
       "    <tr>\n",
       "      <td>1</td>\n",
       "      <td>1</td>\n",
       "      <td>1</td>\n",
       "    </tr>\n",
       "    <tr>\n",
       "      <td>2</td>\n",
       "      <td>1</td>\n",
       "      <td>1</td>\n",
       "    </tr>\n",
       "    <tr>\n",
       "      <td>2</td>\n",
       "      <td>2</td>\n",
       "      <td>1</td>\n",
       "    </tr>\n",
       "    <tr>\n",
       "      <td>2</td>\n",
       "      <td>2</td>\n",
       "      <td>2</td>\n",
       "    </tr>\n",
       "    <tr>\n",
       "      <td>3</td>\n",
       "      <td>1</td>\n",
       "      <td>1</td>\n",
       "    </tr>\n",
       "    <tr>\n",
       "      <td>3</td>\n",
       "      <td>2</td>\n",
       "      <td>1</td>\n",
       "    </tr>\n",
       "    <tr>\n",
       "      <td>3</td>\n",
       "      <td>2</td>\n",
       "      <td>2</td>\n",
       "    </tr>\n",
       "    <tr>\n",
       "      <td>3</td>\n",
       "      <td>3</td>\n",
       "      <td>1</td>\n",
       "    </tr>\n",
       "    <tr>\n",
       "      <td>3</td>\n",
       "      <td>3</td>\n",
       "      <td>2</td>\n",
       "    </tr>\n",
       "    <tr>\n",
       "      <td>3</td>\n",
       "      <td>3</td>\n",
       "      <td>3</td>\n",
       "    </tr>\n",
       "    <tr>\n",
       "      <td>4</td>\n",
       "      <td>1</td>\n",
       "      <td>1</td>\n",
       "    </tr>\n",
       "    <tr>\n",
       "      <td>4</td>\n",
       "      <td>2</td>\n",
       "      <td>1</td>\n",
       "    </tr>\n",
       "    <tr>\n",
       "      <td>4</td>\n",
       "      <td>2</td>\n",
       "      <td>2</td>\n",
       "    </tr>\n",
       "    <tr>\n",
       "      <td>4</td>\n",
       "      <td>3</td>\n",
       "      <td>1</td>\n",
       "    </tr>\n",
       "    <tr>\n",
       "      <td>4</td>\n",
       "      <td>3</td>\n",
       "      <td>2</td>\n",
       "    </tr>\n",
       "    <tr>\n",
       "      <td>4</td>\n",
       "      <td>3</td>\n",
       "      <td>3</td>\n",
       "    </tr>\n",
       "    <tr>\n",
       "      <td>4</td>\n",
       "      <td>4</td>\n",
       "      <td>1</td>\n",
       "    </tr>\n",
       "    <tr>\n",
       "      <td>4</td>\n",
       "      <td>4</td>\n",
       "      <td>2</td>\n",
       "    </tr>\n",
       "    <tr>\n",
       "      <td>4</td>\n",
       "      <td>4</td>\n",
       "      <td>3</td>\n",
       "    </tr>\n",
       "    <tr>\n",
       "      <td>4</td>\n",
       "      <td>4</td>\n",
       "      <td>4</td>\n",
       "    </tr>\n",
       "    <tr>\n",
       "      <td>5</td>\n",
       "      <td>1</td>\n",
       "      <td>1</td>\n",
       "    </tr>\n",
       "    <tr>\n",
       "      <td>5</td>\n",
       "      <td>2</td>\n",
       "      <td>1</td>\n",
       "    </tr>\n",
       "    <tr>\n",
       "      <td>5</td>\n",
       "      <td>2</td>\n",
       "      <td>2</td>\n",
       "    </tr>\n",
       "    <tr>\n",
       "      <td>5</td>\n",
       "      <td>3</td>\n",
       "      <td>1</td>\n",
       "    </tr>\n",
       "    <tr>\n",
       "      <td>5</td>\n",
       "      <td>3</td>\n",
       "      <td>2</td>\n",
       "    </tr>\n",
       "    <tr>\n",
       "      <td>5</td>\n",
       "      <td>3</td>\n",
       "      <td>3</td>\n",
       "    </tr>\n",
       "    <tr>\n",
       "      <td>5</td>\n",
       "      <td>4</td>\n",
       "      <td>1</td>\n",
       "    </tr>\n",
       "    <tr>\n",
       "      <td>5</td>\n",
       "      <td>4</td>\n",
       "      <td>2</td>\n",
       "    </tr>\n",
       "    <tr>\n",
       "      <td>5</td>\n",
       "      <td>4</td>\n",
       "      <td>3</td>\n",
       "    </tr>\n",
       "    <tr>\n",
       "      <td>5</td>\n",
       "      <td>4</td>\n",
       "      <td>4</td>\n",
       "    </tr>\n",
       "    <tr>\n",
       "      <td>5</td>\n",
       "      <td>5</td>\n",
       "      <td>1</td>\n",
       "    </tr>\n",
       "    <tr>\n",
       "      <td>5</td>\n",
       "      <td>5</td>\n",
       "      <td>2</td>\n",
       "    </tr>\n",
       "    <tr>\n",
       "      <td>5</td>\n",
       "      <td>5</td>\n",
       "      <td>3</td>\n",
       "    </tr>\n",
       "    <tr>\n",
       "      <td>5</td>\n",
       "      <td>5</td>\n",
       "      <td>4</td>\n",
       "    </tr>\n",
       "    <tr>\n",
       "      <td>5</td>\n",
       "      <td>5</td>\n",
       "      <td>5</td>\n",
       "    </tr>\n",
       "  </tbody>\n",
       "</table>"
      ],
      "text/plain": [
       "<IPython.core.display.HTML object>"
      ]
     },
     "execution_count": 18,
     "metadata": {},
     "output_type": "execute_result"
    }
   ],
   "source": [
    "import pandas as pd\n",
    "from IPython.display import HTML\n",
    "\n",
    "S = [\n",
    "    (k, j, i)\n",
    "    for k in range(1, 6)\n",
    "    for j in range(1, k+1)\n",
    "    for i in range(1, j+1)\n",
    "]\n",
    "HTML(pd.DataFrame(S, columns=['k', 'j', 'i']).to_html(index=False))"
   ]
  },
  {
   "cell_type": "code",
   "execution_count": 19,
   "id": "fcd61b51-07c2-4dbc-b242-6b11387a4da2",
   "metadata": {},
   "outputs": [
    {
     "data": {
      "text/plain": [
       "35"
      ]
     },
     "execution_count": 19,
     "metadata": {},
     "output_type": "execute_result"
    }
   ],
   "source": [
    "len(S)"
   ]
  },
  {
   "cell_type": "markdown",
   "id": "6e5c22cb-b83d-41b1-8b5f-e6bac548c6f5",
   "metadata": {},
   "source": [
    "### Pregunta B\n",
    "\n",
    "¿Es razonable suponer equiprobabilidad en este espacio?"
   ]
  },
  {
   "cell_type": "markdown",
   "id": "23d9eb82-8f29-4b1d-ab7f-1cfacadee967",
   "metadata": {},
   "source": [
    "Asumiendo que las bolillas están equilibradas, solo hay equiprobabilidad para la primer bolilla cuando está la urna completa. Si el primer número extraído (k) es menor a 5, entonces durante la segunda extracción las probabilidades de las bolillas restantes son distintas pues hay menos bolillas en la urna.\n",
    "\n",
    "Solamente se mantiene la equiprobabilidad durante las 3 extracciones si sale siempre la bolilla del 5, pues en este caso nunca se retiran bolillas de la urna."
   ]
  },
  {
   "cell_type": "markdown",
   "id": "36c81890-6813-47ed-af7a-3438ebaa1351",
   "metadata": {},
   "source": [
    "¿Qué probabilidad le asignaría al (3,2,1)?"
   ]
  },
  {
   "cell_type": "markdown",
   "id": "0cf573ce-de53-4cf9-b801-cd3ae173565a",
   "metadata": {},
   "source": [
    "Primer extracción: $P(k) = \\frac{1}{5}$ Pues hay 5 bolillas.\n",
    "\n",
    "Segunda extracción: $P(j) = \\frac{1}{k}$ Pues hay k bolillas.\n",
    "\n",
    "Segunda extracción: $P(i) = \\frac{1}{j}$ Pues hay j bolillas.\n",
    "\n",
    "$\n",
    "\\begin{align*}\n",
    "P((k,j,i)) &= P(k) * P(j) * P(i) \\hskip1em \\text{Por la regla del producto} \\\\\n",
    "P((k,j,i)) &= \\frac{1}{5} * \\frac{1}{k} * \\frac{1}{j} = \\frac{1}{5*k*j}\n",
    "\\end{align*}\n",
    "$\n",
    "\n",
    "Por lo tanto: $P((3,2,1)) = \\frac{1}{5*3*2} = \\frac{1}{30}$"
   ]
  },
  {
   "cell_type": "markdown",
   "id": "db40813a-7a30-4755-9926-a8fc7d70a9de",
   "metadata": {},
   "source": [
    "Para verificar la conclusión anterior, si sumamos las probabilidades de cada elemento de S (calculado con la fórmula anterior), deberíamos obtener 1 pues P(S) = 1."
   ]
  },
  {
   "cell_type": "code",
   "execution_count": 20,
   "id": "24d9c92f-34dc-4ccf-806a-713c7faf36d0",
   "metadata": {},
   "outputs": [
    {
     "data": {
      "text/plain": [
       "1.0"
      ]
     },
     "execution_count": 20,
     "metadata": {},
     "output_type": "execute_result"
    }
   ],
   "source": [
    "from fractions import Fraction\n",
    "float(sum([Fraction(1, 5*k*j) for k, j, i in S]))"
   ]
  },
  {
   "cell_type": "markdown",
   "id": "a0ef471b-c962-4065-833e-c314eac6a827",
   "metadata": {},
   "source": [
    "## Ejercicio 5\n",
    "\n",
    "Una firma proveedora de software ha ofrecido sus servicios a 3 empresas. Se definen los eventos $A_i$ = {la empresa $i$ realiza una compra a esta firma}, para $i$ = 1, 2, 3. \n",
    "\n",
    "Se sabe que:\n",
    "\n",
    "$P(A_1) = 0.22$\\\n",
    "$P(A_2) = 0.25$\\\n",
    "$P(A_3) = 0.28$\\\n",
    "$P(A_1 \\cap A_2) = 0.11$\\\n",
    "$P(A_1 \\cap A_3) = 0.05$\\\n",
    "$P(A_2 \\cap A_3) = 0.07$\\\n",
    "$P(A_1 \\cap A_2 \\cap A_3) = 0.01$\n",
    "\n",
    "Expresar en palabras los siguientes eventos y calcular sus probabilidades:"
   ]
  },
  {
   "cell_type": "markdown",
   "id": "9464d0b7-ab5c-42a5-9a4d-e55bd355dd94",
   "metadata": {},
   "source": [
    "**Evento:** $A_1 \\cup A_2$\n",
    "\n",
    "Las empresas 1 y/o la 2 realizan una compra.\n",
    "\n",
    "$\n",
    "\\begin{align*}\n",
    "P(A_1 \\cup A_2) &= P(A_1) + P(A_2) - P(A_1 \\cap A_2) \\\\\n",
    "&= 0.22 + 0.25 - 0.11 \\\\\n",
    "&= 0.36\n",
    "\\end{align*}\n",
    "$"
   ]
  },
  {
   "cell_type": "markdown",
   "id": "118f694d-56de-448b-aaa8-c34bd0abc63e",
   "metadata": {},
   "source": [
    "**Evento:** $A_1^c \\cap A_2^c$\n",
    "\n",
    "Las empresas 1 y 2 ambas no realizaron una compra. La empresa 3 quizás realizó una compra.\n",
    "\n",
    "$\n",
    "\\begin{align*}\n",
    "P(A_1^c \\cap A_2^c) &= P((A_1 \\cup A_2)^c) \\hskip1em \\text{Por Ley de De Morgan} \\\\\n",
    "&= 1 - P(A_1 \\cup A_2) \\\\\n",
    "&= 1 - 0.36 \\\\\n",
    "&= 0.64\n",
    "\\end{align*}\n",
    "$"
   ]
  },
  {
   "cell_type": "markdown",
   "id": "e8f80948-a05e-4762-9063-5e27552afed8",
   "metadata": {},
   "source": [
    "**Evento:** $A_1 \\cup A_2 \\cup A_3$\n",
    "\n",
    "Las empresas 1 y/o la 2 y/o la 3 realizan una compra.\n",
    "\n",
    "$\n",
    "\\begin{align*}\n",
    "P(A_1 \\cup A_2 \\cup A_3) &= P(A_1) + P(A_2) + P(A_3) - P(A_1 \\cap A_2) - P(A_1 \\cap A_3) - P(A_2 \\cap A_3) + P(A_1 \\cap A_2 \\cap A_3) \\\\\n",
    "&= 0.22 + 0.25 + 0.28 - 0.11 - 0.05 - 0.07 + 0.01 \\\\\n",
    "&= 0.53\n",
    "\\end{align*}\n",
    "$"
   ]
  },
  {
   "cell_type": "markdown",
   "id": "a17b72f6-aebd-4a68-8947-bb4aa814614e",
   "metadata": {},
   "source": [
    "**Evento:** $A_1^c \\cap A_2^c \\cap A_3^c$\n",
    "\n",
    "Ninguna de las 3 empresas realiza una compra.\n",
    "\n",
    "$\n",
    "\\begin{align*}\n",
    "P(A_1^c \\cap A_2^c \\cap A_3^c) &= P((A_1 \\cup A_2 \\cup A_3)^c) \\hskip1em \\text{Por Ley de De Morgan} \\\\\n",
    "&= 1 - P(A_1 \\cup A_2 \\cup A_3) \\\\\n",
    "&= 1 - 0.53 \\\\\n",
    "&= 0.47\n",
    "\\end{align*}\n",
    "$"
   ]
  },
  {
   "cell_type": "markdown",
   "id": "b6bc5d34-2843-400a-a72c-9b4e276496e7",
   "metadata": {},
   "source": [
    "**Evento:** $A_1^c \\cap A_2^c \\cap A_3$\n",
    "\n",
    "Las empresas 1 y 2 ambas no realizaron una compra, pero la empresa 3 sí realizó una compra.\n",
    "\n",
    "$\n",
    "\\begin{align*}\n",
    "P(A_1^c \\cap A_2^c \\cap A_3) &= P(A_3 \\cap (A_1 \\cup A_2)^c) \\hskip1em \\text{Por Ley de De Morgan} \\\\\n",
    "&= P(A_3 \\setminus (A_1 \\cup A_2)) \\\\\n",
    "&= P(A_3 \\setminus ((A_1 \\cap A_3) \\cup (A_2 \\cap A_3))) \\\\\n",
    "&= P(A_3) - P((A_1 \\cap A_3) \\cup (A_2 \\cap A_3)) \\hskip1em \\text{Pues:} \\hskip0.5em (A_1 \\cap A_3) \\cup (A_2 \\cap A_3) \\subset A_3 \\\\\n",
    "&= P(A_3) - (P(A_1 \\cap A_3) + P(A_2 \\cap A_3) - P(A_1 \\cap A_2 \\cap A_3)) \\\\\n",
    "&= 0.28 - (0.05 + 0.07 - 0.01) \\\\\n",
    "&= 0.17\n",
    "\\end{align*}\n",
    "$"
   ]
  },
  {
   "cell_type": "markdown",
   "id": "eaf54e88-07c2-4243-abf0-83353ab8130b",
   "metadata": {},
   "source": [
    "**Evento:** $(A_1^c \\cap A_2^c) \\cup A_3$\n",
    "\n",
    "Uno de estos casos:\n",
    "- Las 3 empresas realizaron una compra.\n",
    "- Las empresas 1 y 3 realizaron una compra.\n",
    "- Las empresas 2 y 3 realizaron una compra.\n",
    "- Solo la empresa 3 realizó una compra.\n",
    "- Ninguna empresa realizó una compra.\n",
    "\n",
    "$\n",
    "\\begin{align*}\n",
    "P((A_1^c \\cap A_2^c) \\cup A_3) &= P((A_1 \\cup A_2)^c \\cup A_3) \\hskip1em \\text{Por Ley de De Morgan} \\\\\n",
    "&= P((A_1 \\cup A_2)^c) + P(A_3) - P((A_1 \\cup A_2)^c \\cap A_3) \\\\\n",
    "&= 1 - P(A_1 \\cup A_2) + P(A_3) - P((A_1 \\cup A_2)^c \\cap A_3) \\\\\n",
    "&= 1 - 0.36 + 0.28 - 0.17 \\\\\n",
    "&= 0.75\n",
    "\\end{align*}\n",
    "$"
   ]
  },
  {
   "cell_type": "markdown",
   "id": "13067f8d-9b91-4d81-b893-ba593966c0d2",
   "metadata": {},
   "source": [
    "## Ejercicio 6\n",
    "\n",
    "Un grupo de 60 alumnos será subdividido al azar en dos divisiones de 30 alumnos cada una. Cinco de esos alumnos son muy amigos: Alicia, Beto, Carmen, Diego y Eva."
   ]
  },
  {
   "cell_type": "markdown",
   "id": "6f353de2-4b15-478e-9a75-06cfeed929ab",
   "metadata": {},
   "source": [
    "### Pregunta A\n",
    "\n",
    "¿Cuál es la probabilidad de que todos queden en la misma división?"
   ]
  },
  {
   "cell_type": "markdown",
   "id": "068a9c68-9a75-48da-8da1-766a159db420",
   "metadata": {},
   "source": [
    "El cardinal del espacio muestral es: $\\#S = {60 \\choose 30}$\n",
    "\n",
    "Pues al asignar 30 alumnos a una división, automáticamente los otros 30 van a parar a la otra división.\n",
    "\n",
    "Para contar los casos favorables, fijo los 5 amigos en una misma división, y cuento la cantidad de formas de asignar 25 alumnos más a la misma división que los 5 amigos para completar los 30.\n",
    "\n",
    "$\\frac{55 \\choose 25}{60 \\choose 30}$"
   ]
  },
  {
   "cell_type": "code",
   "execution_count": 22,
   "id": "29f30f43-b098-4699-b01c-737f36bdd99a",
   "metadata": {},
   "outputs": [
    {
     "data": {
      "text/plain": [
       "0.026092774308652988"
      ]
     },
     "execution_count": 22,
     "metadata": {},
     "output_type": "execute_result"
    }
   ],
   "source": [
    "nCr(55, 25) / nCr(60, 30)"
   ]
  },
  {
   "cell_type": "markdown",
   "id": "1a107f94-04ee-4af7-987a-9694426c7ce8",
   "metadata": {},
   "source": [
    "### Pregunta B\n",
    "\n",
    "¿Cuál es la probabilidad de que solo quede separado Diego?"
   ]
  },
  {
   "cell_type": "markdown",
   "id": "3172660d-4de0-4155-a964-ec2edd0cf4d9",
   "metadata": {},
   "source": [
    "Siguiendo la misma lógica que en la pregunta A, fijo 4 de los amigos en la misma división y cuento la cantidad de formas de asignar 26 alumnos más para completar los 30. Pero me tengo que asegurar que Diego no sea una opción para esos 26 alumnos.\n",
    "\n",
    "$\\frac{55 \\choose 26}{60 \\choose 30}$"
   ]
  },
  {
   "cell_type": "code",
   "execution_count": 23,
   "id": "ea8ad135-d810-408b-a98c-2aad8f1db387",
   "metadata": {},
   "outputs": [
    {
     "data": {
      "text/plain": [
       "0.030107047279214986"
      ]
     },
     "execution_count": 23,
     "metadata": {},
     "output_type": "execute_result"
    }
   ],
   "source": [
    "nCr(55, 26) / nCr(60, 30)"
   ]
  },
  {
   "cell_type": "markdown",
   "id": "0557dd93-4551-45c0-b7cd-f93f97a893f7",
   "metadata": {},
   "source": [
    "## Ejercicio 7\n",
    "\n",
    "De un grupo de 6 mujeres y 4 hombres se deben elegir 3 personas para que los representen en tres congresos a desarrollarse en mayo, junio y septiembre."
   ]
  },
  {
   "cell_type": "markdown",
   "id": "e7397ad8-cd78-49f7-929c-f7ff31b243c0",
   "metadata": {},
   "source": [
    "### Pregunta A\n",
    "\n",
    "Suponiendo que una persona puede ir a más de un congreso, calcular la probabilidad de que:"
   ]
  },
  {
   "cell_type": "markdown",
   "id": "fdacd1d6-637c-48bd-b3ed-bb70d26fa06c",
   "metadata": {},
   "source": [
    "A los dos primeros congresos vayan mujeres.\n",
    "\n",
    "$P = \\frac{6}{10} * \\frac{6}{10} * \\frac{10}{10} = \\frac{9}{25} = 0.36$"
   ]
  },
  {
   "cell_type": "markdown",
   "id": "0c94ffec-600a-4101-8f52-35b8feb0846a",
   "metadata": {},
   "source": [
    "A los dos primeros congresos vayan mujeres y al tercero un hombre.\n",
    "\n",
    "$P = \\frac{6}{10} * \\frac{6}{10} * \\frac{4}{10} = \\frac{18}{125} = 0.144$"
   ]
  },
  {
   "cell_type": "markdown",
   "id": "5d31c175-cd63-4c36-9ef8-271da95485d6",
   "metadata": {},
   "source": [
    "Haya por lo menos una mujer entre las 3 personas elegidas.\n",
    "\n",
    "Resto la probabilidad de que vayan todos hombres a los 3 congresos.\n",
    "\n",
    "$P = 1 - \\frac{4}{10} * \\frac{4}{10} * \\frac{4}{10} = \\frac{117}{125} = 0.936$"
   ]
  },
  {
   "cell_type": "markdown",
   "id": "675dec00-41fa-43c9-a951-f2c441ac434f",
   "metadata": {},
   "source": [
    "### Pregunta B\n",
    "\n",
    "Si a cada congreso debe ir una persona diferente, calcular las mismas probabilidades que en (a) y además la probabilidad de que haya exactamente una mujer entre las 3 personas elegidas."
   ]
  },
  {
   "cell_type": "markdown",
   "id": "05c38efb-af25-4ee1-9065-3e5496dd2980",
   "metadata": {},
   "source": [
    "A los dos primeros congresos vayan mujeres.\n",
    "\n",
    "$P = \\frac{6}{10} * \\frac{5}{9} * \\frac{8}{8} = \\frac{1}{3} = 0.\\widehat{3}$"
   ]
  },
  {
   "cell_type": "markdown",
   "id": "881c59a4-db37-4370-9e11-5ad0156db2d6",
   "metadata": {},
   "source": [
    "A los dos primeros congresos vayan mujeres y al tercero un hombre.\n",
    "\n",
    "$P = \\frac{6}{10} * \\frac{5}{9} * \\frac{4}{8} = \\frac{1}{6} = 0.1\\widehat{6}$"
   ]
  },
  {
   "cell_type": "markdown",
   "id": "d119b47c-00e6-4d29-b13c-dc35c4df38aa",
   "metadata": {},
   "source": [
    "Haya por lo menos una mujer entre las 3 personas elegidas.\n",
    "\n",
    "Resto la probabilidad de que vayan todos hombres a los 3 congresos.\n",
    "\n",
    "$P = 1 - \\frac{4}{10} * \\frac{3}{9} * \\frac{2}{8} = \\frac{29}{30} = 0.9\\widehat{6}$"
   ]
  },
  {
   "cell_type": "markdown",
   "id": "466cf2d9-8246-43a0-8564-542a43a3dd80",
   "metadata": {},
   "source": [
    "Haya exactamente una mujer entre las 3 personas elegidas.\n",
    "\n",
    "Primero calculo la probabilidad de los casos a excluir.\n",
    "\n",
    "- 3 mujeres: $P_1 = \\frac{6}{10} * \\frac{5}{9} * \\frac{4}{8} = \\frac{1}{6}$\n",
    "- 2 mujeres y 1 hombre, multiplicado por 3 para considerar la asignación a los congresos: $P_2 = 3 * \\frac{6}{10} * \\frac{5}{9} * \\frac{4}{8} = \\frac{3}{6}$\n",
    "- 3 hombres: $P_3 = \\frac{4}{10} * \\frac{3}{9} * \\frac{2}{8} = \\frac{1}{30}$\n",
    "\n",
    "Luego calculo lo pedido por el complemento.\n",
    "\n",
    "$P = 1 - P_1 - P_2 - P_3 = 1 - \\frac{1}{6} - \\frac{3}{6} - \\frac{1}{30} = \\frac{3}{10} = 0.3$\n",
    "\n",
    "Otra forma: calculo la probabilidad de elegir exactamente 1 mujer y 2 hombres, y luego multiplico por 3 para considerar la asignación a los congresos.\n",
    "\n",
    "$P = 3 * \\frac{6}{10} * \\frac{4}{9} * \\frac{3}{8} = \\frac{3}{10} = 0.3$"
   ]
  }
 ],
 "metadata": {
  "kernelspec": {
   "display_name": "Python 3 (ipykernel)",
   "language": "python",
   "name": "python3"
  },
  "language_info": {
   "codemirror_mode": {
    "name": "ipython",
    "version": 3
   },
   "file_extension": ".py",
   "mimetype": "text/x-python",
   "name": "python",
   "nbconvert_exporter": "python",
   "pygments_lexer": "ipython3",
   "version": "3.9.1"
  },
  "toc-autonumbering": false,
  "toc-showmarkdowntxt": false
 },
 "nbformat": 4,
 "nbformat_minor": 5
}
