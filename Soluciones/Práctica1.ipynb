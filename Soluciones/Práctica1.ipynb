{
 "cells": [
  {
   "cell_type": "markdown",
   "id": "bb8b4a54-94a2-4d58-8ea6-d4907f490a32",
   "metadata": {},
   "source": [
    "# Práctica 1"
   ]
  },
  {
   "cell_type": "markdown",
   "id": "2343bd1c-ac94-45c1-ba98-84e2b721f7fd",
   "metadata": {},
   "source": [
    "## Ejercicio 1\n",
    "\n",
    "Se arroja dos veces un dado equilibrado, registrándose los resultados obtenidos."
   ]
  },
  {
   "cell_type": "markdown",
   "id": "db5c2a2a-0d2c-4f9a-919e-543ca354b0bd",
   "metadata": {},
   "source": [
    "### Pregunta A\n",
    "\n",
    "Definir un espacio muestral S apropiado para este experimento."
   ]
  },
  {
   "cell_type": "markdown",
   "id": "a49cb0ca-83a5-4fb3-82ce-f1e4c22adbcd",
   "metadata": {},
   "source": [
    "$S = \\{(i, j) \\mid 1 \\leq i,j \\leq 6 \\}$"
   ]
  },
  {
   "cell_type": "code",
   "execution_count": 158,
   "id": "27b7c8f1-7519-4c78-b5cf-c19f3382bc06",
   "metadata": {},
   "outputs": [],
   "source": [
    "S = set([(i, j) for i in range(1, 7) for j in range(1, 7)])"
   ]
  },
  {
   "cell_type": "markdown",
   "id": "0e07045b-0118-4cae-acc2-ebe0a3119f7b",
   "metadata": {
    "tags": []
   },
   "source": [
    "### Pregunta B\n",
    "\n",
    "Describir el conjunto de elementos del espacio muestral que satisface que:"
   ]
  },
  {
   "cell_type": "markdown",
   "id": "80379261-3d4e-44ef-92b0-6f2cce53a812",
   "metadata": {},
   "source": [
    "La suma de los dos números obtenidos es por lo menos 5.\n",
    "\n",
    "$A = \\{(i, j) \\mid i + j \\geq 5 \\} \\} \\subset S$"
   ]
  },
  {
   "cell_type": "code",
   "execution_count": 159,
   "id": "87b79bc1-0aba-42bc-9660-c14767783cf7",
   "metadata": {},
   "outputs": [],
   "source": [
    "A = set([x for x in S if x[0] + x[1] >= 5])"
   ]
  },
  {
   "cell_type": "markdown",
   "id": "9daea6aa-cd22-47cc-acd7-9af0993dccbd",
   "metadata": {},
   "source": [
    "El valor obtenido en el primer tiro es superior al obtenido en el segundo.\n",
    "\n",
    "$B = \\{(i, j) \\mid i \\gt j \\} \\subset S$"
   ]
  },
  {
   "cell_type": "code",
   "execution_count": 160,
   "id": "248e341e-ae6a-43a4-9c5c-5d978f20eb41",
   "metadata": {},
   "outputs": [],
   "source": [
    "B = set([x for x in S if x[0] > x[1]])"
   ]
  },
  {
   "cell_type": "markdown",
   "id": "f7eefdf7-2c81-479f-9e8f-c8dcf92191e9",
   "metadata": {},
   "source": [
    "El valor obtenido en el primer tiro es un 4.\n",
    "\n",
    "$C = \\{(i, j) \\mid i = 4 \\} \\subset S$"
   ]
  },
  {
   "cell_type": "code",
   "execution_count": 161,
   "id": "eff4f7e1-6d13-4256-ba53-3f18c439e967",
   "metadata": {},
   "outputs": [],
   "source": [
    "C = set([x for x in S if x[0] == 4])"
   ]
  },
  {
   "cell_type": "markdown",
   "id": "750395c1-c231-4cd8-8b91-0480d6c2ab52",
   "metadata": {},
   "source": [
    "### Pregunta C\n",
    "\n",
    "Calcular las probabilidades de los eventos definidos en 1b)."
   ]
  },
  {
   "cell_type": "markdown",
   "id": "74465bef-0ea9-4ea3-ae2e-1c489c601fd4",
   "metadata": {},
   "source": [
    "$P(A) = \\frac{\\#A}{\\#S}$"
   ]
  },
  {
   "cell_type": "code",
   "execution_count": 162,
   "id": "81fdc4fb-54c2-4916-9544-3d3aa09755bb",
   "metadata": {},
   "outputs": [
    {
     "data": {
      "text/plain": [
       "0.8333333333333334"
      ]
     },
     "execution_count": 162,
     "metadata": {},
     "output_type": "execute_result"
    }
   ],
   "source": [
    "PA = len(A) / len(S)\n",
    "PA"
   ]
  },
  {
   "cell_type": "markdown",
   "id": "91058adf-222f-414f-9506-ec2bbcd48020",
   "metadata": {},
   "source": [
    "$P(B) = \\frac{\\#B}{\\#S}$"
   ]
  },
  {
   "cell_type": "code",
   "execution_count": 163,
   "id": "dc639ede-153f-4bf6-a6fd-254c6e35bb8c",
   "metadata": {},
   "outputs": [
    {
     "data": {
      "text/plain": [
       "0.4166666666666667"
      ]
     },
     "execution_count": 163,
     "metadata": {},
     "output_type": "execute_result"
    }
   ],
   "source": [
    "PB = len(B) / len(S)\n",
    "PB"
   ]
  },
  {
   "cell_type": "markdown",
   "id": "b54978c2-9012-485d-a585-70f6ebb6f9ac",
   "metadata": {},
   "source": [
    "$P(C) = \\frac{\\#C}{\\#S}$"
   ]
  },
  {
   "cell_type": "code",
   "execution_count": 164,
   "id": "1cebfaa5-c5c4-4ae8-9d76-6034f8991089",
   "metadata": {},
   "outputs": [
    {
     "data": {
      "text/plain": [
       "0.16666666666666666"
      ]
     },
     "execution_count": 164,
     "metadata": {},
     "output_type": "execute_result"
    }
   ],
   "source": [
    "PC = len(C) / len(S)\n",
    "PC"
   ]
  },
  {
   "cell_type": "markdown",
   "id": "96e36ad8-cddd-44db-920a-87ebd2cc1318",
   "metadata": {},
   "source": [
    "### Pregunta D\n",
    "\n",
    "Simular en ~~R~~ Python el experimento de tirar dos veces un dado equilibrado."
   ]
  },
  {
   "cell_type": "code",
   "execution_count": 165,
   "id": "e11d4b3f-7cb3-46bc-838c-45290c6d66c9",
   "metadata": {},
   "outputs": [
    {
     "data": {
      "text/plain": [
       "(5, 6)"
      ]
     },
     "execution_count": 165,
     "metadata": {},
     "output_type": "execute_result"
    }
   ],
   "source": [
    "def experiment():\n",
    "    from random import randint\n",
    "    return (randint(1, 6), randint(1, 6))\n",
    "\n",
    "experiment()"
   ]
  },
  {
   "cell_type": "markdown",
   "id": "7db2be5f-78ed-4897-a0f3-b656f01151fd",
   "metadata": {},
   "source": [
    "### Pregunta E\n",
    "\n",
    "Simular 1000 veces en ~~R~~ Python el experimento de tirar dos veces un dado equilibrado y estimar las probabilidades de los sucesos definidos en 1b)."
   ]
  },
  {
   "cell_type": "code",
   "execution_count": 176,
   "id": "251dcce0-6fa0-44cb-bf1b-34868c2e75b5",
   "metadata": {},
   "outputs": [
    {
     "name": "stdout",
     "output_type": "stream",
     "text": [
      "Estimación P(A): 0.827 \tP(A): 0.8333333333333334\n",
      "Estimación P(B): 0.431 \tP(B): 0.4166666666666667\n",
      "Estimación P(C): 0.16 \tP(C): 0.16666666666666666\n"
     ]
    }
   ],
   "source": [
    "def estimate_probability(event_name, event, p, n):\n",
    "    experiments = [experiment() for _ in range(n)]\n",
    "    count = 0\n",
    "    for exp in experiments:\n",
    "        if exp in event: count += 1\n",
    "    print(f'Estimación P({event_name}):', count / n, f'\\tP({event_name}):', p)\n",
    "\n",
    "estimate_probability('A', A, PA, 1000)\n",
    "estimate_probability('B', B, PB, 1000)\n",
    "estimate_probability('C', C, PC, 1000)"
   ]
  },
  {
   "cell_type": "markdown",
   "id": "4b6edf47-c07a-4bda-8261-f098f06fc107",
   "metadata": {},
   "source": [
    "### Pregunta F\n",
    "\n",
    "Describir los siguientes conjuntos:"
   ]
  },
  {
   "cell_type": "markdown",
   "id": "c6894f10-0a12-4264-b8f8-e9aa12495014",
   "metadata": {},
   "source": [
    "$D = A \\cap B = \\{(i, j) \\mid i + j \\geq 5 \\land i \\gt j \\}$"
   ]
  },
  {
   "cell_type": "code",
   "execution_count": 167,
   "id": "6d366c7d-5695-4556-baca-6cbdb5281ee1",
   "metadata": {},
   "outputs": [
    {
     "data": {
      "text/plain": [
       "True"
      ]
     },
     "execution_count": 167,
     "metadata": {},
     "output_type": "execute_result"
    }
   ],
   "source": [
    "D = set([x for x in S if x[0] + x[1] >= 5 and x[0] > x[1]])\n",
    "\n",
    "# Verificación\n",
    "D == A.intersection(B)"
   ]
  },
  {
   "cell_type": "markdown",
   "id": "e90246c6-ae5e-4e2c-ba57-c566b73f1ae7",
   "metadata": {},
   "source": [
    "$E = B \\cup C = \\{(i, j) \\mid i \\gt j \\lor i = 4 \\} \\}$"
   ]
  },
  {
   "cell_type": "code",
   "execution_count": 168,
   "id": "7b315cae-fabb-465f-af56-f6cd6f8402e8",
   "metadata": {},
   "outputs": [
    {
     "data": {
      "text/plain": [
       "True"
      ]
     },
     "execution_count": 168,
     "metadata": {},
     "output_type": "execute_result"
    }
   ],
   "source": [
    "E = set([x for x in S if x[0] > x[1] or x[0] == 4])\n",
    "\n",
    "# Verificación\n",
    "E == B.union(C)"
   ]
  },
  {
   "cell_type": "markdown",
   "id": "cd0ea90f-b2aa-4cdf-b99f-9ca1bc098372",
   "metadata": {},
   "source": [
    "$F = A \\cap (B \\cup C) = \\{(i, j) \\mid i + j \\geq 5 \\land (i \\gt j \\lor i = 4) \\} \\}$"
   ]
  },
  {
   "cell_type": "code",
   "execution_count": 169,
   "id": "0a1e09a1-24d7-482f-b660-fd024b733d3b",
   "metadata": {},
   "outputs": [
    {
     "data": {
      "text/plain": [
       "True"
      ]
     },
     "execution_count": 169,
     "metadata": {},
     "output_type": "execute_result"
    }
   ],
   "source": [
    "F = set([x for x in S if x[0] + x[1] >= 5 and (x[0] > x[1] or x[0] == 4)])\n",
    "\n",
    "# Verificación\n",
    "F == A.intersection(B.union(C))"
   ]
  },
  {
   "cell_type": "markdown",
   "id": "87695cae-5e0c-4588-b0d3-7f6083104d28",
   "metadata": {},
   "source": [
    "### Pregunta G\n",
    "\n",
    "Calcular las probabilidades de los sucesos definidos en 1f)."
   ]
  },
  {
   "cell_type": "markdown",
   "id": "57832009-2933-47d3-9b68-c87d432f581e",
   "metadata": {
    "tags": []
   },
   "source": [
    "$P(D) = \\frac{\\#D}{\\#S}$"
   ]
  },
  {
   "cell_type": "code",
   "execution_count": 170,
   "id": "f35d7144-d3ea-4340-99ad-c77e5d575487",
   "metadata": {},
   "outputs": [
    {
     "data": {
      "text/plain": [
       "0.3611111111111111"
      ]
     },
     "execution_count": 170,
     "metadata": {},
     "output_type": "execute_result"
    }
   ],
   "source": [
    "PD = len(D) / len(S)\n",
    "PD"
   ]
  },
  {
   "cell_type": "markdown",
   "id": "d7da34c3-7566-4b3f-b461-0f0464b851d9",
   "metadata": {
    "tags": []
   },
   "source": [
    "$P(E) = \\frac{\\#E}{\\#S}$"
   ]
  },
  {
   "cell_type": "code",
   "execution_count": 171,
   "id": "dbaf0cb4-5223-4431-84b6-88e7f7310c98",
   "metadata": {},
   "outputs": [
    {
     "data": {
      "text/plain": [
       "0.5"
      ]
     },
     "execution_count": 171,
     "metadata": {},
     "output_type": "execute_result"
    }
   ],
   "source": [
    "PE = len(E) / len(S)\n",
    "PE"
   ]
  },
  {
   "cell_type": "markdown",
   "id": "7f5f197f-0c54-40d8-8a08-1e8d9d16e5cb",
   "metadata": {
    "tags": []
   },
   "source": [
    "$P(F) = \\frac{\\#F}{\\#S}$"
   ]
  },
  {
   "cell_type": "code",
   "execution_count": 172,
   "id": "56afb25d-6557-47ab-baea-1df4ee142b9b",
   "metadata": {},
   "outputs": [
    {
     "data": {
      "text/plain": [
       "0.4444444444444444"
      ]
     },
     "execution_count": 172,
     "metadata": {},
     "output_type": "execute_result"
    }
   ],
   "source": [
    "PF = len(F) / len(S)\n",
    "PF"
   ]
  },
  {
   "cell_type": "markdown",
   "id": "a596526c-9693-4fe5-9184-9443a06ae8fb",
   "metadata": {},
   "source": [
    "### Pregunta H\n",
    "\n",
    "Estimar las probabilidades de los sucesos definidos en 1f) mediante simulaciones. Comparar con los resultados obtenidos en 1g)."
   ]
  },
  {
   "cell_type": "code",
   "execution_count": 177,
   "id": "b7ca079e-1712-4a41-ba64-d628ab0ea877",
   "metadata": {},
   "outputs": [
    {
     "name": "stdout",
     "output_type": "stream",
     "text": [
      "Estimación P(D): 0.382 \tP(D): 0.3611111111111111\n",
      "Estimación P(E): 0.491 \tP(E): 0.5\n",
      "Estimación P(F): 0.444 \tP(F): 0.4444444444444444\n"
     ]
    }
   ],
   "source": [
    "estimate_probability('D', D, PD, 1000)\n",
    "estimate_probability('E', E, PE, 1000)\n",
    "estimate_probability('F', F, PF, 1000)"
   ]
  },
  {
   "cell_type": "markdown",
   "id": "b73d3646-59d2-4b3e-b084-7790ab6fd3ed",
   "metadata": {},
   "source": [
    "## Ejercicio 2\n",
    "\n",
    "Dados dos eventos A y B tales que se conocen $P(A \\cup B)$ y $P(A \\cap B)$, hallar una fórmula para la probabilidad de que ocurra exactamente uno de estos eventos.\n",
    "\n",
    "Una compañía constructora trabaja en dos proyectos diferentes. Sea A el evento: \"el primero de los proyectos se termina en la fecha del contrato\" y definamos análogamente B para el segundo proyecto. Si $P(A \\cup B) = 0.9$ y $P(A \\cap B) = 0.5$, ¿cuál es la probabilidad de que exactamente un proyecto se termine para la fecha de contrato?"
   ]
  },
  {
   "cell_type": "markdown",
   "id": "04cff134-6e9e-423a-ab37-50cb3f9ef405",
   "metadata": {},
   "source": [
    "Defino el espacio muestral como tuplas de 2 elementos, donde el primer elemento representa si el primer proyecto se termina a tiempo (1) o no (0), y el segundo número lo mismo pero para el segundo proyecto. Por ejemplo, $(1,1)$ significa que ambos proyectos terminaron a tiempo, mientras que $(0,0)$ significa que ningún proyecto se terminó a tiempo.\n",
    "\n",
    "$S = \\{(1,1), (1,0), (0,1), (0,0)\\}$\n",
    "\n",
    "Luego, los eventos A y B son los siguientes:\n",
    "\n",
    "$A = \\{(1,1), (1,0)\\}$\n",
    "\n",
    "$B = \\{(1,1), (0,1)\\}$\n",
    "\n",
    "Por otro lado, sea C el evento cuando exactamente un proyecto se termina:\n",
    "\n",
    "$C = \\{(1,0), (0,1)\\}$\n",
    "\n",
    "Lo que me piden calcular es $P(C)$.\n",
    "\n",
    "$C = (A \\cup B) \\setminus (A \\cap B)$\n",
    "\n",
    "Observación: $(A \\cap B) \\subset (A \\cup B)$, por lo tanto vale lo siguiente:\n",
    "\n",
    "$P(C) = P((A \\cup B) \\setminus (A \\cap B)) = P(A \\cup B) - P(A \\cap B) = 0.9 - 0.5 = 0.4$"
   ]
  }
 ],
 "metadata": {
  "kernelspec": {
   "display_name": "Python 3 (ipykernel)",
   "language": "python",
   "name": "python3"
  },
  "language_info": {
   "codemirror_mode": {
    "name": "ipython",
    "version": 3
   },
   "file_extension": ".py",
   "mimetype": "text/x-python",
   "name": "python",
   "nbconvert_exporter": "python",
   "pygments_lexer": "ipython3",
   "version": "3.9.1"
  }
 },
 "nbformat": 4,
 "nbformat_minor": 5
}
