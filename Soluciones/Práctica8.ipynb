{
 "cells": [
  {
   "cell_type": "markdown",
   "id": "f092f499-93bb-4790-ad32-c7c2a08bb8af",
   "metadata": {},
   "source": [
    "# Práctica 8"
   ]
  },
  {
   "cell_type": "markdown",
   "id": "30ef1882-679e-4a93-8e83-999cf5b67abc",
   "metadata": {},
   "source": [
    "## Ejercicio 1\n",
    "\n",
    "Sea $X_1, \\dots, X_n$ una muestra aleatoria de una población normal."
   ]
  },
  {
   "cell_type": "markdown",
   "id": "8a25556c-9217-41cb-9f6e-eea330cf983e",
   "metadata": {},
   "source": [
    "### Pregunta A\n",
    "\n",
    "Encontrar un intervalo de confianza de nivel exacto $1−\\alpha$ para la media cuando la varianza es conocida."
   ]
  },
  {
   "cell_type": "markdown",
   "id": "38f923f6-adbc-4ee8-9a76-258550a6968b",
   "metadata": {},
   "source": [
    "### Pregunta B\n",
    "\n",
    "Con cierto instrumento se realizan 20 mediciones de una magnitud física $\\mu$. Cada observación es de la forma $X_i = \\mu + \\epsilon_i$, donde $\\epsilon_i$ denota el error aleatorio de la i-ésima medición. El promedio de los valores obtenidos es $x = 25.01$. Supongamos que los errores de medición tienen distribución normal con media cero y varianza 0.36."
   ]
  },
  {
   "cell_type": "markdown",
   "id": "75d62006-54c2-4eda-a802-05cf5293b84d",
   "metadata": {},
   "source": [
    "#### Item i\n",
    "\n",
    "Hallar el intervalo de confianza estimado de nivel exacto 0.95 para el valor de la magnitud física de interés."
   ]
  },
  {
   "cell_type": "markdown",
   "id": "36731a49-d75c-4824-966f-988b5b55abd9",
   "metadata": {},
   "source": [
    "#### Item ii\n",
    "\n",
    "Si se quisiera que la longitud del intervalo hallado en i) fuera a lo sumo 0.05, ¿cuántas mediciones deberían realizarse?"
   ]
  },
  {
   "cell_type": "markdown",
   "id": "0ba6b3ff-041f-493d-8186-0599e17fdc57",
   "metadata": {},
   "source": [
    "#### Item iii\n",
    "\n",
    "Suponga ahora que la varianza del error es 0.6. ¿cuántas mediciones deberían realizarse para construir un intervalo de confianza exacto de nivel 0.95 para $\\mu$ cuya longitud fuera a lo sumo 0.05?"
   ]
  },
  {
   "cell_type": "markdown",
   "id": "cf4ffdd6-a357-4b10-8314-1ccc10226870",
   "metadata": {},
   "source": [
    "#### Item iv\n",
    "\n",
    "Compare los resultados obtenidos en los items ii) y iii) e interprete la diferencia."
   ]
  },
  {
   "cell_type": "markdown",
   "id": "4446ba7c-511c-429d-b5dd-0b3800ca4549",
   "metadata": {},
   "source": [
    "## Ejercicio 2\n",
    "\n",
    "Consideremos variables aleatorias $X_1, \\dots, X_n$ con distribución $\\mathcal{N}(\\mu, \\sigma^2)$. En este ejercicio estudiaremos la distribución de $T_n = (X_n - \\mu)\\tfrac{\\sqrt{n}}{s}$ para diferentes valores de $n$. Para ello, para diferentes valores de $n$, y un $\\mu$ y un $\\sigma$ dados, simularemos 1000 conjuntos de $n$ datos con distribución $\\mathcal{N}(\\mu, \\sigma^2)$ y luego calcularemos el estadístico $T_n$ para cada conjunto de datos. Obtendremos así 1000 realizaciones de la variable $T_n$. Finalmente, haremos boxplots, qqplots, e histogramas de las 1000 realizaciones de $T_n$ para estudiar su densidad.\n",
    "\n",
    "Repetir para $n = 4, 20, 30, 500$ y comparar los resultados."
   ]
  },
  {
   "cell_type": "markdown",
   "id": "72f5e8c6-593b-45fc-bf70-e124df997923",
   "metadata": {},
   "source": [
    "### Pregunta A\n",
    "\n",
    "Hacer un boxplot y un qqplot del conjunto de valores de $T_{nobs}$. ¿Qué se observa?"
   ]
  },
  {
   "cell_type": "markdown",
   "id": "8ed88701-42ee-44c6-9040-bf9991e834cd",
   "metadata": {},
   "source": [
    "### Pregunta B\n",
    "\n",
    "A partir de los valores replicados de $T_{nobs}$ realizar un histograma. ¿Qué características tiene este histograma?"
   ]
  },
  {
   "cell_type": "markdown",
   "id": "b27f7828-7a2b-48a2-91c9-c7d9ca4e192d",
   "metadata": {},
   "source": [
    "### Pregunta C\n",
    "\n",
    "Al histograma del item anterior, superponerle el gráfico de la densidad normal estándar. Superponer también el gráfico de la verdadera densidad de la variable $T_n$. ¿Qué se observa?"
   ]
  },
  {
   "cell_type": "markdown",
   "id": "10c460fa-047f-4a45-9e7a-bd39b84af202",
   "metadata": {},
   "source": [
    "### Pregunta D\n",
    "\n",
    "Con el comando `density`, dibujar la densidad estimada de $T_n$. En el mismo gráfico, superponer la verdadera densidad de $T_n$ y la curva normal estándar. ¿Qué se observa?"
   ]
  },
  {
   "cell_type": "markdown",
   "id": "d80809c6-6441-4175-8793-22af5cadede7",
   "metadata": {},
   "source": [
    "## Ejercicio 3\n",
    "\n",
    "Sea $X_1, \\dots, X_n$ una muestra aleatoria de una población normal."
   ]
  },
  {
   "cell_type": "markdown",
   "id": "8807f667-83bd-421e-bc14-39c611f3fd43",
   "metadata": {},
   "source": [
    "### Pregunta A\n",
    "\n",
    "Encontrar un intervalo de confianza de nivel exacto $1-\\alpha$ para la media cuando la varianza es desconocida."
   ]
  },
  {
   "cell_type": "markdown",
   "id": "c6767163-b94f-4a72-b97a-62597cb4fe95",
   "metadata": {},
   "source": [
    "### Pregunta B\n",
    "\n",
    "Repetir la parte i) del item b) del Ejercicio 1, suponiendo que la varianza es desconocida y el desvío estándar muestral es $s = 0.76$."
   ]
  },
  {
   "cell_type": "markdown",
   "id": "d24f6745-c2fb-4ee7-8238-d1c4703e0d4e",
   "metadata": {},
   "source": [
    "## Ejercicio 4\n",
    "\n",
    "El rendimiento anual de almendros (en kg.) en parcelas cultivadas en cierta región es una variable aleatoria con distribución normal de media $\\mu$ y varianza $\\sigma^2$. Se observa el rendimiento anual de $n = 5$ parcelas elegidas al azar y se obtiene una media muestral de 525 kilogramos y un desvío muestral de 10 kilogramos."
   ]
  },
  {
   "cell_type": "markdown",
   "id": "4f9d0562-acba-4a02-841f-5381ce010076",
   "metadata": {},
   "source": [
    "### Pregunta A\n",
    "\n",
    "En base a los datos obtenidos, obtenga una estimación por intervalos para $\\mu$ utilizando un procedimiento de nivel 0.95."
   ]
  },
  {
   "cell_type": "markdown",
   "id": "32698180-ee92-441b-9f6d-8cd105868aae",
   "metadata": {},
   "source": [
    "### Pregunta B\n",
    "\n",
    "Decidir si son verdaderas o falsas las siguientes afirmaciones:"
   ]
  },
  {
   "cell_type": "markdown",
   "id": "9d786cb5-a7f3-446c-81b4-522d60b23a3f",
   "metadata": {},
   "source": [
    "#### Item i\n",
    "\n",
    "Aproximadamente el 95% de las parcelas de esta región tiene un rendimiento que pertenece al intervalo hallado en a), en base a la muestra observada."
   ]
  },
  {
   "cell_type": "markdown",
   "id": "33359919-040d-47f5-a680-59bb10b20c0c",
   "metadata": {},
   "source": [
    "#### Item ii\n",
    "\n",
    "La probabilidad de que el intervalo hallado en a) contenga a $\\mu$ es 0.95."
   ]
  },
  {
   "cell_type": "markdown",
   "id": "e4fe2601-4010-4754-96b3-3a9dfbb952e9",
   "metadata": {},
   "source": [
    "#### Item iii\n",
    "\n",
    "Si se extraen muchas muestras de tamaño 5 de manera independiente y para cada una se calcula el intervalo de confianza como en a), aproximadamente el 95% de estos intervalos contendrá a $\\mu$."
   ]
  },
  {
   "cell_type": "markdown",
   "id": "fb786511-e9b6-4352-a457-a98721e8af27",
   "metadata": {},
   "source": [
    "## Ejercicio 5\n",
    "\n",
    "Sea $X_1, \\dots, X_n$ una muestra aleatoria de una población normal."
   ]
  },
  {
   "cell_type": "markdown",
   "id": "731e442e-a115-43bf-bc33-b693e38a3592",
   "metadata": {},
   "source": [
    "### Pregunta A\n",
    "\n",
    "Encontrar un intervalo de confianza de nivel exacto $1-\\alpha$ para la varianza cuando la media es conocida.\n",
    "\n",
    "Sugerencia: probar que $\\sum_{i=1}^{n} \\tfrac{(X_i - \\mu)^2}{\\sigma^2} \\sim \\mathcal{X}_n^2$"
   ]
  },
  {
   "cell_type": "markdown",
   "id": "b6b2c85e-ed2d-4001-ba18-e8e62d50e33e",
   "metadata": {},
   "source": [
    "### Pregunta B\n",
    "\n",
    "En un aserradero se cortan varillas de madera cuya longitud es una v.a. con distribución normal. Se miden 25 varillas elegidas al azar, obteniéndose las siguientes longitudes.\n",
    "\n",
    "```\n",
    "176.50 191.50 186.90 181.10 195.70 188.10 187.40 185.10 176.90 191.20 193.80 187.00 179.00 173.00 184.40 199.60 190.40 206.80 193.00 177.10 201.00 192.50 176.60 180.10 186.40\n",
    "```\n",
    "\n",
    "Hallar el intervalo de confianza estimado de nivel exacto 0.90 para la varianza verdadera, suponiendo que $\\mu = 185$."
   ]
  },
  {
   "cell_type": "markdown",
   "id": "306c4bd3-e316-4d22-8739-e18ee2cb55ab",
   "metadata": {},
   "source": [
    "## Ejercicio 6\n",
    "\n",
    "Sea $X_1, \\dots, X_n$ una muestra aleatoria de una población normal."
   ]
  },
  {
   "cell_type": "markdown",
   "id": "fda5cd6f-755e-40e1-8198-06563b8037b4",
   "metadata": {},
   "source": [
    "### Pregunta A\n",
    "\n",
    "Encontrar un intervalo de confianza de nivel exacto $1-\\alpha$ para la varianza cuando la media es desconocida."
   ]
  },
  {
   "cell_type": "markdown",
   "id": "f3732b82-947a-4b0a-a6ff-65d510382c18",
   "metadata": {},
   "source": [
    "### Pregunta B\n",
    "\n",
    "Repetir el item b) del Ejercicio 5 suponiendo que $\\mu$ es desconocida."
   ]
  },
  {
   "cell_type": "markdown",
   "id": "b1c66b3a-b41d-44b7-ad1a-63450196ffe7",
   "metadata": {},
   "source": [
    "## Ejercicio 7"
   ]
  },
  {
   "cell_type": "markdown",
   "id": "89af204e-134f-45f3-8a00-d9ecc21664c7",
   "metadata": {},
   "source": [
    "### Pregunta A\n",
    "\n",
    "Definir una función que, tenga por input un conjunto de datos $x = (x_1, \\dots, x_n)$ provenientes de una distribución normal y un nivel de confianza $1-\\alpha$ y devuelva un intervalo de confianza de nivel $1-\\alpha$ para la media de la normal de la que provienen los datos. ¿Cómo cambiaría la función si ahora queremos aplicarla a normales con varianza conocida? ¿Y si ahora queremos aplicarla a muestras grandes pero con distribución desconocida?"
   ]
  },
  {
   "cell_type": "markdown",
   "id": "25552fa1-213e-4943-9f4a-56a82164e412",
   "metadata": {},
   "source": [
    "### Pregunta B\n",
    "\n",
    "Elegir un valor de $\\mu$ y un valor de $\\sigma$. Generar 1000 conjuntos de datos de $n$ valores cada uno con distribución $\\mathcal{N}(\\mu, \\sigma^2)$ y calcular intervalos de confianza para $\\mu$ asumiendo que $\\mu$ es desconocido y $\\sigma$ es conocido. Repetir para diferentes valores de $n$ entre 3 y 1000. ¿Qué proporción de intervalos contiene al verdadero valor de $\\mu$?"
   ]
  },
  {
   "cell_type": "markdown",
   "id": "8ea2ff47-a480-45ea-8951-9655ce4aa720",
   "metadata": {},
   "source": [
    "### Pregunta C\n",
    "\n",
    "Rehacer el item anterior calculando también, para cada conjunto de datos, el intervalo de confianza para $\\mu$ con $\\sigma$ desconocido. Para valores grandes de $n$, ¿de qué otra forma podría calcular los intervalos de confianza? Calcular los tres intervalos para cada muestra y compararlos."
   ]
  },
  {
   "cell_type": "markdown",
   "id": "7b96bca1-ef66-4495-b6c9-b85715e50f30",
   "metadata": {},
   "source": [
    "### Pregunta D\n",
    "\n",
    "Rehacer los dos items anteriores pero, en lugar de datos provenientes de una normal, generar datos provenientes de una $\\mathcal{U}(0,1)$. Interpretar."
   ]
  },
  {
   "cell_type": "markdown",
   "id": "5677ea9f-8767-4405-a740-7d92e5c73974",
   "metadata": {},
   "source": [
    "## Ejercicio 8\n",
    "\n",
    "Sea $X_1, \\dots, X_n$ una muestra aleatoria de una población $\\mathcal{E}(\\lambda)$."
   ]
  },
  {
   "cell_type": "markdown",
   "id": "6552c9fc-f143-4ee9-afa6-7285f3bc611e",
   "metadata": {},
   "source": [
    "### Pregunta A\n",
    "\n",
    "Probar que $2\\lambda \\sum_{i=1}^n X_i$ tiene distribución $\\mathcal{X}_{2n}^2$"
   ]
  },
  {
   "cell_type": "markdown",
   "id": "f4ba8028-f7c9-4465-9813-aa2ed46f4028",
   "metadata": {},
   "source": [
    "### Pregunta B\n",
    "\n",
    "Hallar un intervalo de confianza para $\\lambda$ de nivel exacto $1-\\alpha$."
   ]
  },
  {
   "cell_type": "markdown",
   "id": "3c76742c-a84d-4bfc-977e-381d1efb6491",
   "metadata": {},
   "source": [
    "### Pregunta C\n",
    "\n",
    "¿Cuál sería el intervalo de confianza de nivel exacto $1-\\alpha$ para $E(X_1)$? ¿Cuál es su longitud esperada?"
   ]
  },
  {
   "cell_type": "markdown",
   "id": "a9ef19b1-7efa-4e87-8784-fb381f7ca1ff",
   "metadata": {},
   "source": [
    "### Pregunta D\n",
    "\n",
    "Aplicar b) a los datos del Ejercicio 4 d) de la Práctica 7, con nivel $1-\\alpha = 0.95$."
   ]
  },
  {
   "cell_type": "markdown",
   "id": "623545a2-d61e-45b9-9167-86bc15bd6727",
   "metadata": {},
   "source": [
    "### Pregunta E\n",
    "\n",
    "Hallar un intervalo de nivel asintótico $1-\\alpha$ para $\\lambda$."
   ]
  },
  {
   "cell_type": "markdown",
   "id": "e9a92f67-2a4d-42f3-9083-8149b55ee2d0",
   "metadata": {},
   "source": [
    "## Ejercicio 9\n",
    "\n",
    "Se desea conocer la opinión de los ciudadanos de cierta población acerca de una propuesta política. Para ello, se realiza una encuesta con tres posibles respuestas: a favor, en contra o indeciso."
   ]
  },
  {
   "cell_type": "markdown",
   "id": "11dae587-9aed-4725-bafd-cd11719828a6",
   "metadata": {},
   "source": [
    "### Pregunta A\n",
    "\n",
    "Hallar un intervalo de confianza de nivel asintótico 0.90 para la proporción de votantes que se oponen a la propuesta. ¿Qué supuestos debe hacer?"
   ]
  },
  {
   "cell_type": "markdown",
   "id": "0fedfca3-f142-490b-8b91-cd6602c59e84",
   "metadata": {},
   "source": [
    "### Pregunta B\n",
    "\n",
    "Se realiza la encuesta a 1000 ciudadanos, obteniéndose como resultado que 200 están a favor, 600 en contra y 200 están indecisos. Hallar el intervalo de confianza estimado de nivel asintótico 0.90 para la proporción de votantes que se oponen a la propuesta. Interpretar el resultado."
   ]
  },
  {
   "cell_type": "markdown",
   "id": "bf453033-7f37-451c-b7ee-ee5acfbf8462",
   "metadata": {},
   "source": [
    "### Pregunta C\n",
    "\n",
    "¿Cuántos votantes deberían encuestarse para que la longitud del intervalo obtenido fuese menor o igual que 0.02?"
   ]
  },
  {
   "cell_type": "markdown",
   "id": "a2bd5c2e-2352-4400-b8ae-fa63e843c61d",
   "metadata": {},
   "source": [
    "## Ejercicio 10\n",
    "\n",
    "Sea $X_1, \\dots, X_n$ una muestra aleatoria de una población $Bi(k, \\theta)$."
   ]
  },
  {
   "cell_type": "markdown",
   "id": "72cb0d7c-4d22-46cc-a5f6-f15f1efc576b",
   "metadata": {},
   "source": [
    "### Pregunta A\n",
    "\n",
    "Hallar un intervalo de confianza de nivel asintótico $1-\\alpha$ para $\\theta$, siendo $k$ conocido."
   ]
  },
  {
   "cell_type": "markdown",
   "id": "70711783-1fea-41ee-ae92-b598491307df",
   "metadata": {},
   "source": [
    "### Pregunta B\n",
    "\n",
    "Encontrar una cota superior para la longitud del intervalo hallado en a)."
   ]
  },
  {
   "cell_type": "markdown",
   "id": "4de1489d-884a-4efd-ae1b-96750b6687b9",
   "metadata": {},
   "source": [
    "## Ejercicio 11\n",
    "\n",
    "Sea $X_1, \\dots, X_n$ una muestra aleatoria de una población $\\mathcal{P}(\\lambda)$."
   ]
  },
  {
   "cell_type": "markdown",
   "id": "912b2439-a5e6-4ffd-a0f0-9fa386791720",
   "metadata": {},
   "source": [
    "### Pregunta A\n",
    "\n",
    "Hallar un intervalo de confianza de nivel asintótico $1-\\alpha$ para $\\lambda$."
   ]
  },
  {
   "cell_type": "markdown",
   "id": "62ee6fb4-6b6b-4589-992f-8ed36a15e019",
   "metadata": {},
   "source": [
    "### Pregunta B\n",
    "\n",
    "Aplicar a) a los datos del Ejercicio 5 d) de la Práctica 7, con $\\lambda = 0.05$."
   ]
  },
  {
   "cell_type": "markdown",
   "id": "4713e2bb-e90f-437d-8310-9ddfbee072bc",
   "metadata": {},
   "source": [
    "## Ejercicio 12"
   ]
  },
  {
   "cell_type": "markdown",
   "id": "7a4235af-be68-4a73-9a1f-8121df498626",
   "metadata": {},
   "source": [
    "### Pregunta A\n",
    "\n",
    "Sea $X_1, \\dots, X_n$ una muestra aleatoria de una distribución $\\mathcal{N}(0, \\theta)$. Hallar un intervalo de confianza de nivel exacto $1-\\alpha$ para $\\theta$.\n",
    "\n",
    "Sugerencia: encontrar la distribución de $max_{1 \\leq i \\leq n} (X_i) \\tfrac{1}{\\theta}$"
   ]
  },
  {
   "cell_type": "markdown",
   "id": "123b1299-1b70-49e3-87df-3524e5dffb61",
   "metadata": {},
   "source": [
    "### Pregunta B\n",
    "\n",
    "Sea $X_1, \\dots, X_n$ una muestra aleatoria de una población con densidad:\n",
    "\n",
    "$f(x; \\theta) = e^{-(x-\\theta)} I_{[\\theta, \\infty]}(x)$\n",
    "\n",
    "Hallar un intervalo de confianza de nivel exacto $1-\\alpha$ para $\\theta$.\n",
    "\n",
    "Sugerencia: encontrar la distribución de $min_{1 \\leq i \\leq n} (X_i) - \\theta$"
   ]
  },
  {
   "cell_type": "markdown",
   "id": "4a0f4362-ac04-422f-b6d2-5e86f67103ca",
   "metadata": {},
   "source": [
    "### Pregunta C (opcional)\n",
    "\n",
    "En los casos a) y b) obtener el intervalo de menor longitud esperada."
   ]
  },
  {
   "cell_type": "markdown",
   "id": "15c0c07c-7997-4d02-9831-699822124d95",
   "metadata": {},
   "source": [
    "## Ejercicio 13\n",
    "\n",
    "Sean $X$ e $Y$ dos variables aleatorias con distribución normal con la misma varianza: $X \\sim \\mathcal{N}(\\mu_1, \\sigma^2)$ e $Y \\sim \\mathcal{N}(\\mu_2, \\sigma^2)$.\n",
    "\n",
    "Considere las siguientes observaciones para $X$:\n",
    "\n",
    "```\n",
    "0.44, −1.63, 2.59, 1.54, 0.45, −0.13, −2.76, −1.53\n",
    "```\n",
    "\n",
    "y para $Y$:\n",
    "\n",
    "```\n",
    "0.06, −0.24, 4.65, 2.27, 3.88, 2.35, 3.92, −0.73\n",
    "```"
   ]
  },
  {
   "cell_type": "markdown",
   "id": "dc118d63-f05e-4460-a99c-a259a4aa3ba5",
   "metadata": {},
   "source": [
    "### Pregunta A\n",
    "\n",
    "Calcule el intervalo de confianza estimado de nivel 0.95 para $\\mu_1$."
   ]
  },
  {
   "cell_type": "markdown",
   "id": "7509e49d-b81d-436e-a6f8-2b07e231c84c",
   "metadata": {},
   "source": [
    "### Pregunta B\n",
    "\n",
    "Calcule el intervalo de confianza estimado de nivel 0.95 para $\\mu_2$."
   ]
  },
  {
   "cell_type": "markdown",
   "id": "9f619a59-4181-41a5-957a-4bf901345f72",
   "metadata": {},
   "source": [
    "### Pregunta C\n",
    "\n",
    "Calcule el intervalo de confianza estimado de nivel 0.95 para $\\mu_1 - \\mu_2$."
   ]
  }
 ],
 "metadata": {
  "kernelspec": {
   "display_name": "R",
   "language": "R",
   "name": "ir"
  },
  "language_info": {
   "codemirror_mode": "r",
   "file_extension": ".r",
   "mimetype": "text/x-r-source",
   "name": "R",
   "pygments_lexer": "r",
   "version": "4.1.0"
  }
 },
 "nbformat": 4,
 "nbformat_minor": 5
}
