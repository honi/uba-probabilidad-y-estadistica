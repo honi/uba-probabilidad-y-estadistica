{
 "cells": [
  {
   "cell_type": "markdown",
   "id": "480b9fde-ce4d-432b-b21b-5de526269a58",
   "metadata": {},
   "source": [
    "# Práctica 0"
   ]
  },
  {
   "cell_type": "markdown",
   "id": "26b42c3f-28c0-4cb0-a3d5-659cf08e53fe",
   "metadata": {},
   "source": [
    "## Ejercicio 1"
   ]
  },
  {
   "cell_type": "markdown",
   "id": "c4d2c9ff-3cb3-4ef7-a274-8647166157eb",
   "metadata": {},
   "source": [
    "### Pregunta A\n",
    "\n",
    "**¿Cuántos números de dos cifras se pueden formar con los dígitos 1,2,3?**\n",
    "\n",
    "3 opciones para la primera posición * 3 opciones para la segunda posición."
   ]
  },
  {
   "cell_type": "code",
   "execution_count": 6,
   "id": "0d906da3-effd-4700-a857-029df7d56c95",
   "metadata": {},
   "outputs": [
    {
     "data": {
      "text/plain": [
       "9"
      ]
     },
     "execution_count": 6,
     "metadata": {},
     "output_type": "execute_result"
    }
   ],
   "source": [
    "3 * 3"
   ]
  },
  {
   "cell_type": "markdown",
   "id": "45211e51-1737-4134-b369-9952151d03c0",
   "metadata": {},
   "source": [
    "### Pregunta B\n",
    "\n",
    "**¿Cuántos números de dos cifras se pueden formar con los dígitos 0,1,2? (Recuerde, un número no puede empezar con 0)**\n",
    "\n",
    "2 opciones para la primera posición (no considero el 0) * 3 opciones para la segunda posición."
   ]
  },
  {
   "cell_type": "code",
   "execution_count": 1,
   "id": "9005b9ca-84d5-474d-88e5-043c5ddec24a",
   "metadata": {},
   "outputs": [
    {
     "data": {
      "text/plain": [
       "6"
      ]
     },
     "execution_count": 1,
     "metadata": {},
     "output_type": "execute_result"
    }
   ],
   "source": [
    "2 * 3"
   ]
  },
  {
   "cell_type": "markdown",
   "id": "b88d8b46-c83f-4877-b864-07590dab5cde",
   "metadata": {},
   "source": [
    "## Pregunta C\n",
    "\n",
    "**¿Cuántos números de dos cifras se pueden formar con los dígitos 0,1,2,3?**\n",
    "\n",
    "3 opciones para la primera posición (no considero el 0) * 4 opciones para la segunda posición."
   ]
  },
  {
   "cell_type": "code",
   "execution_count": 4,
   "id": "edb1a105-0d65-4e7e-be1b-c61743982252",
   "metadata": {},
   "outputs": [
    {
     "data": {
      "text/plain": [
       "12"
      ]
     },
     "execution_count": 4,
     "metadata": {},
     "output_type": "execute_result"
    }
   ],
   "source": [
    "3 * 4"
   ]
  },
  {
   "cell_type": "markdown",
   "id": "e7301457-85df-4626-a54c-aa2046cb3fc8",
   "metadata": {},
   "source": [
    "## Pregunta D\n",
    "\n",
    "**¿Cuántos números pares de cuatro cifras se pueden formar con los dígitos 1,2,3,4?**\n",
    "\n",
    "4 opciones para las posiciones 1, 2 y 3, luego 2 opciones para la 4ta posición ya que el número debe terminar en 2 o 4 para que sea par."
   ]
  },
  {
   "cell_type": "code",
   "execution_count": 5,
   "id": "72f09229-a4ea-42bc-8de6-eca69566bbdb",
   "metadata": {},
   "outputs": [
    {
     "data": {
      "text/plain": [
       "128"
      ]
     },
     "execution_count": 5,
     "metadata": {},
     "output_type": "execute_result"
    }
   ],
   "source": [
    "4 * 4 * 4 * 2"
   ]
  },
  {
   "cell_type": "markdown",
   "id": "c10307df-6102-42e1-953d-b0bec5d577ea",
   "metadata": {},
   "source": [
    "## Pregunta E\n",
    "\n",
    "**¿Cuántos números de cuatro cifras distinas se pueden formar con los dígitos 1,2,3,4?**\n",
    "\n",
    "4 opciones para la primer posición, luego 3, luego 2, luego 1. Se van restando las opciones por cada posición porque no se pueden repetir los números."
   ]
  },
  {
   "cell_type": "code",
   "execution_count": 8,
   "id": "5897b4f1-aa27-4f76-a2eb-2ccf61dfc673",
   "metadata": {},
   "outputs": [
    {
     "data": {
      "text/plain": [
       "24"
      ]
     },
     "execution_count": 8,
     "metadata": {},
     "output_type": "execute_result"
    }
   ],
   "source": [
    "4 * 3 * 2 * 1"
   ]
  },
  {
   "cell_type": "markdown",
   "id": "3e06b489-1c98-4614-9f18-7ecd044a6bdb",
   "metadata": {},
   "source": [
    "## Pregunta F\n",
    "\n",
    "**¿Cuántos números capicúas de cinco cifras distintas se pueden formar con los dígitos 1,2,3,4,5,6,7?**\n",
    "\n",
    "Como tiene que ser capicúa, solo completo las primeras 3 posiciones, ya que los números en las posiciones 4 y 5 están determinados por los números en las posiciones 2 y 1 respectivamente."
   ]
  },
  {
   "cell_type": "code",
   "execution_count": 9,
   "id": "a0ee0e83-e44e-4521-94ac-b2a73ab97248",
   "metadata": {},
   "outputs": [
    {
     "data": {
      "text/plain": [
       "210"
      ]
     },
     "execution_count": 9,
     "metadata": {},
     "output_type": "execute_result"
    }
   ],
   "source": [
    "7 * 6 * 5"
   ]
  },
  {
   "cell_type": "markdown",
   "id": "2fed1baf-41bc-4ba7-95ec-66d1b141b678",
   "metadata": {},
   "source": [
    "## Pregunta G\n",
    "\n",
    "**Una habitación tiene 6 puertas, ¿de cuántas maneras puedo entrar por una puerta y salir por la otra?**\n",
    "\n",
    "Tengo 6 puertas para entrar, y una vez adentro, solo me quedan 5 puertas para salir pues no puedo salir por la misma que entré."
   ]
  },
  {
   "cell_type": "code",
   "execution_count": 10,
   "id": "d6925c8e-dc05-4d84-bbc1-4eb37795530f",
   "metadata": {},
   "outputs": [
    {
     "data": {
      "text/plain": [
       "30"
      ]
     },
     "execution_count": 10,
     "metadata": {},
     "output_type": "execute_result"
    }
   ],
   "source": [
    "6 * 5"
   ]
  }
 ],
 "metadata": {
  "kernelspec": {
   "display_name": "Python 3 (ipykernel)",
   "language": "python",
   "name": "python3"
  },
  "language_info": {
   "codemirror_mode": {
    "name": "ipython",
    "version": 3
   },
   "file_extension": ".py",
   "mimetype": "text/x-python",
   "name": "python",
   "nbconvert_exporter": "python",
   "pygments_lexer": "ipython3",
   "version": "3.9.1"
  }
 },
 "nbformat": 4,
 "nbformat_minor": 5
}
