{
 "cells": [
  {
   "cell_type": "code",
   "execution_count": 141,
   "id": "4e175d80-4029-471a-a000-bbc311ce0e69",
   "metadata": {},
   "outputs": [],
   "source": [
    "import math\n",
    "\n",
    "# Función auxiliar para verificar algunos resultados. Este algoritmo para contar anagramas es re ineficiente.\n",
    "def count_anagrams(word):\n",
    "    from itertools import permutations\n",
    "    return len(set([w for w in permutations(word)]))"
   ]
  },
  {
   "cell_type": "markdown",
   "id": "480b9fde-ce4d-432b-b21b-5de526269a58",
   "metadata": {},
   "source": [
    "# Práctica 0"
   ]
  },
  {
   "cell_type": "markdown",
   "id": "26b42c3f-28c0-4cb0-a3d5-659cf08e53fe",
   "metadata": {},
   "source": [
    "## Ejercicio 1"
   ]
  },
  {
   "cell_type": "markdown",
   "id": "c4d2c9ff-3cb3-4ef7-a274-8647166157eb",
   "metadata": {},
   "source": [
    "### Pregunta A\n",
    "\n",
    "**¿Cuántos números de dos cifras se pueden formar con los dígitos 1,2,3?**\n",
    "\n",
    "3 opciones para la primera posición * 3 opciones para la segunda posición."
   ]
  },
  {
   "cell_type": "code",
   "execution_count": 142,
   "id": "0d906da3-effd-4700-a857-029df7d56c95",
   "metadata": {},
   "outputs": [
    {
     "data": {
      "text/plain": [
       "9"
      ]
     },
     "execution_count": 142,
     "metadata": {},
     "output_type": "execute_result"
    }
   ],
   "source": [
    "3 * 3"
   ]
  },
  {
   "cell_type": "markdown",
   "id": "45211e51-1737-4134-b369-9952151d03c0",
   "metadata": {},
   "source": [
    "### Pregunta B\n",
    "\n",
    "**¿Cuántos números de dos cifras se pueden formar con los dígitos 0,1,2? (Recuerde, un número no puede empezar con 0)**\n",
    "\n",
    "2 opciones para la primera posición (no considero el 0) * 3 opciones para la segunda posición."
   ]
  },
  {
   "cell_type": "code",
   "execution_count": 143,
   "id": "9005b9ca-84d5-474d-88e5-043c5ddec24a",
   "metadata": {},
   "outputs": [
    {
     "data": {
      "text/plain": [
       "6"
      ]
     },
     "execution_count": 143,
     "metadata": {},
     "output_type": "execute_result"
    }
   ],
   "source": [
    "2 * 3"
   ]
  },
  {
   "cell_type": "markdown",
   "id": "b88d8b46-c83f-4877-b864-07590dab5cde",
   "metadata": {},
   "source": [
    "### Pregunta C\n",
    "\n",
    "**¿Cuántos números de dos cifras se pueden formar con los dígitos 0,1,2,3?**\n",
    "\n",
    "3 opciones para la primera posición (no considero el 0) * 4 opciones para la segunda posición."
   ]
  },
  {
   "cell_type": "code",
   "execution_count": 144,
   "id": "edb1a105-0d65-4e7e-be1b-c61743982252",
   "metadata": {},
   "outputs": [
    {
     "data": {
      "text/plain": [
       "12"
      ]
     },
     "execution_count": 144,
     "metadata": {},
     "output_type": "execute_result"
    }
   ],
   "source": [
    "3 * 4"
   ]
  },
  {
   "cell_type": "markdown",
   "id": "e7301457-85df-4626-a54c-aa2046cb3fc8",
   "metadata": {},
   "source": [
    "### Pregunta D\n",
    "\n",
    "**¿Cuántos números pares de cuatro cifras se pueden formar con los dígitos 1,2,3,4?**\n",
    "\n",
    "4 opciones para las posiciones 1, 2 y 3, luego 2 opciones para la 4ta posición ya que el número debe terminar en 2 o 4 para que sea par."
   ]
  },
  {
   "cell_type": "code",
   "execution_count": 145,
   "id": "72f09229-a4ea-42bc-8de6-eca69566bbdb",
   "metadata": {},
   "outputs": [
    {
     "data": {
      "text/plain": [
       "128"
      ]
     },
     "execution_count": 145,
     "metadata": {},
     "output_type": "execute_result"
    }
   ],
   "source": [
    "4 * 4 * 4 * 2"
   ]
  },
  {
   "cell_type": "markdown",
   "id": "c10307df-6102-42e1-953d-b0bec5d577ea",
   "metadata": {},
   "source": [
    "### Pregunta E\n",
    "\n",
    "**¿Cuántos números de cuatro cifras distinas se pueden formar con los dígitos 1,2,3,4?**\n",
    "\n",
    "4 opciones para la primer posición, luego 3, luego 2, luego 1. Se van restando las opciones por cada posición porque no se pueden repetir los números."
   ]
  },
  {
   "cell_type": "code",
   "execution_count": 146,
   "id": "5897b4f1-aa27-4f76-a2eb-2ccf61dfc673",
   "metadata": {},
   "outputs": [
    {
     "data": {
      "text/plain": [
       "24"
      ]
     },
     "execution_count": 146,
     "metadata": {},
     "output_type": "execute_result"
    }
   ],
   "source": [
    "4 * 3 * 2 * 1"
   ]
  },
  {
   "cell_type": "markdown",
   "id": "3e06b489-1c98-4614-9f18-7ecd044a6bdb",
   "metadata": {},
   "source": [
    "### Pregunta F\n",
    "\n",
    "**¿Cuántos números capicúas de cinco cifras distintas se pueden formar con los dígitos 1,2,3,4,5,6,7?**\n",
    "\n",
    "Como tiene que ser capicúa, solo completo las primeras 3 posiciones, ya que los números en las posiciones 4 y 5 están determinados por los números en las posiciones 2 y 1 respectivamente."
   ]
  },
  {
   "cell_type": "code",
   "execution_count": 147,
   "id": "a0ee0e83-e44e-4521-94ac-b2a73ab97248",
   "metadata": {},
   "outputs": [
    {
     "data": {
      "text/plain": [
       "210"
      ]
     },
     "execution_count": 147,
     "metadata": {},
     "output_type": "execute_result"
    }
   ],
   "source": [
    "7 * 6 * 5"
   ]
  },
  {
   "cell_type": "markdown",
   "id": "2fed1baf-41bc-4ba7-95ec-66d1b141b678",
   "metadata": {
    "tags": []
   },
   "source": [
    "### Pregunta G\n",
    "\n",
    "**Una habitación tiene 6 puertas, ¿de cuántas maneras puedo entrar por una puerta y salir por la otra?**\n",
    "\n",
    "Tengo 6 puertas para entrar, y una vez adentro, solo me quedan 5 puertas para salir pues no puedo salir por la misma que entré."
   ]
  },
  {
   "cell_type": "code",
   "execution_count": 148,
   "id": "d6925c8e-dc05-4d84-bbc1-4eb37795530f",
   "metadata": {},
   "outputs": [
    {
     "data": {
      "text/plain": [
       "30"
      ]
     },
     "execution_count": 148,
     "metadata": {},
     "output_type": "execute_result"
    }
   ],
   "source": [
    "6 * 5"
   ]
  },
  {
   "cell_type": "markdown",
   "id": "44e51bc9-3e30-41fd-9280-ae00eea7132f",
   "metadata": {},
   "source": [
    "### Pregunta H\n",
    "\n",
    "**Sean A, B y C tres ciudades distintas. Suponga que hay cuatro rutas distintas que unen a A con B y 6 que unen a B con C. ¿Cuántas rutas existen de A a C pasando por B?**\n",
    "\n",
    "Tengo 4 rutas para ir de A a B, y luego 6 rutas para ir de B a C."
   ]
  },
  {
   "cell_type": "code",
   "execution_count": 149,
   "id": "3f4c238f-3bd2-4cee-b0d5-29961209b534",
   "metadata": {},
   "outputs": [
    {
     "data": {
      "text/plain": [
       "24"
      ]
     },
     "execution_count": 149,
     "metadata": {},
     "output_type": "execute_result"
    }
   ],
   "source": [
    "4 * 6"
   ]
  },
  {
   "cell_type": "markdown",
   "id": "7b7e3693-b615-4e9a-8e29-58bd9c4c65d2",
   "metadata": {},
   "source": [
    "**¿Cuántas rutas de ida y vuelta existen que vayan de A a C pasando por B?**\n",
    "\n",
    "No queda claro si el camino de vuelta tiene que ser distinto al de la ida. Asumo que no. Es decir, puedo volver por la misma ruta que fui."
   ]
  },
  {
   "cell_type": "code",
   "execution_count": 150,
   "id": "1f7d2c89-919a-4629-b2c3-86c5802d1477",
   "metadata": {},
   "outputs": [
    {
     "data": {
      "text/plain": [
       "576"
      ]
     },
     "execution_count": 150,
     "metadata": {},
     "output_type": "execute_result"
    }
   ],
   "source": [
    "4 * 6 * 6 * 4"
   ]
  },
  {
   "cell_type": "markdown",
   "id": "4cf4f884-1525-4a5c-ae0e-c1384479b835",
   "metadata": {},
   "source": [
    "## Ejercicio 2"
   ]
  },
  {
   "cell_type": "markdown",
   "id": "60e21a06-ef96-4132-8599-8e3ec93f2ad1",
   "metadata": {},
   "source": [
    "### Pregunta A\n",
    "\n",
    "**¿Cuántos resultados pueden obtenerse al arrojar una moneda tres veces?**\n",
    "\n",
    "2 opciones para la primer tirada, luego otras 2 opciones para la segunda tirada, y finalmente otras 2 opciones para la tercer tirada."
   ]
  },
  {
   "cell_type": "code",
   "execution_count": 151,
   "id": "503ff3cd-5111-4f52-ba0e-09b3463ea874",
   "metadata": {},
   "outputs": [
    {
     "data": {
      "text/plain": [
       "8"
      ]
     },
     "execution_count": 151,
     "metadata": {},
     "output_type": "execute_result"
    }
   ],
   "source": [
    "2 * 2 * 2"
   ]
  },
  {
   "cell_type": "markdown",
   "id": "910bb3d6-54f0-4c2b-8efc-810da0a8378e",
   "metadata": {},
   "source": [
    "También se puede pensar como una tupla de 3 elementos: (a,b,c) donde cada elemento tiene 2 valores posibles: cara o seca. Entonces la cantidad total de distintas tuplas que se pueden armar sería 2^3."
   ]
  },
  {
   "cell_type": "code",
   "execution_count": 152,
   "id": "08a198e0-399f-4c38-9eee-77eab5d4a83c",
   "metadata": {},
   "outputs": [
    {
     "data": {
      "text/plain": [
       "8"
      ]
     },
     "execution_count": 152,
     "metadata": {},
     "output_type": "execute_result"
    }
   ],
   "source": [
    "2 ** 3"
   ]
  },
  {
   "cell_type": "markdown",
   "id": "b043894b-2fcc-48c9-a85a-b0c554fc9c81",
   "metadata": {},
   "source": [
    "**¿Y si se lanza un dado de 6 caras dos veces?**\n",
    "\n",
    "Misma lógica que la moneda, solo que en vez de 2 posibles valores (cara o seca) ahora hay 6 (porque este dado tiene 6 caras)."
   ]
  },
  {
   "cell_type": "code",
   "execution_count": 153,
   "id": "fd0afd5a-d243-4947-81a9-15295a1ede55",
   "metadata": {},
   "outputs": [
    {
     "data": {
      "text/plain": [
       "36"
      ]
     },
     "execution_count": 153,
     "metadata": {},
     "output_type": "execute_result"
    }
   ],
   "source": [
    "6 * 6"
   ]
  },
  {
   "cell_type": "markdown",
   "id": "31f53464-4dbd-4121-b52f-a6b2e0a96be4",
   "metadata": {},
   "source": [
    "### Pregunta B\n",
    "\n",
    "**¿Cuántos números con cifras distintas, elegidas entre los dígitos 1 a 6, tienen las siguientes propiedades?**"
   ]
  },
  {
   "cell_type": "markdown",
   "id": "34896c7c-ec0e-4a5c-8e1f-34d54b6349a2",
   "metadata": {},
   "source": [
    "**Tienen cinco cifras**"
   ]
  },
  {
   "cell_type": "code",
   "execution_count": 154,
   "id": "154c81b4-a5eb-43e5-9a6a-6062eb6778f5",
   "metadata": {},
   "outputs": [
    {
     "data": {
      "text/plain": [
       "720"
      ]
     },
     "execution_count": 154,
     "metadata": {},
     "output_type": "execute_result"
    }
   ],
   "source": [
    "6 * 5 * 4 * 3 * 2"
   ]
  },
  {
   "cell_type": "markdown",
   "id": "ff19c049-4b83-44d6-9495-a8a712896156",
   "metadata": {},
   "source": [
    "**Tienen 5 cifras y comienzan con 36**"
   ]
  },
  {
   "cell_type": "code",
   "execution_count": 155,
   "id": "f50889cd-5136-45b6-b3cd-14489ef50321",
   "metadata": {},
   "outputs": [
    {
     "data": {
      "text/plain": [
       "24"
      ]
     },
     "execution_count": 155,
     "metadata": {},
     "output_type": "execute_result"
    }
   ],
   "source": [
    "4 * 3 * 2"
   ]
  },
  {
   "cell_type": "markdown",
   "id": "35dd7e1a-f093-49e1-bdae-8c3ca2e285f0",
   "metadata": {},
   "source": [
    "**Tienen 5 cifras y no comienzan con 1**"
   ]
  },
  {
   "cell_type": "markdown",
   "id": "0ccd49a1-7b9b-4520-af5e-d0d923e852c7",
   "metadata": {},
   "source": [
    "Forma 1: cuento directo."
   ]
  },
  {
   "cell_type": "code",
   "execution_count": 156,
   "id": "97d54f09-1cbb-4014-8ada-f7c41aaa2b1a",
   "metadata": {},
   "outputs": [
    {
     "data": {
      "text/plain": [
       "600"
      ]
     },
     "execution_count": 156,
     "metadata": {},
     "output_type": "execute_result"
    }
   ],
   "source": [
    "5 * 5 * 4 * 3 * 2"
   ]
  },
  {
   "cell_type": "markdown",
   "id": "2f3ef422-3ff6-4bff-8b25-054c7f6035b6",
   "metadata": {},
   "source": [
    "Forma 2: cuento todos y resto los que empiezan en 1."
   ]
  },
  {
   "cell_type": "code",
   "execution_count": 157,
   "id": "2f8daa27-1729-4068-ae10-54009ffe27e9",
   "metadata": {},
   "outputs": [
    {
     "data": {
      "text/plain": [
       "600"
      ]
     },
     "execution_count": 157,
     "metadata": {},
     "output_type": "execute_result"
    }
   ],
   "source": [
    "(6 * 5 * 4 * 3 * 2) - (5 * 4 * 3 * 2)"
   ]
  },
  {
   "cell_type": "markdown",
   "id": "728c4412-fc52-4476-9a09-68457c184864",
   "metadata": {},
   "source": [
    "### Pregunta C\n",
    "\n",
    "**Se arrojan dos dados, uno rojo y otro blanco.**"
   ]
  },
  {
   "cell_type": "markdown",
   "id": "9ff425d9-55d0-4fc5-9dc2-dc8f0baf7979",
   "metadata": {},
   "source": [
    "**¿Cuántos resultados distintos hay?**"
   ]
  },
  {
   "cell_type": "code",
   "execution_count": 158,
   "id": "cadf904d-ec40-4c0b-bb48-059102fd9580",
   "metadata": {
    "tags": []
   },
   "outputs": [
    {
     "data": {
      "text/plain": [
       "36"
      ]
     },
     "execution_count": 158,
     "metadata": {},
     "output_type": "execute_result"
    }
   ],
   "source": [
    "6 * 6"
   ]
  },
  {
   "cell_type": "markdown",
   "id": "d5c00cf0-fae2-42c4-8eb2-3d9782ac55a6",
   "metadata": {},
   "source": [
    "**¿Cuántos resultados distintos hay en que la suma es mayor a 9?**\n",
    "\n",
    "Los únicos números mayores a 9 que se pueden formar con 2 dados de 6 lados son: 10, 11, 12.\n",
    "\n",
    "- El 10 se puede formar así: 5+5, 6+4\n",
    "- El 11 se puede formar así: 6+5\n",
    "- El 12 se puede formar así: 6+6\n",
    "\n",
    "Por cada combinación de números distintos, hay 2 posibilidades, ya que hay 2 dados de distinto color. Es decir, el 10 tiene 2 posibilidades: dado rojo 6 y dado blanco 4, o al revés.\n",
    "\n",
    "Entonces:\n",
    "- 5+5: 1 posibilidad\n",
    "- 6+4: 2 posibilidades\n",
    "- 6+5: 2 posibilidades\n",
    "- 6+6: 1 posibilidad\n",
    "\n",
    "Respuesta: 6 resultados distintos."
   ]
  },
  {
   "cell_type": "markdown",
   "id": "6e1425c1-6ec2-4463-ad84-7a7599d56cf6",
   "metadata": {},
   "source": [
    "## Ejercicio 3"
   ]
  },
  {
   "cell_type": "markdown",
   "id": "c8188a48-2500-4203-88fd-aa4311f5442c",
   "metadata": {},
   "source": [
    "### Pregunta A\n",
    "\n",
    "**¿De cuántas maneras distintas puede fotografiarse una familia de 5 personas puestas en hilera?**"
   ]
  },
  {
   "cell_type": "code",
   "execution_count": 159,
   "id": "143c997a-fbdc-49d5-b41c-5ac408a8f700",
   "metadata": {},
   "outputs": [
    {
     "data": {
      "text/plain": [
       "120"
      ]
     },
     "execution_count": 159,
     "metadata": {},
     "output_type": "execute_result"
    }
   ],
   "source": [
    "5 * 4 * 3 * 2 * 1"
   ]
  },
  {
   "cell_type": "markdown",
   "id": "20ad2f85-f45c-47d5-a780-7ad1f605b599",
   "metadata": {},
   "source": [
    "### Pregunta B\n",
    "\n",
    "**Mismo problema pero padre y madre están siempre juntos.**\n",
    "\n",
    "Considero al padre y madre como una sola \"persona\". Ahora tengo que ordenar 4 personas en hilera, y luego, por cada forma de ordenarlas, tengo 2 formas de ordenar al padre y a la madre (padre adelante y madre atrás, o al revés)."
   ]
  },
  {
   "cell_type": "code",
   "execution_count": 160,
   "id": "da21f7dd-a6c0-462a-b837-697d9828923b",
   "metadata": {},
   "outputs": [
    {
     "data": {
      "text/plain": [
       "48"
      ]
     },
     "execution_count": 160,
     "metadata": {},
     "output_type": "execute_result"
    }
   ],
   "source": [
    "4 * 3 * 2 * 1 * 2"
   ]
  },
  {
   "cell_type": "markdown",
   "id": "81b4caaa-298b-457a-afb7-e3cd3055c8a3",
   "metadata": {},
   "source": [
    "### Pregunta C\n",
    "\n",
    "**¿De cuántas maneras distintas pueden sentarse 10 personas en una mesa circular? Sugerencia: mesa circular implica que hay invariancia rotacional.**\n",
    "\n",
    "Primero cuento las formas de poner a las 10 personas en fila. Luego, dividido por 10 porque si siento a las personas en una mesa redonda, ya no existe el \"primero\" y el \"último\", la fila puede empezar en cualquiera de las 10 personas."
   ]
  },
  {
   "cell_type": "code",
   "execution_count": 161,
   "id": "80855ef2-4d8d-4b08-9dbf-33bdd1c18107",
   "metadata": {},
   "outputs": [
    {
     "data": {
      "text/plain": [
       "362880"
      ]
     },
     "execution_count": 161,
     "metadata": {},
     "output_type": "execute_result"
    }
   ],
   "source": [
    "math.factorial(10) // 10"
   ]
  },
  {
   "cell_type": "markdown",
   "id": "356f0f6a-0d6b-42c4-80c8-6314cbddb32b",
   "metadata": {},
   "source": [
    "### Pregunta D\n",
    "\n",
    "**¿De cuántas maneras distintas pueden alinearse 8 parejas si cada marido debe ir con su esposa?**"
   ]
  },
  {
   "cell_type": "code",
   "execution_count": 162,
   "id": "4c383137-0663-4107-946c-6b5c0c786a66",
   "metadata": {},
   "outputs": [
    {
     "data": {
      "text/plain": [
       "48"
      ]
     },
     "execution_count": 162,
     "metadata": {},
     "output_type": "execute_result"
    }
   ],
   "source": [
    "math.factorial(4) * 2"
   ]
  },
  {
   "cell_type": "markdown",
   "id": "65565f10-770c-4d9f-95cc-c0a1e7f7082d",
   "metadata": {},
   "source": [
    "### Pregunta E"
   ]
  },
  {
   "cell_type": "markdown",
   "id": "a4ee77e4-0ce5-42be-95c9-7f1f831730dc",
   "metadata": {},
   "source": [
    "**¿Cuántos anagramas tiene la palabra CALOR?**"
   ]
  },
  {
   "cell_type": "code",
   "execution_count": 163,
   "id": "21fd54cc-2afd-41a1-8529-72bc69f08080",
   "metadata": {},
   "outputs": [
    {
     "data": {
      "text/plain": [
       "120"
      ]
     },
     "execution_count": 163,
     "metadata": {},
     "output_type": "execute_result"
    }
   ],
   "source": [
    "math.factorial(5)"
   ]
  },
  {
   "cell_type": "code",
   "execution_count": 164,
   "id": "ca0eaa3a-d9ca-444c-96c3-4e0fa8383634",
   "metadata": {},
   "outputs": [
    {
     "data": {
      "text/plain": [
       "120"
      ]
     },
     "execution_count": 164,
     "metadata": {},
     "output_type": "execute_result"
    }
   ],
   "source": [
    "count_anagrams('CALOR')"
   ]
  },
  {
   "cell_type": "markdown",
   "id": "288b64c9-f014-4717-a1b3-791f9aca4f97",
   "metadata": {},
   "source": [
    "**¿Y la palabra ELEFANTE?**"
   ]
  },
  {
   "cell_type": "code",
   "execution_count": 165,
   "id": "71e50035-2f83-4e92-b69e-e48206880674",
   "metadata": {},
   "outputs": [
    {
     "data": {
      "text/plain": [
       "6720"
      ]
     },
     "execution_count": 165,
     "metadata": {},
     "output_type": "execute_result"
    }
   ],
   "source": [
    "math.factorial(8) // math.factorial(3)"
   ]
  },
  {
   "cell_type": "code",
   "execution_count": 166,
   "id": "1dd9b941-338e-4aff-9947-f1be9fec8b7b",
   "metadata": {},
   "outputs": [
    {
     "data": {
      "text/plain": [
       "6720"
      ]
     },
     "execution_count": 166,
     "metadata": {},
     "output_type": "execute_result"
    }
   ],
   "source": [
    "count_anagrams('ELEFANTE')"
   ]
  },
  {
   "cell_type": "markdown",
   "id": "2dd6b20d-b9dc-4551-ad1a-3023479c7a92",
   "metadata": {},
   "source": [
    "**¿Y la palabra ANANA?**"
   ]
  },
  {
   "cell_type": "code",
   "execution_count": 167,
   "id": "69ea0f49-cd72-460d-aa07-33f6b5060b25",
   "metadata": {},
   "outputs": [
    {
     "data": {
      "text/plain": [
       "10"
      ]
     },
     "execution_count": 167,
     "metadata": {},
     "output_type": "execute_result"
    }
   ],
   "source": [
    "math.factorial(5) // (math.factorial(3) * math.factorial(2))"
   ]
  },
  {
   "cell_type": "code",
   "execution_count": 168,
   "id": "a9b751f5-cf86-4d72-b1c2-063726e273fa",
   "metadata": {},
   "outputs": [
    {
     "data": {
      "text/plain": [
       "10"
      ]
     },
     "execution_count": 168,
     "metadata": {},
     "output_type": "execute_result"
    }
   ],
   "source": [
    "count_anagrams('ANANA')"
   ]
  }
 ],
 "metadata": {
  "kernelspec": {
   "display_name": "Python 3 (ipykernel)",
   "language": "python",
   "name": "python3"
  },
  "language_info": {
   "codemirror_mode": {
    "name": "ipython",
    "version": 3
   },
   "file_extension": ".py",
   "mimetype": "text/x-python",
   "name": "python",
   "nbconvert_exporter": "python",
   "pygments_lexer": "ipython3",
   "version": "3.9.1"
  }
 },
 "nbformat": 4,
 "nbformat_minor": 5
}
