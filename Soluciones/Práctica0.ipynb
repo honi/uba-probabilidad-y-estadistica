{
 "cells": [
  {
   "cell_type": "markdown",
   "id": "480b9fde-ce4d-432b-b21b-5de526269a58",
   "metadata": {},
   "source": [
    "# Práctica 0"
   ]
  },
  {
   "cell_type": "markdown",
   "id": "26b42c3f-28c0-4cb0-a3d5-659cf08e53fe",
   "metadata": {},
   "source": [
    "## Ejercicio 1"
   ]
  },
  {
   "cell_type": "markdown",
   "id": "c4d2c9ff-3cb3-4ef7-a274-8647166157eb",
   "metadata": {},
   "source": [
    "### Pregunta A\n",
    "\n",
    "**¿Cuántos números de dos cifras se pueden formar con los dígitos 1,2,3?**\n",
    "\n",
    "3 opciones para la primera posición * 3 opciones para la segunda posición."
   ]
  },
  {
   "cell_type": "code",
   "execution_count": 6,
   "id": "0d906da3-effd-4700-a857-029df7d56c95",
   "metadata": {},
   "outputs": [
    {
     "data": {
      "text/plain": [
       "9"
      ]
     },
     "execution_count": 6,
     "metadata": {},
     "output_type": "execute_result"
    }
   ],
   "source": [
    "3 * 3"
   ]
  },
  {
   "cell_type": "markdown",
   "id": "45211e51-1737-4134-b369-9952151d03c0",
   "metadata": {},
   "source": [
    "### Pregunta B\n",
    "\n",
    "**¿Cuántos números de dos cifras se pueden formar con los dígitos 0,1,2? (Recuerde, un número no puede empezar con 0)**\n",
    "\n",
    "2 opciones para la primera posición (no considero el 0) * 3 opciones para la segunda posición."
   ]
  },
  {
   "cell_type": "code",
   "execution_count": 1,
   "id": "9005b9ca-84d5-474d-88e5-043c5ddec24a",
   "metadata": {},
   "outputs": [
    {
     "data": {
      "text/plain": [
       "6"
      ]
     },
     "execution_count": 1,
     "metadata": {},
     "output_type": "execute_result"
    }
   ],
   "source": [
    "2 * 3"
   ]
  },
  {
   "cell_type": "markdown",
   "id": "b88d8b46-c83f-4877-b864-07590dab5cde",
   "metadata": {},
   "source": [
    "## Pregunta C\n",
    "\n",
    "**¿Cuántos números de dos cifras se pueden formar con los dígitos 0,1,2,3?**\n",
    "\n",
    "3 opciones para la primera posición (no considero el 0) * 4 opciones para la segunda posición."
   ]
  },
  {
   "cell_type": "code",
   "execution_count": 3,
   "id": "edb1a105-0d65-4e7e-be1b-c61743982252",
   "metadata": {},
   "outputs": [
    {
     "data": {
      "text/plain": [
       "12"
      ]
     },
     "execution_count": 3,
     "metadata": {},
     "output_type": "execute_result"
    }
   ],
   "source": [
    "3 * 4"
   ]
  }
 ],
 "metadata": {
  "kernelspec": {
   "display_name": "Python 3 (ipykernel)",
   "language": "python",
   "name": "python3"
  },
  "language_info": {
   "codemirror_mode": {
    "name": "ipython",
    "version": 3
   },
   "file_extension": ".py",
   "mimetype": "text/x-python",
   "name": "python",
   "nbconvert_exporter": "python",
   "pygments_lexer": "ipython3",
   "version": "3.9.1"
  }
 },
 "nbformat": 4,
 "nbformat_minor": 5
}
