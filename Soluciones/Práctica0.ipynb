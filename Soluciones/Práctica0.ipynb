{
 "cells": [
  {
   "cell_type": "markdown",
   "id": "480b9fde-ce4d-432b-b21b-5de526269a58",
   "metadata": {},
   "source": [
    "# Práctica 0"
   ]
  },
  {
   "cell_type": "markdown",
   "id": "26b42c3f-28c0-4cb0-a3d5-659cf08e53fe",
   "metadata": {},
   "source": [
    "## Ejercicio 1"
   ]
  },
  {
   "cell_type": "markdown",
   "id": "c4d2c9ff-3cb3-4ef7-a274-8647166157eb",
   "metadata": {},
   "source": [
    "### Pregunta A\n",
    "\n",
    "**¿Cuántos números de dos cifras se pueden formar con los dígitos 1,2,3?**\n",
    "\n",
    "3 opciones para la primera posición * 3 opciones para la segunda posición."
   ]
  },
  {
   "cell_type": "code",
   "execution_count": 6,
   "id": "0d906da3-effd-4700-a857-029df7d56c95",
   "metadata": {},
   "outputs": [
    {
     "data": {
      "text/plain": [
       "9"
      ]
     },
     "execution_count": 6,
     "metadata": {},
     "output_type": "execute_result"
    }
   ],
   "source": [
    "3 * 3"
   ]
  },
  {
   "cell_type": "markdown",
   "id": "45211e51-1737-4134-b369-9952151d03c0",
   "metadata": {},
   "source": [
    "### Pregunta B\n",
    "\n",
    "**¿Cuántos números de dos cifras se pueden formar con los dígitos 0,1,2? (Recuerde, un número no puede empezar con 0)**\n",
    "\n",
    "2 opciones para la primera posición (no considero el 0) * 3 opciones para la segunda posición."
   ]
  },
  {
   "cell_type": "code",
   "execution_count": 1,
   "id": "9005b9ca-84d5-474d-88e5-043c5ddec24a",
   "metadata": {},
   "outputs": [
    {
     "data": {
      "text/plain": [
       "6"
      ]
     },
     "execution_count": 1,
     "metadata": {},
     "output_type": "execute_result"
    }
   ],
   "source": [
    "2 * 3"
   ]
  },
  {
   "cell_type": "markdown",
   "id": "b88d8b46-c83f-4877-b864-07590dab5cde",
   "metadata": {},
   "source": [
    "### Pregunta C\n",
    "\n",
    "**¿Cuántos números de dos cifras se pueden formar con los dígitos 0,1,2,3?**\n",
    "\n",
    "3 opciones para la primera posición (no considero el 0) * 4 opciones para la segunda posición."
   ]
  },
  {
   "cell_type": "code",
   "execution_count": 4,
   "id": "edb1a105-0d65-4e7e-be1b-c61743982252",
   "metadata": {},
   "outputs": [
    {
     "data": {
      "text/plain": [
       "12"
      ]
     },
     "execution_count": 4,
     "metadata": {},
     "output_type": "execute_result"
    }
   ],
   "source": [
    "3 * 4"
   ]
  },
  {
   "cell_type": "markdown",
   "id": "e7301457-85df-4626-a54c-aa2046cb3fc8",
   "metadata": {},
   "source": [
    "### Pregunta D\n",
    "\n",
    "**¿Cuántos números pares de cuatro cifras se pueden formar con los dígitos 1,2,3,4?**\n",
    "\n",
    "4 opciones para las posiciones 1, 2 y 3, luego 2 opciones para la 4ta posición ya que el número debe terminar en 2 o 4 para que sea par."
   ]
  },
  {
   "cell_type": "code",
   "execution_count": 5,
   "id": "72f09229-a4ea-42bc-8de6-eca69566bbdb",
   "metadata": {},
   "outputs": [
    {
     "data": {
      "text/plain": [
       "128"
      ]
     },
     "execution_count": 5,
     "metadata": {},
     "output_type": "execute_result"
    }
   ],
   "source": [
    "4 * 4 * 4 * 2"
   ]
  },
  {
   "cell_type": "markdown",
   "id": "c10307df-6102-42e1-953d-b0bec5d577ea",
   "metadata": {},
   "source": [
    "### Pregunta E\n",
    "\n",
    "**¿Cuántos números de cuatro cifras distinas se pueden formar con los dígitos 1,2,3,4?**\n",
    "\n",
    "4 opciones para la primer posición, luego 3, luego 2, luego 1. Se van restando las opciones por cada posición porque no se pueden repetir los números."
   ]
  },
  {
   "cell_type": "code",
   "execution_count": 8,
   "id": "5897b4f1-aa27-4f76-a2eb-2ccf61dfc673",
   "metadata": {},
   "outputs": [
    {
     "data": {
      "text/plain": [
       "24"
      ]
     },
     "execution_count": 8,
     "metadata": {},
     "output_type": "execute_result"
    }
   ],
   "source": [
    "4 * 3 * 2 * 1"
   ]
  },
  {
   "cell_type": "markdown",
   "id": "3e06b489-1c98-4614-9f18-7ecd044a6bdb",
   "metadata": {},
   "source": [
    "### Pregunta F\n",
    "\n",
    "**¿Cuántos números capicúas de cinco cifras distintas se pueden formar con los dígitos 1,2,3,4,5,6,7?**\n",
    "\n",
    "Como tiene que ser capicúa, solo completo las primeras 3 posiciones, ya que los números en las posiciones 4 y 5 están determinados por los números en las posiciones 2 y 1 respectivamente."
   ]
  },
  {
   "cell_type": "code",
   "execution_count": 30,
   "id": "a0ee0e83-e44e-4521-94ac-b2a73ab97248",
   "metadata": {},
   "outputs": [
    {
     "data": {
      "text/plain": [
       "210"
      ]
     },
     "execution_count": 30,
     "metadata": {},
     "output_type": "execute_result"
    }
   ],
   "source": [
    "7 * 6 * 5"
   ]
  },
  {
   "cell_type": "markdown",
   "id": "2fed1baf-41bc-4ba7-95ec-66d1b141b678",
   "metadata": {
    "tags": []
   },
   "source": [
    "### Pregunta G\n",
    "\n",
    "**Una habitación tiene 6 puertas, ¿de cuántas maneras puedo entrar por una puerta y salir por la otra?**\n",
    "\n",
    "Tengo 6 puertas para entrar, y una vez adentro, solo me quedan 5 puertas para salir pues no puedo salir por la misma que entré."
   ]
  },
  {
   "cell_type": "code",
   "execution_count": 11,
   "id": "d6925c8e-dc05-4d84-bbc1-4eb37795530f",
   "metadata": {},
   "outputs": [
    {
     "data": {
      "text/plain": [
       "30"
      ]
     },
     "execution_count": 11,
     "metadata": {},
     "output_type": "execute_result"
    }
   ],
   "source": [
    "6 * 5"
   ]
  },
  {
   "cell_type": "markdown",
   "id": "44e51bc9-3e30-41fd-9280-ae00eea7132f",
   "metadata": {},
   "source": [
    "### Pregunta H\n",
    "\n",
    "**Sean A, B y C tres ciudades distintas. Suponga que hay cuatro rutas distintas que unen a A con B y 6 que unen a B con C. ¿Cuántas rutas existen de A a C pasando por B?**\n",
    "\n",
    "Tengo 4 rutas para ir de A a B, y luego 6 rutas para ir de B a C."
   ]
  },
  {
   "cell_type": "code",
   "execution_count": 14,
   "id": "3f4c238f-3bd2-4cee-b0d5-29961209b534",
   "metadata": {},
   "outputs": [
    {
     "data": {
      "text/plain": [
       "24"
      ]
     },
     "execution_count": 14,
     "metadata": {},
     "output_type": "execute_result"
    }
   ],
   "source": [
    "4 * 6"
   ]
  },
  {
   "cell_type": "markdown",
   "id": "7b7e3693-b615-4e9a-8e29-58bd9c4c65d2",
   "metadata": {},
   "source": [
    "**¿Cuántas rutas de ida y vuelta existen que vayan de A a C pasando por B?**\n",
    "\n",
    "No queda claro si el camino de vuelta tiene que ser distinto al de la ida. Asumo que no. Es decir, puedo volver por la misma ruta que fui."
   ]
  },
  {
   "cell_type": "code",
   "execution_count": 18,
   "id": "1f7d2c89-919a-4629-b2c3-86c5802d1477",
   "metadata": {},
   "outputs": [
    {
     "data": {
      "text/plain": [
       "576"
      ]
     },
     "execution_count": 18,
     "metadata": {},
     "output_type": "execute_result"
    }
   ],
   "source": [
    "4 * 6 * 6 * 4"
   ]
  },
  {
   "cell_type": "markdown",
   "id": "4cf4f884-1525-4a5c-ae0e-c1384479b835",
   "metadata": {},
   "source": [
    "## Ejercicio 2"
   ]
  },
  {
   "cell_type": "markdown",
   "id": "60e21a06-ef96-4132-8599-8e3ec93f2ad1",
   "metadata": {},
   "source": [
    "### Pregunta A\n",
    "\n",
    "**¿Cuántos resultados pueden obtenerse al arrojar una moneda tres veces?**\n",
    "\n",
    "2 opciones para la primer tirada, luego otras 2 opciones para la segunda tirada, y finalmente otras 2 opciones para la tercer tirada."
   ]
  },
  {
   "cell_type": "code",
   "execution_count": 20,
   "id": "503ff3cd-5111-4f52-ba0e-09b3463ea874",
   "metadata": {},
   "outputs": [
    {
     "data": {
      "text/plain": [
       "8"
      ]
     },
     "execution_count": 20,
     "metadata": {},
     "output_type": "execute_result"
    }
   ],
   "source": [
    "2 * 2 * 2"
   ]
  },
  {
   "cell_type": "markdown",
   "id": "910bb3d6-54f0-4c2b-8efc-810da0a8378e",
   "metadata": {},
   "source": [
    "También se puede pensar como una tupla de 3 elementos: (a,b,c) donde cada elemento tiene 2 valores posibles: cara o seca. Entonces la cantidad total de distintas tuplas que se pueden armar sería 2^3."
   ]
  },
  {
   "cell_type": "code",
   "execution_count": 21,
   "id": "08a198e0-399f-4c38-9eee-77eab5d4a83c",
   "metadata": {},
   "outputs": [
    {
     "data": {
      "text/plain": [
       "8"
      ]
     },
     "execution_count": 21,
     "metadata": {},
     "output_type": "execute_result"
    }
   ],
   "source": [
    "2 ** 3"
   ]
  },
  {
   "cell_type": "markdown",
   "id": "b043894b-2fcc-48c9-a85a-b0c554fc9c81",
   "metadata": {},
   "source": [
    "**¿Y si se lanza un dado de 6 caras dos veces?**\n",
    "\n",
    "Misma lógica que la moneda, solo que en vez de 2 posibles valores (cara o seca) ahora hay 6 (porque este dado tiene 6 caras)."
   ]
  },
  {
   "cell_type": "code",
   "execution_count": 31,
   "id": "fd0afd5a-d243-4947-81a9-15295a1ede55",
   "metadata": {},
   "outputs": [
    {
     "data": {
      "text/plain": [
       "36"
      ]
     },
     "execution_count": 31,
     "metadata": {},
     "output_type": "execute_result"
    }
   ],
   "source": [
    "6 * 6"
   ]
  },
  {
   "cell_type": "markdown",
   "id": "31f53464-4dbd-4121-b52f-a6b2e0a96be4",
   "metadata": {},
   "source": [
    "### Pregunta B\n",
    "\n",
    "**¿Cuántos números con cifras distintas, elegidas entre los dígitos 1 a 6, tienen las siguientes propiedades?**"
   ]
  },
  {
   "cell_type": "markdown",
   "id": "34896c7c-ec0e-4a5c-8e1f-34d54b6349a2",
   "metadata": {},
   "source": [
    "**Tienen cinco cifras**"
   ]
  },
  {
   "cell_type": "code",
   "execution_count": 35,
   "id": "154c81b4-a5eb-43e5-9a6a-6062eb6778f5",
   "metadata": {},
   "outputs": [
    {
     "data": {
      "text/plain": [
       "720"
      ]
     },
     "execution_count": 35,
     "metadata": {},
     "output_type": "execute_result"
    }
   ],
   "source": [
    "6 * 5 * 4 * 3 * 2"
   ]
  },
  {
   "cell_type": "markdown",
   "id": "ff19c049-4b83-44d6-9495-a8a712896156",
   "metadata": {},
   "source": [
    "**Tienen 5 cifras y comienzan con 36**"
   ]
  },
  {
   "cell_type": "code",
   "execution_count": 36,
   "id": "f50889cd-5136-45b6-b3cd-14489ef50321",
   "metadata": {},
   "outputs": [
    {
     "data": {
      "text/plain": [
       "24"
      ]
     },
     "execution_count": 36,
     "metadata": {},
     "output_type": "execute_result"
    }
   ],
   "source": [
    "4 * 3 * 2"
   ]
  },
  {
   "cell_type": "markdown",
   "id": "35dd7e1a-f093-49e1-bdae-8c3ca2e285f0",
   "metadata": {},
   "source": [
    "**Tienen 5 cifras y no comienzan con 1**"
   ]
  },
  {
   "cell_type": "markdown",
   "id": "0ccd49a1-7b9b-4520-af5e-d0d923e852c7",
   "metadata": {},
   "source": [
    "Forma 1: cuento directo."
   ]
  },
  {
   "cell_type": "code",
   "execution_count": 41,
   "id": "97d54f09-1cbb-4014-8ada-f7c41aaa2b1a",
   "metadata": {},
   "outputs": [
    {
     "data": {
      "text/plain": [
       "600"
      ]
     },
     "execution_count": 41,
     "metadata": {},
     "output_type": "execute_result"
    }
   ],
   "source": [
    "5 * 5 * 4 * 3 * 2"
   ]
  },
  {
   "cell_type": "markdown",
   "id": "2f3ef422-3ff6-4bff-8b25-054c7f6035b6",
   "metadata": {},
   "source": [
    "Forma 2: cuento todos y resto los que empiezan en 1."
   ]
  },
  {
   "cell_type": "code",
   "execution_count": 42,
   "id": "2f8daa27-1729-4068-ae10-54009ffe27e9",
   "metadata": {},
   "outputs": [
    {
     "data": {
      "text/plain": [
       "600"
      ]
     },
     "execution_count": 42,
     "metadata": {},
     "output_type": "execute_result"
    }
   ],
   "source": [
    "(6 * 5 * 4 * 3 * 2) - (5 * 4 * 3 * 2)"
   ]
  },
  {
   "cell_type": "markdown",
   "id": "728c4412-fc52-4476-9a09-68457c184864",
   "metadata": {},
   "source": [
    "### Pregunta C\n",
    "\n",
    "**Se arrojan dos dados, uno rojo y otro blanco.**"
   ]
  },
  {
   "cell_type": "markdown",
   "id": "9ff425d9-55d0-4fc5-9dc2-dc8f0baf7979",
   "metadata": {},
   "source": [
    "**¿Cuántos resultados distintos hay?**"
   ]
  },
  {
   "cell_type": "code",
   "execution_count": 43,
   "id": "cadf904d-ec40-4c0b-bb48-059102fd9580",
   "metadata": {
    "tags": []
   },
   "outputs": [
    {
     "data": {
      "text/plain": [
       "36"
      ]
     },
     "execution_count": 43,
     "metadata": {},
     "output_type": "execute_result"
    }
   ],
   "source": [
    "6 * 6"
   ]
  },
  {
   "cell_type": "markdown",
   "id": "d5c00cf0-fae2-42c4-8eb2-3d9782ac55a6",
   "metadata": {},
   "source": [
    "**¿Cuántos resultados distintos hay en que la suma es mayor a 9?**\n",
    "\n",
    "Los únicos números mayores a 9 que se pueden formar con 2 dados de 6 lados son: 10, 11, 12.\n",
    "\n",
    "- El 10 se puede formar así: 5+5, 6+4\n",
    "- El 11 se puede formar así: 6+5\n",
    "- El 12 se puede formar así: 6+6\n",
    "\n",
    "Por cada combinación de números distintos, hay 2 posibilidades, ya que hay 2 dados de distinto color. Es decir, el 10 tiene 2 posibilidades: dado rojo 6 y dado blanco 4, o al revés.\n",
    "\n",
    "Entonces:\n",
    "- 5+5: 1 posibilidad\n",
    "- 6+4: 2 posibilidades\n",
    "- 6+5: 2 posibilidades\n",
    "- 6+6: 1 posibilidad\n",
    "\n",
    "Respuesta: 6 resultados distintos."
   ]
  }
 ],
 "metadata": {
  "kernelspec": {
   "display_name": "Python 3 (ipykernel)",
   "language": "python",
   "name": "python3"
  },
  "language_info": {
   "codemirror_mode": {
    "name": "ipython",
    "version": 3
   },
   "file_extension": ".py",
   "mimetype": "text/x-python",
   "name": "python",
   "nbconvert_exporter": "python",
   "pygments_lexer": "ipython3",
   "version": "3.9.1"
  }
 },
 "nbformat": 4,
 "nbformat_minor": 5
}
