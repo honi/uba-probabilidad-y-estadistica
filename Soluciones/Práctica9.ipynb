{
 "cells": [
  {
   "cell_type": "markdown",
   "id": "4977e15f-bead-450d-b61a-5a4107b985e3",
   "metadata": {},
   "source": [
    "# Práctica 9"
   ]
  },
  {
   "cell_type": "markdown",
   "id": "c8a0cefc-37c4-4183-a582-38c04821f10b",
   "metadata": {},
   "source": [
    "## Ejercicio 1\n",
    "\n",
    "Un productor agropecuario cultiva una variedad de soja cuyo rendimiento por hectárea (ha.) puede considerarse una variable aleatoria con distribución $\\mathcal{N}(37,25)$. Un vendedor de granos pone a la venta una nueva variedad de soja, diciendo que tiene un rendimiento mayor. El productor agropecuario realizó una compra de esta nueva variedad y quiere asegurarse de que tienen un rendimiento mayor que las semillas que compra habitualmente. Con ese fin decide cultivar 10 parcelas de 1 ha., observar sus rendimientos y aplicar un test de hipótesis de nivel 0.05. Suponiendo que el rendimiento por ha. de la nueva variedad de soja tiene una distribución normal con varianza 25, resolver los siguientes ítems."
   ]
  },
  {
   "cell_type": "markdown",
   "id": "394cb079-dc1c-4836-83f9-659a1e4120d5",
   "metadata": {},
   "source": [
    "### Pregunta A\n",
    "\n",
    "Definir las variables aleatorias y los par ́ametros involucrados en este problema y plantear el test de hipo ́tesis que debe realizar el productor agropecuario.\n",
    "\n",
    "### Pregunta B\n",
    "\n",
    "El productor cultiva las 10 parcelas y obtiene los siguientes rendimientos:\n",
    "\n",
    "```\n",
    "37 - 39.50 - 41.70 - 42 - 40 - 41.25 - 43 - 44.05 - 38 - 38.50\n",
    "```\n",
    "\n",
    "¿Cuál es la conclusión del test en base a estos datos observados? Calcular la probabilidad del error de tipo II suponiendo que el verdadero rendimiento medio de la nueva variedad de soja es de 40 toneladas por ha.\n",
    "\n",
    "### Pregunta C\n",
    "\n",
    "Encontrar el test para el caso en que se cultiven $n$ parcelas (con igual nivel).\n",
    "\n",
    "### Pregunta D\n",
    "\n",
    "Determinar el número $n$ de parcelas a cultivar para que la probabilidad del error de tipo II sea menor o igual que 0.05 suponiendo que el verdadero rendimiento medio de la nueva variedad de soja es de 40 toneladas por ha.\n",
    "\n",
    "### Pregunta E\n",
    "\n",
    "Calcular la función de potencia $\\pi(\\mu)$ del test planteado en c), verificar que es creciente para $\\mu \\in \\mathcal{R}$ y deducir que este test sirve también para testear:\n",
    "\n",
    "$H_0: \\mu \\leq 37$\n",
    "\n",
    "$H_1: \\mu > 37$"
   ]
  },
  {
   "cell_type": "markdown",
   "id": "f62f3aa4-ad7b-488b-ba76-1b5f62f77071",
   "metadata": {},
   "source": [
    "## Ejercicio 2\n",
    "\n",
    "En la construcción de un edificio debe usarse un concreto que tenga una tensión media mayor a 300 psi. Para verificar si el concreto preparado a partir del cemento \"Loma Blanca\" cumple con este requerimiento, se realizan 15 mediciones en forma independiente de la tensión de este concreto. Se observa una media muestral de 304 psi y un desvío estándar muestral de 10 psi. El constructor está dispuesto a correr un riesgo del 5% de comprar cemento \"Loma Blanca\" cuando éste produce un concreto que no cumple con las especificaciones. Suponiendo que los datos están normalmente distribuidos:"
   ]
  },
  {
   "cell_type": "markdown",
   "id": "161925e5-6cd5-40c6-88d0-eba71bb9456f",
   "metadata": {},
   "source": [
    "### Pregunta A\n",
    "\n",
    "Plantear el test correspondiente. ¿Qué decisión se toma?"
   ]
  },
  {
   "cell_type": "markdown",
   "id": "442069cd-9290-4319-82a3-bf84a0e9a4c2",
   "metadata": {},
   "source": [
    "### Pregunta B\n",
    "\n",
    "Acotar el p-valor."
   ]
  },
  {
   "cell_type": "markdown",
   "id": "bb2e7ac8-f7c8-4c1c-93ec-6b615b28effc",
   "metadata": {},
   "source": [
    "## Ejercicio 3\n",
    "\n",
    "Se diseñó un nuevo sistema de riego de manera tal que el desvío del tiempo de activación sea menor que 6 segundos. Se lo prueba 11 veces, obteniéndose los siguientes tiempos de activación:\n",
    "\n",
    "```\n",
    "27 41 22 27 23 35 30 24 27 28 22\n",
    "```\n",
    "\n",
    "Suponiendo que el tiempo de activación (en segundos) es una v.a. con distribución normal:"
   ]
  },
  {
   "cell_type": "markdown",
   "id": "121a6540-9b34-4296-9ac9-f89adae63947",
   "metadata": {},
   "source": [
    "### Pregunta A\n",
    "\n",
    "¿Usted decidiría, a nivel 0.05, que el sistema cumple la especificación?"
   ]
  },
  {
   "cell_type": "markdown",
   "id": "623e4a12-90a0-4ee0-8d4a-c2b7bdf22a38",
   "metadata": {},
   "source": [
    "### Pregunta B\n",
    "\n",
    "Acotar el p-valor"
   ]
  },
  {
   "cell_type": "markdown",
   "id": "2a4f6714-0d29-44bd-b650-cdd277df17c0",
   "metadata": {},
   "source": [
    "### Pregunta C\n",
    "\n",
    "Encontrar la función de potencia $\\pi(\\sigma^2)$, implementarla en R y graficarla. ¿Es creciente o decreciente? ¿Cuánto vale en $\\sigma = 6$?"
   ]
  },
  {
   "cell_type": "markdown",
   "id": "377ce4b8-77a1-4187-8e7c-3db104d8c2bb",
   "metadata": {},
   "source": [
    "## Ejercicio 4\n",
    "\n",
    "Se supone que 1 de cada 10 fumadores prefiere la marca A. Después de una campaña publicitaria en cierta región de ventas, se entrevistó a 200 fumadores para determinar la efectividad de la campaña. El resultado de esta encuesta mostró que 26 personas preferían la marca A."
   ]
  },
  {
   "cell_type": "markdown",
   "id": "d7bf5b59-41ec-44f4-836a-c1a89b92bcaa",
   "metadata": {},
   "source": [
    "### Pregunta A\n",
    "\n",
    "¿Indican estos datos, a nivel aproximado 0.05, un aumento en la preferencia por la marca A?"
   ]
  },
  {
   "cell_type": "markdown",
   "id": "fe1eb213-644e-4dc1-b866-59448c7db397",
   "metadata": {},
   "source": [
    "### Pregunta B\n",
    "\n",
    "Calcular el p-valor aproximado."
   ]
  },
  {
   "cell_type": "markdown",
   "id": "9fde657d-fbbe-4a91-a462-9b6521a6beff",
   "metadata": {},
   "source": [
    "### Pregunta C\n",
    "\n",
    "¿Cuál es la probabilidad aproximada de decidir que la campaña publicitaria no fue efectiva, cuando en realidad la proporción de preferencia por la marca A después de la campaña es 0.15?"
   ]
  },
  {
   "cell_type": "markdown",
   "id": "cc2a154e-5295-4f20-a237-0d5f462d104f",
   "metadata": {},
   "source": [
    "### Pregunta D\n",
    "\n",
    "Implementar la función potencia y graficarla. ¿Qué características tiene esta función? Interpretar."
   ]
  },
  {
   "cell_type": "markdown",
   "id": "76ce8dbf-474e-4a4c-bfd9-6091b914f14e",
   "metadata": {},
   "source": [
    "### Pregunta E\n",
    "\n",
    "¿Qué tamaño de muestra debería tomarse para que la probabilidad de c) fuese a lo sumo 0.05?"
   ]
  },
  {
   "cell_type": "markdown",
   "id": "cdbbfa73-cbe7-48ee-8ac6-22128ef7e389",
   "metadata": {},
   "source": [
    "### Pregunta F\n",
    "\n",
    "Decidir si las siguientes afirmaciones son V o F. Justificar.\n",
    "\n",
    "#### Item i\n",
    "\n",
    "Si la verdadera proporción de fumadores que prefieren la marca A es mayor que 0.15, la probabilidad de que este test rechace $H_0$ es mayor que 0.725.\n",
    "\n",
    "#### Item ii\n",
    "\n",
    "Cuánto más pequeña es la verdadera proporción de fumadores que prefieren la marca A más improbable es que el test rechace $H_0$.\n",
    "\n",
    "#### Item iii\n",
    "\n",
    "$\\pi(0.1) = 0.05$\n",
    "\n",
    "#### Item iv\n",
    "\n",
    "La probabilidad de error de tipo II es una función creciente de $p$, donde $p$ es la verdadera proporción de fumadores que prefieren la marca A."
   ]
  },
  {
   "cell_type": "markdown",
   "id": "89c7d4d1-b709-46ab-9070-943f2e9152a6",
   "metadata": {},
   "source": [
    "## Ejercicio 5\n",
    "\n",
    "Se supone que el tiempo de duración de cierto tipo de lamparitas tiene distribución exponencial. Una fábrica garantiza que el tiempo medio de vida de las lamparitas que produce es mayor que 50 días, y la empresa vendedora quiere asegurarse que la producción satisface las especificaciones antes de sacarla a la venta. Para ello toma al azar una muestra de 40 lamparitas y observa el tiempo de duración de las mismas, obteniendo un promedio de 53 días."
   ]
  },
  {
   "cell_type": "markdown",
   "id": "46203d26-ebf1-4f8e-84c0-0fc9152c22fd",
   "metadata": {},
   "source": [
    "### Pregunta A\n",
    "\n",
    "Proponer un test de nivel exacto con hipótesis nula simple para este problema de manera tal que la probabilidad de que la empresa decida no vender si no se satisfacen los requerimientos sea del 0.95."
   ]
  },
  {
   "cell_type": "markdown",
   "id": "2683c4e5-0d08-45b9-8900-821cdd3782d1",
   "metadata": {},
   "source": [
    "### Pregunta B\n",
    "\n",
    "¿Qué decisión se toma en base a los tiempos observados?"
   ]
  },
  {
   "cell_type": "markdown",
   "id": "6b00be7d-a77e-4cac-a65b-bd1a9c547134",
   "metadata": {},
   "source": [
    "### Pregunta C\n",
    "\n",
    "Repetir a) usando un nivel aproximado."
   ]
  },
  {
   "cell_type": "markdown",
   "id": "3e435a03-5854-43d7-b20d-c968b5e52807",
   "metadata": {},
   "source": [
    "### Pregunta D\n",
    "\n",
    "Calcular la función de potencia aproximada para el test del ítem anterior. ¿Este test conserva el nivel aproximado 5% si ampliamos la hipótesis nula, reemplazándola por una hipótesis compuesta?"
   ]
  },
  {
   "cell_type": "markdown",
   "id": "889e062c-f5c9-4ad5-804b-d44fa5027345",
   "metadata": {},
   "source": [
    "### Pregunta E\n",
    "\n",
    "Utilizando el test aproximado, ¿qué probabilidad tiene la empresa de no sacar la producción a la venta, si el promedio de vida verdadero es 52 días?"
   ]
  },
  {
   "cell_type": "markdown",
   "id": "ed5d9b37-e2b3-42c8-aca6-6045c6fc8fa5",
   "metadata": {},
   "source": [
    "### Pregunta F\n",
    "\n",
    "¿Cuál debería ser el tamaño de la muestra para que la probabilidad de d) fuese 0.1?"
   ]
  },
  {
   "cell_type": "markdown",
   "id": "0fb212dc-0bff-49f1-9ac6-29a008faf3c2",
   "metadata": {},
   "source": [
    "## Ejercicio 6\n",
    "\n",
    "Se desea determinar si un dado de seis caras está cargado o no. Para ello se arroja el dado 1000 veces obteniéndose los resultados contenidos en el archivo dado.txt, que se encuentra en la página web de la materia.\n",
    "\n",
    "Estamos interesados en testear las hipótesis $H_0$ : El dado es equilibrado vs. $H_1$ : El dado está cargado. Para ello consideramos distintos tests:"
   ]
  },
  {
   "cell_type": "markdown",
   "id": "0a5da2c9-31d0-4442-988b-8fd308fa1fd5",
   "metadata": {},
   "source": [
    "### Pregunta A\n",
    "\n",
    "Sea $X$ = cantidad de veces que el resultado del dado es par. Plantear las hipótesis y determinar la región de rechazo para un test de nivel aproximado $\\alpha = 0.05$ basado en $X$. Para el conjunto de datos obtenido, ¿cuál es el valor $p$ aproximado?, ¿cuál es la decisión?"
   ]
  },
  {
   "cell_type": "markdown",
   "id": "bfe95187-947a-4c59-b044-2308c0cbfb9c",
   "metadata": {},
   "source": [
    "### Pregunta B\n",
    "\n",
    "Sea $Y$ = cantidad de veces que el resultado del dado es menor o igual que 3. Plantear claramente las hipótesis y determinar la región de rechazo para un test de nivel aproximado $\\alpha = 0.05$ basado en $Y$. Para el conjunto de datos obtenido, ¿cuál es el p-valor aproximado?, ¿cuál es la decisión?."
   ]
  },
  {
   "cell_type": "markdown",
   "id": "a1d6b58d-85e7-4f90-a4fd-7625e607e07a",
   "metadata": {},
   "source": [
    "### Pregunta C\n",
    "\n",
    "Sea $W$ = cantidad de veces que el resultado del dado es exactamente 3. Plantear claramente las hipótesis y determinar la región de rechazo para un test de nivel aproximado $\\alpha = 0.05$ basado en $W$. Para el conjunto de datos obtenido, ¿cuál es el p-valor aproximado?, ¿cuál es la decisión?."
   ]
  },
  {
   "cell_type": "markdown",
   "id": "7fe2ab21-b780-44da-81a0-a64514782ac6",
   "metadata": {},
   "source": [
    "### Pregunta D\n",
    "\n",
    "Sea $U$ = cantidad de veces que el resultado del dado es exactamente 2. Plantear claramente las hipótesis y determinar la región de rechazo para un test de nivel aproximado $\\alpha = 0.05$ basado en $U$. Para el conjunto de datos obtenido, ¿cuál es el p-valor aproximado?, ¿cuál es la decisión?."
   ]
  },
  {
   "cell_type": "markdown",
   "id": "429d4ea1-34b9-402f-aa49-7ee7ffbb1396",
   "metadata": {},
   "source": [
    "### Pregunta E\n",
    "\n",
    "En base a los resultados obtenidos. ¿Qué decisión tomaría? ¿Está cargado el dado?"
   ]
  },
  {
   "cell_type": "markdown",
   "id": "09801fcb-00cf-404d-9168-afecb284bb9b",
   "metadata": {},
   "source": [
    "## Ejercicio 7\n",
    "\n",
    "En cada caso indique si la afirmación es verdadera o falsa y justifique:\n",
    "\n",
    "### Pregunta A\n",
    "\n",
    "El nivel de significación de un test es igual a la probabilidad de que la hipótesis nula sea cierta.\n",
    "\n",
    "### Pregunta B\n",
    "\n",
    "Un error de tipo II es más grave que un error de tipo I.\n",
    "\n",
    "### Pregunta C\n",
    "\n",
    "Si el p-valor es 0.3, el test correspondiente rechazará al nivel 0.01.\n",
    "\n",
    "### Pregunta D\n",
    "\n",
    "Si un test rechaza al nivel de significación 0.06, entonces el p-valor es menor o igual a 0.06.\n",
    "\n",
    "### Pregunta E\n",
    "\n",
    "Si un intervalo de confianza de nivel 0.99 para la media $\\mu$ de una distribución normal calculado a partir de una muestra da como resultado $(2.1, 3.3)$, entonces el test para las hipótesis $H_0 : \\mu = 3$ vs. $H_1 : \\mu \\neq 3$ basado en los mismos datos rechazará la hipótesis nula al nivel 0.01."
   ]
  }
 ],
 "metadata": {
  "kernelspec": {
   "display_name": "R",
   "language": "R",
   "name": "ir"
  },
  "language_info": {
   "codemirror_mode": "r",
   "file_extension": ".r",
   "mimetype": "text/x-r-source",
   "name": "R",
   "pygments_lexer": "r",
   "version": "4.1.0"
  }
 },
 "nbformat": 4,
 "nbformat_minor": 5
}
