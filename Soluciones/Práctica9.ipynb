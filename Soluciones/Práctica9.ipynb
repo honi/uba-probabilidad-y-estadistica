{
 "cells": [
  {
   "cell_type": "markdown",
   "id": "4977e15f-bead-450d-b61a-5a4107b985e3",
   "metadata": {},
   "source": [
    "# Práctica 9"
   ]
  },
  {
   "cell_type": "markdown",
   "id": "c8a0cefc-37c4-4183-a582-38c04821f10b",
   "metadata": {},
   "source": [
    "## Ejercicio 1\n",
    "\n",
    "Un productor agropecuario cultiva una variedad de soja cuyo rendimiento por hectárea (ha.) puede considerarse una variable aleatoria con distribución $\\mathcal{N}(37,25)$. Un vendedor de granos pone a la venta una nueva variedad de soja, diciendo que tiene un rendimiento mayor. El productor agropecuario realizó una compra de esta nueva variedad y quiere asegurarse de que tienen un rendimiento mayor que las semillas que compra habitualmente. Con ese fin decide cultivar 10 parcelas de 1 ha., observar sus rendimientos y aplicar un test de hipótesis de nivel 0.05. Suponiendo que el rendimiento por ha. de la nueva variedad de soja tiene una distribución normal con varianza 25, resolver los siguientes ítems."
   ]
  },
  {
   "cell_type": "markdown",
   "id": "394cb079-dc1c-4836-83f9-659a1e4120d5",
   "metadata": {},
   "source": [
    "### Pregunta A\n",
    "\n",
    "Definir las variables aleatorias y los parámetros involucrados en este problema y plantear el test de hipótesis que debe realizar el productor agropecuario.\n",
    "\n",
    "$X_1, \\dots, X_{10}$ una m.a. del rendimiento de las 10 parcelas cultivadas con la nueva variedad de soja. La m.a. tiene distribución $\\mathcal{N}(\\mu, 25)$.\n",
    "\n",
    "$\\mu_0 = 37$ el rendimiento promedio de la variedad de soja que usa actualmente el productor.\n",
    "\n",
    "$\\sigma^2 = 25$ para ambas variedades.\n",
    "\n",
    "$\\alpha = 0.05$\n",
    "\n",
    "$H_0 : \\mu = \\mu_0$ vs. $H_1 : \\mu > \\mu_0$\n",
    "\n",
    "Estadístico del test: $T = \\sqrt{n} \\frac{\\bar{X} - \\mu_0}{\\sigma_0}$\n",
    "\n",
    "Bajo $H_0 : \\mu = \\mu_0 \\implies T \\sim \\mathcal{N}(0,1)$\n",
    "\n",
    "Región de rechazo: $T \\geq z_\\alpha$"
   ]
  },
  {
   "cell_type": "markdown",
   "id": "2d160b3b-4a72-4d3b-b1f5-699067327c60",
   "metadata": {},
   "source": [
    "### Pregunta B\n",
    "\n",
    "El productor cultiva las 10 parcelas y obtiene los siguientes rendimientos:\n",
    "\n",
    "```\n",
    "37 - 39.50 - 41.70 - 42 - 40 - 41.25 - 43 - 44.05 - 38 - 38.50\n",
    "```\n",
    "\n",
    "¿Cuál es la conclusión del test en base a estos datos observados?"
   ]
  },
  {
   "cell_type": "code",
   "execution_count": 90,
   "id": "fc542ee6-8643-4708-b588-94525cdb87f4",
   "metadata": {},
   "outputs": [
    {
     "data": {
      "text/html": [
       "TRUE"
      ],
      "text/latex": [
       "TRUE"
      ],
      "text/markdown": [
       "TRUE"
      ],
      "text/plain": [
       "[1] TRUE"
      ]
     },
     "metadata": {},
     "output_type": "display_data"
    }
   ],
   "source": [
    "X = c(37, 39.50, 41.70, 42, 40, 41.25, 43, 44.05, 38, 38.50)\n",
    "n = length(X)\n",
    "mu0 = 37\n",
    "alpha = 0.05\n",
    "var0 = 25\n",
    "sd0 = sqrt(var0)\n",
    "T = sqrt(n) * (mean(X) - mu0) / sd0\n",
    "z_alpha = qnorm(alpha, 0, 1, lower.tail=FALSE)\n",
    "T >= z_alpha"
   ]
  },
  {
   "cell_type": "markdown",
   "id": "c84c5bcd-54bf-4672-aad7-78a48f816af0",
   "metadata": {},
   "source": [
    "En base a los datos observados, se rechaza $H_0$ y se acepta la nueva $H_1$ (es decir, la nueva variedad de soja rinde más que la vieja)."
   ]
  },
  {
   "cell_type": "markdown",
   "id": "18d1b20e-a8f0-473c-9e78-7fb917a296af",
   "metadata": {},
   "source": [
    "Calcular la probabilidad del error de tipo II suponiendo que el verdadero rendimiento medio de la nueva variedad de soja es de 40 toneladas por ha.\n",
    "\n",
    "$\n",
    "\\pi(\\mu) = 1 - \\beta(\\mu)\n",
    "\\iff \\beta(\\mu) = 1 - \\pi(\\mu)\n",
    "\\iff \\beta(\\mu) = 1 - \\Big( 1 - \\Phi \\big( z_\\alpha + \\sqrt{n} \\frac{\\mu_0 - \\mu}{\\sigma_0} \\big) \\Big)\n",
    "\\iff \\beta(\\mu) = \\Phi \\Big( z_\\alpha + \\sqrt{n} \\frac{\\mu_0 - \\mu}{\\sigma_0} \\Big)\n",
    "$\n",
    "\n",
    "*Ver desarrollo en el apunte de Bianco y Martínez (2004), página 197.*"
   ]
  },
  {
   "cell_type": "code",
   "execution_count": 91,
   "id": "e70433c5-a692-44a9-8434-93dbe8184f79",
   "metadata": {},
   "outputs": [
    {
     "data": {
      "text/html": [
       "0.400322295453562"
      ],
      "text/latex": [
       "0.400322295453562"
      ],
      "text/markdown": [
       "0.400322295453562"
      ],
      "text/plain": [
       "[1] 0.4003223"
      ]
     },
     "metadata": {},
     "output_type": "display_data"
    }
   ],
   "source": [
    "mu = 40\n",
    "pnorm(z_alpha + sqrt(n) * (mu0 - mu) / sd0)"
   ]
  },
  {
   "cell_type": "markdown",
   "id": "8ea28f74-d519-485b-89c0-32876a84c7b1",
   "metadata": {},
   "source": [
    "### Pregunta C\n",
    "\n",
    "Encontrar el test para el caso en que se cultiven $n$ parcelas (con igual nivel)."
   ]
  },
  {
   "cell_type": "markdown",
   "id": "5b2a785f-57c8-4493-b617-2720f90cff6e",
   "metadata": {},
   "source": [
    "### Pregunta D\n",
    "\n",
    "Determinar el número $n$ de parcelas a cultivar para que la probabilidad del error de tipo II sea menor o igual que 0.05 suponiendo que el verdadero rendimiento medio de la nueva variedad de soja es de 40 toneladas por ha.\n",
    "\n",
    "$n \\geq \\Big( \\frac{(z_\\alpha + z_\\beta) \\sigma_0}{\\mu - \\mu_0} \\Big)^2$\n",
    "\n",
    "*Ver desarrollo en el apunte de Bianco y Martínez (2004), páginas 199/200.*"
   ]
  },
  {
   "cell_type": "code",
   "execution_count": 92,
   "id": "500a0905-c607-400f-8a77-a0db05e2c958",
   "metadata": {},
   "outputs": [
    {
     "data": {
      "text/html": [
       "31"
      ],
      "text/latex": [
       "31"
      ],
      "text/markdown": [
       "31"
      ],
      "text/plain": [
       "[1] 31"
      ]
     },
     "metadata": {},
     "output_type": "display_data"
    }
   ],
   "source": [
    "mu = 40\n",
    "beta = 0.05\n",
    "z_beta = qnorm(beta, 0, 1, lower.tail=FALSE)\n",
    "n = ceiling((((z_alpha + z_beta) * sd0) / (mu - mu0))^2)\n",
    "n"
   ]
  },
  {
   "cell_type": "markdown",
   "id": "b8dc3462-dd2c-4807-8939-b02e6f8c9df7",
   "metadata": {},
   "source": [
    "### Pregunta E\n",
    "\n",
    "Calcular la función de potencia $\\pi(\\mu)$ del test planteado en c), verificar que es creciente para $\\mu \\in \\mathcal{R}$ y deducir que este test sirve también para testear:\n",
    "\n",
    "$H_0: \\mu \\leq 37$\n",
    "\n",
    "$H_1: \\mu > 37$\n",
    "\n",
    "*Ver desarrollo en el apunte de Bianco y Martínez (2004), páginas 197.*"
   ]
  },
  {
   "cell_type": "markdown",
   "id": "f62f3aa4-ad7b-488b-ba76-1b5f62f77071",
   "metadata": {},
   "source": [
    "## Ejercicio 2\n",
    "\n",
    "En la construcción de un edificio debe usarse un concreto que tenga una tensión media mayor a 300 psi. Para verificar si el concreto preparado a partir del cemento \"Loma Blanca\" cumple con este requerimiento, se realizan 15 mediciones en forma independiente de la tensión de este concreto. Se observa una media muestral de 304 psi y un desvío estándar muestral de 10 psi. El constructor está dispuesto a correr un riesgo del 5% de comprar cemento \"Loma Blanca\" cuando éste produce un concreto que no cumple con las especificaciones. Suponiendo que los datos están normalmente distribuidos:"
   ]
  },
  {
   "cell_type": "markdown",
   "id": "161925e5-6cd5-40c6-88d0-eba71bb9456f",
   "metadata": {},
   "source": [
    "### Pregunta A\n",
    "\n",
    "Plantear el test correspondiente. ¿Qué decisión se toma?\n",
    "\n",
    "$n = 15$\n",
    "\n",
    "$X_1, \\dots, X_{15}$ una m.a. de la tensión del concreto \"Loma Blanca\". La m.a. tiene distribución $\\mathcal{N}(\\mu, \\sigma^2)$.\n",
    "\n",
    "$\\bar{X} = 304$\n",
    "\n",
    "$s = 10$ (desvío estándar muestral)\n",
    "\n",
    "$\\mu_0 = 300$ la tensión media requerida.\n",
    "\n",
    "$\\alpha = 0.05$\n",
    "\n",
    "$H_0 : \\mu \\leq \\mu_0$ vs. $H_1 : \\mu > \\mu_0$\n",
    "\n",
    "Estadístico del test: $T = \\sqrt{n} \\frac{\\bar{X} - \\mu_0}{S}$\n",
    "\n",
    "Bajo $H_0 : \\mu = \\mu_0 \\implies T \\sim t_{n-1}$\n",
    "\n",
    "Región de rechazo: $T \\geq t_{n-1, \\alpha}$"
   ]
  },
  {
   "cell_type": "code",
   "execution_count": 93,
   "id": "9a24244f-704a-4338-a4c6-f484b2de1135",
   "metadata": {},
   "outputs": [
    {
     "data": {
      "text/html": [
       "FALSE"
      ],
      "text/latex": [
       "FALSE"
      ],
      "text/markdown": [
       "FALSE"
      ],
      "text/plain": [
       "[1] FALSE"
      ]
     },
     "metadata": {},
     "output_type": "display_data"
    }
   ],
   "source": [
    "n = 15\n",
    "Xbar = 304\n",
    "sd = 10\n",
    "mu0 = 300\n",
    "alpha = 0.05\n",
    "T = sqrt(n) * (Xbar - mu0) / sd\n",
    "t_alpha = qt(alpha, n - 1, lower.tail=FALSE)\n",
    "T >= t_alpha"
   ]
  },
  {
   "cell_type": "markdown",
   "id": "e0ddf29f-db49-4642-9d8c-58f26b844b74",
   "metadata": {},
   "source": [
    "El estadístico $T$ no cae dentro de la región de rechazo y por lo tanto no se rechaza la hipótesis nula $H_0$. Es decir, se invalida la hipótesis alternativa $H_1$ y la decisión es no comprar cemento \"Loma Blanca\" y en cambio buscar un mejor proveedor que garantice mejor la calidad requerida."
   ]
  },
  {
   "cell_type": "markdown",
   "id": "442069cd-9290-4319-82a3-bf84a0e9a4c2",
   "metadata": {},
   "source": [
    "### Pregunta B\n",
    "\n",
    "Acotar el p-valor."
   ]
  },
  {
   "cell_type": "code",
   "execution_count": 94,
   "id": "b10ba1a4-fa58-4af3-9877-3a0bb98a4145",
   "metadata": {},
   "outputs": [
    {
     "data": {
      "text/html": [
       "0.0718200001226106"
      ],
      "text/latex": [
       "0.0718200001226106"
      ],
      "text/markdown": [
       "0.0718200001226106"
      ],
      "text/plain": [
       "[1] 0.07182"
      ]
     },
     "metadata": {},
     "output_type": "display_data"
    }
   ],
   "source": [
    "pt(T, n - 1, lower.tail=FALSE)"
   ]
  },
  {
   "cell_type": "markdown",
   "id": "bb2e7ac8-f7c8-4c1c-93ec-6b615b28effc",
   "metadata": {},
   "source": [
    "## Ejercicio 3\n",
    "\n",
    "Se diseñó un nuevo sistema de riego de manera tal que el desvío del tiempo de activación sea menor que 6 segundos. Se lo prueba 11 veces, obteniéndose los siguientes tiempos de activación:\n",
    "\n",
    "```\n",
    "27 41 22 27 23 35 30 24 27 28 22\n",
    "```\n",
    "\n",
    "Suponiendo que el tiempo de activación (en segundos) es una v.a. con distribución normal:"
   ]
  },
  {
   "cell_type": "markdown",
   "id": "121a6540-9b34-4296-9ac9-f89adae63947",
   "metadata": {},
   "source": [
    "### Pregunta A\n",
    "\n",
    "¿Usted decidiría, a nivel 0.05, que el sistema cumple la especificación?\n",
    "\n",
    "$n = 11$\n",
    "\n",
    "$\\sigma^2_0 = 6^2 = 36$\n",
    "\n",
    "$\\alpha = 0.05$\n",
    "\n",
    "$H_0 : \\sigma^2 \\geq \\sigma^2_0$ vs. $H_1 : \\sigma^2 < \\sigma^2_0$\n",
    "\n",
    "Estadístico del test: $T = \\frac{(n - 1) S^2}{\\sigma^2_0}$\n",
    "\n",
    "Bajo $H_0 : \\sigma^2 = \\sigma^2_0 \\implies T \\sim \\mathcal{X}^2_{n-1}$\n",
    "\n",
    "Región de rechazo: $T \\leq \\mathcal{X}^2_{n-1, 1 - \\alpha}$"
   ]
  },
  {
   "cell_type": "code",
   "execution_count": 118,
   "id": "f5656919-05f3-44fe-b655-e867729786df",
   "metadata": {},
   "outputs": [
    {
     "data": {
      "text/html": [
       "FALSE"
      ],
      "text/latex": [
       "FALSE"
      ],
      "text/markdown": [
       "FALSE"
      ],
      "text/plain": [
       "[1] FALSE"
      ]
     },
     "metadata": {},
     "output_type": "display_data"
    }
   ],
   "source": [
    "X = c(27, 41, 22, 27, 23, 35, 30, 24, 27, 28, 22)\n",
    "n = length(X)\n",
    "var0 = 6^2\n",
    "alpha = 0.05\n",
    "T = (n - 1) * var(X) / var0\n",
    "z_alpha = qchisq(alpha, n - 1)\n",
    "T <= z_alpha"
   ]
  },
  {
   "cell_type": "markdown",
   "id": "e869f97e-b50d-4948-8fd5-61aca6f79f25",
   "metadata": {},
   "source": [
    "No cumple con la especificación."
   ]
  },
  {
   "cell_type": "markdown",
   "id": "623e4a12-90a0-4ee0-8d4a-c2b7bdf22a38",
   "metadata": {},
   "source": [
    "### Pregunta B\n",
    "\n",
    "Acotar el p-valor"
   ]
  },
  {
   "cell_type": "code",
   "execution_count": 119,
   "id": "7970397d-5ba8-4a4d-8b66-187f7db9c291",
   "metadata": {},
   "outputs": [
    {
     "data": {
      "text/html": [
       "0.503428342685353"
      ],
      "text/latex": [
       "0.503428342685353"
      ],
      "text/markdown": [
       "0.503428342685353"
      ],
      "text/plain": [
       "[1] 0.5034283"
      ]
     },
     "metadata": {},
     "output_type": "display_data"
    }
   ],
   "source": [
    "pchisq(T, n - 1)"
   ]
  },
  {
   "cell_type": "markdown",
   "id": "2a4f6714-0d29-44bd-b650-cdd277df17c0",
   "metadata": {},
   "source": [
    "### Pregunta C\n",
    "\n",
    "Encontrar la función de potencia $\\pi(\\sigma^2)$, implementarla en R y graficarla. ¿Es creciente o decreciente? ¿Cuánto vale en $\\sigma = 6$?\n",
    "\n",
    "$\\pi(\\sigma^2) = F_{\\mathcal{X}^2_{n-1}} \\Big( \\frac{\\sigma^2_0}{\\sigma^2} \\mathcal{X}^2_{n-1,1-\\alpha} \\Big)$"
   ]
  },
  {
   "cell_type": "code",
   "execution_count": 113,
   "id": "185cb62e-fa68-4d57-9eaa-6b96018b6c97",
   "metadata": {},
   "outputs": [
    {
     "data": {
      "text/html": [
       "0.95"
      ],
      "text/latex": [
       "0.95"
      ],
      "text/markdown": [
       "0.95"
      ],
      "text/plain": [
       "[1] 0.95"
      ]
     },
     "metadata": {},
     "output_type": "display_data"
    },
    {
     "data": {
      "image/png": "[encoded data removed]",
      "text/plain": [
       "plot without title"
      ]
     },
     "metadata": {
      "image/png": {
       "height": 420,
       "width": 420
      }
     },
     "output_type": "display_data"
    }
   ],
   "source": [
    "pi = function(var) pchisq(var0 / var * z_alpha, n - 1)\n",
    "curve(pi, from=16, to=256, xname='var')\n",
    "pi(36)"
   ]
  },
  {
   "cell_type": "markdown",
   "id": "377ce4b8-77a1-4187-8e7c-3db104d8c2bb",
   "metadata": {},
   "source": [
    "## Ejercicio 4\n",
    "\n",
    "Se supone que 1 de cada 10 fumadores prefiere la marca A. Después de una campaña publicitaria en cierta región de ventas, se entrevistó a 200 fumadores para determinar la efectividad de la campaña. El resultado de esta encuesta mostró que 26 personas preferían la marca A."
   ]
  },
  {
   "cell_type": "markdown",
   "id": "d7bf5b59-41ec-44f4-836a-c1a89b92bcaa",
   "metadata": {},
   "source": [
    "### Pregunta A\n",
    "\n",
    "¿Indican estos datos, a nivel aproximado 0.05, un aumento en la preferencia por la marca A?\n",
    "\n",
    "$p_0 = \\tfrac{1}{10} = 0.1$\n",
    "\n",
    "$H_0 : p = p_0$ vs $H_1 : p > p_0$\n",
    "\n",
    "$\\bar{X} = \\tfrac{26}{200} = 0.13$\n",
    "\n",
    "$\\alpha = 0.05$\n",
    "\n",
    "$T = \\sqrt{n} \\frac{\\bar{X} - p_0}{\\sqrt{p_0(1 - p_0)}}$\n",
    "\n",
    "Región de rechazo: $T \\geq z_{\\alpha}$"
   ]
  },
  {
   "cell_type": "code",
   "execution_count": 24,
   "id": "a7bdcb45-4202-4a19-ae84-c8ac0d2e2b08",
   "metadata": {},
   "outputs": [
    {
     "data": {
      "text/html": [
       "FALSE"
      ],
      "text/latex": [
       "FALSE"
      ],
      "text/markdown": [
       "FALSE"
      ],
      "text/plain": [
       "[1] FALSE"
      ]
     },
     "metadata": {},
     "output_type": "display_data"
    }
   ],
   "source": [
    "p0 = 0.1\n",
    "Xbar = 0.13\n",
    "n = 200\n",
    "alpha = 0.05\n",
    "T = sqrt(n) * (Xbar - p0) / sqrt(p0 * (1 - p0))\n",
    "z_alpha = qnorm(alpha, 0, 1, lower.tail=FALSE)\n",
    "T >= z_alpha"
   ]
  },
  {
   "cell_type": "markdown",
   "id": "c17fbcff-51d5-4a68-8308-62ed4f6e1350",
   "metadata": {},
   "source": [
    "No se rechaza la $H_0$ y por lo tanto no se puede concluir en base a la muestra tomada si aumentó la preferencia por la marca A."
   ]
  },
  {
   "cell_type": "markdown",
   "id": "fe1eb213-644e-4dc1-b866-59448c7db397",
   "metadata": {},
   "source": [
    "### Pregunta B\n",
    "\n",
    "Calcular el p-valor aproximado."
   ]
  },
  {
   "cell_type": "code",
   "execution_count": 25,
   "id": "af7d1f90-cb6e-4f6f-a889-59e634617727",
   "metadata": {},
   "outputs": [
    {
     "data": {
      "text/html": [
       "0.0786496035251426"
      ],
      "text/latex": [
       "0.0786496035251426"
      ],
      "text/markdown": [
       "0.0786496035251426"
      ],
      "text/plain": [
       "[1] 0.0786496"
      ]
     },
     "metadata": {},
     "output_type": "display_data"
    }
   ],
   "source": [
    "pnorm(T, 0, 1, lower.tail=FALSE)"
   ]
  },
  {
   "cell_type": "markdown",
   "id": "9fde657d-fbbe-4a91-a462-9b6521a6beff",
   "metadata": {},
   "source": [
    "### Pregunta C\n",
    "\n",
    "¿Cuál es la probabilidad aproximada de decidir que la campaña publicitaria no fue efectiva, cuando en realidad la proporción de preferencia por la marca A después de la campaña es 0.15?\n",
    "\n",
    "$\n",
    "\\begin{align*}\n",
    "P(T \\in R | p_0 = p)\n",
    "= P(T &\\geq z_\\alpha) \\\\\n",
    "= 1 - P(T &\\leq z_\\alpha) \\\\\n",
    "= 1 - P(\\sqrt{n} \\frac{\\bar{X} - p_0}{\\sqrt{p_0(1 - p_0)}} &\\leq z_\\alpha) \\\\\n",
    "= 1 - P(\\sqrt{n} \\frac{\\bar{X} - p + p - p_0}{\\sqrt{p_0(1 - p_0)}} \\frac{\\sqrt{p(1 - p)}}{\\sqrt{p(1 - p)}} &\\leq z_\\alpha) \\\\\n",
    "= 1 - P(\\sqrt{n} \\frac{\\bar{X} - p + p - p_0}{\\sqrt{p(1 - p)}} \\frac{\\sqrt{p(1 - p)}}{\\sqrt{p_0(1 - p_0)}} &\\leq z_\\alpha) \\\\\n",
    "= 1 - P \\Big( \\sqrt{n} \\big( \\frac{\\bar{X} - p}{\\sqrt{p(1 - p)}} + \\frac{p - p_0}{\\sqrt{p(1 - p)}} \\big) \\frac{\\sqrt{p(1 - p)}}{\\sqrt{p_0(1 - p_0)}} &\\leq z_\\alpha \\Big) \\\\\n",
    "= 1 - P \\Big( \\sqrt{n} \\big( \\frac{\\bar{X} - p}{\\sqrt{p(1 - p)}} + \\frac{p - p_0}{\\sqrt{p(1 - p)}} \\big) &\\leq z_\\alpha \\frac{\\sqrt{p_0(1 - p_0)}}{\\sqrt{p(1 - p)}} \\Big) \\\\\n",
    "= 1 - P \\Big( \\sqrt{n} \\frac{\\bar{X} - p}{\\sqrt{p(1 - p)}} &\\leq z_\\alpha \\frac{\\sqrt{p_0(1 - p_0)}}{\\sqrt{p(1 - p)}} - \\sqrt{n} \\frac{p - p_0}{\\sqrt{p(1 - p)}} \\Big) \\\\\n",
    "= 1 - P \\Big( Z &\\leq z_\\alpha \\frac{\\sqrt{p_0(1 - p_0)}}{\\sqrt{p(1 - p)}} - \\sqrt{n} \\frac{p - p_0}{\\sqrt{p(1 - p)}} \\Big)\n",
    "\\end{align*}\n",
    "$\n",
    "\n",
    "$\n",
    "\\pi(p)\n",
    "= 1 - P \\Big( Z \\leq z_\\alpha \\frac{\\sqrt{p_0(1 - p_0)}}{\\sqrt{p(1 - p)}} - \\sqrt{n} \\frac{p - p_0}{\\sqrt{p(1 - p)}} \\Big)\n",
    "= 1 - \\Phi \\Big( z_\\alpha \\frac{\\sqrt{p_0(1 - p_0)}}{\\sqrt{p(1 - p)}} - \\sqrt{n} \\frac{p - p_0}{\\sqrt{p(1 - p)}} \\Big)\n",
    "$\n",
    "\n",
    "$p \\in H_1 \\implies \\pi(p) = 1 - \\beta(p) \\iff \\beta(p) = 1 - \\pi(p)$"
   ]
  },
  {
   "cell_type": "code",
   "execution_count": 43,
   "id": "3505eeb9-3fef-410a-a3e2-8ffa436f0fd3",
   "metadata": {},
   "outputs": [
    {
     "data": {
      "text/html": [
       "0.274806005211727"
      ],
      "text/latex": [
       "0.274806005211727"
      ],
      "text/markdown": [
       "0.274806005211727"
      ],
      "text/plain": [
       "[1] 0.274806"
      ]
     },
     "metadata": {},
     "output_type": "display_data"
    }
   ],
   "source": [
    "p0 = 0.1\n",
    "p = 0.15\n",
    "sd0 = sqrt(p0 * (1 - p0))\n",
    "sd = sqrt(p * (1 - p))\n",
    "pnorm(z_alpha * (sd0 / sd) - sqrt(n) * (p - p0) / sd)"
   ]
  },
  {
   "cell_type": "markdown",
   "id": "cc2a154e-5295-4f20-a237-0d5f462d104f",
   "metadata": {},
   "source": [
    "### Pregunta D\n",
    "\n",
    "Implementar la función potencia y graficarla. ¿Qué características tiene esta función? Interpretar."
   ]
  },
  {
   "cell_type": "code",
   "execution_count": 64,
   "id": "e968ec8b-d5cb-409e-85ea-54c1211a1069",
   "metadata": {},
   "outputs": [
    {
     "data": {
      "image/png": "[encoded data removed]",
      "text/plain": [
       "plot without title"
      ]
     },
     "metadata": {
      "image/png": {
       "height": 420,
       "width": 420
      }
     },
     "output_type": "display_data"
    }
   ],
   "source": [
    "pi = function (p) {\n",
    "    p0 = 0.1\n",
    "    sd0 = sqrt(p0 * (1 - p0))\n",
    "    sd = sqrt(p * (1 - p))\n",
    "    return(1 - pnorm(z_alpha * (sd0 / sd) - sqrt(n) * (p - p0) / sd))\n",
    "}\n",
    "curve(pi, from=0, to=1, xname='p')"
   ]
  },
  {
   "cell_type": "markdown",
   "id": "76ce8dbf-474e-4a4c-bfd9-6091b914f14e",
   "metadata": {},
   "source": [
    "### Pregunta E\n",
    "\n",
    "¿Qué tamaño de muestra debería tomarse para que la probabilidad de c) fuese a lo sumo 0.05?\n",
    "\n",
    "$\n",
    "\\begin{align*}\n",
    "\\Phi \\Big( z_\\alpha \\frac{\\sqrt{p_0(1 - p_0)}}{\\sqrt{p(1 - p)}} - \\sqrt{n} \\frac{p - p_0}{\\sqrt{p(1 - p)}} \\Big) &\\leq 0.05 \\\\\n",
    "\\iff z_\\alpha \\frac{\\sqrt{p_0(1 - p_0)}}{\\sqrt{p(1 - p)}} - \\sqrt{n} \\frac{p - p_0}{\\sqrt{p(1 - p)}} &\\leq \\Phi^{-1}(0.05) \\\\\n",
    "\\iff z_\\alpha \\frac{\\sqrt{p_0(1 - p_0)}}{\\sqrt{p(1 - p)}} - \\Phi^{-1}(0.05) &\\leq \\sqrt{n} \\frac{p - p_0}{\\sqrt{p(1 - p)}} \\\\\n",
    "\\iff z_\\alpha \\frac{\\sqrt{p_0(1 - p_0)}}{p - p_0} - \\Phi^{-1}(0.05) \\frac{\\sqrt{p(1 - p)}}{p - p_0} &\\leq \\sqrt{n} \\\\\n",
    "\\iff \\Big( z_\\alpha \\frac{\\sqrt{p_0(1 - p_0)}}{p - p_0} - \\Phi^{-1}(0.05) \\frac{\\sqrt{p(1 - p)}}{p - p_0} \\Big)^2 &\\leq n\n",
    "\\end{align*}\n",
    "$"
   ]
  },
  {
   "cell_type": "code",
   "execution_count": 46,
   "id": "dccbe7e4-6264-43ee-a0c3-76f337e4f6a1",
   "metadata": {},
   "outputs": [
    {
     "data": {
      "text/html": [
       "468"
      ],
      "text/latex": [
       "468"
      ],
      "text/markdown": [
       "468"
      ],
      "text/plain": [
       "[1] 468"
      ]
     },
     "metadata": {},
     "output_type": "display_data"
    }
   ],
   "source": [
    "p0 = 0.1\n",
    "p = 0.15\n",
    "sd0 = sqrt(p0 * (1 - p0))\n",
    "sd = sqrt(p * (1 - p))\n",
    "ceiling((z_alpha * sd0 / (p - p0) - qnorm(0.05) * sd / (p - p0))^2)"
   ]
  },
  {
   "cell_type": "markdown",
   "id": "cdbbfa73-cbe7-48ee-8ac6-22128ef7e389",
   "metadata": {},
   "source": [
    "### Pregunta F\n",
    "\n",
    "Decidir si las siguientes afirmaciones son V o F. Justificar."
   ]
  },
  {
   "cell_type": "markdown",
   "id": "226da386-201d-4549-b53a-5c6bd4d87d9d",
   "metadata": {},
   "source": [
    "#### Item i\n",
    "\n",
    "Si la verdadera proporción de fumadores que prefieren la marca A es mayor que 0.15, la probabilidad de que este test rechace $H_0$ es mayor que 0.725.\n",
    "\n",
    "**Verdadero**"
   ]
  },
  {
   "cell_type": "code",
   "execution_count": 55,
   "id": "895e7fee-4698-4856-9765-30a05613e99d",
   "metadata": {},
   "outputs": [
    {
     "data": {
      "text/html": [
       "TRUE"
      ],
      "text/latex": [
       "TRUE"
      ],
      "text/markdown": [
       "TRUE"
      ],
      "text/plain": [
       "[1] TRUE"
      ]
     },
     "metadata": {},
     "output_type": "display_data"
    }
   ],
   "source": [
    "pi(0.15) >= 0.725"
   ]
  },
  {
   "cell_type": "markdown",
   "id": "86c2459e-0336-427b-90bb-903d3c660928",
   "metadata": {},
   "source": [
    "#### Item ii\n",
    "\n",
    "Cuánto más pequeña es la verdadera proporción de fumadores que prefieren la marca A más improbable es que el test rechace $H_0$.\n",
    "\n",
    "**Verdadero**"
   ]
  },
  {
   "cell_type": "markdown",
   "id": "c08e896a-f8f5-4a7c-a2e8-8d2b8ddd8295",
   "metadata": {},
   "source": [
    "#### Item iii\n",
    "\n",
    "$\\pi(0.1) = 0.05$\n",
    "\n",
    "**Verdadero**"
   ]
  },
  {
   "cell_type": "code",
   "execution_count": 62,
   "id": "0204b6da-f18d-44ef-b1b5-809c8339fb3b",
   "metadata": {},
   "outputs": [
    {
     "data": {
      "text/html": [
       "0.05"
      ],
      "text/latex": [
       "0.05"
      ],
      "text/markdown": [
       "0.05"
      ],
      "text/plain": [
       "[1] 0.05"
      ]
     },
     "metadata": {},
     "output_type": "display_data"
    }
   ],
   "source": [
    "pi(0.1)"
   ]
  },
  {
   "cell_type": "markdown",
   "id": "fff095dd-f49e-48f1-a73a-c40fcc974cf5",
   "metadata": {},
   "source": [
    "#### Item iv\n",
    "\n",
    "La probabilidad de error de tipo II es una función creciente de $p$, donde $p$ es la verdadera proporción de fumadores que prefieren la marca A.\n",
    "\n",
    "**Falso**"
   ]
  },
  {
   "cell_type": "markdown",
   "id": "89c7d4d1-b709-46ab-9070-943f2e9152a6",
   "metadata": {},
   "source": [
    "## Ejercicio 5\n",
    "\n",
    "Se supone que el tiempo de duración de cierto tipo de lamparitas tiene distribución exponencial. Una fábrica garantiza que el tiempo medio de vida de las lamparitas que produce es mayor que 50 días, y la empresa vendedora quiere asegurarse que la producción satisface las especificaciones antes de sacarla a la venta. Para ello toma al azar una muestra de 40 lamparitas y observa el tiempo de duración de las mismas, obteniendo un promedio de 53 días."
   ]
  },
  {
   "cell_type": "markdown",
   "id": "46203d26-ebf1-4f8e-84c0-0fc9152c22fd",
   "metadata": {},
   "source": [
    "### Pregunta A\n",
    "\n",
    "Proponer un test de nivel exacto con hipótesis nula simple para este problema de manera tal que la probabilidad de que la empresa decida no vender si no se satisfacen los requerimientos sea del 0.95.\n",
    "\n",
    "$n = 40$"
   ]
  },
  {
   "cell_type": "markdown",
   "id": "2683c4e5-0d08-45b9-8900-821cdd3782d1",
   "metadata": {},
   "source": [
    "### Pregunta B\n",
    "\n",
    "¿Qué decisión se toma en base a los tiempos observados?"
   ]
  },
  {
   "cell_type": "markdown",
   "id": "6b00be7d-a77e-4cac-a65b-bd1a9c547134",
   "metadata": {},
   "source": [
    "### Pregunta C\n",
    "\n",
    "Repetir a) usando un nivel aproximado."
   ]
  },
  {
   "cell_type": "markdown",
   "id": "3e435a03-5854-43d7-b20d-c968b5e52807",
   "metadata": {},
   "source": [
    "### Pregunta D\n",
    "\n",
    "Calcular la función de potencia aproximada para el test del ítem anterior. ¿Este test conserva el nivel aproximado 5% si ampliamos la hipótesis nula, reemplazándola por una hipótesis compuesta?"
   ]
  },
  {
   "cell_type": "markdown",
   "id": "889e062c-f5c9-4ad5-804b-d44fa5027345",
   "metadata": {},
   "source": [
    "### Pregunta E\n",
    "\n",
    "Utilizando el test aproximado, ¿qué probabilidad tiene la empresa de no sacar la producción a la venta, si el promedio de vida verdadero es 52 días?"
   ]
  },
  {
   "cell_type": "markdown",
   "id": "ed5d9b37-e2b3-42c8-aca6-6045c6fc8fa5",
   "metadata": {},
   "source": [
    "### Pregunta F\n",
    "\n",
    "¿Cuál debería ser el tamaño de la muestra para que la probabilidad de d) fuese 0.1?"
   ]
  },
  {
   "cell_type": "markdown",
   "id": "0fb212dc-0bff-49f1-9ac6-29a008faf3c2",
   "metadata": {},
   "source": [
    "## Ejercicio 6\n",
    "\n",
    "Se desea determinar si un dado de seis caras está cargado o no. Para ello se arroja el dado 1000 veces obteniéndose los resultados contenidos en el archivo dado.txt, que se encuentra en la página web de la materia.\n",
    "\n",
    "Estamos interesados en testear las hipótesis $H_0$ : El dado es equilibrado vs. $H_1$ : El dado está cargado. Para ello consideramos distintos tests:"
   ]
  },
  {
   "cell_type": "code",
   "execution_count": 141,
   "id": "38df0649-242a-4eb4-91c7-7b2e8cecd8f1",
   "metadata": {},
   "outputs": [],
   "source": [
    "dado = scan('./datasets/p9/dado.txt')\n",
    "n = length(dado)"
   ]
  },
  {
   "cell_type": "markdown",
   "id": "cd7dbb75-4d49-4bfc-8b16-70a5b95f6cea",
   "metadata": {},
   "source": [
    "Todas las preguntas tienen la misma estructura de tests:\n",
    "\n",
    "$H_0 : p = p_0$ vs $H_1 : p \\neq p_0$\n",
    "\n",
    "$p_0 = 0.5$\n",
    "\n",
    "$p$ = proporción de la v.a. de cada pregunta en cuestión\n",
    "\n",
    "$\\alpha = 0.05$\n",
    "\n",
    "$T = \\sqrt{n} \\frac{p - p_0}{\\sqrt{p_0(1 - p_0)}}$\n",
    "\n",
    "Región de rechazo: $|T| \\geq z_{\\alpha/2}$"
   ]
  },
  {
   "cell_type": "code",
   "execution_count": 119,
   "id": "6938169e-f35a-474c-9b7d-55ded5a0a3e4",
   "metadata": {},
   "outputs": [],
   "source": [
    "alpha = 0.05\n",
    "\n",
    "calcularT = function(p, p0) sqrt(n) * (p - p0) / sqrt(p0 * (1 - p0))\n",
    "\n",
    "rechazar = function(p, p0) {\n",
    "    T = calcularT(p, p0)\n",
    "    z_alpha2 = qnorm(alpha / 2, 0, 1, lower.tail=FALSE)\n",
    "    return(abs(T) >= z_alpha2)\n",
    "}\n",
    "\n",
    "pValor = function(p, p0) {\n",
    "    T = calcularT(p, p0)\n",
    "    return(2 * pnorm(abs(T), 0, 1, lower.tail=FALSE))\n",
    "}"
   ]
  },
  {
   "cell_type": "markdown",
   "id": "0a5da2c9-31d0-4442-988b-8fd308fa1fd5",
   "metadata": {},
   "source": [
    "### Pregunta A\n",
    "\n",
    "Sea $X$ = cantidad de veces que el resultado del dado es par. Plantear las hipótesis y determinar la región de rechazo para un test de nivel aproximado $\\alpha = 0.05$ basado en $X$. Para el conjunto de datos obtenido, ¿cuál es el p-valor aproximado?, ¿cuál es la decisión?"
   ]
  },
  {
   "cell_type": "code",
   "execution_count": 128,
   "id": "bb0ace94-1462-4c54-8dea-c8c8aea154e9",
   "metadata": {},
   "outputs": [
    {
     "data": {
      "text/html": [
       "FALSE"
      ],
      "text/latex": [
       "FALSE"
      ],
      "text/markdown": [
       "FALSE"
      ],
      "text/plain": [
       "[1] FALSE"
      ]
     },
     "metadata": {},
     "output_type": "display_data"
    },
    {
     "data": {
      "text/html": [
       "0.342781711147911"
      ],
      "text/latex": [
       "0.342781711147911"
      ],
      "text/markdown": [
       "0.342781711147911"
      ],
      "text/plain": [
       "[1] 0.3427817"
      ]
     },
     "metadata": {},
     "output_type": "display_data"
    }
   ],
   "source": [
    "p0 = 0.5\n",
    "p = sum(dado %% 2 == 0) / n\n",
    "rechazar(p, p0)\n",
    "pValor(p, p0)"
   ]
  },
  {
   "cell_type": "markdown",
   "id": "bfe95187-947a-4c59-b044-2308c0cbfb9c",
   "metadata": {},
   "source": [
    "### Pregunta B\n",
    "\n",
    "Sea $Y$ = cantidad de veces que el resultado del dado es menor o igual que 3. Plantear claramente las hipótesis y determinar la región de rechazo para un test de nivel aproximado $\\alpha = 0.05$ basado en $Y$. Para el conjunto de datos obtenido, ¿cuál es el p-valor aproximado?, ¿cuál es la decisión?."
   ]
  },
  {
   "cell_type": "code",
   "execution_count": 131,
   "id": "02313672-c0fe-4dd3-a3bd-ec0c1689e38a",
   "metadata": {},
   "outputs": [
    {
     "data": {
      "text/html": [
       "FALSE"
      ],
      "text/latex": [
       "FALSE"
      ],
      "text/markdown": [
       "FALSE"
      ],
      "text/plain": [
       "[1] FALSE"
      ]
     },
     "metadata": {},
     "output_type": "display_data"
    },
    {
     "data": {
      "text/html": [
       "0.704336413488452"
      ],
      "text/latex": [
       "0.704336413488452"
      ],
      "text/markdown": [
       "0.704336413488452"
      ],
      "text/plain": [
       "[1] 0.7043364"
      ]
     },
     "metadata": {},
     "output_type": "display_data"
    }
   ],
   "source": [
    "p0 = 0.5\n",
    "p = sum(dado <= 3) / n\n",
    "rechazar(p, p0)\n",
    "pValor(p, p0)"
   ]
  },
  {
   "cell_type": "markdown",
   "id": "a1d6b58d-85e7-4f90-a4fd-7625e607e07a",
   "metadata": {},
   "source": [
    "### Pregunta C\n",
    "\n",
    "Sea $W$ = cantidad de veces que el resultado del dado es exactamente 3. Plantear claramente las hipótesis y determinar la región de rechazo para un test de nivel aproximado $\\alpha = 0.05$ basado en $W$. Para el conjunto de datos obtenido, ¿cuál es el p-valor aproximado?, ¿cuál es la decisión?."
   ]
  },
  {
   "cell_type": "code",
   "execution_count": 135,
   "id": "b4017644-f0db-420f-88e8-53e461406a64",
   "metadata": {},
   "outputs": [
    {
     "data": {
      "text/html": [
       "FALSE"
      ],
      "text/latex": [
       "FALSE"
      ],
      "text/markdown": [
       "FALSE"
      ],
      "text/plain": [
       "[1] FALSE"
      ]
     },
     "metadata": {},
     "output_type": "display_data"
    },
    {
     "data": {
      "text/html": [
       "0.820988186801895"
      ],
      "text/latex": [
       "0.820988186801895"
      ],
      "text/markdown": [
       "0.820988186801895"
      ],
      "text/plain": [
       "[1] 0.8209882"
      ]
     },
     "metadata": {},
     "output_type": "display_data"
    }
   ],
   "source": [
    "p0 = 1 / 6\n",
    "p = sum(dado == 3) / n\n",
    "rechazar(p, p0)\n",
    "pValor(p, p0)"
   ]
  },
  {
   "cell_type": "markdown",
   "id": "7fe2ab21-b780-44da-81a0-a64514782ac6",
   "metadata": {},
   "source": [
    "### Pregunta D\n",
    "\n",
    "Sea $U$ = cantidad de veces que el resultado del dado es exactamente 2. Plantear claramente las hipótesis y determinar la región de rechazo para un test de nivel aproximado $\\alpha = 0.05$ basado en $U$. Para el conjunto de datos obtenido, ¿cuál es el p-valor aproximado?, ¿cuál es la decisión?."
   ]
  },
  {
   "cell_type": "code",
   "execution_count": 139,
   "id": "c40fe176-a1b4-45a2-80ac-84e7c4029579",
   "metadata": {},
   "outputs": [
    {
     "data": {
      "text/html": [
       "TRUE"
      ],
      "text/latex": [
       "TRUE"
      ],
      "text/markdown": [
       "TRUE"
      ],
      "text/plain": [
       "[1] TRUE"
      ]
     },
     "metadata": {},
     "output_type": "display_data"
    },
    {
     "data": {
      "text/html": [
       "3.45063384340428e-14"
      ],
      "text/latex": [
       "3.45063384340428e-14"
      ],
      "text/markdown": [
       "3.45063384340428e-14"
      ],
      "text/plain": [
       "[1] 3.450634e-14"
      ]
     },
     "metadata": {},
     "output_type": "display_data"
    }
   ],
   "source": [
    "p0 = 1 / 6\n",
    "p = sum(dado == 2) / n\n",
    "rechazar(p, p0)\n",
    "pValor(p, p0)"
   ]
  },
  {
   "cell_type": "markdown",
   "id": "429d4ea1-34b9-402f-aa49-7ee7ffbb1396",
   "metadata": {},
   "source": [
    "### Pregunta E\n",
    "\n",
    "En base a los resultados obtenidos. ¿Qué decisión tomaría? ¿Está cargado el dado?\n",
    "\n",
    "En base a los tests realizados, podemos concluir que el 2 está cargado.\n",
    "\n",
    "No obstante, si miramos un poco más los datos, no es solo el 2 que está cargado.\n",
    "\n",
    "Completar con más explicación, mientras tanto, mirate el histograma:"
   ]
  },
  {
   "cell_type": "code",
   "execution_count": 148,
   "id": "3222ea31-3674-4588-b313-462e381e194c",
   "metadata": {},
   "outputs": [
    {
     "data": {
      "image/png": "[encoded data removed]",
      "text/plain": [
       "Plot with title “Histogram of dado”"
      ]
     },
     "metadata": {
      "image/png": {
       "height": 420,
       "width": 420
      }
     },
     "output_type": "display_data"
    }
   ],
   "source": [
    "hist(dado)"
   ]
  },
  {
   "cell_type": "markdown",
   "id": "09801fcb-00cf-404d-9168-afecb284bb9b",
   "metadata": {},
   "source": [
    "## Ejercicio 7\n",
    "\n",
    "En cada caso indique si la afirmación es verdadera o falsa y justifique:\n",
    "\n",
    "### Pregunta A\n",
    "\n",
    "El nivel de significación de un test es igual a la probabilidad de que la hipótesis nula sea cierta.\n",
    "\n",
    "**Falso**\n",
    "\n",
    "Solo podemos rechazar la $H_0$ pero no podemos afirmar si es verdadera o no.\n",
    "\n",
    "### Pregunta B\n",
    "\n",
    "Un error de tipo II es más grave que un error de tipo I.\n",
    "\n",
    "**Falso**\n",
    "\n",
    "Por lo general es peor difamar que no decir nada.\n",
    "\n",
    "### Pregunta C\n",
    "\n",
    "Si el p-valor es 0.3, el test correspondiente rechazará al nivel 0.01.\n",
    "\n",
    "**Falso**\n",
    "\n",
    "La regla es al revés: p-valor $ \\leq \\alpha \\iff $ rechazamos $H_0$\n",
    "\n",
    "### Pregunta D\n",
    "\n",
    "Si un test rechaza al nivel de significación 0.06, entonces el p-valor es menor o igual a 0.06.\n",
    "\n",
    "**Verdadero**\n",
    "\n",
    "### Pregunta E\n",
    "\n",
    "Si un intervalo de confianza de nivel 0.99 para la media $\\mu$ de una distribución normal calculado a partir de una muestra da como resultado $(2.1, 3.3)$, entonces el test para las hipótesis $H_0 : \\mu = 3$ vs. $H_1 : \\mu \\neq 3$ basado en los mismos datos rechazará la hipótesis nula al nivel 0.01.\n",
    "\n",
    "**Falso**"
   ]
  },
  {
   "cell_type": "code",
   "execution_count": 149,
   "id": "137169a8-3172-4c0e-a003-92b424f132ef",
   "metadata": {},
   "outputs": [
    {
     "data": {
      "text/html": [
       "<style>\n",
       ".list-inline {list-style: none; margin:0; padding: 0}\n",
       ".list-inline>li {display: inline-block}\n",
       ".list-inline>li:not(:last-child)::after {content: \"\\00b7\"; padding: 0 .5ex}\n",
       "</style>\n",
       "<ol class=list-inline><li>-0.9</li><li>0.3</li></ol>\n"
      ],
      "text/latex": [
       "\\begin{enumerate*}\n",
       "\\item -0.9\n",
       "\\item 0.3\n",
       "\\end{enumerate*}\n"
      ],
      "text/markdown": [
       "1. -0.9\n",
       "2. 0.3\n",
       "\n",
       "\n"
      ],
      "text/plain": [
       "[1] -0.9  0.3"
      ]
     },
     "metadata": {},
     "output_type": "display_data"
    }
   ],
   "source": [
    "c(2.1, 3.3) - 3"
   ]
  },
  {
   "cell_type": "code",
   "execution_count": 151,
   "id": "d74d2b62-c2f0-40da-a296-e5f49628b09c",
   "metadata": {},
   "outputs": [
    {
     "data": {
      "text/html": [
       "-2.5758293035489"
      ],
      "text/latex": [
       "-2.5758293035489"
      ],
      "text/markdown": [
       "-2.5758293035489"
      ],
      "text/plain": [
       "[1] -2.575829"
      ]
     },
     "metadata": {},
     "output_type": "display_data"
    },
    {
     "data": {
      "text/html": [
       "2.5758293035489"
      ],
      "text/latex": [
       "2.5758293035489"
      ],
      "text/markdown": [
       "2.5758293035489"
      ],
      "text/plain": [
       "[1] 2.575829"
      ]
     },
     "metadata": {},
     "output_type": "display_data"
    }
   ],
   "source": [
    "alpha = 0.01\n",
    "qnorm(alpha / 2, 0, 1)\n",
    "qnorm(alpha / 2, 0, 1, lower.tail=FALSE)"
   ]
  }
 ],
 "metadata": {
  "kernelspec": {
   "display_name": "R",
   "language": "R",
   "name": "ir"
  },
  "language_info": {
   "codemirror_mode": "r",
   "file_extension": ".r",
   "mimetype": "text/x-r-source",
   "name": "R",
   "pygments_lexer": "r",
   "version": "4.1.0"
  }
 },
 "nbformat": 4,
 "nbformat_minor": 5
}
