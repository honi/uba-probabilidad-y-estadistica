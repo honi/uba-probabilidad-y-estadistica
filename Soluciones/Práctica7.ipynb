{
 "cells": [
  {
   "cell_type": "markdown",
   "id": "1581ad7f-f155-4170-89ab-67dae15a895c",
   "metadata": {},
   "source": [
    "# Práctica 7"
   ]
  },
  {
   "cell_type": "markdown",
   "id": "79fc85d5-9ee1-42ee-921e-0d236fd46e2a",
   "metadata": {},
   "source": [
    "## Ejercicio 1\n",
    "\n",
    "Se analizaron 12 piezas de pan blanco de cierta marca elegidas al azar. Se determinó el porcentaje de carbohidratos contenido en cada una de las piezas, obteniéndose los siguientes valores:"
   ]
  },
  {
   "cell_type": "code",
   "execution_count": 120,
   "id": "d63f957c-8ef1-4f13-8aee-814dd4fff011",
   "metadata": {},
   "outputs": [],
   "source": [
    "muestra = c(76.93, 76.88, 77.07, 76.68, 76.39, 75.09, 77.67, 76.88, 78.15, 76.50, 77.16, 76.42)"
   ]
  },
  {
   "cell_type": "markdown",
   "id": "b0dff5d1-6ced-4ad4-bf35-c4174e4c4185",
   "metadata": {},
   "source": [
    "### Pregunta A\n",
    "\n",
    "Estimar la esperanza del porcentaje de carbohidratos contenido en una pieza de pan de esta marca."
   ]
  },
  {
   "cell_type": "code",
   "execution_count": 121,
   "id": "3272a824-82b8-4712-9b05-40d778900c3c",
   "metadata": {},
   "outputs": [
    {
     "data": {
      "text/html": [
       "76.8183333333333"
      ],
      "text/latex": [
       "76.8183333333333"
      ],
      "text/markdown": [
       "76.8183333333333"
      ],
      "text/plain": [
       "[1] 76.81833"
      ]
     },
     "metadata": {},
     "output_type": "display_data"
    }
   ],
   "source": [
    "mean(muestra)"
   ]
  },
  {
   "cell_type": "markdown",
   "id": "4bfe3577-afc1-4c79-af21-6272efe7c343",
   "metadata": {},
   "source": [
    "### Pregunta B\n",
    "\n",
    "Estimar la mediana del porcentaje de carbohidratos contenido en una pieza de pan de esta marca."
   ]
  },
  {
   "cell_type": "code",
   "execution_count": 122,
   "id": "3c22a2e9-b60c-4eb7-8bc8-d074cdfe2b3a",
   "metadata": {},
   "outputs": [
    {
     "data": {
      "text/html": [
       "76.88"
      ],
      "text/latex": [
       "76.88"
      ],
      "text/markdown": [
       "76.88"
      ],
      "text/plain": [
       "[1] 76.88"
      ]
     },
     "metadata": {},
     "output_type": "display_data"
    }
   ],
   "source": [
    "median(muestra)"
   ]
  },
  {
   "cell_type": "markdown",
   "id": "8575668b-4038-40f7-976d-323668107095",
   "metadata": {},
   "source": [
    "### Pregunta C\n",
    "\n",
    "Estimar la probabilidad de que el porcentaje de carbohidratos de una pieza de pan de esta marca no exceda el 76.5%."
   ]
  },
  {
   "cell_type": "code",
   "execution_count": 123,
   "id": "f5fcb56b-17de-45a2-aad8-a662886d4fc5",
   "metadata": {},
   "outputs": [
    {
     "data": {
      "text/html": [
       "0.333333333333333"
      ],
      "text/latex": [
       "0.333333333333333"
      ],
      "text/markdown": [
       "0.333333333333333"
      ],
      "text/plain": [
       "[1] 0.3333333"
      ]
     },
     "metadata": {},
     "output_type": "display_data"
    }
   ],
   "source": [
    "sum(muestra <= 76.5) / length(muestra)"
   ]
  },
  {
   "cell_type": "markdown",
   "id": "82d51d77-4413-409d-865a-77f129ff586d",
   "metadata": {},
   "source": [
    "## Ejercicio 2\n",
    "\n",
    "Sea $X_1, \\dots, X_n$ una muestra aleatoria de una distribución $\\mathcal{N}(\\mu, \\sigma^2)$. Obtener los estimadores de máxima verosimilitud (MV) de:"
   ]
  },
  {
   "cell_type": "markdown",
   "id": "a826e56a-55bf-4a49-afae-be683d2b092e",
   "metadata": {},
   "source": [
    "### Pregunta C\n",
    "\n",
    "El par $(\\mu, \\sigma^2)$ simultáneamente.\n",
    "\n",
    "Podemos directamente plantear las fórmulas correspondientes para los parámetros $\\mu$ y $\\sigma$ de una distribución normal. Sino, usamos la definición de los EMV, planteamos un sistema de 2 ecuaciones (1 para cada parámetro) y luego despejamos. Eso sería la demostración de cómo se llegan a estas fórmulas.\n",
    "\n",
    "$\\hat{\\mu} = \\bar{X}$\n",
    "\n",
    "$\n",
    "\\begin{align*}\n",
    "\\hat{\\sigma}^2 = \\frac{\\sum_{i=1}^{n} (X_i - \\bar{X})^2}{n}\n",
    "\\end{align*}\n",
    "$\n",
    "\n",
    "*Nota: En el apunte de Bianco y Martínez (2004), página 166, está el desarrollo completo de cómo llegar a estas fórmulas.*"
   ]
  },
  {
   "cell_type": "markdown",
   "id": "562259e2-5f1a-4958-a482-c8b6cc83a87d",
   "metadata": {},
   "source": [
    "### Pregunta A\n",
    "\n",
    "$\\mu$, siendo $\\sigma^2 = \\sigma^2_0$ conocida.\n",
    "\n",
    "Como $\\sigma$ es conocida, solo estimamos $\\mu$.\n",
    "\n",
    "$\\hat{\\mu} = \\bar{X}$"
   ]
  },
  {
   "cell_type": "markdown",
   "id": "06a4ea36-0d70-457d-bd6f-4aa0efa141b6",
   "metadata": {},
   "source": [
    "### Pregunta B\n",
    "\n",
    "$\\sigma^2$, siendo $\\mu = \\mu_0$ conocida.\n",
    "\n",
    "De forma análoga, ahora solo estimamos $\\sigma$. Observar que el estimador para $\\mu$ no depende de $\\sigma$, mientras que en este caso, el estimador de $\\sigma$ sí depende de $\\mu$. Por lo tanto, no hay que usar tal cual las fórmulas genéricas de los estimadores, sino retroceder algunos pasos antes de reemplazar $\\mu$ por su estimador y en cambio reemplazarlo por $\\mu_0$.\n",
    "\n",
    "$\n",
    "\\begin{align*}\n",
    "\\hat{\\sigma}^2 = \\frac{\\sum_{i=1}^{n} (X_i - \\mu_0)^2}{n}\n",
    "\\end{align*}\n",
    "$"
   ]
  },
  {
   "cell_type": "markdown",
   "id": "34e3d504-9593-49b3-b422-171b44b789fe",
   "metadata": {},
   "source": [
    "## Ejercicio 3"
   ]
  },
  {
   "cell_type": "markdown",
   "id": "bd5084e4-c031-4aaf-bf5a-e715f8ff0901",
   "metadata": {},
   "source": [
    "### Pregunta A\n",
    "\n",
    "Una máquina envasa caramelos, siendo el peso neto (en gramos) de cada bolsa una v.a. con distribución normal. Los siguientes datos corresponden al peso de 15 bolsas elegidas al azar:\n",
    "\n",
    "```\n",
    "210 197 187 217 194 208 220 199 193 203 181 212 188 196 185\n",
    "```\n",
    "\n",
    "Usando el método de MV, indique el valor estimado de la media y la varianza del peso neto de cada bolsa de caramelos envasada por esta máquina."
   ]
  },
  {
   "cell_type": "code",
   "execution_count": 124,
   "id": "e5dff432-246f-43bb-8c5b-e0ebb1e840f0",
   "metadata": {},
   "outputs": [],
   "source": [
    "X = c(210, 197, 187, 217, 194, 208, 220, 199, 193, 203, 181, 212, 188, 196, 185)\n",
    "n = length(X)"
   ]
  },
  {
   "cell_type": "code",
   "execution_count": 125,
   "id": "4459f45c-e1cb-42e3-81b9-bbcd63c58db6",
   "metadata": {},
   "outputs": [
    {
     "data": {
      "text/html": [
       "199.333333333333"
      ],
      "text/latex": [
       "199.333333333333"
      ],
      "text/markdown": [
       "199.333333333333"
      ],
      "text/plain": [
       "[1] 199.3333"
      ]
     },
     "metadata": {},
     "output_type": "display_data"
    }
   ],
   "source": [
    "mu = mean(X)\n",
    "mu"
   ]
  },
  {
   "cell_type": "code",
   "execution_count": 126,
   "id": "613bdac8-2552-41f5-8b1f-783b6555a557",
   "metadata": {},
   "outputs": [
    {
     "data": {
      "text/html": [
       "133.955555555556"
      ],
      "text/latex": [
       "133.955555555556"
      ],
      "text/markdown": [
       "133.955555555556"
      ],
      "text/plain": [
       "[1] 133.9556"
      ]
     },
     "metadata": {},
     "output_type": "display_data"
    }
   ],
   "source": [
    "sigma = sqrt(sum((X - mean(X))^2) / n)\n",
    "sigma^2"
   ]
  },
  {
   "cell_type": "markdown",
   "id": "e7a4e4c2-874e-483f-bf57-65938c87db2d",
   "metadata": {},
   "source": [
    "### Pregunta B\n",
    "\n",
    "Con cierto instrumento se realizan 20 mediciones de una magnitud física $\\mu$. Cada observación es de la forma $X = \\mu + \\epsilon$, donde $\\epsilon$ es el error de medición (aleatorio). Se obtuvieron los siguientes valores:\n",
    "\n",
    "```\n",
    "25.11 25.02 25.16 24.98 24.83 25.05 24.94 25.04 24.99 24.96 25.03 24.97 24.93 25.12 25.01 25.12 24.90 24.98 25.10 24.96\n",
    "```\n",
    "\n",
    "Suponiendo que los errores de medición tienen distribución normal con media cero y varianza 0.01, estimar $\\mu$. ¿Cuál es la varianza del estimador de $\\mu$?\n",
    "\n",
    "$\\epsilon \\sim \\mathcal{N}(0, 0.01)$\n",
    "\n",
    "$X = \\mu + \\epsilon \\implies X \\sim \\mathcal{N}(\\mu, 0.01)$\n",
    "\n",
    "No se exactamente cuál es la justificación 100% formal de esto último, pero como en este contexto $\\mu$ representa una magnitud física, en esencia es una constante que se suma al error de medición $\\epsilon$. En efecto, esto \"desfaza\" de forma constante la distribución normal que trae $\\epsilon$ generando así la v.a. $X$ que consecuentemente también tiene distribución normal, solo que desfazada respecto a la de $\\epsilon$. A su vez, como la esperanza de $\\epsilon$ era cero, la esperanza de $X$ termina siendo la constante $\\mu$. Mientras que la varianza se mentiene igual a la de $\\epsilon$ ya que la suma de constantes no afecta a la varianza.\n",
    "\n",
    "Dicho todo esto, ahora podemos estimar $\\mu$ usando la fórmula correspondiente para una distribución normal.\n",
    "\n",
    "$\\hat{\\mu} = \\bar{X}$"
   ]
  },
  {
   "cell_type": "code",
   "execution_count": 127,
   "id": "d953abda-fdcd-4f64-8b17-ea1067e6e5be",
   "metadata": {},
   "outputs": [
    {
     "data": {
      "text/html": [
       "25.01"
      ],
      "text/latex": [
       "25.01"
      ],
      "text/markdown": [
       "25.01"
      ],
      "text/plain": [
       "[1] 25.01"
      ]
     },
     "metadata": {},
     "output_type": "display_data"
    }
   ],
   "source": [
    "X = c(25.11, 25.02, 25.16, 24.98, 24.83, 25.05, 24.94, 25.04, 24.99, 24.96, 25.03, 24.97, 24.93, 25.12, 25.01, 25.12, 24.90, 24.98, 25.10, 24.96)\n",
    "mu = mean(X)\n",
    "mu"
   ]
  },
  {
   "cell_type": "markdown",
   "id": "03a49cc9-8d17-4c62-8a11-aff0fb700e14",
   "metadata": {},
   "source": [
    "Para calcular la varianza del estimador de $\\mu$ podemos hacer lo siguiente.\n",
    "\n",
    "Recordar que: $V(\\mu + \\epsilon_i) = V(\\epsilon_i) = 0.01$ (pues $\\mu$ es una constante y todas las $\\epsilon$ son i.i.d.)\n",
    "\n",
    "$\n",
    "\\begin{align*}\n",
    "V(\\hat{\\mu})\n",
    "= V(\\bar{X})\n",
    "= V\\Big(\\frac{\\sum_{i=1}^{20} X_i}{20}\\Big)\n",
    "= V\\Big(\\frac{\\sum_{i=1}^{20} \\mu + \\epsilon_i}{20}\\Big)\n",
    "= \\frac{1}{20^2} \\sum_{i=1}^{20} V(\\mu + \\epsilon_i)\n",
    "= \\frac{20 * 0.01}{20^2}\n",
    "= \\frac{0.01}{20}\n",
    "= 0.0005\n",
    "\\end{align*}\n",
    "$"
   ]
  },
  {
   "cell_type": "markdown",
   "id": "996cdb70-3ef8-4d22-9dae-34a2fb245524",
   "metadata": {},
   "source": [
    "### Pregunta C\n",
    "\n",
    "Para conocer la precisión de un sistema de medición se mide 24 veces una magnitud conocida $\\mu_0 = 12$, obteniéndose los siguientes valores:\n",
    "\n",
    "```\n",
    "12.51 11.66 11.91 12.25 11.54 11.36 12.40 12.19 12.88 12.16 12.69 12.91 12.12 11.02 12.53 11.77 12.72 10.56 11.52 11.66 12.25 12.09 11.48 12.36\n",
    "```\n",
    "\n",
    "Estimar la precisión (es decir, la varianza del error de medición), suponiendo que los errores están normalmente distribuídos con media cero."
   ]
  },
  {
   "cell_type": "markdown",
   "id": "f76c0fb3-61b9-4d06-a9c4-82a8153cbbc0",
   "metadata": {},
   "source": [
    "Sea $\\epsilon \\sim \\mathcal{N}(0, \\sigma^2)$ el error de una medición.\n",
    "\n",
    "Sea $X = \\mu_0 + \\epsilon$ el valor de una medición.\n",
    "\n",
    "$X \\sim \\mathcal{N}(\\mu_0, \\sigma^2)$ (por la misma justificación que la pregunta anterior)\n",
    "\n",
    "Ahora usamos la fórmula para estimar $\\sigma$ de una distribución normal.\n",
    "\n",
    "$\n",
    "\\begin{align*}\n",
    "\\hat{\\sigma}^2 = \\frac{\\sum_{i=1}^{24} (X_i - \\mu_0)^2}{24}\n",
    "\\end{align*}\n",
    "$"
   ]
  },
  {
   "cell_type": "code",
   "execution_count": 128,
   "id": "d1b96784-d26a-42e7-b150-43bd93152f84",
   "metadata": {},
   "outputs": [
    {
     "data": {
      "text/html": [
       "0.336875"
      ],
      "text/latex": [
       "0.336875"
      ],
      "text/markdown": [
       "0.336875"
      ],
      "text/plain": [
       "[1] 0.336875"
      ]
     },
     "metadata": {},
     "output_type": "display_data"
    }
   ],
   "source": [
    "X = c(12.51, 11.66, 11.91, 12.25, 11.54, 11.36, 12.40, 12.19, 12.88, 12.16, 12.69, 12.91, 12.12, 11.02, 12.53, 11.77, 12.72, 10.56, 11.52, 11.66, 12.25, 12.09, 11.48, 12.36)\n",
    "n = length(X)\n",
    "mu0 = 12\n",
    "var = sum((X - mu0)^2) / n\n",
    "var"
   ]
  },
  {
   "cell_type": "markdown",
   "id": "96250cc1-5b71-48c4-bd81-42d892125534",
   "metadata": {},
   "source": [
    "## Ejercicio 4\n",
    "\n",
    "Se sabe que el tiempo de duración de una clase de lámparas tiene distribución $\\mathcal{E}(\\theta)$. Consideremos el siguiente experimento. Se seleccionan $n$ lámparas al azar y se registran sus tiempos de duración: $X_1, \\dots, X_n$."
   ]
  },
  {
   "cell_type": "markdown",
   "id": "4b2132d7-0a44-4f67-b287-ec9a8587a9c7",
   "metadata": {},
   "source": [
    "### Pregunta A\n",
    "\n",
    "Calcular el estimador de momentos y de MV de $\\theta$, y también del percentil 90 (o cuantil 0.9) del tiempo de duración de una lámpara bajo el modelo propuesto.\n",
    "\n",
    "**Estimador de momentos**\n",
    "\n",
    "$\\bar{X} = E(X) \\iff \\bar{X} = \\tfrac{1}{\\theta} \\implies \\hat{\\theta} = \\tfrac{1}{\\bar{X}}$\n",
    "\n",
    "**Estimador de máxima verosimilitud**\n",
    "\n",
    "$\\bar{X} = E(X) \\iff \\bar{X} = \\tfrac{1}{\\theta} \\implies \\hat{\\theta} = \\tfrac{1}{\\bar{X}}$\n",
    "\n",
    "*Nota: En la distribución exponencial coinciden ambos estimadores.*\n",
    "\n",
    "**Percentil 90**\n",
    "\n",
    "$1 - e^{-\\theta x} = 0.9 \\iff x = \\tfrac{-ln(0.1)}{\\theta}$"
   ]
  },
  {
   "cell_type": "markdown",
   "id": "838fc2fd-00c9-435e-9c9b-cafeb6f0c7a0",
   "metadata": {},
   "source": [
    "### Pregunta B\n",
    "\n",
    "Decidir si estos estimadores son insesgados o asintóticamente insesgados."
   ]
  },
  {
   "cell_type": "markdown",
   "id": "be96ad43-2957-41af-8d30-45071b565df2",
   "metadata": {},
   "source": [
    "### Pregunta C\n",
    "\n",
    "Decidir si estos estimadores son consistentes. Justificar"
   ]
  },
  {
   "cell_type": "markdown",
   "id": "94ab44cb-ee1c-4fa8-86e4-fa2ab523f0d0",
   "metadata": {},
   "source": [
    "### Pregunta D\n",
    "\n",
    "Se han probado 20 lámparas, obteniéndose los siguientes tiempos de duración (en días):\n",
    "\n",
    "```\n",
    "39.08 45.27 26.27 14.77 65.84 49.64 0.80 66.58 69.60 32.42 228.36 64.79 9.38 3.86 37.18 104.75 3.64 104.19 8.17 8.36\n",
    "```"
   ]
  },
  {
   "cell_type": "markdown",
   "id": "976d13a7-42c7-47c9-9dec-ea16712c14a8",
   "metadata": {},
   "source": [
    "Basándose en estas observaciones, estime $\\theta$ y el percentil 90 (o cuantil 0.9) del tiempo de duración de una lámpara bajo el modelo propuesto usando los estimadores hallados en el ítem (a)."
   ]
  },
  {
   "cell_type": "code",
   "execution_count": 129,
   "id": "d7958f54-f81d-4480-b586-9fede1570f87",
   "metadata": {},
   "outputs": [],
   "source": [
    "X = c(39.08, 45.27, 26.27, 14.77, 65.84, 49.64, 0.80, 66.58, 69.60, 32.42, 228.36, 64.79, 9.38, 3.86, 37.18, 104.75, 3.64, 104.19, 8.17, 8.36)"
   ]
  },
  {
   "cell_type": "code",
   "execution_count": 130,
   "id": "40c9d961-402b-46be-ac59-d33ed81a390b",
   "metadata": {},
   "outputs": [
    {
     "data": {
      "text/html": [
       "0.0203469148990284"
      ],
      "text/latex": [
       "0.0203469148990284"
      ],
      "text/markdown": [
       "0.0203469148990284"
      ],
      "text/plain": [
       "[1] 0.02034691"
      ]
     },
     "metadata": {},
     "output_type": "display_data"
    }
   ],
   "source": [
    "theta = 1 / mean(X)\n",
    "theta"
   ]
  },
  {
   "cell_type": "code",
   "execution_count": 131,
   "id": "842329a1-39ee-4ae5-adcc-f74c663f2d96",
   "metadata": {},
   "outputs": [
    {
     "data": {
      "text/html": [
       "113.166300857925"
      ],
      "text/latex": [
       "113.166300857925"
      ],
      "text/markdown": [
       "113.166300857925"
      ],
      "text/plain": [
       "[1] 113.1663"
      ]
     },
     "metadata": {},
     "output_type": "display_data"
    },
    {
     "data": {
      "text/html": [
       "113.166300857925"
      ],
      "text/latex": [
       "113.166300857925"
      ],
      "text/markdown": [
       "113.166300857925"
      ],
      "text/plain": [
       "[1] 113.1663"
      ]
     },
     "metadata": {},
     "output_type": "display_data"
    }
   ],
   "source": [
    "x = -log(0.1) / theta\n",
    "x\n",
    "\n",
    "# Otra forma usando las funciones de R directamente\n",
    "x = qexp(0.9, theta)\n",
    "x"
   ]
  },
  {
   "cell_type": "markdown",
   "id": "e48e696a-d309-4bca-8be6-ca5098c82717",
   "metadata": {},
   "source": [
    "¿Cómo haría para estimar el percentil solicitado si no conociera la distribución de las $X_i$?"
   ]
  },
  {
   "cell_type": "code",
   "execution_count": 132,
   "id": "9723dd9f-7a29-4e26-9e8e-c1cb11b64365",
   "metadata": {},
   "outputs": [
    {
     "data": {
      "text/html": [
       "104.19"
      ],
      "text/latex": [
       "104.19"
      ],
      "text/markdown": [
       "104.19"
      ],
      "text/plain": [
       "[1] 104.19"
      ]
     },
     "metadata": {},
     "output_type": "display_data"
    }
   ],
   "source": [
    "sort(X)[length(X) * 0.9]"
   ]
  },
  {
   "cell_type": "markdown",
   "id": "c70314e6-80e7-430b-aa9a-af4ae3b8b236",
   "metadata": {},
   "source": [
    "### Pregunta E\n",
    "\n",
    "En un nuevo experimento se registra la duración de 350 lámparas. Los valores observados se encuentran en el archivo lamparas.txt. Repita el ítem (d) para este nuevo conjunto de datos."
   ]
  },
  {
   "cell_type": "code",
   "execution_count": 151,
   "id": "c9bb725d-7138-4c40-b8b0-91e81bb40952",
   "metadata": {},
   "outputs": [],
   "source": [
    "lamparas = scan('./datasets/p7/lamparas.txt')"
   ]
  },
  {
   "cell_type": "code",
   "execution_count": 152,
   "id": "ecee2d0f-aa01-465d-b17f-4f68845c297e",
   "metadata": {},
   "outputs": [
    {
     "data": {
      "text/html": [
       "0.0272399826909367"
      ],
      "text/latex": [
       "0.0272399826909367"
      ],
      "text/markdown": [
       "0.0272399826909367"
      ],
      "text/plain": [
       "[1] 0.02723998"
      ]
     },
     "metadata": {},
     "output_type": "display_data"
    }
   ],
   "source": [
    "theta = 1 / mean(lamparas)\n",
    "theta"
   ]
  },
  {
   "cell_type": "code",
   "execution_count": 153,
   "id": "355f6e94-6c94-4804-8404-0c9f4443e7a4",
   "metadata": {},
   "outputs": [
    {
     "data": {
      "text/html": [
       "84.5296092555948"
      ],
      "text/latex": [
       "84.5296092555948"
      ],
      "text/markdown": [
       "84.5296092555948"
      ],
      "text/plain": [
       "[1] 84.52961"
      ]
     },
     "metadata": {},
     "output_type": "display_data"
    }
   ],
   "source": [
    "x = qexp(0.9, theta)\n",
    "x"
   ]
  },
  {
   "cell_type": "markdown",
   "id": "0dcf33f2-32d1-4394-ba6a-d5d903502a65",
   "metadata": {},
   "source": [
    "## Ejercicio 5\n",
    "\n",
    "El número de llamadas que recibe una central telefónica en un día es una variable aleatoria con distribución $\\mathcal{P}(\\theta)$. Se desea estimar la probabilidad de que en un determinado día se reciban exactamante 40 llamadas. Para ello se registrarán la cantidad de llamadas recibidas durante 48 días."
   ]
  },
  {
   "cell_type": "markdown",
   "id": "2c57abd7-3d47-42bf-b36e-277b66c18f86",
   "metadata": {},
   "source": [
    "### Pregunta A\n",
    "\n",
    "Basándose en la muestra aleatoria $X_1, \\dots, X_n$, hallar el estimador de momentos y de máxima verosimilitud de $\\theta$.\n",
    "\n",
    "**Estimador de momentos**\n",
    "\n",
    "$\\bar{X} = E(X) \\iff \\bar{X} = \\theta \\implies \\hat{\\theta} = \\bar{X}$\n",
    "\n",
    "**Estimador de máxima verosimilitud**\n",
    "\n",
    "$\\hat{\\theta} = \\bar{X}$ ([ver desarrollo](https://www.statology.org/mle-poisson-distribution/))"
   ]
  },
  {
   "cell_type": "markdown",
   "id": "72392b0b-2fc8-4570-935b-0106fc17ccc1",
   "metadata": {},
   "source": [
    "### Pregunta B\n",
    "\n",
    "Deducir un estimador para la probabilidad de que en un determinado día se reciban 40 llamadas.\n",
    "\n",
    "$\n",
    "\\begin{align*}\n",
    "P(X_i = 40) = \\frac{e^{-\\theta} \\theta^{40}}{40!} = \\frac{e^{-\\bar{X}} \\bar{X}^{40}}{40!}\n",
    "\\end{align*}\n",
    "$"
   ]
  },
  {
   "cell_type": "markdown",
   "id": "b03ea31c-3490-480e-b270-45649b19e9ca",
   "metadata": {},
   "source": [
    "### Pregunta C\n",
    "\n",
    "¿Cómo haría para estimar la probabilidad deseada si no conociera la distribución de las $X_i$?\n",
    "\n",
    "Casos favorables sobre casos totales."
   ]
  },
  {
   "cell_type": "markdown",
   "id": "75cd7a1e-ed9f-4d1c-9641-1214b0cc95e1",
   "metadata": {},
   "source": [
    "### Pregunta D\n",
    "\n",
    "Durante 48 días se registran las siguientes cantidades:\n",
    "\n",
    "```\n",
    "40 46 46 45 42 44 50 31 41 42 50 34 62 32 46 50 39 42 44 41 47 42 41 50 34 47 38 40 44 45 35 51 38 41 39 34 48 35 40 40 43 36 40 49 45 47 34 45\n",
    "```\n",
    "\n",
    "Estimar $\\theta$. Estimar la probabilidad de que en un determinado día se reciban exactamente 40 llamadas utilizando los estimadores propuestos en los items b) y c)."
   ]
  },
  {
   "cell_type": "code",
   "execution_count": 154,
   "id": "36bc4429-1ff1-479a-b7d0-279282b6a6e9",
   "metadata": {},
   "outputs": [],
   "source": [
    "X = c(40, 46, 46, 45, 42, 44, 50, 31, 41, 42, 50, 34, 62, 32, 46, 50, 39, 42, 44, 41, 47, 42, 41, 50, 34, 47, 38, 40, 44, 45, 35, 51, 38, 41, 39, 34, 48, 35, 40, 40, 43, 36, 40, 49, 45, 47, 34, 45)"
   ]
  },
  {
   "cell_type": "code",
   "execution_count": 155,
   "id": "5692996e-4a27-4417-83a5-8f272fa0d969",
   "metadata": {},
   "outputs": [
    {
     "data": {
      "text/html": [
       "42.3958333333333"
      ],
      "text/latex": [
       "42.3958333333333"
      ],
      "text/markdown": [
       "42.3958333333333"
      ],
      "text/plain": [
       "[1] 42.39583"
      ]
     },
     "metadata": {},
     "output_type": "display_data"
    }
   ],
   "source": [
    "theta = mean(X)\n",
    "theta"
   ]
  },
  {
   "cell_type": "code",
   "execution_count": 156,
   "id": "e283897d-a166-447b-bbe9-acfd070521d0",
   "metadata": {},
   "outputs": [
    {
     "data": {
      "text/html": [
       "0.0587496802022553"
      ],
      "text/latex": [
       "0.0587496802022553"
      ],
      "text/markdown": [
       "0.0587496802022553"
      ],
      "text/plain": [
       "[1] 0.05874968"
      ]
     },
     "metadata": {},
     "output_type": "display_data"
    },
    {
     "data": {
      "text/html": [
       "0.0587496802022553"
      ],
      "text/latex": [
       "0.0587496802022553"
      ],
      "text/markdown": [
       "0.0587496802022553"
      ],
      "text/plain": [
       "[1] 0.05874968"
      ]
     },
     "metadata": {},
     "output_type": "display_data"
    }
   ],
   "source": [
    "x = 40\n",
    "(exp(-theta) * theta^x) / factorial(x)\n",
    "\n",
    "# Otra forma usando las funciones de R directamente\n",
    "dpois(x, theta)"
   ]
  },
  {
   "cell_type": "markdown",
   "id": "5ce79528-dfb4-479d-b3a2-1f7a230ac41c",
   "metadata": {},
   "source": [
    "### Pregunta E\n",
    "\n",
    "En un nuevo experimento se registra la cantidad de llamados en 200 días. Los valores observados se encuentran en el archivo llamadas.txt. Repita el item anterior para este nuevo conjunto de datos."
   ]
  },
  {
   "cell_type": "code",
   "execution_count": 157,
   "id": "f7c76bb4-d160-4711-a3e0-f0d77bfede92",
   "metadata": {},
   "outputs": [],
   "source": [
    "llamadas = scan('./datasets/p7/llamadas.txt')"
   ]
  },
  {
   "cell_type": "code",
   "execution_count": 158,
   "id": "2f19ba1e-98c3-4455-bee9-9de57bcef6b4",
   "metadata": {},
   "outputs": [
    {
     "data": {
      "text/html": [
       "41.81"
      ],
      "text/latex": [
       "41.81"
      ],
      "text/markdown": [
       "41.81"
      ],
      "text/plain": [
       "[1] 41.81"
      ]
     },
     "metadata": {},
     "output_type": "display_data"
    }
   ],
   "source": [
    "theta = mean(llamadas)\n",
    "theta"
   ]
  },
  {
   "cell_type": "code",
   "execution_count": 159,
   "id": "323faa86-d024-4679-8a06-a5b9c6c8e171",
   "metadata": {},
   "outputs": [
    {
     "data": {
      "text/html": [
       "0.0604935881823646"
      ],
      "text/latex": [
       "0.0604935881823646"
      ],
      "text/markdown": [
       "0.0604935881823646"
      ],
      "text/plain": [
       "[1] 0.06049359"
      ]
     },
     "metadata": {},
     "output_type": "display_data"
    }
   ],
   "source": [
    "x = 40\n",
    "dpois(x, theta)"
   ]
  },
  {
   "cell_type": "markdown",
   "id": "80dd4913-4ec1-45b1-85d7-7489ebea2146",
   "metadata": {},
   "source": [
    "## Ejercicio 6\n",
    "\n",
    "Se sabe que la longitud de los ejes que fabrica un establecimiento siderúrgico tiene densidad:\n",
    "\n",
    "$f(x; \\theta) = \\tfrac{1}{\\theta} x^{\\tfrac{1}{\\theta} - 1} I_{(0, 1)}(x)$"
   ]
  },
  {
   "cell_type": "markdown",
   "id": "b2d4d8c3-3b69-44fe-ae06-aaf277c3da21",
   "metadata": {},
   "source": [
    "### Pregunta A\n",
    "\n",
    "Hallar el estimador de MV, $\\hat{\\theta}_{MV}$, y el estimador de momentos, $\\hat{\\theta}_M$, de $\\theta$.\n",
    "\n",
    "**Estimador de máxima verosimilitud**\n",
    "\n",
    "$\n",
    "\\begin{align*}\n",
    "L(\\theta) = f(x_1, \\dots, x_n) = \\prod_1^n f_{X_i}(x_i) = \\prod_1^n \\tfrac{1}{\\theta} x_i^{\\tfrac{1}{\\theta} - 1} = \\tfrac{1}{\\theta^n} \\prod_1^n x_i^{\\tfrac{1}{\\theta} - 1}\n",
    "\\end{align*}\n",
    "$\n",
    "\n",
    "$\n",
    "\\begin{align*}\n",
    "ln(L(\\theta))\n",
    "&= ln \\Big( \\tfrac{1}{\\theta^n} \\prod_1^n x_i^{\\tfrac{1}{\\theta} - 1} \\Big) \\\\\n",
    "&= ln( \\tfrac{1}{\\theta^n} ) + ln \\Big( \\prod_1^n x_i^{\\tfrac{1}{\\theta} - 1} \\Big) \\\\\n",
    "&= -n ln(\\theta) + \\sum_1^n ln(x_i^{\\tfrac{1}{\\theta} - 1}) \\\\\n",
    "&= -n ln(\\theta) + \\sum_1^n (\\tfrac{1}{\\theta} - 1) ln(x_i) \\\\\n",
    "&= -n ln(\\theta) + (\\tfrac{1}{\\theta} - 1) \\sum_1^n ln(x_i)\n",
    "\\end{align*}\n",
    "$\n",
    "\n",
    "$\\tfrac{\\partial}{\\partial \\theta} ln(L(\\theta)) = \\tfrac{-n}{\\theta} - \\tfrac{1}{\\theta^2} \\sum_1^n ln(x_i) = 0 \\implies \\hat{\\theta}_{MV} = - \\tfrac{1}{n} \\sum_1^n ln(x_i)$\n",
    "\n",
    "**Estimador de momentos**\n",
    "\n",
    "$\\bar{X} = E(X) = \\int_0^1 x f(x) dx = \\tfrac{1}{1 + \\theta} \\implies \\hat{\\theta}_{M} = \\tfrac{1 - \\bar{X}}{\\bar{X}}$"
   ]
  },
  {
   "cell_type": "markdown",
   "id": "5379f5cf-b7b2-4af8-be4d-459bf7951176",
   "metadata": {},
   "source": [
    "### Pregunta B\n",
    "\n",
    "Decidir si $\\hat{\\theta}_{MV}$ es insesgado o asintóticamente insesgado."
   ]
  },
  {
   "cell_type": "markdown",
   "id": "a6d63705-9017-4121-96d9-340c0a3f407d",
   "metadata": {},
   "source": [
    "### Pregunta C\n",
    "\n",
    "Estudiar la consistencia de ambos estimadores."
   ]
  },
  {
   "cell_type": "markdown",
   "id": "32ee4c9f-66ec-4322-b324-fa16a851c672",
   "metadata": {},
   "source": [
    "### Pregunta D\n",
    "\n",
    "Se eligen al azar 20 ejes, cuyas longitudes son:\n",
    "\n",
    "```\n",
    "0.5 0.7 0.8 0.95 0.9 0.6 0.2 0.85 0.3 0.2 0.76 0.55 0.48 0.8 0.76 0.13 0.15 0.67 0.9 0.95\n",
    "```\n",
    "\n",
    "Estimar $\\theta$ usando cada uno de los métodos propuestos."
   ]
  },
  {
   "cell_type": "code",
   "execution_count": 161,
   "id": "c500f784-5bce-4069-83b4-ad3034582298",
   "metadata": {},
   "outputs": [
    {
     "data": {
      "text/html": [
       "0.646090534979424"
      ],
      "text/latex": [
       "0.646090534979424"
      ],
      "text/markdown": [
       "0.646090534979424"
      ],
      "text/plain": [
       "[1] 0.6460905"
      ]
     },
     "metadata": {},
     "output_type": "display_data"
    },
    {
     "data": {
      "text/html": [
       "0.656205413846233"
      ],
      "text/latex": [
       "0.656205413846233"
      ],
      "text/markdown": [
       "0.656205413846233"
      ],
      "text/plain": [
       "[1] 0.6562054"
      ]
     },
     "metadata": {},
     "output_type": "display_data"
    }
   ],
   "source": [
    "theta_M = function(X) 1 / mean(X) - 1\n",
    "theta_MV = function(X) -sum(log(X)) / length(X)\n",
    "\n",
    "X = c(0.5, 0.7, 0.8, 0.95, 0.9, 0.6, 0.2, 0.85, 0.3, 0.2, 0.76, 0.55, 0.48, 0.8, 0.76, 0.13, 0.15, 0.67, 0.9, 0.95)\n",
    "theta_M(X)\n",
    "theta_MV(X)"
   ]
  },
  {
   "cell_type": "markdown",
   "id": "1d88064b-52be-4bd7-bd94-df84a3f2f820",
   "metadata": {},
   "source": [
    "## Ejercicio 7\n",
    "\n",
    "Un estado tiene varios distritos. Supongamos que cada distrito tiene igual proporción $\\theta$ de personas que están a favor de una propuesta de control de armas. En cada uno de 8 distritos elegidos al azar, se cuenta la cantidad de personas que hay que encuestar hasta encontrar alguna de acuerdo con la propuesta (llamemos $X$ a esta variable aleatoria). Los resultados son: 3, 8, 9, 6, 4, 5, 3, 2 (i.e.: en el primer distrito las dos primeras personas encuestadas estaban en contra y la tercera a favor)."
   ]
  },
  {
   "cell_type": "code",
   "execution_count": 166,
   "id": "c0f2bce9-47d4-4379-8360-dca278fa737c",
   "metadata": {},
   "outputs": [],
   "source": [
    "X = c(3, 8, 9, 6, 4, 5, 3, 2)"
   ]
  },
  {
   "cell_type": "markdown",
   "id": "4d4b4a7c-fd41-4e71-ae34-cbaadbb905de",
   "metadata": {},
   "source": [
    "### Pregunta A\n",
    "\n",
    "¿Qué distribución tiene $X$?\n",
    "\n",
    "Geométrica: \"cantidad de repeticiones hasta el primer éxito\""
   ]
  },
  {
   "cell_type": "markdown",
   "id": "d0af270d-9707-4972-a1f4-9531baf350d7",
   "metadata": {},
   "source": [
    "### Pregunta B\n",
    "\n",
    "Estimar $\\theta$ por el método de máxima verosimiltud y por el método de los momentos.\n",
    "\n",
    "**Estimador de máxima verosimilitud**\n",
    "\n",
    "$\\hat{\\theta}_{MV} = \\tfrac{1}{\\bar{X}}$ ([ver desarrollo](https://www.projectrhea.org/rhea/index.php/MLE_Examples:_Exponential_and_Geometric_Distributions_Old_Kiwi))\n",
    "\n",
    "**Estimador de momentos**\n",
    "\n",
    "$\\bar{X} = E(X) = \\tfrac{1}{\\theta} \\implies \\hat{\\theta}_{M} = \\tfrac{1}{\\bar{X}}$"
   ]
  },
  {
   "cell_type": "markdown",
   "id": "b8588b31-6d30-4ef3-b4ee-69f8b271e6ee",
   "metadata": {},
   "source": [
    "### Pregunta C\n",
    "\n",
    "Estimar por máxima verosimilitud $P_\\theta(X \\geq 5)$."
   ]
  },
  {
   "cell_type": "code",
   "execution_count": 168,
   "id": "ef1ef729-91cf-4ba6-b935-f8443de644a3",
   "metadata": {},
   "outputs": [
    {
     "data": {
      "text/html": [
       "0.4096"
      ],
      "text/latex": [
       "0.4096"
      ],
      "text/markdown": [
       "0.4096"
      ],
      "text/plain": [
       "[1] 0.4096"
      ]
     },
     "metadata": {},
     "output_type": "display_data"
    }
   ],
   "source": [
    "x = 5\n",
    "theta = 1 / mean(X)\n",
    "pgeom(x - 2, theta, lower.tail=FALSE)"
   ]
  },
  {
   "cell_type": "markdown",
   "id": "6bfbfa10-bfd0-41be-b290-d62fab9b3e43",
   "metadata": {},
   "source": [
    "### Pregunta D\n",
    "\n",
    "Estimar $P_\\theta(X \\geq 5)$ sin asumir que $X$ tiene distribución geométrica. Comparar el resultado con el del ítem anterior."
   ]
  },
  {
   "cell_type": "code",
   "execution_count": 169,
   "id": "0ae9ef76-8f31-4adb-8629-baf0c6f28383",
   "metadata": {},
   "outputs": [
    {
     "data": {
      "text/html": [
       "0.5"
      ],
      "text/latex": [
       "0.5"
      ],
      "text/markdown": [
       "0.5"
      ],
      "text/plain": [
       "[1] 0.5"
      ]
     },
     "metadata": {},
     "output_type": "display_data"
    }
   ],
   "source": [
    "sum(X >= 5) / length(X)"
   ]
  },
  {
   "cell_type": "markdown",
   "id": "cf22b0f9-6e1c-4b92-84cd-444d83cc5026",
   "metadata": {},
   "source": [
    "## Ejercicio 8\n",
    "\n",
    "Sea $X_1, \\dots, X_n$ una muestra aleatoria de una distribución $\\mathcal{U}(0, \\theta)$."
   ]
  },
  {
   "cell_type": "markdown",
   "id": "6b0b320d-7c5f-4ca0-80bf-cd24d68ffd74",
   "metadata": {},
   "source": [
    "### Pregunta A\n",
    "\n",
    "Probar que $M_n = max_{1 \\leq i \\leq n} X_i$ es el estimador de máxima verosimilitud de $\\theta$.\n",
    "\n",
    "Intuitivamente podemos ver que si $X$ tiene distribución $\\mathcal{U}(0, \\theta)$, necesitamos un $\\theta$ más grande que todas las $X_i$ observadas, pues sino, habría una observación que cae en el intervalo $(\\theta, +\\infty)$ que técnicamente debería tenerla probabilidad 0, y eso sería absurdo.\n",
    "\n",
    "Entonces el mejor estimador que tenemos es asignar $\\theta$ al $X_i$ más grande. Notar que el verdadero $\\theta$ podría ser aún más grande, pero no tenemos más información para justificar eso.\n",
    "\n",
    "*Nota: La demostración formal está desarrollada en el apunte de Bianco y Martínez (2004), página 168.*"
   ]
  },
  {
   "cell_type": "markdown",
   "id": "84aaa801-df8d-470f-9e8a-cfe17c63c972",
   "metadata": {},
   "source": [
    "### Pregunta B\n",
    "\n",
    "Calcular el estimador de $\\theta$ basado en el primer momento.\n",
    "\n",
    "$\\bar{X} = E(X) = \\tfrac{\\theta}{2} \\implies \\hat{\\theta}_M = 2\\bar{X}$"
   ]
  },
  {
   "cell_type": "markdown",
   "id": "371075cc-85f2-481e-bfc3-7de2e5e3d6c2",
   "metadata": {},
   "source": [
    "### Pregunta C\n",
    "\n",
    "Decir si los estimadores obtenidos son insesgados o asintóticamente insesgados, y consistentes. Justificar.\n",
    "\n",
    "**Estimador de máxima verosimilitud**\n",
    "\n",
    "Recordemos que los estimadores son en sí mismos variables aleatorias. Entonces para calcular la esperanza de $\\hat{\\theta}_{MV}$ vamos a necesitar conocer su función de densidad. Y para eso primero buscamos la función acumulada y luego la derivamos.\n",
    "\n",
    "Sea $U = max_{1 \\leq i \\leq n} X_i$ una v.a. (podríamos llamarla $\\hat{\\theta}_{MV}$ también pero así quedá más claro para leer).\n",
    "\n",
    "$\n",
    "F_U(u)\n",
    "= P(U \\leq u)\n",
    "= P(max_{1 \\leq i \\leq n} \\leq u)\n",
    "$\n",
    "\n",
    "Observación: $max_{1 \\leq i \\leq n} \\leq u \\implies X_i \\leq u \\; \\forall i$\n",
    "\n",
    "Es decir, si el $X_i$ máximo es menor que $u$, entonces todos los $X_i$ son menores que $u$.\n",
    "\n",
    "$\n",
    "P(max_{1 \\leq i \\leq n} \\leq u)\n",
    "= P(\\cap_{i=1}^n X_i \\leq u)\n",
    "= \\prod_{i=1}^n P(X_i \\leq u)\n",
    "= \\prod_{i=1}^n F_{X_i}(u)\n",
    "= \\prod_{i=1}^n F_{X}(u)\n",
    "= F_{X}(u)^n\n",
    "$\n",
    "\n",
    "Para el desarrollo anterior usamos que todas las $X_i$ son i.i.d. Recapitulando:\n",
    "\n",
    "$F_U(u) = F_{X}(u)^n$\n",
    "\n",
    "Como $X \\sim \\mathcal{U}(0, \\theta)$, sabemos exactamente cómo es $F_X$.\n",
    "\n",
    "$\n",
    "F_U(u) = \\begin{cases}\n",
    "0 & u < 0 \\\\\n",
    "\\big( \\tfrac{u}{\\theta} \\big) ^n & 0 \\leq u \\leq \\theta \\\\\n",
    "1 & \\theta < u\n",
    "\\end{cases}$\n",
    "\n",
    "Muy bien, ahora que tenemos $F_U$ podemos derivar para obtener $f_u$.\n",
    "\n",
    "$\n",
    "\\tfrac{\\partial}{\\partial u} F_U(u)\n",
    "= f_U(u)\n",
    "= \\tfrac{n u^{n-1}}{\\theta^n} I_{[0, \\theta]}(u)\n",
    "$\n",
    "\n",
    "Finalmente podemos calcular la esperanza de $\\hat{\\theta}_{MV}$.\n",
    "\n",
    "$\n",
    "E(\\hat{\\theta}_{MV})\n",
    "= E(U)\n",
    "= \\int_0^\\theta u f_U(u) du\n",
    "= \\int_0^\\theta u \\tfrac{n u^{n-1}}{\\theta^n} du\n",
    "= \\tfrac{n}{\\theta^n} \\int_0^\\theta u^n du\n",
    "= \\tfrac{n}{\\theta^n} \\Big[ \\tfrac{u^{n+1}}{n+1} \\big]_0^\\theta\n",
    "= \\tfrac{n}{\\theta^n} * \\tfrac{\\theta^{n+1}}{n+1}\n",
    "= \\tfrac{n}{n+1} \\theta\n",
    "$\n",
    "\n",
    "$\\implies E(\\hat{\\theta}_{MV}) = \\tfrac{n}{n+1} \\theta$\n",
    "\n",
    "$\\hat{\\theta}_{MV}$ es asintóticamente insesgado pues: $\\tfrac{n}{n+1} \\xrightarrow{n \\rightarrow \\infty} 1 \\implies E(\\hat{\\theta}_{MV}) \\xrightarrow{n \\rightarrow \\infty} \\theta$\n",
    "\n",
    "**Estimador de momentos**\n",
    "\n",
    "$E(\\hat{\\theta}_M) = E(2\\bar{X}) = 2 E(\\bar{X}) = 2 E(X_1) = 2 \\tfrac{\\theta}{2} = \\theta$\n",
    "\n",
    "$\\implies \\hat{\\theta}_M$ es insesgado pues su esperanza coincide con el parámetro que estima.\n",
    "\n",
    "**Consistencia**\n",
    "\n",
    "*Ver el apunte de Bianco y Martínez (2004), página 176.*"
   ]
  },
  {
   "cell_type": "markdown",
   "id": "ec2999d2-fa47-4ef7-aa12-e68859aaaa4d",
   "metadata": {},
   "source": [
    "## Ejercicio 9\n",
    "\n",
    "Sea $X_1, \\dots, X_n$ una muestra aleatoria de una distribución Rayleigh, cuya densidad está dada por:\n",
    "\n",
    "$f(x; \\theta) = \\tfrac{x}{\\theta} e^{-\\tfrac{x^2}{2\\theta}} I_{[0, \\infty)}(x)$"
   ]
  },
  {
   "cell_type": "markdown",
   "id": "bf4b2bb0-2134-484c-a8dd-6d5f6cf6fa9a",
   "metadata": {},
   "source": [
    "### Pregunta A\n",
    "\n",
    "Hallar el estimador de máxima verosimilitud de $\\theta$.\n",
    "\n",
    "$\n",
    "L(\\theta)\n",
    "= f(x_1, \\dots, x_n)\n",
    "= \\prod_{i=1}^n f_{X_i}(x_i)\n",
    "= \\prod_{i=1}^n \\frac{x_i}{\\theta} e^{-\\tfrac{x_i^2}{2\\theta}} I_{[0, \\infty)}(x_i)\n",
    "= \\frac{1}{\\theta^n} \\Big( \\prod_{i=1}^n x_i \\Big) \\Big( e^{-\\tfrac{1}{2\\theta} \\sum_{i=1}^n x_i^2} \\Big) \\Big( \\prod_{i=1}^n I_{[0, \\infty)}(x_i) \\Big)\n",
    "$\n",
    "\n",
    "$ln(L(\\theta)) = -n ln(\\theta) + \\sum_{i=1}^n ln(x_i) - \\frac{1}{2\\theta} \\sum_{i=1}^n x_i^2$\n",
    "\n",
    "$\\tfrac{\\partial}{\\partial \\theta} ln(L(\\theta)) = \\tfrac{-n}{\\theta} + \\frac{1}{2\\theta^2} \\sum_{i=1}^n x_i^2 = 0 \\iff \\hat{\\theta}_{MV} = \\tfrac{1}{2n} \\sum_{i=1}^n x_i^2$"
   ]
  },
  {
   "cell_type": "markdown",
   "id": "7625ec18-48b4-4872-8b1a-109c0266586e",
   "metadata": {},
   "source": [
    "### Pregunta B\n",
    "\n",
    "Decir si el estimador obtenido es insesgado o asintóticamente insesgado, y consistente. Justificar.\n",
    "\n",
    "(Sugerencia: Hallar la distribución de la v.a. $X_1^2$).\n",
    "\n",
    "$Y = X^2$\n",
    "\n",
    "$F_Y(y) = P(Y \\leq y) = P(X^2 \\leq y) = P(|X| \\leq \\sqrt{y}) = P(X \\leq \\sqrt{y}) - P(X \\leq -\\sqrt{y}) = F_X(\\sqrt{y}) - F_X(-\\sqrt{y})$\n",
    "\n",
    "Observación: $I_{[0, \\infty)}(x) \\implies F_X(-\\sqrt{y}) = 0$\n",
    "\n",
    "$F_Y(y) = F_X(\\sqrt{y})$\n",
    "\n",
    "$\n",
    "f_Y(y)\n",
    "= f_X(\\sqrt{y}) \\tfrac{1}{2\\sqrt{y}}\n",
    "= \\tfrac{\\sqrt{y}}{\\theta} e^{-\\tfrac{\\sqrt{y}^2}{2\\theta}} \\tfrac{1}{2\\sqrt{y}} I_{[0, \\infty)}(\\sqrt{y})\n",
    "= \\tfrac{1}{2\\theta} e^{-\\tfrac{y}{2\\theta}} I_{[0, \\infty)}(y)\n",
    "$\n",
    "\n",
    "$Y = X^2 \\sim \\mathcal{E}(\\tfrac{1}{2\\theta})$\n",
    "\n",
    "$E(X^2) = 2\\theta$\n",
    "\n",
    "Ahora veamos cuál es la esperanza del estimador:\n",
    "\n",
    "$\n",
    "E(\\hat{\\theta}_{MV})\n",
    "= E(\\tfrac{1}{2n} \\sum_{i=1}^n x_i^2)\n",
    "= \\tfrac{1}{2n} \\sum_{i=1}^n E(x_i^2)\n",
    "= \\tfrac{1}{2n} \\sum_{i=1}^n E(X^2)\n",
    "= \\tfrac{1}{2n} \\sum_{i=1}^n 2\\theta\n",
    "= \\tfrac{1}{2n} 2n \\theta = \\theta\n",
    "$\n",
    "\n",
    "$\\implies \\hat{\\theta}_{MV}$ es insesgado.\n",
    "\n",
    "Veamos la consistencia.\n",
    "\n",
    "Por la LGN: $\\hat{\\theta}_{MV} = \\tfrac{1}{2n} \\sum_{i=1}^n x_i^2 = \\tfrac{\\overline{X^2}}{2} \\xrightarrow{n \\rightarrow \\infty} \\tfrac{E(X^2)}{2} = \\tfrac{2\\theta}{2} = \\theta$\n",
    "\n",
    "$\n",
    "P(|\\hat{\\theta}_{MV} - \\theta| > \\epsilon)\n",
    "\\xrightarrow{n \\rightarrow \\infty} P(|\\theta - \\theta| > \\epsilon) = 0 \\; \\forall \\epsilon > 0\n",
    "$\n",
    "\n",
    "$\\implies \\hat{\\theta}_{MV}$ es consistente."
   ]
  },
  {
   "cell_type": "markdown",
   "id": "4fe27ea8-a997-4e5b-b751-9f6548750ef3",
   "metadata": {},
   "source": [
    "## Ejercicio 10\n",
    "\n",
    "Sea $X_1, \\dots, X_n$ una muestra aleatoria de una distribución con densidad:\n",
    "\n",
    "$f(x; \\theta) = e^{-(x - \\theta)} I_{[\\theta, \\infty)}(x)$"
   ]
  },
  {
   "cell_type": "markdown",
   "id": "176e5529-d18c-4f24-ad81-3db09f7e82ef",
   "metadata": {},
   "source": [
    "### Pregunta A\n",
    "\n",
    "Probar que $m_n = min_{1 \\leq i \\leq n} X_i$ es el estimador de máxima verosimilitud de $\\theta$.\n",
    "\n",
    "$L(\\theta) = e^{n\\theta} e^{-\\sum_{i=1}^n x_i} \\prod_{i=1}^n I_{[\\theta, \\infty)}(x_i)$\n",
    "\n",
    "$e^{n\\theta} \\xrightarrow{\\theta \\rightarrow \\infty} \\infty$\n",
    "\n",
    "O sea queremos el $\\theta$ más grande posible. Pero también necesitamos que la productoria de la indicadora de 1 para todos los $X_i$.\n",
    "\n",
    "$\\prod_{i=1}^n I_{[\\theta, \\infty)}(x_i) = 1 \\iff \\theta \\leq min_{1 \\leq i \\leq n} X_i$\n",
    "\n",
    "Por lo tanto el $\\theta$ más grande que podemos elegir es el mínimo de todos los $X_i$.\n",
    "\n",
    "$\\hat{\\theta}_{MV} = min_{1 \\leq i \\leq n} X_i$"
   ]
  },
  {
   "cell_type": "markdown",
   "id": "e899cfac-9975-479d-ac3b-4bc00323d2b1",
   "metadata": {},
   "source": [
    "### Pregunta B\n",
    "\n",
    "Calcular el estimador de $\\theta$ basado en el primer momento.\n",
    "\n",
    "$\\bar{X} = E(X) = \\int_\\theta^\\infty e^{-(x - \\theta)} = \\theta + 1 \\implies \\hat{\\theta}_M = \\bar{X} - 1$"
   ]
  },
  {
   "cell_type": "markdown",
   "id": "18e6f9a3-b17c-4ffd-891a-d0d7878017b7",
   "metadata": {},
   "source": [
    "### Pregunta C\n",
    "\n",
    "Decir si los estimadores obtenidos son insesgados o asintóticamente insesgados, y consistentes. Justificar.\n",
    "\n",
    "**Estimador de máxima verosimilitud**\n",
    "\n",
    "*Nota: Este desarrollo es análogo al del ejercicio 8c.*\n",
    "\n",
    "Sea $U = min_{1 \\leq i \\leq n} X_i$\n",
    "\n",
    "$F_U(u) = P(U \\leq u) = 1 - P(U \\geq u) = 1 - P(min_{1 \\leq i \\leq n} \\geq u)$\n",
    "\n",
    "Observación: $min_{1 \\leq i \\leq n} \\geq u \\implies X_i \\geq u \\; \\forall i$\n",
    "\n",
    "Es decir, si el $X_i$ mínimo es mayor que $u$, entonces todos los $X_i$ son mayores que $u$.\n",
    "\n",
    "$\n",
    "1 - P(min_{1 \\leq i \\leq n} \\geq u)\n",
    "= 1 - P(\\cap_{i=1}^n X_i \\geq u)\n",
    "= 1 - \\prod_{i=1}^n P(X_i \\geq u)\n",
    "= 1 - \\prod_{i=1}^n (1 - P(X_i \\leq u))\n",
    "= 1 - \\prod_{i=1}^n (1 - F_{X_i}(u))\n",
    "= 1 - \\prod_{i=1}^n (1 - F_X(u))\n",
    "= 1 - (1 - F_X(u))^n\n",
    "$\n",
    "\n",
    "Para el desarrollo anterior usamos que todas las $X_i$ son i.i.d. Recapitulando:\n",
    "\n",
    "$F_U(u) = 1 - (1 - F_X(u))^n$\n",
    "\n",
    "No sabemos cómo es $F_X$, calculemos eso antes de seguir.\n",
    "\n",
    "$F_X(t) = \\int_\\theta^t f(x) dx = \\int_\\theta^t e^{-(x - \\theta)} dx = 1 - e^{\\theta - t}$\n",
    "\n",
    "Ahora sí podemos seguir. Derivamos ambos lados de la igualdad para obtener $f_U$.\n",
    "\n",
    "$\\tfrac{\\partial}{\\partial u} F_U(u) = f_U(u) = n (1 - F_X(u))^{n-1} f_X(u) = n (e^{\\theta - u})^{n-1} e^{-(u - \\theta)} = ne^{n(\\theta - u)}$\n",
    "\n",
    "Finalmente podemos calcular la esperanza de $\\hat{\\theta}_{MV}$.\n",
    "\n",
    "$\n",
    "E(\\hat{\\theta}_{MV})\n",
    "= E(U)\n",
    "= \\int_\\theta^\\infty u f_U(u) du\n",
    "= \\int_\\theta^\\infty u ne^{n(\\theta - u)} du\n",
    "= \\theta + \\tfrac{1}{n}$\n",
    "\n",
    "$\\implies \\hat{\\theta}_{MV}$ es asintóticamente insesgado pues: $\\tfrac{1}{n} \\xrightarrow{n \\rightarrow \\infty} 0 \\implies E(\\hat{\\theta}_{MV}) \\xrightarrow{n \\rightarrow \\infty} \\theta$\n",
    "\n",
    "Veamos la consistencia.\n",
    "\n",
    "$\n",
    "P(|\\hat{\\theta}_{MV} - \\theta| > \\epsilon)\n",
    "= P(|\\theta + \\tfrac{1}{n} - \\theta| > \\epsilon)\n",
    "= P(|\\tfrac{1}{n}| > \\epsilon)\n",
    "\\xrightarrow{n \\rightarrow \\infty} P(0 > \\epsilon) = 0 \\; \\forall \\epsilon > 0\n",
    "$\n",
    "\n",
    "$\\implies \\hat{\\theta}_{MV}$ es consistente.\n",
    "\n",
    "**Estimador de momentos**\n",
    "\n",
    "$E(\\hat{\\theta}_M)\n",
    "= E(\\bar{X} - 1)\n",
    "= E(\\bar{X}) - 1\n",
    "= E(\\tfrac{1}{n} \\sum_{i=1}^n X_i) - 1\n",
    "= \\Big( \\tfrac{1}{n} \\sum_{i=1}^n E(X_i) \\Big) - 1\n",
    "= \\Big( \\tfrac{1}{n} \\sum_{i=1}^n E(X) \\Big) - 1\n",
    "= \\tfrac{1}{n} n E(X) - 1\n",
    "= E(X) - 1\n",
    "= \\theta + 1 - 1\n",
    "= \\theta\n",
    "$\n",
    "\n",
    "$\\implies \\hat{\\theta}_M$ es insesgado pues su esperanza coincide con el parámetro que estima.\n",
    "\n",
    "Veamos la consistencia.\n",
    "\n",
    "Por la LGN: $\\bar{X} \\xrightarrow{n \\rightarrow \\infty} E(X) = \\theta + 1$\n",
    "\n",
    "$\n",
    "P(|\\hat{\\theta}_M - \\theta| > \\epsilon)\n",
    "= P(|\\bar{X} - 1 - \\theta| > \\epsilon)\n",
    "\\xrightarrow{n \\rightarrow \\infty} P(|\\theta + 1 - 1 - \\theta| > \\epsilon)\n",
    "= P(0 > \\epsilon) = 0 \\; \\forall \\epsilon > 0\n",
    "$\n",
    "\n",
    "$\\implies \\hat{\\theta}_M$ es consistente."
   ]
  },
  {
   "cell_type": "markdown",
   "id": "a6e6a7d3-b1f8-4486-9995-98b008ac7c2d",
   "metadata": {},
   "source": [
    "## Ejercicio 11\n",
    "\n",
    "Sea $X_1, \\dots, X_n$ una muestra aleatoria de una distribución con media $\\mu$ y varianza $\\sigma^2$."
   ]
  },
  {
   "cell_type": "markdown",
   "id": "bfc021a0-f0ec-4506-b696-0dacf37c6553",
   "metadata": {
    "jp-MarkdownHeadingCollapsed": true,
    "tags": []
   },
   "source": [
    "### Pregunta A\n",
    "\n",
    "Probar que $\\bar{X}^2$ no es un estimador insesgado de $\\mu^2$. ¿Es asintóticamente insesgado? ¿Es consistente?\n",
    "\n",
    "El truco acá es depejar $E(\\bar{X}^2)$ usando la fórmula de la varianza: $V(\\bar{X}) = E(\\bar{X}^2) - E(\\bar{X})^2$ y los recursos ya usados extensamente para despejar la esperanza y varianza de $\\bar{X}$ en función de $X$ (suponiendo que todas las $X_i$ son i.i.d.).\n",
    "\n",
    "$\n",
    "E(\\bar{X}^2)\n",
    "= V(\\bar{X}) + E(\\bar{X})^2\n",
    "= \\tfrac{V(X)}{n} + E(X)^2\n",
    "= \\tfrac{\\sigma^2}{n} + \\mu^2\n",
    "\\neq \\mu^2\n",
    "$\n",
    "\n",
    "Es asintóticamente insesgado pues $E(\\bar{X}^2) = \\tfrac{\\sigma^2}{n} + \\mu^2 \\xrightarrow{n \\rightarrow \\infty} \\mu^2$\n",
    "\n",
    "Por la LGN: $\\bar{X}^2 \\xrightarrow{n \\rightarrow \\infty} E(X)^2$\n",
    "\n",
    "$\n",
    "P(|\\bar{X}^2 - \\mu^2| > \\epsilon)\n",
    "\\xrightarrow{n \\rightarrow \\infty} P(|E(X)^2 - \\mu^2| > \\epsilon)\n",
    "= P(|\\mu^2 - \\mu^2| > \\epsilon)\n",
    "= P(0 > \\epsilon) = 0 \\; \\forall \\epsilon > 0\n",
    "$\n",
    "\n",
    "$\\implies \\bar{X}^2$ es consistente."
   ]
  },
  {
   "cell_type": "markdown",
   "id": "b9e9b208-acdc-4375-828f-13e37ac2a555",
   "metadata": {},
   "source": [
    "### Pregunta B\n",
    "\n",
    "¿Para qué valores de $k$ es $\\hat{\\mu}^2 = (\\bar{X}^2 - ks^2)$ un estimador insesgado de $\\mu^2$?\n",
    "\n",
    "$E(\\hat{\\mu}^2) = E(\\bar{X}^2 - ks^2) = E(\\bar{X}^2) - kE(s^2) = \\tfrac{\\sigma^2}{n} + \\mu^2 - kE(s^2)$\n",
    "\n",
    "Observación: como $s^2$ es un estimador insesgado de $\\sigma^2 \\implies E(s^2) = \\sigma^2$\n",
    "\n",
    "$E(\\hat{\\mu}^2) = \\tfrac{\\sigma^2}{n} + \\mu^2 - k \\sigma^2 = \\mu^2 \\iff k = \\tfrac{1}{n}$"
   ]
  },
  {
   "cell_type": "markdown",
   "id": "119bb515-99e2-4338-b395-68b8d8d6c678",
   "metadata": {},
   "source": [
    "## Ejercicio 12\n",
    "\n",
    "La cantidad de días de internación de los pacientes que llegan a la guardia de un hospital es una variable aleatoria $Y$ con distribución binomial negativa con media $\\mu$ y parámetro de dispersión $r$."
   ]
  },
  {
   "cell_type": "code",
   "execution_count": 173,
   "id": "4f1d19a4-b058-488e-89a6-222539f7c3b3",
   "metadata": {},
   "outputs": [
    {
     "data": {
      "text/plain": [
       "      size          mu    \n",
       "  1.00067475   4.79208832 \n",
       " (0.05693679) (0.16655823)"
      ]
     },
     "metadata": {},
     "output_type": "display_data"
    }
   ],
   "source": [
    "library(MASS)\n",
    "dias = scan('./datasets/p7/dias.txt')\n",
    "fitdistr(dias, densfun='negative binomial')"
   ]
  },
  {
   "cell_type": "markdown",
   "id": "edcaba6a-3f9d-4a0a-8448-73d4f3095f4a",
   "metadata": {},
   "source": [
    "## Ejercicio 13\n",
    "\n",
    "Se define el error cuadrático medio de un estimador $\\hat{\\theta}$ como:\n",
    "\n",
    "$ECM(\\hat{\\theta}) = E[(\\hat{\\theta} - \\theta)^2]$"
   ]
  },
  {
   "cell_type": "markdown",
   "id": "fef7d4fc-9bb9-432d-9cde-92bcdb15a99e",
   "metadata": {},
   "source": [
    "### Pregunta A\n",
    "\n",
    "Verificar que $ECM(\\hat{\\theta}) = V(\\hat{\\theta}) + \\text{sesgo}(\\hat{\\theta})^2$ donde $\\text{sesgo}(\\hat{\\theta}) = E(\\hat{\\theta}) - \\theta$\n",
    "\n",
    "$\n",
    "\\begin{align*}\n",
    "ECM(\\hat{\\theta})\n",
    "&= V(\\hat{\\theta}) + \\text{sesgo}(\\hat{\\theta})^2 \\\\\n",
    "&= E(\\hat{\\theta}^2) - E(\\hat{\\theta})^2 + (E(\\hat{\\theta}) - \\theta)^2 \\\\\n",
    "&= E(\\hat{\\theta}^2) - E(\\hat{\\theta})^2 + E(\\hat{\\theta})^2 - 2 \\theta E(\\hat{\\theta}) + \\theta^2 \\\\\n",
    "&= E(\\hat{\\theta}^2 - 2 \\theta \\hat{\\theta} + \\theta^2) \\\\\n",
    "&= E((\\hat{\\theta} - \\theta)^2)\n",
    "\\end{align*}\n",
    "$"
   ]
  },
  {
   "cell_type": "markdown",
   "id": "ddfa1167-e553-4bdf-9a86-625d18f14fbd",
   "metadata": {},
   "source": [
    "### Pregunta B\n",
    "\n",
    "¿Cuánto vale $ECM(\\hat{\\theta})$ si $\\hat{\\theta}$ es un estimador insesgado de $\\theta$?\n",
    "\n",
    "Vamos a utilizar la propiedad de que la esperanza de un estimador insesgado es el valor real del parámetro estimado (es decir $E(\\hat{\\theta}) = \\theta$ si $\\hat{\\theta}$ es insesgado).\n",
    "\n",
    "$\n",
    "\\begin{align*}\n",
    "ECM(\\hat{\\theta})\n",
    "&= V(\\hat{\\theta}) + \\text{sesgo}(\\hat{\\theta})^2 \\\\\n",
    "&= V(\\hat{\\theta}) + (E(\\hat{\\theta}) - \\theta)^2 \\\\\n",
    "&= V(\\hat{\\theta}) + (\\theta - \\theta)^2 \\\\\n",
    "&= V(\\hat{\\theta})\n",
    "\\end{align*}\n",
    "$"
   ]
  },
  {
   "cell_type": "markdown",
   "id": "7e6c64db-4df2-45f0-b675-932f618ea652",
   "metadata": {},
   "source": [
    "### Pregunta C\n",
    "\n",
    "Consideremos un estimador de la varianza de la forma $\\hat{\\sigma}^2 = ks^2$, siendo $s^2$ la varianza muestral. Hallar el valor de $k$ que minimiza $ECM(\\hat{\\sigma}^2)$.\n",
    "\n",
    "Sugerencia: Usar que $E(s^4) = \\tfrac{n+1}{n-1}\\sigma^4$\n",
    "\n",
    "Y recordemos que: $E(s^2) = \\sigma^2$\n",
    "\n",
    "$\n",
    "\\begin{align*}\n",
    "ECM(\\hat{\\sigma}^2)\n",
    "&= ECM(ks^2) \\\\\n",
    "&= V(ks^2) + (E(ks^2) - \\sigma^2)^2 \\\\\n",
    "&= E[(ks^2)^2] - E(ks^2)^2 + (kE(s^2) - \\sigma^2)^2 \\\\\n",
    "&= k^2E(s^4) - k^2E(s^2)^2 + k^2E(s^2)^2 - 2\\sigma^2kE(s^2) + \\sigma^4 \\\\\n",
    "&= k^2E(s^4) - 2\\sigma^2kE(s^2) + \\sigma^4 \\\\\n",
    "&= \\tfrac{n+1}{n-1}\\sigma^4k^2 - 2\\sigma^4k + \\sigma^4 \\\\\n",
    "\\end{align*}\n",
    "$\n",
    "\n",
    "Tenemos un polinomio de grado 2 con coeficiente principal positivo, por lo tanto su gráfico es una parábola \"feliz\", y el $k$ mínimo corresponde al vértice de la parábola.\n",
    "\n",
    "**Opción 1: buscamos el vértice de la parábola usando la fórmula**\n",
    "\n",
    "$\n",
    "k_{\\text{min}}\n",
    "= \\frac{- (- 2\\sigma^4)}{2 \\tfrac{n+1}{n-1}\\sigma^4}\n",
    "= \\frac{2\\sigma^4}{2\\sigma^4\\tfrac{n+1}{n-1}}\n",
    "= \\tfrac{n-1}{n+1}\n",
    "$\n",
    "\n",
    "**Opción 2: buscamos dónde se hace cero la derivada**\n",
    "\n",
    "$\n",
    "\\tfrac{\\partial}{\\partial k} ECM(\\hat{\\sigma}^2) = \\tfrac{n+1}{n-1}\\sigma^4 2k - 2\\sigma^4 = 0 \\iff k = \\tfrac{n-1}{n+1}\n",
    "$"
   ]
  },
  {
   "cell_type": "markdown",
   "id": "aacc9b96-ab7f-46fe-98a3-a9a38efcb9b7",
   "metadata": {},
   "source": [
    "## Ejercicio 14\n",
    "\n",
    "En el Ejercicio 8, calcular el ECM de los estimadores calculados en (a) y (b) y compararlos. En función de esta comparación, ¿cuál de los dos estimadores usaría?"
   ]
  },
  {
   "cell_type": "markdown",
   "id": "931554bd-48aa-4c09-a456-69667050ac97",
   "metadata": {},
   "source": [
    "**Estimador de máxima verosimilitud**\n",
    "\n",
    "$\\hat{\\theta}_{MV} = max_{1 \\leq i \\leq n} X_i$\n",
    "\n",
    "$E(\\hat{\\theta}_{MV}) = \\tfrac{n}{n+1} \\theta$\n",
    "\n",
    "$V(\\hat{\\theta}_{MV}) = \\frac{n}{(n+2)(n+1)^2} \\theta^2$\n",
    "\n",
    "*Nota: Ver el cálculo de esta varianza en el apunte de Bianco y Martínez (2004), página 176.*\n",
    "\n",
    "$\n",
    "\\begin{align*}\n",
    "ECM(\\hat{\\theta}_{MV})\n",
    "&= V(\\hat{\\theta}_{MV}) + (E(\\hat{\\theta}_{MV}) - \\theta)^2 \\\\\n",
    "&= \\frac{n}{(n+2)(n+1)^2} \\theta^2 + (\\tfrac{n}{n+1} \\theta - \\theta)^2 \\\\\n",
    "&= \\frac{2}{(n+2)(n+1)} \\theta^2\n",
    "\\end{align*}\n",
    "$\n",
    "[ver desarrollo](https://www.wolframalpha.com/input/?i=n%2F%28%28n%2B2%29%28n%2B1%29%5E2%29+%5Ctheta%5E2+%2B+%28n%2F%28n%2B1%29+%5Ctheta+-+%5Ctheta%29%5E2)\n",
    "\n",
    "**Estimador de momentos**\n",
    "\n",
    "$\\hat{\\theta}_M = 2\\bar{X}$\n",
    "\n",
    "$E(\\hat{\\theta}_M) = \\theta$\n",
    "\n",
    "$\n",
    "V(\\hat{\\theta}_M)\n",
    "= V(2\\bar{X})\n",
    "= 4V(\\bar{X})\n",
    "= \\tfrac{4}{n} V(X)\n",
    "= \\tfrac{4}{n} \\tfrac{\\theta}{2}\n",
    "= \\tfrac{2 \\theta}{n}\n",
    "$\n",
    "\n",
    "$\n",
    "\\begin{align*}\n",
    "ECM(\\hat{\\theta}_M)\n",
    "&= V(\\hat{\\theta}_M) + (E(\\hat{\\theta}_M) - \\theta)^2 \\\\\n",
    "&= \\tfrac{2 \\theta}{n} + (\\theta - \\theta)^2 \\\\\n",
    "&= \\tfrac{2 \\theta}{n}\n",
    "\\end{align*}\n",
    "$\n",
    "\n",
    "**Conclusión**\n",
    "\n",
    "El estimador $\\hat{\\theta}_{MV}$ es de orden cuadrático (respecto de $\\theta$), mientras que $\\hat{\\theta}_M$ es lineal. Por lo tanto, para valores de $\\theta$ grandes, usaría $\\hat{\\theta}_M$ ya que el error va a ser menor, pues una función cuadrática crece más rápido que una lineal."
   ]
  },
  {
   "cell_type": "code",
   "execution_count": 218,
   "id": "69183291-1e46-46a5-93ed-f19ebe131a3f",
   "metadata": {},
   "outputs": [
    {
     "data": {
      "image/png": "[encoded data removed]",
      "text/plain": [
       "plot without title"
      ]
     },
     "metadata": {
      "image/png": {
       "height": 420,
       "width": 420
      }
     },
     "output_type": "display_data"
    }
   ],
   "source": [
    "n = 10\n",
    "ecm_MV = function(t) 2 / (n+2) * (n+1) * t^2\n",
    "ecm_M = function(t) 2 * t / n\n",
    "\n",
    "curve(ecm_MV, col='darkblue', lwd=3, from=0, to=0.3, xlab='theta', ylab='ECM')\n",
    "curve(ecm_M, col='darkred', lwd=3, add=TRUE)\n",
    "legend(x=0, y=0.15, legend=c('ECM_MV', 'ECM_M'), col=c('darkblue', 'darkred'), lwd=3)"
   ]
  }
 ],
 "metadata": {
  "kernelspec": {
   "display_name": "R",
   "language": "R",
   "name": "ir"
  },
  "language_info": {
   "codemirror_mode": "r",
   "file_extension": ".r",
   "mimetype": "text/x-r-source",
   "name": "R",
   "pygments_lexer": "r",
   "version": "4.1.0"
  }
 },
 "nbformat": 4,
 "nbformat_minor": 5
}
