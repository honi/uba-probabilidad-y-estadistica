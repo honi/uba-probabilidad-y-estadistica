{
 "cells": [
  {
   "cell_type": "markdown",
   "id": "1581ad7f-f155-4170-89ab-67dae15a895c",
   "metadata": {},
   "source": [
    "# Práctica 7"
   ]
  },
  {
   "cell_type": "markdown",
   "id": "79fc85d5-9ee1-42ee-921e-0d236fd46e2a",
   "metadata": {},
   "source": [
    "## Ejercicio 1\n",
    "\n",
    "Se analizaron 12 piezas de pan blanco de cierta marca elegidas al azar. Se determinó el porcentaje de carbohidratos contenido en cada una de las piezas, obteniéndose los siguientes valores:"
   ]
  },
  {
   "cell_type": "code",
   "execution_count": 6,
   "id": "d63f957c-8ef1-4f13-8aee-814dd4fff011",
   "metadata": {},
   "outputs": [],
   "source": [
    "muestra = c(76.93, 76.88, 77.07, 76.68, 76.39, 75.09, 77.67, 76.88, 78.15, 76.50, 77.16, 76.42)"
   ]
  },
  {
   "cell_type": "markdown",
   "id": "b0dff5d1-6ced-4ad4-bf35-c4174e4c4185",
   "metadata": {},
   "source": [
    "### Pregunta A\n",
    "\n",
    "Estimar la esperanza del porcentaje de carbohidratos contenido en una pieza de pan de esta marca."
   ]
  },
  {
   "cell_type": "code",
   "execution_count": 7,
   "id": "3272a824-82b8-4712-9b05-40d778900c3c",
   "metadata": {},
   "outputs": [
    {
     "data": {
      "text/html": [
       "76.8183333333333"
      ],
      "text/latex": [
       "76.8183333333333"
      ],
      "text/markdown": [
       "76.8183333333333"
      ],
      "text/plain": [
       "[1] 76.81833"
      ]
     },
     "metadata": {},
     "output_type": "display_data"
    }
   ],
   "source": [
    "mean(muestra)"
   ]
  },
  {
   "cell_type": "markdown",
   "id": "4bfe3577-afc1-4c79-af21-6272efe7c343",
   "metadata": {},
   "source": [
    "### Pregunta B\n",
    "\n",
    "Estimar la mediana del porcentaje de carbohidratos contenido en una pieza de pan de esta marca."
   ]
  },
  {
   "cell_type": "code",
   "execution_count": 8,
   "id": "3c22a2e9-b60c-4eb7-8bc8-d074cdfe2b3a",
   "metadata": {},
   "outputs": [
    {
     "data": {
      "text/html": [
       "76.88"
      ],
      "text/latex": [
       "76.88"
      ],
      "text/markdown": [
       "76.88"
      ],
      "text/plain": [
       "[1] 76.88"
      ]
     },
     "metadata": {},
     "output_type": "display_data"
    }
   ],
   "source": [
    "median(muestra)"
   ]
  },
  {
   "cell_type": "markdown",
   "id": "8575668b-4038-40f7-976d-323668107095",
   "metadata": {},
   "source": [
    "### Pregunta C\n",
    "\n",
    "Estimar la probabilidad de que el porcentaje de carbohidratos de una pieza de pan de esta marca no exceda el 76.5%."
   ]
  },
  {
   "cell_type": "code",
   "execution_count": 12,
   "id": "f5fcb56b-17de-45a2-aad8-a662886d4fc5",
   "metadata": {},
   "outputs": [
    {
     "data": {
      "text/html": [
       "0.333333333333333"
      ],
      "text/latex": [
       "0.333333333333333"
      ],
      "text/markdown": [
       "0.333333333333333"
      ],
      "text/plain": [
       "[1] 0.3333333"
      ]
     },
     "metadata": {},
     "output_type": "display_data"
    }
   ],
   "source": [
    "sum(muestra <= 76.5) / length(muestra)"
   ]
  }
 ],
 "metadata": {
  "kernelspec": {
   "display_name": "R",
   "language": "R",
   "name": "ir"
  },
  "language_info": {
   "codemirror_mode": "r",
   "file_extension": ".r",
   "mimetype": "text/x-r-source",
   "name": "R",
   "pygments_lexer": "r",
   "version": "4.1.0"
  }
 },
 "nbformat": 4,
 "nbformat_minor": 5
}
