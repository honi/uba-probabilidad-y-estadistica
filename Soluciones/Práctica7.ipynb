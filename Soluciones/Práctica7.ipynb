{
 "cells": [
  {
   "cell_type": "markdown",
   "id": "1581ad7f-f155-4170-89ab-67dae15a895c",
   "metadata": {},
   "source": [
    "# Práctica 7"
   ]
  },
  {
   "cell_type": "markdown",
   "id": "79fc85d5-9ee1-42ee-921e-0d236fd46e2a",
   "metadata": {},
   "source": [
    "## Ejercicio 1\n",
    "\n",
    "Se analizaron 12 piezas de pan blanco de cierta marca elegidas al azar. Se determinó el porcentaje de carbohidratos contenido en cada una de las piezas, obteniéndose los siguientes valores:"
   ]
  },
  {
   "cell_type": "code",
   "execution_count": 6,
   "id": "d63f957c-8ef1-4f13-8aee-814dd4fff011",
   "metadata": {},
   "outputs": [],
   "source": [
    "muestra = c(76.93, 76.88, 77.07, 76.68, 76.39, 75.09, 77.67, 76.88, 78.15, 76.50, 77.16, 76.42)"
   ]
  },
  {
   "cell_type": "markdown",
   "id": "b0dff5d1-6ced-4ad4-bf35-c4174e4c4185",
   "metadata": {},
   "source": [
    "### Pregunta A\n",
    "\n",
    "Estimar la esperanza del porcentaje de carbohidratos contenido en una pieza de pan de esta marca."
   ]
  },
  {
   "cell_type": "code",
   "execution_count": 7,
   "id": "3272a824-82b8-4712-9b05-40d778900c3c",
   "metadata": {},
   "outputs": [
    {
     "data": {
      "text/html": [
       "76.8183333333333"
      ],
      "text/latex": [
       "76.8183333333333"
      ],
      "text/markdown": [
       "76.8183333333333"
      ],
      "text/plain": [
       "[1] 76.81833"
      ]
     },
     "metadata": {},
     "output_type": "display_data"
    }
   ],
   "source": [
    "mean(muestra)"
   ]
  },
  {
   "cell_type": "markdown",
   "id": "4bfe3577-afc1-4c79-af21-6272efe7c343",
   "metadata": {},
   "source": [
    "### Pregunta B\n",
    "\n",
    "Estimar la mediana del porcentaje de carbohidratos contenido en una pieza de pan de esta marca."
   ]
  },
  {
   "cell_type": "code",
   "execution_count": 8,
   "id": "3c22a2e9-b60c-4eb7-8bc8-d074cdfe2b3a",
   "metadata": {},
   "outputs": [
    {
     "data": {
      "text/html": [
       "76.88"
      ],
      "text/latex": [
       "76.88"
      ],
      "text/markdown": [
       "76.88"
      ],
      "text/plain": [
       "[1] 76.88"
      ]
     },
     "metadata": {},
     "output_type": "display_data"
    }
   ],
   "source": [
    "median(muestra)"
   ]
  },
  {
   "cell_type": "markdown",
   "id": "8575668b-4038-40f7-976d-323668107095",
   "metadata": {},
   "source": [
    "### Pregunta C\n",
    "\n",
    "Estimar la probabilidad de que el porcentaje de carbohidratos de una pieza de pan de esta marca no exceda el 76.5%."
   ]
  },
  {
   "cell_type": "code",
   "execution_count": 13,
   "id": "f5fcb56b-17de-45a2-aad8-a662886d4fc5",
   "metadata": {},
   "outputs": [
    {
     "data": {
      "text/html": [
       "0.333333333333333"
      ],
      "text/latex": [
       "0.333333333333333"
      ],
      "text/markdown": [
       "0.333333333333333"
      ],
      "text/plain": [
       "[1] 0.3333333"
      ]
     },
     "metadata": {},
     "output_type": "display_data"
    }
   ],
   "source": [
    "sum(muestra <= 76.5) / length(muestra)"
   ]
  },
  {
   "cell_type": "markdown",
   "id": "82d51d77-4413-409d-865a-77f129ff586d",
   "metadata": {},
   "source": [
    "## Ejercicio 2\n",
    "\n",
    "Sea $X_1, \\dots, X_n$ una muestra aleatoria de una distribución $\\mathcal{N}(\\mu, \\sigma2)$. Obtener los estimadores de máxima verosimilitud (MV) de:"
   ]
  },
  {
   "cell_type": "markdown",
   "id": "a826e56a-55bf-4a49-afae-be683d2b092e",
   "metadata": {},
   "source": [
    "### Pregunta C\n",
    "\n",
    "El par $(\\mu, \\sigma^2)$ simultáneamente.\n",
    "\n",
    "Podemos directamente plantear las fórmulas correspondientes para los parámetros $\\mu$ y $\\sigma$ de una distribución normal. Sino, usamos la definición de los EMV, planteamos un sistema de 2 ecuaciones (1 para cada parámetro) y luego despejamos.\n",
    "\n",
    "$\\hat{\\mu} = \\bar{X}$\n",
    "\n",
    "$\n",
    "\\begin{align*}\n",
    "\\hat{\\sigma} = \\sqrt{\\frac{\\sum_{i=0}^{n} (X_i - \\bar{X})^2}{n}}\n",
    "\\end{align*}\n",
    "$\n",
    "\n",
    "*Nota: En el apunte de Bianco y Martínez (2004), página 166, está el desarrollo completo de cómo llegar a estas fórmulas.*"
   ]
  },
  {
   "cell_type": "markdown",
   "id": "562259e2-5f1a-4958-a482-c8b6cc83a87d",
   "metadata": {},
   "source": [
    "### Pregunta A\n",
    "\n",
    "$\\mu$, siendo $\\sigma^2 = \\sigma^2_0$ conocida.\n",
    "\n",
    "Como $\\sigma$ es conocida, solo estimamos $\\mu$.\n",
    "\n",
    "$\\hat{\\mu} = \\bar{X}$"
   ]
  },
  {
   "cell_type": "markdown",
   "id": "06a4ea36-0d70-457d-bd6f-4aa0efa141b6",
   "metadata": {},
   "source": [
    "### Pregunta B\n",
    "\n",
    "$\\sigma^2$, siendo $\\mu = \\mu_0$ conocida.\n",
    "\n",
    "De forma análoga, ahora solo estimamos $\\sigma$. Observar que el estimador para $\\mu$ no dependía de $\\sigma$, mientras que en este caso, el estimador de $\\sigma$ sí depende de $\\mu$. Por lo tanto, no hay que usar tal cual las fórmulas genéricas de los estimadores, sino retroceder algunos pasos antes de reemplazar $\\mu$ por su estimador y en cambio reemplazarlo por $\\mu_0$.\n",
    "\n",
    "$\n",
    "\\begin{align*}\n",
    "\\hat{\\sigma^2} = \\frac{\\sum_{i=0}^{n} (X_i - \\mu_0)^2}{n}\n",
    "\\end{align*}\n",
    "$"
   ]
  },
  {
   "cell_type": "markdown",
   "id": "34e3d504-9593-49b3-b422-171b44b789fe",
   "metadata": {},
   "source": [
    "## Ejercicio 3"
   ]
  },
  {
   "cell_type": "markdown",
   "id": "bd5084e4-c031-4aaf-bf5a-e715f8ff0901",
   "metadata": {},
   "source": [
    "### Pregunta A\n",
    "\n",
    "Una máquina envasa caramelos, siendo el peso neto (en gramos) de cada bolsa una v.a. con distribución normal. Los siguientes datos corresponden al peso de 15 bolsas elegidas al azar:\n",
    "\n",
    "```\n",
    "210 197 187 217 194 208 220 199 193 203 181 212 188 196 185\n",
    "```\n",
    "\n",
    "Usando el método de MV, indique el valor estimado de la media y la varianza del peso neto de cada bolsa de caramelos envasada por esta máquina."
   ]
  },
  {
   "cell_type": "markdown",
   "id": "e7a4e4c2-874e-483f-bf57-65938c87db2d",
   "metadata": {},
   "source": [
    "### Pregunta B\n",
    "\n",
    "Con cierto instrumento se realizan 20 mediciones de una magnitud física $\\mu$. Cada observación es de la forma $X = \\mu + \\epsilon$, donde $\\epsilon$ es el error de medición (aleatorio). Se obtuvieron los siguientes valores:\n",
    "\n",
    "```\n",
    "25.11 25.02 25.16 24.98 24.83 25.05 24.94 25.04 24.99 24.96 25.03 24.97 24.93 25.12 25.01 25.12 24.90 24.98 25.10 24.96\n",
    "```\n",
    "\n",
    "Suponiendo que los errores de medición tienen distribución normal con media cero y varianza 0.01, estimar $\\mu$. ¿Cuál es la varianza del estimador de $\\mu$?"
   ]
  },
  {
   "cell_type": "markdown",
   "id": "996cdb70-3ef8-4d22-9dae-34a2fb245524",
   "metadata": {},
   "source": [
    "### Pregunta C\n",
    "\n",
    "Para conocer la precisión de un sistema de medición se mide 24 veces una magnitud conocida $\\mu_0 = 12$, obteniéndose los siguientes valores:\n",
    "\n",
    "```\n",
    "12.51 11.66 11.91 12.25 11.54 11.36 12.40 12.19 12.88 12.16 12.69 12.91 12.12 11.02 12.53 11.77 12.72 10.56 11.52 11.66 12.25 12.09 11.48 12.36\n",
    "```\n",
    "\n",
    "Estimar la precisión (es decir, la varianza del error de medición), suponiendo que los errores están normalmente distribuídos con media cero."
   ]
  }
 ],
 "metadata": {
  "kernelspec": {
   "display_name": "R",
   "language": "R",
   "name": "ir"
  },
  "language_info": {
   "codemirror_mode": "r",
   "file_extension": ".r",
   "mimetype": "text/x-r-source",
   "name": "R",
   "pygments_lexer": "r",
   "version": "4.1.0"
  }
 },
 "nbformat": 4,
 "nbformat_minor": 5
}
